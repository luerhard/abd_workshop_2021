{
 "cells": [
  {
   "cell_type": "markdown",
   "id": "dbfad0ee",
   "metadata": {
    "slideshow": {
     "slide_type": "slide"
    }
   },
   "source": [
    "**Theorie - Netzwerke**\n",
    "\n",
    "---\n",
    "Wie kommen wir von den Koautorschaften zu den Netzwerken?\n",
    "- Nodes\n",
    "- Edges"
   ]
  },
  {
   "cell_type": "markdown",
   "id": "3266b1f7",
   "metadata": {
    "slideshow": {
     "slide_type": "subslide"
    }
   },
   "source": [
    "**Theorie - Netzwerke**\n",
    "\n",
    "---\n",
    "#### Ein mittelgroßes Beispiel:\n",
    "\n",
    "[<img src=\"images/samplenet.png\" width=\"500\"/>](images/samplenet.png)"
   ]
  },
  {
   "cell_type": "code",
   "execution_count": null,
   "id": "3878d481",
   "metadata": {
    "slideshow": {
     "slide_type": "slide"
    }
   },
   "outputs": [],
   "source": [
    "# zentrales package: networkx (oft mit nx abgekürzt)\n",
    "import networkx as nx\n",
    "\n",
    "# Modul mit selbst geschriebenen Inhalten:\n",
    "import src\n",
    "from src.bokeh_graph import BokehGraph"
   ]
  },
  {
   "cell_type": "code",
   "execution_count": null,
   "id": "f934674c",
   "metadata": {
    "slideshow": {
     "slide_type": "-"
    }
   },
   "outputs": [],
   "source": [
    "# initialisiert ein Graph Objekt namens \"show\"\n",
    "show = nx.Graph()\n",
    " \n",
    "# füge zwei Autoren nodes und einen Artikel node über eine Liste von dictionaries hinzu\n",
    "show.add_nodes_from([\n",
    "    (1, {'name':'Barabasi', 'type':'Author'}),\n",
    "    (2, {'name':'Albert', 'type':'Author'}),\n",
    "    ('A', {'name':'Emergence of Scaling ...', 'type':'Article'})\n",
    "])"
   ]
  },
  {
   "cell_type": "code",
   "execution_count": null,
   "id": "43e597c3",
   "metadata": {
    "slideshow": {
     "slide_type": "subslide"
    }
   },
   "outputs": [
    {
     "data": {
      "application/javascript": [
       "\n",
       "(function(root) {\n",
       "  function now() {\n",
       "    return new Date();\n",
       "  }\n",
       "\n",
       "  var force = true;\n",
       "\n",
       "  if (typeof root._bokeh_onload_callbacks === \"undefined\" || force === true) {\n",
       "    root._bokeh_onload_callbacks = [];\n",
       "    root._bokeh_is_loading = undefined;\n",
       "  }\n",
       "\n",
       "  var JS_MIME_TYPE = 'application/javascript';\n",
       "  var HTML_MIME_TYPE = 'text/html';\n",
       "  var EXEC_MIME_TYPE = 'application/vnd.bokehjs_exec.v0+json';\n",
       "  var CLASS_NAME = 'output_bokeh rendered_html';\n",
       "\n",
       "  /**\n",
       "   * Render data to the DOM node\n",
       "   */\n",
       "  function render(props, node) {\n",
       "    var script = document.createElement(\"script\");\n",
       "    node.appendChild(script);\n",
       "  }\n",
       "\n",
       "  /**\n",
       "   * Handle when an output is cleared or removed\n",
       "   */\n",
       "  function handleClearOutput(event, handle) {\n",
       "    var cell = handle.cell;\n",
       "\n",
       "    var id = cell.output_area._bokeh_element_id;\n",
       "    var server_id = cell.output_area._bokeh_server_id;\n",
       "    // Clean up Bokeh references\n",
       "    if (id != null && id in Bokeh.index) {\n",
       "      Bokeh.index[id].model.document.clear();\n",
       "      delete Bokeh.index[id];\n",
       "    }\n",
       "\n",
       "    if (server_id !== undefined) {\n",
       "      // Clean up Bokeh references\n",
       "      var cmd = \"from bokeh.io.state import curstate; print(curstate().uuid_to_server['\" + server_id + \"'].get_sessions()[0].document.roots[0]._id)\";\n",
       "      cell.notebook.kernel.execute(cmd, {\n",
       "        iopub: {\n",
       "          output: function(msg) {\n",
       "            var id = msg.content.text.trim();\n",
       "            if (id in Bokeh.index) {\n",
       "              Bokeh.index[id].model.document.clear();\n",
       "              delete Bokeh.index[id];\n",
       "            }\n",
       "          }\n",
       "        }\n",
       "      });\n",
       "      // Destroy server and session\n",
       "      var cmd = \"import bokeh.io.notebook as ion; ion.destroy_server('\" + server_id + \"')\";\n",
       "      cell.notebook.kernel.execute(cmd);\n",
       "    }\n",
       "  }\n",
       "\n",
       "  /**\n",
       "   * Handle when a new output is added\n",
       "   */\n",
       "  function handleAddOutput(event, handle) {\n",
       "    var output_area = handle.output_area;\n",
       "    var output = handle.output;\n",
       "\n",
       "    // limit handleAddOutput to display_data with EXEC_MIME_TYPE content only\n",
       "    if ((output.output_type != \"display_data\") || (!Object.prototype.hasOwnProperty.call(output.data, EXEC_MIME_TYPE))) {\n",
       "      return\n",
       "    }\n",
       "\n",
       "    var toinsert = output_area.element.find(\".\" + CLASS_NAME.split(' ')[0]);\n",
       "\n",
       "    if (output.metadata[EXEC_MIME_TYPE][\"id\"] !== undefined) {\n",
       "      toinsert[toinsert.length - 1].firstChild.textContent = output.data[JS_MIME_TYPE];\n",
       "      // store reference to embed id on output_area\n",
       "      output_area._bokeh_element_id = output.metadata[EXEC_MIME_TYPE][\"id\"];\n",
       "    }\n",
       "    if (output.metadata[EXEC_MIME_TYPE][\"server_id\"] !== undefined) {\n",
       "      var bk_div = document.createElement(\"div\");\n",
       "      bk_div.innerHTML = output.data[HTML_MIME_TYPE];\n",
       "      var script_attrs = bk_div.children[0].attributes;\n",
       "      for (var i = 0; i < script_attrs.length; i++) {\n",
       "        toinsert[toinsert.length - 1].firstChild.setAttribute(script_attrs[i].name, script_attrs[i].value);\n",
       "        toinsert[toinsert.length - 1].firstChild.textContent = bk_div.children[0].textContent\n",
       "      }\n",
       "      // store reference to server id on output_area\n",
       "      output_area._bokeh_server_id = output.metadata[EXEC_MIME_TYPE][\"server_id\"];\n",
       "    }\n",
       "  }\n",
       "\n",
       "  function register_renderer(events, OutputArea) {\n",
       "\n",
       "    function append_mime(data, metadata, element) {\n",
       "      // create a DOM node to render to\n",
       "      var toinsert = this.create_output_subarea(\n",
       "        metadata,\n",
       "        CLASS_NAME,\n",
       "        EXEC_MIME_TYPE\n",
       "      );\n",
       "      this.keyboard_manager.register_events(toinsert);\n",
       "      // Render to node\n",
       "      var props = {data: data, metadata: metadata[EXEC_MIME_TYPE]};\n",
       "      render(props, toinsert[toinsert.length - 1]);\n",
       "      element.append(toinsert);\n",
       "      return toinsert\n",
       "    }\n",
       "\n",
       "    /* Handle when an output is cleared or removed */\n",
       "    events.on('clear_output.CodeCell', handleClearOutput);\n",
       "    events.on('delete.Cell', handleClearOutput);\n",
       "\n",
       "    /* Handle when a new output is added */\n",
       "    events.on('output_added.OutputArea', handleAddOutput);\n",
       "\n",
       "    /**\n",
       "     * Register the mime type and append_mime function with output_area\n",
       "     */\n",
       "    OutputArea.prototype.register_mime_type(EXEC_MIME_TYPE, append_mime, {\n",
       "      /* Is output safe? */\n",
       "      safe: true,\n",
       "      /* Index of renderer in `output_area.display_order` */\n",
       "      index: 0\n",
       "    });\n",
       "  }\n",
       "\n",
       "  // register the mime type if in Jupyter Notebook environment and previously unregistered\n",
       "  if (root.Jupyter !== undefined) {\n",
       "    var events = require('base/js/events');\n",
       "    var OutputArea = require('notebook/js/outputarea').OutputArea;\n",
       "\n",
       "    if (OutputArea.prototype.mime_types().indexOf(EXEC_MIME_TYPE) == -1) {\n",
       "      register_renderer(events, OutputArea);\n",
       "    }\n",
       "  }\n",
       "\n",
       "  \n",
       "  if (typeof (root._bokeh_timeout) === \"undefined\" || force === true) {\n",
       "    root._bokeh_timeout = Date.now() + 5000;\n",
       "    root._bokeh_failed_load = false;\n",
       "  }\n",
       "\n",
       "  var NB_LOAD_WARNING = {'data': {'text/html':\n",
       "     \"<div style='background-color: #fdd'>\\n\"+\n",
       "     \"<p>\\n\"+\n",
       "     \"BokehJS does not appear to have successfully loaded. If loading BokehJS from CDN, this \\n\"+\n",
       "     \"may be due to a slow or bad network connection. Possible fixes:\\n\"+\n",
       "     \"</p>\\n\"+\n",
       "     \"<ul>\\n\"+\n",
       "     \"<li>re-rerun `output_notebook()` to attempt to load from CDN again, or</li>\\n\"+\n",
       "     \"<li>use INLINE resources instead, as so:</li>\\n\"+\n",
       "     \"</ul>\\n\"+\n",
       "     \"<code>\\n\"+\n",
       "     \"from bokeh.resources import INLINE\\n\"+\n",
       "     \"output_notebook(resources=INLINE)\\n\"+\n",
       "     \"</code>\\n\"+\n",
       "     \"</div>\"}};\n",
       "\n",
       "  function display_loaded() {\n",
       "    var el = document.getElementById(null);\n",
       "    if (el != null) {\n",
       "      el.textContent = \"BokehJS is loading...\";\n",
       "    }\n",
       "    if (root.Bokeh !== undefined) {\n",
       "      if (el != null) {\n",
       "        el.textContent = \"BokehJS \" + root.Bokeh.version + \" successfully loaded.\";\n",
       "      }\n",
       "    } else if (Date.now() < root._bokeh_timeout) {\n",
       "      setTimeout(display_loaded, 100)\n",
       "    }\n",
       "  }\n",
       "\n",
       "\n",
       "  function run_callbacks() {\n",
       "    try {\n",
       "      root._bokeh_onload_callbacks.forEach(function(callback) {\n",
       "        if (callback != null)\n",
       "          callback();\n",
       "      });\n",
       "    } finally {\n",
       "      delete root._bokeh_onload_callbacks\n",
       "    }\n",
       "    console.debug(\"Bokeh: all callbacks have finished\");\n",
       "  }\n",
       "\n",
       "  function load_libs(css_urls, js_urls, callback) {\n",
       "    if (css_urls == null) css_urls = [];\n",
       "    if (js_urls == null) js_urls = [];\n",
       "\n",
       "    root._bokeh_onload_callbacks.push(callback);\n",
       "    if (root._bokeh_is_loading > 0) {\n",
       "      console.debug(\"Bokeh: BokehJS is being loaded, scheduling callback at\", now());\n",
       "      return null;\n",
       "    }\n",
       "    if (js_urls == null || js_urls.length === 0) {\n",
       "      run_callbacks();\n",
       "      return null;\n",
       "    }\n",
       "    console.debug(\"Bokeh: BokehJS not loaded, scheduling load and callback at\", now());\n",
       "    root._bokeh_is_loading = css_urls.length + js_urls.length;\n",
       "\n",
       "    function on_load() {\n",
       "      root._bokeh_is_loading--;\n",
       "      if (root._bokeh_is_loading === 0) {\n",
       "        console.debug(\"Bokeh: all BokehJS libraries/stylesheets loaded\");\n",
       "        run_callbacks()\n",
       "      }\n",
       "    }\n",
       "\n",
       "    function on_error(url) {\n",
       "      console.error(\"failed to load \" + url);\n",
       "    }\n",
       "\n",
       "    for (let i = 0; i < css_urls.length; i++) {\n",
       "      const url = css_urls[i];\n",
       "      const element = document.createElement(\"link\");\n",
       "      element.onload = on_load;\n",
       "      element.onerror = on_error.bind(null, url);\n",
       "      element.rel = \"stylesheet\";\n",
       "      element.type = \"text/css\";\n",
       "      element.href = url;\n",
       "      console.debug(\"Bokeh: injecting link tag for BokehJS stylesheet: \", url);\n",
       "      document.body.appendChild(element);\n",
       "    }\n",
       "\n",
       "    const hashes = {\"https://cdn.bokeh.org/bokeh/release/bokeh-2.3.3.min.js\": \"dM3QQsP+wXdHg42wTqW85BjZQdLNNIXqlPw/BgKoExPmTG7ZLML4EGqLMfqHT6ON\", \"https://cdn.bokeh.org/bokeh/release/bokeh-tables-2.3.3.min.js\": \"8x57I4YuIfu8XyZfFo0XVr2WAT8EK4rh/uDe3wF7YuW2FNUSNEpJbsPaB1nJ2fz2\", \"https://cdn.bokeh.org/bokeh/release/bokeh-widgets-2.3.3.min.js\": \"3QTqdz9LyAm2i0sG5XTePsHec3UHWwVsrOL68SYRoAXsafvfAyqtQ+h440+qIBhS\"};\n",
       "\n",
       "    for (let i = 0; i < js_urls.length; i++) {\n",
       "      const url = js_urls[i];\n",
       "      const element = document.createElement('script');\n",
       "      element.onload = on_load;\n",
       "      element.onerror = on_error.bind(null, url);\n",
       "      element.async = false;\n",
       "      element.src = url;\n",
       "      if (url in hashes) {\n",
       "        element.crossOrigin = \"anonymous\";\n",
       "        element.integrity = \"sha384-\" + hashes[url];\n",
       "      }\n",
       "      console.debug(\"Bokeh: injecting script tag for BokehJS library: \", url);\n",
       "      document.head.appendChild(element);\n",
       "    }\n",
       "  };\n",
       "\n",
       "  function inject_raw_css(css) {\n",
       "    const element = document.createElement(\"style\");\n",
       "    element.appendChild(document.createTextNode(css));\n",
       "    document.body.appendChild(element);\n",
       "  }\n",
       "\n",
       "  \n",
       "  var js_urls = [\"https://cdn.bokeh.org/bokeh/release/bokeh-2.3.3.min.js\", \"https://cdn.bokeh.org/bokeh/release/bokeh-widgets-2.3.3.min.js\", \"https://cdn.bokeh.org/bokeh/release/bokeh-tables-2.3.3.min.js\"];\n",
       "  var css_urls = [];\n",
       "  \n",
       "\n",
       "  var inline_js = [\n",
       "    function(Bokeh) {\n",
       "      Bokeh.set_log_level(\"info\");\n",
       "    },\n",
       "    function(Bokeh) {\n",
       "    \n",
       "    \n",
       "    }\n",
       "  ];\n",
       "\n",
       "  function run_inline_js() {\n",
       "    \n",
       "    if (root.Bokeh !== undefined || force === true) {\n",
       "      \n",
       "    for (var i = 0; i < inline_js.length; i++) {\n",
       "      inline_js[i].call(root, root.Bokeh);\n",
       "    }\n",
       "    } else if (Date.now() < root._bokeh_timeout) {\n",
       "      setTimeout(run_inline_js, 100);\n",
       "    } else if (!root._bokeh_failed_load) {\n",
       "      console.log(\"Bokeh: BokehJS failed to load within specified timeout.\");\n",
       "      root._bokeh_failed_load = true;\n",
       "    } else if (force !== true) {\n",
       "      var cell = $(document.getElementById(null)).parents('.cell').data().cell;\n",
       "      cell.output_area.append_execute_result(NB_LOAD_WARNING)\n",
       "    }\n",
       "\n",
       "  }\n",
       "\n",
       "  if (root._bokeh_is_loading === 0) {\n",
       "    console.debug(\"Bokeh: BokehJS loaded, going straight to plotting\");\n",
       "    run_inline_js();\n",
       "  } else {\n",
       "    load_libs(css_urls, js_urls, function() {\n",
       "      console.debug(\"Bokeh: BokehJS plotting callback run at\", now());\n",
       "      run_inline_js();\n",
       "    });\n",
       "  }\n",
       "}(window));"
      ],
      "application/vnd.bokehjs_load.v0+json": "\n(function(root) {\n  function now() {\n    return new Date();\n  }\n\n  var force = true;\n\n  if (typeof root._bokeh_onload_callbacks === \"undefined\" || force === true) {\n    root._bokeh_onload_callbacks = [];\n    root._bokeh_is_loading = undefined;\n  }\n\n  \n\n  \n  if (typeof (root._bokeh_timeout) === \"undefined\" || force === true) {\n    root._bokeh_timeout = Date.now() + 5000;\n    root._bokeh_failed_load = false;\n  }\n\n  var NB_LOAD_WARNING = {'data': {'text/html':\n     \"<div style='background-color: #fdd'>\\n\"+\n     \"<p>\\n\"+\n     \"BokehJS does not appear to have successfully loaded. If loading BokehJS from CDN, this \\n\"+\n     \"may be due to a slow or bad network connection. Possible fixes:\\n\"+\n     \"</p>\\n\"+\n     \"<ul>\\n\"+\n     \"<li>re-rerun `output_notebook()` to attempt to load from CDN again, or</li>\\n\"+\n     \"<li>use INLINE resources instead, as so:</li>\\n\"+\n     \"</ul>\\n\"+\n     \"<code>\\n\"+\n     \"from bokeh.resources import INLINE\\n\"+\n     \"output_notebook(resources=INLINE)\\n\"+\n     \"</code>\\n\"+\n     \"</div>\"}};\n\n  function display_loaded() {\n    var el = document.getElementById(null);\n    if (el != null) {\n      el.textContent = \"BokehJS is loading...\";\n    }\n    if (root.Bokeh !== undefined) {\n      if (el != null) {\n        el.textContent = \"BokehJS \" + root.Bokeh.version + \" successfully loaded.\";\n      }\n    } else if (Date.now() < root._bokeh_timeout) {\n      setTimeout(display_loaded, 100)\n    }\n  }\n\n\n  function run_callbacks() {\n    try {\n      root._bokeh_onload_callbacks.forEach(function(callback) {\n        if (callback != null)\n          callback();\n      });\n    } finally {\n      delete root._bokeh_onload_callbacks\n    }\n    console.debug(\"Bokeh: all callbacks have finished\");\n  }\n\n  function load_libs(css_urls, js_urls, callback) {\n    if (css_urls == null) css_urls = [];\n    if (js_urls == null) js_urls = [];\n\n    root._bokeh_onload_callbacks.push(callback);\n    if (root._bokeh_is_loading > 0) {\n      console.debug(\"Bokeh: BokehJS is being loaded, scheduling callback at\", now());\n      return null;\n    }\n    if (js_urls == null || js_urls.length === 0) {\n      run_callbacks();\n      return null;\n    }\n    console.debug(\"Bokeh: BokehJS not loaded, scheduling load and callback at\", now());\n    root._bokeh_is_loading = css_urls.length + js_urls.length;\n\n    function on_load() {\n      root._bokeh_is_loading--;\n      if (root._bokeh_is_loading === 0) {\n        console.debug(\"Bokeh: all BokehJS libraries/stylesheets loaded\");\n        run_callbacks()\n      }\n    }\n\n    function on_error(url) {\n      console.error(\"failed to load \" + url);\n    }\n\n    for (let i = 0; i < css_urls.length; i++) {\n      const url = css_urls[i];\n      const element = document.createElement(\"link\");\n      element.onload = on_load;\n      element.onerror = on_error.bind(null, url);\n      element.rel = \"stylesheet\";\n      element.type = \"text/css\";\n      element.href = url;\n      console.debug(\"Bokeh: injecting link tag for BokehJS stylesheet: \", url);\n      document.body.appendChild(element);\n    }\n\n    const hashes = {\"https://cdn.bokeh.org/bokeh/release/bokeh-2.3.3.min.js\": \"dM3QQsP+wXdHg42wTqW85BjZQdLNNIXqlPw/BgKoExPmTG7ZLML4EGqLMfqHT6ON\", \"https://cdn.bokeh.org/bokeh/release/bokeh-tables-2.3.3.min.js\": \"8x57I4YuIfu8XyZfFo0XVr2WAT8EK4rh/uDe3wF7YuW2FNUSNEpJbsPaB1nJ2fz2\", \"https://cdn.bokeh.org/bokeh/release/bokeh-widgets-2.3.3.min.js\": \"3QTqdz9LyAm2i0sG5XTePsHec3UHWwVsrOL68SYRoAXsafvfAyqtQ+h440+qIBhS\"};\n\n    for (let i = 0; i < js_urls.length; i++) {\n      const url = js_urls[i];\n      const element = document.createElement('script');\n      element.onload = on_load;\n      element.onerror = on_error.bind(null, url);\n      element.async = false;\n      element.src = url;\n      if (url in hashes) {\n        element.crossOrigin = \"anonymous\";\n        element.integrity = \"sha384-\" + hashes[url];\n      }\n      console.debug(\"Bokeh: injecting script tag for BokehJS library: \", url);\n      document.head.appendChild(element);\n    }\n  };\n\n  function inject_raw_css(css) {\n    const element = document.createElement(\"style\");\n    element.appendChild(document.createTextNode(css));\n    document.body.appendChild(element);\n  }\n\n  \n  var js_urls = [\"https://cdn.bokeh.org/bokeh/release/bokeh-2.3.3.min.js\", \"https://cdn.bokeh.org/bokeh/release/bokeh-widgets-2.3.3.min.js\", \"https://cdn.bokeh.org/bokeh/release/bokeh-tables-2.3.3.min.js\"];\n  var css_urls = [];\n  \n\n  var inline_js = [\n    function(Bokeh) {\n      Bokeh.set_log_level(\"info\");\n    },\n    function(Bokeh) {\n    \n    \n    }\n  ];\n\n  function run_inline_js() {\n    \n    if (root.Bokeh !== undefined || force === true) {\n      \n    for (var i = 0; i < inline_js.length; i++) {\n      inline_js[i].call(root, root.Bokeh);\n    }\n    } else if (Date.now() < root._bokeh_timeout) {\n      setTimeout(run_inline_js, 100);\n    } else if (!root._bokeh_failed_load) {\n      console.log(\"Bokeh: BokehJS failed to load within specified timeout.\");\n      root._bokeh_failed_load = true;\n    } else if (force !== true) {\n      var cell = $(document.getElementById(null)).parents('.cell').data().cell;\n      cell.output_area.append_execute_result(NB_LOAD_WARNING)\n    }\n\n  }\n\n  if (root._bokeh_is_loading === 0) {\n    console.debug(\"Bokeh: BokehJS loaded, going straight to plotting\");\n    run_inline_js();\n  } else {\n    load_libs(css_urls, js_urls, function() {\n      console.debug(\"Bokeh: BokehJS plotting callback run at\", now());\n      run_inline_js();\n    });\n  }\n}(window));"
     },
     "metadata": {},
     "output_type": "display_data"
    }
   ],
   "source": [
    "# plot definieren\n",
    "plot = BokehGraph(show, width=400, height=400, inline=True)\n",
    "\n",
    "# layout initialisieren\n",
    "plot.layout()\n",
    "import copy # um das layout wiederzuverwenden\n",
    "lay = copy.deepcopy(plot._layout)"
   ]
  },
  {
   "cell_type": "code",
   "execution_count": null,
   "id": "ab0f31f2",
   "metadata": {
    "slideshow": {
     "slide_type": "subslide"
    }
   },
   "outputs": [
    {
     "data": {
      "text/html": [
       "\n",
       "\n",
       "\n",
       "\n",
       "\n",
       "\n",
       "  <div class=\"bk-root\" id=\"cf547384-09d1-418c-983a-18663008e10d\" data-root-id=\"1003\"></div>\n"
      ]
     },
     "metadata": {},
     "output_type": "display_data"
    },
    {
     "data": {
      "application/javascript": [
       "(function(root) {\n",
       "  function embed_document(root) {\n",
       "    \n",
       "  var docs_json = {\"ded24511-f1fb-49d6-9460-92c99f315f95\":{\"defs\":[],\"roots\":{\"references\":[{\"attributes\":{\"below\":[{\"id\":\"1012\"}],\"center\":[{\"id\":\"1015\"},{\"id\":\"1019\"}],\"height\":400,\"left\":[{\"id\":\"1016\"}],\"renderers\":[{\"id\":\"1036\"},{\"id\":\"1042\"}],\"title\":{\"id\":\"1045\"},\"toolbar\":{\"id\":\"1025\"},\"width\":400,\"x_range\":{\"id\":\"1004\"},\"x_scale\":{\"id\":\"1008\"},\"y_range\":{\"id\":\"1006\"},\"y_scale\":{\"id\":\"1010\"}},\"id\":\"1003\",\"subtype\":\"Figure\",\"type\":\"Plot\"},{\"attributes\":{\"active_multi\":null,\"logo\":null,\"tools\":[{\"id\":\"1002\"},{\"id\":\"1020\"},{\"id\":\"1021\"},{\"id\":\"1022\"},{\"id\":\"1023\"}]},\"id\":\"1025\",\"type\":\"Toolbar\"},{\"attributes\":{},\"id\":\"1004\",\"type\":\"DataRange1d\"},{\"attributes\":{},\"id\":\"1055\",\"type\":\"UnionRenderers\"},{\"attributes\":{},\"id\":\"1054\",\"type\":\"Selection\"},{\"attributes\":{\"formatter\":{\"id\":\"1050\"},\"major_label_policy\":{\"id\":\"1049\"},\"ticker\":{\"id\":\"1017\"},\"visible\":false},\"id\":\"1016\",\"type\":\"LinearAxis\"},{\"attributes\":{},\"id\":\"1049\",\"type\":\"AllLabels\"},{\"attributes\":{\"formatter\":{\"id\":\"1047\"},\"major_label_policy\":{\"id\":\"1046\"},\"ticker\":{\"id\":\"1013\"},\"visible\":false},\"id\":\"1012\",\"type\":\"LinearAxis\"},{\"attributes\":{},\"id\":\"1050\",\"type\":\"BasicTickFormatter\"},{\"attributes\":{},\"id\":\"1022\",\"type\":\"WheelZoomTool\"},{\"attributes\":{},\"id\":\"1008\",\"type\":\"LinearScale\"},{\"attributes\":{\"source\":{\"id\":\"1032\"}},\"id\":\"1037\",\"type\":\"CDSView\"},{\"attributes\":{},\"id\":\"1006\",\"type\":\"DataRange1d\"},{\"attributes\":{\"data_source\":{\"id\":\"1032\"},\"glyph\":{\"id\":\"1034\"},\"hover_glyph\":null,\"muted_glyph\":null,\"nonselection_glyph\":{\"id\":\"1035\"},\"view\":{\"id\":\"1037\"}},\"id\":\"1036\",\"type\":\"GlyphRenderer\"},{\"attributes\":{},\"id\":\"1010\",\"type\":\"LinearScale\"},{\"attributes\":{},\"id\":\"1017\",\"type\":\"BasicTicker\"},{\"attributes\":{\"fill_alpha\":{\"value\":0.1},\"fill_color\":{\"field\":\"_colormap\"},\"line_alpha\":{\"value\":0.1},\"line_color\":{\"field\":\"_colormap\"},\"size\":{\"value\":25},\"x\":{\"field\":\"xs\"},\"y\":{\"field\":\"ys\"}},\"id\":\"1041\",\"type\":\"Circle\"},{\"attributes\":{\"data\":{\"xs\":[],\"ys\":[]},\"selected\":{\"id\":\"1052\"},\"selection_policy\":{\"id\":\"1053\"}},\"id\":\"1032\",\"type\":\"ColumnDataSource\"},{\"attributes\":{},\"id\":\"1013\",\"type\":\"BasicTicker\"},{\"attributes\":{\"line_alpha\":{\"value\":0.01},\"line_color\":{\"value\":\"navy\"},\"xs\":{\"field\":\"xs\"},\"ys\":{\"field\":\"ys\"}},\"id\":\"1034\",\"type\":\"MultiLine\"},{\"attributes\":{\"line_alpha\":{\"value\":0.1},\"line_color\":{\"value\":\"navy\"},\"xs\":{\"field\":\"xs\"},\"ys\":{\"field\":\"ys\"}},\"id\":\"1035\",\"type\":\"MultiLine\"},{\"attributes\":{\"axis\":{\"id\":\"1012\"},\"grid_line_color\":null,\"ticker\":null},\"id\":\"1015\",\"type\":\"Grid\"},{\"attributes\":{},\"id\":\"1046\",\"type\":\"AllLabels\"},{\"attributes\":{},\"id\":\"1045\",\"type\":\"Title\"},{\"attributes\":{\"data_source\":{\"id\":\"1038\"},\"glyph\":{\"id\":\"1040\"},\"hover_glyph\":null,\"muted_glyph\":null,\"name\":\"show_hover\",\"nonselection_glyph\":{\"id\":\"1041\"},\"view\":{\"id\":\"1043\"}},\"id\":\"1042\",\"type\":\"GlyphRenderer\"},{\"attributes\":{\"axis\":{\"id\":\"1016\"},\"dimension\":1,\"grid_line_color\":null,\"ticker\":null},\"id\":\"1019\",\"type\":\"Grid\"},{\"attributes\":{},\"id\":\"1047\",\"type\":\"BasicTickFormatter\"},{\"attributes\":{\"fill_alpha\":{\"value\":0.7},\"fill_color\":{\"field\":\"_colormap\"},\"line_alpha\":{\"value\":0.7},\"line_color\":{\"field\":\"_colormap\"},\"size\":{\"value\":25},\"x\":{\"field\":\"xs\"},\"y\":{\"field\":\"ys\"}},\"id\":\"1040\",\"type\":\"Circle\"},{\"attributes\":{},\"id\":\"1023\",\"type\":\"PanTool\"},{\"attributes\":{},\"id\":\"1021\",\"type\":\"ResetTool\"},{\"attributes\":{\"callback\":null,\"formatters\":{\"name\":\"printf\",\"node\":\"printf\",\"type\":\"printf\"},\"names\":[\"show_hover\"],\"tooltips\":[[\"node\",\"@_node\"],[\"name\",\"@name\"],[\"type\",\"@type\"]]},\"id\":\"1002\",\"type\":\"HoverTool\"},{\"attributes\":{\"overlay\":{\"id\":\"1024\"}},\"id\":\"1020\",\"type\":\"BoxZoomTool\"},{\"attributes\":{},\"id\":\"1053\",\"type\":\"UnionRenderers\"},{\"attributes\":{},\"id\":\"1052\",\"type\":\"Selection\"},{\"attributes\":{\"bottom_units\":\"screen\",\"fill_alpha\":0.5,\"fill_color\":\"lightgrey\",\"left_units\":\"screen\",\"level\":\"overlay\",\"line_alpha\":1.0,\"line_color\":\"black\",\"line_dash\":[4,4],\"line_width\":2,\"right_units\":\"screen\",\"syncable\":false,\"top_units\":\"screen\"},\"id\":\"1024\",\"type\":\"BoxAnnotation\"},{\"attributes\":{\"data\":{\"_colormap\":[\"#440154\",\"#440154\",\"#FDE724\"],\"_node\":[1,2,\"A\"],\"name\":[\"Barabasi\",\"Albert\",\"Emergence of Scaling ...\"],\"type\":[\"Author\",\"Author\",\"Article\"],\"xs\":[-0.628610355194516,0.012825869038986411,0.6157844861555295],\"ys\":[0.20910039171923223,-1.0,0.7908996082807678]},\"selected\":{\"id\":\"1054\"},\"selection_policy\":{\"id\":\"1055\"}},\"id\":\"1038\",\"type\":\"ColumnDataSource\"},{\"attributes\":{\"source\":{\"id\":\"1038\"}},\"id\":\"1043\",\"type\":\"CDSView\"}],\"root_ids\":[\"1003\"]},\"title\":\"Bokeh Application\",\"version\":\"2.3.3\"}};\n",
       "  var render_items = [{\"docid\":\"ded24511-f1fb-49d6-9460-92c99f315f95\",\"notebook_comms_target\":\"1057\",\"root_ids\":[\"1003\"],\"roots\":{\"1003\":\"cf547384-09d1-418c-983a-18663008e10d\"}}];\n",
       "  root.Bokeh.embed.embed_items_notebook(docs_json, render_items);\n",
       "\n",
       "  }\n",
       "  if (root.Bokeh !== undefined) {\n",
       "    embed_document(root);\n",
       "  } else {\n",
       "    var attempts = 0;\n",
       "    var timer = setInterval(function(root) {\n",
       "      if (root.Bokeh !== undefined) {\n",
       "        clearInterval(timer);\n",
       "        embed_document(root);\n",
       "      } else {\n",
       "        attempts++;\n",
       "        if (attempts > 100) {\n",
       "          clearInterval(timer);\n",
       "          console.log(\"Bokeh: ERROR: Unable to run BokehJS code because BokehJS library is missing\");\n",
       "        }\n",
       "      }\n",
       "    }, 10, root)\n",
       "  }\n",
       "})(window);"
      ],
      "application/vnd.bokehjs_exec.v0+json": ""
     },
     "metadata": {
      "application/vnd.bokehjs_exec.v0+json": {
       "id": "1003"
      }
     },
     "output_type": "display_data"
    }
   ],
   "source": [
    "# plot anzeigen\n",
    "plot.draw(\n",
    "    color_by=\"type\", palette=\"viridis\",\n",
    "    edge_alpha=0.01, max_colors=5, node_size=25\n",
    ")"
   ]
  },
  {
   "cell_type": "code",
   "execution_count": null,
   "id": "a00fcd5e",
   "metadata": {
    "slideshow": {
     "slide_type": "subslide"
    }
   },
   "outputs": [],
   "source": [
    "# edges zwischen Autoren und dem Artikel hinzufügen\n",
    "show.add_edges_from([\n",
    "    (1,'A'),\n",
    "    (2,'A')\n",
    "])"
   ]
  },
  {
   "cell_type": "code",
   "execution_count": null,
   "id": "0b076a1e",
   "metadata": {
    "slideshow": {
     "slide_type": "subslide"
    }
   },
   "outputs": [
    {
     "data": {
      "application/javascript": [
       "\n",
       "(function(root) {\n",
       "  function now() {\n",
       "    return new Date();\n",
       "  }\n",
       "\n",
       "  var force = true;\n",
       "\n",
       "  if (typeof root._bokeh_onload_callbacks === \"undefined\" || force === true) {\n",
       "    root._bokeh_onload_callbacks = [];\n",
       "    root._bokeh_is_loading = undefined;\n",
       "  }\n",
       "\n",
       "  var JS_MIME_TYPE = 'application/javascript';\n",
       "  var HTML_MIME_TYPE = 'text/html';\n",
       "  var EXEC_MIME_TYPE = 'application/vnd.bokehjs_exec.v0+json';\n",
       "  var CLASS_NAME = 'output_bokeh rendered_html';\n",
       "\n",
       "  /**\n",
       "   * Render data to the DOM node\n",
       "   */\n",
       "  function render(props, node) {\n",
       "    var script = document.createElement(\"script\");\n",
       "    node.appendChild(script);\n",
       "  }\n",
       "\n",
       "  /**\n",
       "   * Handle when an output is cleared or removed\n",
       "   */\n",
       "  function handleClearOutput(event, handle) {\n",
       "    var cell = handle.cell;\n",
       "\n",
       "    var id = cell.output_area._bokeh_element_id;\n",
       "    var server_id = cell.output_area._bokeh_server_id;\n",
       "    // Clean up Bokeh references\n",
       "    if (id != null && id in Bokeh.index) {\n",
       "      Bokeh.index[id].model.document.clear();\n",
       "      delete Bokeh.index[id];\n",
       "    }\n",
       "\n",
       "    if (server_id !== undefined) {\n",
       "      // Clean up Bokeh references\n",
       "      var cmd = \"from bokeh.io.state import curstate; print(curstate().uuid_to_server['\" + server_id + \"'].get_sessions()[0].document.roots[0]._id)\";\n",
       "      cell.notebook.kernel.execute(cmd, {\n",
       "        iopub: {\n",
       "          output: function(msg) {\n",
       "            var id = msg.content.text.trim();\n",
       "            if (id in Bokeh.index) {\n",
       "              Bokeh.index[id].model.document.clear();\n",
       "              delete Bokeh.index[id];\n",
       "            }\n",
       "          }\n",
       "        }\n",
       "      });\n",
       "      // Destroy server and session\n",
       "      var cmd = \"import bokeh.io.notebook as ion; ion.destroy_server('\" + server_id + \"')\";\n",
       "      cell.notebook.kernel.execute(cmd);\n",
       "    }\n",
       "  }\n",
       "\n",
       "  /**\n",
       "   * Handle when a new output is added\n",
       "   */\n",
       "  function handleAddOutput(event, handle) {\n",
       "    var output_area = handle.output_area;\n",
       "    var output = handle.output;\n",
       "\n",
       "    // limit handleAddOutput to display_data with EXEC_MIME_TYPE content only\n",
       "    if ((output.output_type != \"display_data\") || (!Object.prototype.hasOwnProperty.call(output.data, EXEC_MIME_TYPE))) {\n",
       "      return\n",
       "    }\n",
       "\n",
       "    var toinsert = output_area.element.find(\".\" + CLASS_NAME.split(' ')[0]);\n",
       "\n",
       "    if (output.metadata[EXEC_MIME_TYPE][\"id\"] !== undefined) {\n",
       "      toinsert[toinsert.length - 1].firstChild.textContent = output.data[JS_MIME_TYPE];\n",
       "      // store reference to embed id on output_area\n",
       "      output_area._bokeh_element_id = output.metadata[EXEC_MIME_TYPE][\"id\"];\n",
       "    }\n",
       "    if (output.metadata[EXEC_MIME_TYPE][\"server_id\"] !== undefined) {\n",
       "      var bk_div = document.createElement(\"div\");\n",
       "      bk_div.innerHTML = output.data[HTML_MIME_TYPE];\n",
       "      var script_attrs = bk_div.children[0].attributes;\n",
       "      for (var i = 0; i < script_attrs.length; i++) {\n",
       "        toinsert[toinsert.length - 1].firstChild.setAttribute(script_attrs[i].name, script_attrs[i].value);\n",
       "        toinsert[toinsert.length - 1].firstChild.textContent = bk_div.children[0].textContent\n",
       "      }\n",
       "      // store reference to server id on output_area\n",
       "      output_area._bokeh_server_id = output.metadata[EXEC_MIME_TYPE][\"server_id\"];\n",
       "    }\n",
       "  }\n",
       "\n",
       "  function register_renderer(events, OutputArea) {\n",
       "\n",
       "    function append_mime(data, metadata, element) {\n",
       "      // create a DOM node to render to\n",
       "      var toinsert = this.create_output_subarea(\n",
       "        metadata,\n",
       "        CLASS_NAME,\n",
       "        EXEC_MIME_TYPE\n",
       "      );\n",
       "      this.keyboard_manager.register_events(toinsert);\n",
       "      // Render to node\n",
       "      var props = {data: data, metadata: metadata[EXEC_MIME_TYPE]};\n",
       "      render(props, toinsert[toinsert.length - 1]);\n",
       "      element.append(toinsert);\n",
       "      return toinsert\n",
       "    }\n",
       "\n",
       "    /* Handle when an output is cleared or removed */\n",
       "    events.on('clear_output.CodeCell', handleClearOutput);\n",
       "    events.on('delete.Cell', handleClearOutput);\n",
       "\n",
       "    /* Handle when a new output is added */\n",
       "    events.on('output_added.OutputArea', handleAddOutput);\n",
       "\n",
       "    /**\n",
       "     * Register the mime type and append_mime function with output_area\n",
       "     */\n",
       "    OutputArea.prototype.register_mime_type(EXEC_MIME_TYPE, append_mime, {\n",
       "      /* Is output safe? */\n",
       "      safe: true,\n",
       "      /* Index of renderer in `output_area.display_order` */\n",
       "      index: 0\n",
       "    });\n",
       "  }\n",
       "\n",
       "  // register the mime type if in Jupyter Notebook environment and previously unregistered\n",
       "  if (root.Jupyter !== undefined) {\n",
       "    var events = require('base/js/events');\n",
       "    var OutputArea = require('notebook/js/outputarea').OutputArea;\n",
       "\n",
       "    if (OutputArea.prototype.mime_types().indexOf(EXEC_MIME_TYPE) == -1) {\n",
       "      register_renderer(events, OutputArea);\n",
       "    }\n",
       "  }\n",
       "\n",
       "  \n",
       "  if (typeof (root._bokeh_timeout) === \"undefined\" || force === true) {\n",
       "    root._bokeh_timeout = Date.now() + 5000;\n",
       "    root._bokeh_failed_load = false;\n",
       "  }\n",
       "\n",
       "  var NB_LOAD_WARNING = {'data': {'text/html':\n",
       "     \"<div style='background-color: #fdd'>\\n\"+\n",
       "     \"<p>\\n\"+\n",
       "     \"BokehJS does not appear to have successfully loaded. If loading BokehJS from CDN, this \\n\"+\n",
       "     \"may be due to a slow or bad network connection. Possible fixes:\\n\"+\n",
       "     \"</p>\\n\"+\n",
       "     \"<ul>\\n\"+\n",
       "     \"<li>re-rerun `output_notebook()` to attempt to load from CDN again, or</li>\\n\"+\n",
       "     \"<li>use INLINE resources instead, as so:</li>\\n\"+\n",
       "     \"</ul>\\n\"+\n",
       "     \"<code>\\n\"+\n",
       "     \"from bokeh.resources import INLINE\\n\"+\n",
       "     \"output_notebook(resources=INLINE)\\n\"+\n",
       "     \"</code>\\n\"+\n",
       "     \"</div>\"}};\n",
       "\n",
       "  function display_loaded() {\n",
       "    var el = document.getElementById(null);\n",
       "    if (el != null) {\n",
       "      el.textContent = \"BokehJS is loading...\";\n",
       "    }\n",
       "    if (root.Bokeh !== undefined) {\n",
       "      if (el != null) {\n",
       "        el.textContent = \"BokehJS \" + root.Bokeh.version + \" successfully loaded.\";\n",
       "      }\n",
       "    } else if (Date.now() < root._bokeh_timeout) {\n",
       "      setTimeout(display_loaded, 100)\n",
       "    }\n",
       "  }\n",
       "\n",
       "\n",
       "  function run_callbacks() {\n",
       "    try {\n",
       "      root._bokeh_onload_callbacks.forEach(function(callback) {\n",
       "        if (callback != null)\n",
       "          callback();\n",
       "      });\n",
       "    } finally {\n",
       "      delete root._bokeh_onload_callbacks\n",
       "    }\n",
       "    console.debug(\"Bokeh: all callbacks have finished\");\n",
       "  }\n",
       "\n",
       "  function load_libs(css_urls, js_urls, callback) {\n",
       "    if (css_urls == null) css_urls = [];\n",
       "    if (js_urls == null) js_urls = [];\n",
       "\n",
       "    root._bokeh_onload_callbacks.push(callback);\n",
       "    if (root._bokeh_is_loading > 0) {\n",
       "      console.debug(\"Bokeh: BokehJS is being loaded, scheduling callback at\", now());\n",
       "      return null;\n",
       "    }\n",
       "    if (js_urls == null || js_urls.length === 0) {\n",
       "      run_callbacks();\n",
       "      return null;\n",
       "    }\n",
       "    console.debug(\"Bokeh: BokehJS not loaded, scheduling load and callback at\", now());\n",
       "    root._bokeh_is_loading = css_urls.length + js_urls.length;\n",
       "\n",
       "    function on_load() {\n",
       "      root._bokeh_is_loading--;\n",
       "      if (root._bokeh_is_loading === 0) {\n",
       "        console.debug(\"Bokeh: all BokehJS libraries/stylesheets loaded\");\n",
       "        run_callbacks()\n",
       "      }\n",
       "    }\n",
       "\n",
       "    function on_error(url) {\n",
       "      console.error(\"failed to load \" + url);\n",
       "    }\n",
       "\n",
       "    for (let i = 0; i < css_urls.length; i++) {\n",
       "      const url = css_urls[i];\n",
       "      const element = document.createElement(\"link\");\n",
       "      element.onload = on_load;\n",
       "      element.onerror = on_error.bind(null, url);\n",
       "      element.rel = \"stylesheet\";\n",
       "      element.type = \"text/css\";\n",
       "      element.href = url;\n",
       "      console.debug(\"Bokeh: injecting link tag for BokehJS stylesheet: \", url);\n",
       "      document.body.appendChild(element);\n",
       "    }\n",
       "\n",
       "    const hashes = {\"https://cdn.bokeh.org/bokeh/release/bokeh-2.3.3.min.js\": \"dM3QQsP+wXdHg42wTqW85BjZQdLNNIXqlPw/BgKoExPmTG7ZLML4EGqLMfqHT6ON\", \"https://cdn.bokeh.org/bokeh/release/bokeh-tables-2.3.3.min.js\": \"8x57I4YuIfu8XyZfFo0XVr2WAT8EK4rh/uDe3wF7YuW2FNUSNEpJbsPaB1nJ2fz2\", \"https://cdn.bokeh.org/bokeh/release/bokeh-widgets-2.3.3.min.js\": \"3QTqdz9LyAm2i0sG5XTePsHec3UHWwVsrOL68SYRoAXsafvfAyqtQ+h440+qIBhS\"};\n",
       "\n",
       "    for (let i = 0; i < js_urls.length; i++) {\n",
       "      const url = js_urls[i];\n",
       "      const element = document.createElement('script');\n",
       "      element.onload = on_load;\n",
       "      element.onerror = on_error.bind(null, url);\n",
       "      element.async = false;\n",
       "      element.src = url;\n",
       "      if (url in hashes) {\n",
       "        element.crossOrigin = \"anonymous\";\n",
       "        element.integrity = \"sha384-\" + hashes[url];\n",
       "      }\n",
       "      console.debug(\"Bokeh: injecting script tag for BokehJS library: \", url);\n",
       "      document.head.appendChild(element);\n",
       "    }\n",
       "  };\n",
       "\n",
       "  function inject_raw_css(css) {\n",
       "    const element = document.createElement(\"style\");\n",
       "    element.appendChild(document.createTextNode(css));\n",
       "    document.body.appendChild(element);\n",
       "  }\n",
       "\n",
       "  \n",
       "  var js_urls = [\"https://cdn.bokeh.org/bokeh/release/bokeh-2.3.3.min.js\", \"https://cdn.bokeh.org/bokeh/release/bokeh-widgets-2.3.3.min.js\", \"https://cdn.bokeh.org/bokeh/release/bokeh-tables-2.3.3.min.js\"];\n",
       "  var css_urls = [];\n",
       "  \n",
       "\n",
       "  var inline_js = [\n",
       "    function(Bokeh) {\n",
       "      Bokeh.set_log_level(\"info\");\n",
       "    },\n",
       "    function(Bokeh) {\n",
       "    \n",
       "    \n",
       "    }\n",
       "  ];\n",
       "\n",
       "  function run_inline_js() {\n",
       "    \n",
       "    if (root.Bokeh !== undefined || force === true) {\n",
       "      \n",
       "    for (var i = 0; i < inline_js.length; i++) {\n",
       "      inline_js[i].call(root, root.Bokeh);\n",
       "    }\n",
       "    } else if (Date.now() < root._bokeh_timeout) {\n",
       "      setTimeout(run_inline_js, 100);\n",
       "    } else if (!root._bokeh_failed_load) {\n",
       "      console.log(\"Bokeh: BokehJS failed to load within specified timeout.\");\n",
       "      root._bokeh_failed_load = true;\n",
       "    } else if (force !== true) {\n",
       "      var cell = $(document.getElementById(null)).parents('.cell').data().cell;\n",
       "      cell.output_area.append_execute_result(NB_LOAD_WARNING)\n",
       "    }\n",
       "\n",
       "  }\n",
       "\n",
       "  if (root._bokeh_is_loading === 0) {\n",
       "    console.debug(\"Bokeh: BokehJS loaded, going straight to plotting\");\n",
       "    run_inline_js();\n",
       "  } else {\n",
       "    load_libs(css_urls, js_urls, function() {\n",
       "      console.debug(\"Bokeh: BokehJS plotting callback run at\", now());\n",
       "      run_inline_js();\n",
       "    });\n",
       "  }\n",
       "}(window));"
      ],
      "application/vnd.bokehjs_load.v0+json": "\n(function(root) {\n  function now() {\n    return new Date();\n  }\n\n  var force = true;\n\n  if (typeof root._bokeh_onload_callbacks === \"undefined\" || force === true) {\n    root._bokeh_onload_callbacks = [];\n    root._bokeh_is_loading = undefined;\n  }\n\n  \n\n  \n  if (typeof (root._bokeh_timeout) === \"undefined\" || force === true) {\n    root._bokeh_timeout = Date.now() + 5000;\n    root._bokeh_failed_load = false;\n  }\n\n  var NB_LOAD_WARNING = {'data': {'text/html':\n     \"<div style='background-color: #fdd'>\\n\"+\n     \"<p>\\n\"+\n     \"BokehJS does not appear to have successfully loaded. If loading BokehJS from CDN, this \\n\"+\n     \"may be due to a slow or bad network connection. Possible fixes:\\n\"+\n     \"</p>\\n\"+\n     \"<ul>\\n\"+\n     \"<li>re-rerun `output_notebook()` to attempt to load from CDN again, or</li>\\n\"+\n     \"<li>use INLINE resources instead, as so:</li>\\n\"+\n     \"</ul>\\n\"+\n     \"<code>\\n\"+\n     \"from bokeh.resources import INLINE\\n\"+\n     \"output_notebook(resources=INLINE)\\n\"+\n     \"</code>\\n\"+\n     \"</div>\"}};\n\n  function display_loaded() {\n    var el = document.getElementById(null);\n    if (el != null) {\n      el.textContent = \"BokehJS is loading...\";\n    }\n    if (root.Bokeh !== undefined) {\n      if (el != null) {\n        el.textContent = \"BokehJS \" + root.Bokeh.version + \" successfully loaded.\";\n      }\n    } else if (Date.now() < root._bokeh_timeout) {\n      setTimeout(display_loaded, 100)\n    }\n  }\n\n\n  function run_callbacks() {\n    try {\n      root._bokeh_onload_callbacks.forEach(function(callback) {\n        if (callback != null)\n          callback();\n      });\n    } finally {\n      delete root._bokeh_onload_callbacks\n    }\n    console.debug(\"Bokeh: all callbacks have finished\");\n  }\n\n  function load_libs(css_urls, js_urls, callback) {\n    if (css_urls == null) css_urls = [];\n    if (js_urls == null) js_urls = [];\n\n    root._bokeh_onload_callbacks.push(callback);\n    if (root._bokeh_is_loading > 0) {\n      console.debug(\"Bokeh: BokehJS is being loaded, scheduling callback at\", now());\n      return null;\n    }\n    if (js_urls == null || js_urls.length === 0) {\n      run_callbacks();\n      return null;\n    }\n    console.debug(\"Bokeh: BokehJS not loaded, scheduling load and callback at\", now());\n    root._bokeh_is_loading = css_urls.length + js_urls.length;\n\n    function on_load() {\n      root._bokeh_is_loading--;\n      if (root._bokeh_is_loading === 0) {\n        console.debug(\"Bokeh: all BokehJS libraries/stylesheets loaded\");\n        run_callbacks()\n      }\n    }\n\n    function on_error(url) {\n      console.error(\"failed to load \" + url);\n    }\n\n    for (let i = 0; i < css_urls.length; i++) {\n      const url = css_urls[i];\n      const element = document.createElement(\"link\");\n      element.onload = on_load;\n      element.onerror = on_error.bind(null, url);\n      element.rel = \"stylesheet\";\n      element.type = \"text/css\";\n      element.href = url;\n      console.debug(\"Bokeh: injecting link tag for BokehJS stylesheet: \", url);\n      document.body.appendChild(element);\n    }\n\n    const hashes = {\"https://cdn.bokeh.org/bokeh/release/bokeh-2.3.3.min.js\": \"dM3QQsP+wXdHg42wTqW85BjZQdLNNIXqlPw/BgKoExPmTG7ZLML4EGqLMfqHT6ON\", \"https://cdn.bokeh.org/bokeh/release/bokeh-tables-2.3.3.min.js\": \"8x57I4YuIfu8XyZfFo0XVr2WAT8EK4rh/uDe3wF7YuW2FNUSNEpJbsPaB1nJ2fz2\", \"https://cdn.bokeh.org/bokeh/release/bokeh-widgets-2.3.3.min.js\": \"3QTqdz9LyAm2i0sG5XTePsHec3UHWwVsrOL68SYRoAXsafvfAyqtQ+h440+qIBhS\"};\n\n    for (let i = 0; i < js_urls.length; i++) {\n      const url = js_urls[i];\n      const element = document.createElement('script');\n      element.onload = on_load;\n      element.onerror = on_error.bind(null, url);\n      element.async = false;\n      element.src = url;\n      if (url in hashes) {\n        element.crossOrigin = \"anonymous\";\n        element.integrity = \"sha384-\" + hashes[url];\n      }\n      console.debug(\"Bokeh: injecting script tag for BokehJS library: \", url);\n      document.head.appendChild(element);\n    }\n  };\n\n  function inject_raw_css(css) {\n    const element = document.createElement(\"style\");\n    element.appendChild(document.createTextNode(css));\n    document.body.appendChild(element);\n  }\n\n  \n  var js_urls = [\"https://cdn.bokeh.org/bokeh/release/bokeh-2.3.3.min.js\", \"https://cdn.bokeh.org/bokeh/release/bokeh-widgets-2.3.3.min.js\", \"https://cdn.bokeh.org/bokeh/release/bokeh-tables-2.3.3.min.js\"];\n  var css_urls = [];\n  \n\n  var inline_js = [\n    function(Bokeh) {\n      Bokeh.set_log_level(\"info\");\n    },\n    function(Bokeh) {\n    \n    \n    }\n  ];\n\n  function run_inline_js() {\n    \n    if (root.Bokeh !== undefined || force === true) {\n      \n    for (var i = 0; i < inline_js.length; i++) {\n      inline_js[i].call(root, root.Bokeh);\n    }\n    } else if (Date.now() < root._bokeh_timeout) {\n      setTimeout(run_inline_js, 100);\n    } else if (!root._bokeh_failed_load) {\n      console.log(\"Bokeh: BokehJS failed to load within specified timeout.\");\n      root._bokeh_failed_load = true;\n    } else if (force !== true) {\n      var cell = $(document.getElementById(null)).parents('.cell').data().cell;\n      cell.output_area.append_execute_result(NB_LOAD_WARNING)\n    }\n\n  }\n\n  if (root._bokeh_is_loading === 0) {\n    console.debug(\"Bokeh: BokehJS loaded, going straight to plotting\");\n    run_inline_js();\n  } else {\n    load_libs(css_urls, js_urls, function() {\n      console.debug(\"Bokeh: BokehJS plotting callback run at\", now());\n      run_inline_js();\n    });\n  }\n}(window));"
     },
     "metadata": {},
     "output_type": "display_data"
    },
    {
     "data": {
      "text/html": [
       "\n",
       "\n",
       "\n",
       "\n",
       "\n",
       "\n",
       "  <div class=\"bk-root\" id=\"a0876a18-5925-42e5-be5e-f1a8ecdf0e46\" data-root-id=\"1124\"></div>\n"
      ]
     },
     "metadata": {},
     "output_type": "display_data"
    },
    {
     "data": {
      "application/javascript": [
       "(function(root) {\n",
       "  function embed_document(root) {\n",
       "    \n",
       "  var docs_json = {\"312a1ce8-4d17-4d19-a8fa-61a9dbb39c26\":{\"defs\":[],\"roots\":{\"references\":[{\"attributes\":{\"below\":[{\"id\":\"1133\"}],\"center\":[{\"id\":\"1136\"},{\"id\":\"1140\"}],\"height\":400,\"left\":[{\"id\":\"1137\"}],\"renderers\":[{\"id\":\"1157\"},{\"id\":\"1163\"}],\"title\":{\"id\":\"1179\"},\"toolbar\":{\"id\":\"1146\"},\"width\":400,\"x_range\":{\"id\":\"1125\"},\"x_scale\":{\"id\":\"1129\"},\"y_range\":{\"id\":\"1127\"},\"y_scale\":{\"id\":\"1131\"}},\"id\":\"1124\",\"subtype\":\"Figure\",\"type\":\"Plot\"},{\"attributes\":{\"axis\":{\"id\":\"1133\"},\"grid_line_color\":null,\"ticker\":null},\"id\":\"1136\",\"type\":\"Grid\"},{\"attributes\":{},\"id\":\"1181\",\"type\":\"BasicTickFormatter\"},{\"attributes\":{\"active_multi\":null,\"logo\":null,\"tools\":[{\"id\":\"1123\"},{\"id\":\"1141\"},{\"id\":\"1142\"},{\"id\":\"1143\"},{\"id\":\"1144\"}]},\"id\":\"1146\",\"type\":\"Toolbar\"},{\"attributes\":{\"axis\":{\"id\":\"1137\"},\"dimension\":1,\"grid_line_color\":null,\"ticker\":null},\"id\":\"1140\",\"type\":\"Grid\"},{\"attributes\":{},\"id\":\"1138\",\"type\":\"BasicTicker\"},{\"attributes\":{\"line_alpha\":{\"value\":0.5},\"line_color\":{\"value\":\"navy\"},\"xs\":{\"field\":\"xs\"},\"ys\":{\"field\":\"ys\"}},\"id\":\"1155\",\"type\":\"MultiLine\"},{\"attributes\":{\"source\":{\"id\":\"1153\"}},\"id\":\"1158\",\"type\":\"CDSView\"},{\"attributes\":{},\"id\":\"1142\",\"type\":\"ResetTool\"},{\"attributes\":{},\"id\":\"1187\",\"type\":\"UnionRenderers\"},{\"attributes\":{\"overlay\":{\"id\":\"1145\"}},\"id\":\"1141\",\"type\":\"BoxZoomTool\"},{\"attributes\":{},\"id\":\"1143\",\"type\":\"WheelZoomTool\"},{\"attributes\":{\"line_alpha\":{\"value\":0.1},\"line_color\":{\"value\":\"navy\"},\"xs\":{\"field\":\"xs\"},\"ys\":{\"field\":\"ys\"}},\"id\":\"1156\",\"type\":\"MultiLine\"},{\"attributes\":{},\"id\":\"1186\",\"type\":\"Selection\"},{\"attributes\":{\"fill_alpha\":{\"value\":0.7},\"fill_color\":{\"field\":\"_colormap\"},\"line_alpha\":{\"value\":0.7},\"line_color\":{\"field\":\"_colormap\"},\"size\":{\"value\":25},\"x\":{\"field\":\"xs\"},\"y\":{\"field\":\"ys\"}},\"id\":\"1161\",\"type\":\"Circle\"},{\"attributes\":{\"fill_alpha\":{\"value\":0.1},\"fill_color\":{\"field\":\"_colormap\"},\"line_alpha\":{\"value\":0.1},\"line_color\":{\"field\":\"_colormap\"},\"size\":{\"value\":25},\"x\":{\"field\":\"xs\"},\"y\":{\"field\":\"ys\"}},\"id\":\"1162\",\"type\":\"Circle\"},{\"attributes\":{\"data\":{\"_colormap\":[\"#440154\",\"#440154\",\"#FDE724\"],\"_node\":[1,2,\"A\"],\"name\":[\"Barabasi\",\"Albert\",\"Emergence of Scaling ...\"],\"type\":[\"Author\",\"Author\",\"Article\"],\"xs\":[-0.628610355194516,0.012825869038986411,0.6157844861555295],\"ys\":[0.20910039171923223,-1.0,0.7908996082807678]},\"selected\":{\"id\":\"1188\"},\"selection_policy\":{\"id\":\"1189\"}},\"id\":\"1159\",\"type\":\"ColumnDataSource\"},{\"attributes\":{\"source\":{\"id\":\"1159\"}},\"id\":\"1164\",\"type\":\"CDSView\"},{\"attributes\":{\"callback\":null,\"formatters\":{\"name\":\"printf\",\"node\":\"printf\",\"type\":\"printf\"},\"names\":[\"show_hover\"],\"tooltips\":[[\"node\",\"@_node\"],[\"name\",\"@name\"],[\"type\",\"@type\"]]},\"id\":\"1123\",\"type\":\"HoverTool\"},{\"attributes\":{\"data_source\":{\"id\":\"1159\"},\"glyph\":{\"id\":\"1161\"},\"hover_glyph\":null,\"muted_glyph\":null,\"name\":\"show_hover\",\"nonselection_glyph\":{\"id\":\"1162\"},\"view\":{\"id\":\"1164\"}},\"id\":\"1163\",\"type\":\"GlyphRenderer\"},{\"attributes\":{\"data\":{\"xs\":[[-0.628610355194516,0.6157844861555295],[0.012825869038986411,0.6157844861555295]],\"ys\":[[0.20910039171923223,0.7908996082807678],[-1.0,0.7908996082807678]]},\"selected\":{\"id\":\"1186\"},\"selection_policy\":{\"id\":\"1187\"}},\"id\":\"1153\",\"type\":\"ColumnDataSource\"},{\"attributes\":{},\"id\":\"1189\",\"type\":\"UnionRenderers\"},{\"attributes\":{},\"id\":\"1188\",\"type\":\"Selection\"},{\"attributes\":{},\"id\":\"1183\",\"type\":\"AllLabels\"},{\"attributes\":{\"data_source\":{\"id\":\"1153\"},\"glyph\":{\"id\":\"1155\"},\"hover_glyph\":null,\"muted_glyph\":null,\"nonselection_glyph\":{\"id\":\"1156\"},\"view\":{\"id\":\"1158\"}},\"id\":\"1157\",\"type\":\"GlyphRenderer\"},{\"attributes\":{},\"id\":\"1184\",\"type\":\"BasicTickFormatter\"},{\"attributes\":{\"bottom_units\":\"screen\",\"fill_alpha\":0.5,\"fill_color\":\"lightgrey\",\"left_units\":\"screen\",\"level\":\"overlay\",\"line_alpha\":1.0,\"line_color\":\"black\",\"line_dash\":[4,4],\"line_width\":2,\"right_units\":\"screen\",\"syncable\":false,\"top_units\":\"screen\"},\"id\":\"1145\",\"type\":\"BoxAnnotation\"},{\"attributes\":{},\"id\":\"1131\",\"type\":\"LinearScale\"},{\"attributes\":{},\"id\":\"1129\",\"type\":\"LinearScale\"},{\"attributes\":{},\"id\":\"1179\",\"type\":\"Title\"},{\"attributes\":{\"formatter\":{\"id\":\"1184\"},\"major_label_policy\":{\"id\":\"1183\"},\"ticker\":{\"id\":\"1138\"},\"visible\":false},\"id\":\"1137\",\"type\":\"LinearAxis\"},{\"attributes\":{},\"id\":\"1125\",\"type\":\"DataRange1d\"},{\"attributes\":{\"formatter\":{\"id\":\"1181\"},\"major_label_policy\":{\"id\":\"1180\"},\"ticker\":{\"id\":\"1134\"},\"visible\":false},\"id\":\"1133\",\"type\":\"LinearAxis\"},{\"attributes\":{},\"id\":\"1127\",\"type\":\"DataRange1d\"},{\"attributes\":{},\"id\":\"1180\",\"type\":\"AllLabels\"},{\"attributes\":{},\"id\":\"1144\",\"type\":\"PanTool\"},{\"attributes\":{},\"id\":\"1134\",\"type\":\"BasicTicker\"}],\"root_ids\":[\"1124\"]},\"title\":\"Bokeh Application\",\"version\":\"2.3.3\"}};\n",
       "  var render_items = [{\"docid\":\"312a1ce8-4d17-4d19-a8fa-61a9dbb39c26\",\"notebook_comms_target\":\"1191\",\"root_ids\":[\"1124\"],\"roots\":{\"1124\":\"a0876a18-5925-42e5-be5e-f1a8ecdf0e46\"}}];\n",
       "  root.Bokeh.embed.embed_items_notebook(docs_json, render_items);\n",
       "\n",
       "  }\n",
       "  if (root.Bokeh !== undefined) {\n",
       "    embed_document(root);\n",
       "  } else {\n",
       "    var attempts = 0;\n",
       "    var timer = setInterval(function(root) {\n",
       "      if (root.Bokeh !== undefined) {\n",
       "        clearInterval(timer);\n",
       "        embed_document(root);\n",
       "      } else {\n",
       "        attempts++;\n",
       "        if (attempts > 100) {\n",
       "          clearInterval(timer);\n",
       "          console.log(\"Bokeh: ERROR: Unable to run BokehJS code because BokehJS library is missing\");\n",
       "        }\n",
       "      }\n",
       "    }, 10, root)\n",
       "  }\n",
       "})(window);"
      ],
      "application/vnd.bokehjs_exec.v0+json": ""
     },
     "metadata": {
      "application/vnd.bokehjs_exec.v0+json": {
       "id": "1124"
      }
     },
     "output_type": "display_data"
    }
   ],
   "source": [
    "# Plotvorgang mit neuem edge\n",
    "plot = BokehGraph(show, width=400, height=400, inline=True)\n",
    "plot._layout = lay\n",
    "plot.draw(\n",
    "    color_by=\"type\", palette=\"viridis\",\n",
    "    edge_alpha=0.5, max_colors=5, node_size=25\n",
    ")"
   ]
  },
  {
   "cell_type": "code",
   "execution_count": null,
   "id": "ec1e9ffa",
   "metadata": {
    "slideshow": {
     "slide_type": "subslide"
    }
   },
   "outputs": [],
   "source": [
    "# \"show\" neu (leer) initialisieren\n",
    "show = nx.Graph()\n",
    "\n",
    "# nur Autoren nodes hinzufügen\n",
    "show.add_nodes_from([\n",
    "    (1, {'name':'Barabasi', 'type':'Author'}),\n",
    "    (2, {'name':'Albert', 'type':'Author'})\n",
    "])\n",
    "\n",
    "# direkten edge zwischen den Autoren per tupel hinzufügen\n",
    "show.add_edge(1,2)"
   ]
  },
  {
   "cell_type": "code",
   "execution_count": null,
   "id": "5b54b59f",
   "metadata": {
    "slideshow": {
     "slide_type": "subslide"
    }
   },
   "outputs": [
    {
     "data": {
      "application/javascript": [
       "\n",
       "(function(root) {\n",
       "  function now() {\n",
       "    return new Date();\n",
       "  }\n",
       "\n",
       "  var force = true;\n",
       "\n",
       "  if (typeof root._bokeh_onload_callbacks === \"undefined\" || force === true) {\n",
       "    root._bokeh_onload_callbacks = [];\n",
       "    root._bokeh_is_loading = undefined;\n",
       "  }\n",
       "\n",
       "  var JS_MIME_TYPE = 'application/javascript';\n",
       "  var HTML_MIME_TYPE = 'text/html';\n",
       "  var EXEC_MIME_TYPE = 'application/vnd.bokehjs_exec.v0+json';\n",
       "  var CLASS_NAME = 'output_bokeh rendered_html';\n",
       "\n",
       "  /**\n",
       "   * Render data to the DOM node\n",
       "   */\n",
       "  function render(props, node) {\n",
       "    var script = document.createElement(\"script\");\n",
       "    node.appendChild(script);\n",
       "  }\n",
       "\n",
       "  /**\n",
       "   * Handle when an output is cleared or removed\n",
       "   */\n",
       "  function handleClearOutput(event, handle) {\n",
       "    var cell = handle.cell;\n",
       "\n",
       "    var id = cell.output_area._bokeh_element_id;\n",
       "    var server_id = cell.output_area._bokeh_server_id;\n",
       "    // Clean up Bokeh references\n",
       "    if (id != null && id in Bokeh.index) {\n",
       "      Bokeh.index[id].model.document.clear();\n",
       "      delete Bokeh.index[id];\n",
       "    }\n",
       "\n",
       "    if (server_id !== undefined) {\n",
       "      // Clean up Bokeh references\n",
       "      var cmd = \"from bokeh.io.state import curstate; print(curstate().uuid_to_server['\" + server_id + \"'].get_sessions()[0].document.roots[0]._id)\";\n",
       "      cell.notebook.kernel.execute(cmd, {\n",
       "        iopub: {\n",
       "          output: function(msg) {\n",
       "            var id = msg.content.text.trim();\n",
       "            if (id in Bokeh.index) {\n",
       "              Bokeh.index[id].model.document.clear();\n",
       "              delete Bokeh.index[id];\n",
       "            }\n",
       "          }\n",
       "        }\n",
       "      });\n",
       "      // Destroy server and session\n",
       "      var cmd = \"import bokeh.io.notebook as ion; ion.destroy_server('\" + server_id + \"')\";\n",
       "      cell.notebook.kernel.execute(cmd);\n",
       "    }\n",
       "  }\n",
       "\n",
       "  /**\n",
       "   * Handle when a new output is added\n",
       "   */\n",
       "  function handleAddOutput(event, handle) {\n",
       "    var output_area = handle.output_area;\n",
       "    var output = handle.output;\n",
       "\n",
       "    // limit handleAddOutput to display_data with EXEC_MIME_TYPE content only\n",
       "    if ((output.output_type != \"display_data\") || (!Object.prototype.hasOwnProperty.call(output.data, EXEC_MIME_TYPE))) {\n",
       "      return\n",
       "    }\n",
       "\n",
       "    var toinsert = output_area.element.find(\".\" + CLASS_NAME.split(' ')[0]);\n",
       "\n",
       "    if (output.metadata[EXEC_MIME_TYPE][\"id\"] !== undefined) {\n",
       "      toinsert[toinsert.length - 1].firstChild.textContent = output.data[JS_MIME_TYPE];\n",
       "      // store reference to embed id on output_area\n",
       "      output_area._bokeh_element_id = output.metadata[EXEC_MIME_TYPE][\"id\"];\n",
       "    }\n",
       "    if (output.metadata[EXEC_MIME_TYPE][\"server_id\"] !== undefined) {\n",
       "      var bk_div = document.createElement(\"div\");\n",
       "      bk_div.innerHTML = output.data[HTML_MIME_TYPE];\n",
       "      var script_attrs = bk_div.children[0].attributes;\n",
       "      for (var i = 0; i < script_attrs.length; i++) {\n",
       "        toinsert[toinsert.length - 1].firstChild.setAttribute(script_attrs[i].name, script_attrs[i].value);\n",
       "        toinsert[toinsert.length - 1].firstChild.textContent = bk_div.children[0].textContent\n",
       "      }\n",
       "      // store reference to server id on output_area\n",
       "      output_area._bokeh_server_id = output.metadata[EXEC_MIME_TYPE][\"server_id\"];\n",
       "    }\n",
       "  }\n",
       "\n",
       "  function register_renderer(events, OutputArea) {\n",
       "\n",
       "    function append_mime(data, metadata, element) {\n",
       "      // create a DOM node to render to\n",
       "      var toinsert = this.create_output_subarea(\n",
       "        metadata,\n",
       "        CLASS_NAME,\n",
       "        EXEC_MIME_TYPE\n",
       "      );\n",
       "      this.keyboard_manager.register_events(toinsert);\n",
       "      // Render to node\n",
       "      var props = {data: data, metadata: metadata[EXEC_MIME_TYPE]};\n",
       "      render(props, toinsert[toinsert.length - 1]);\n",
       "      element.append(toinsert);\n",
       "      return toinsert\n",
       "    }\n",
       "\n",
       "    /* Handle when an output is cleared or removed */\n",
       "    events.on('clear_output.CodeCell', handleClearOutput);\n",
       "    events.on('delete.Cell', handleClearOutput);\n",
       "\n",
       "    /* Handle when a new output is added */\n",
       "    events.on('output_added.OutputArea', handleAddOutput);\n",
       "\n",
       "    /**\n",
       "     * Register the mime type and append_mime function with output_area\n",
       "     */\n",
       "    OutputArea.prototype.register_mime_type(EXEC_MIME_TYPE, append_mime, {\n",
       "      /* Is output safe? */\n",
       "      safe: true,\n",
       "      /* Index of renderer in `output_area.display_order` */\n",
       "      index: 0\n",
       "    });\n",
       "  }\n",
       "\n",
       "  // register the mime type if in Jupyter Notebook environment and previously unregistered\n",
       "  if (root.Jupyter !== undefined) {\n",
       "    var events = require('base/js/events');\n",
       "    var OutputArea = require('notebook/js/outputarea').OutputArea;\n",
       "\n",
       "    if (OutputArea.prototype.mime_types().indexOf(EXEC_MIME_TYPE) == -1) {\n",
       "      register_renderer(events, OutputArea);\n",
       "    }\n",
       "  }\n",
       "\n",
       "  \n",
       "  if (typeof (root._bokeh_timeout) === \"undefined\" || force === true) {\n",
       "    root._bokeh_timeout = Date.now() + 5000;\n",
       "    root._bokeh_failed_load = false;\n",
       "  }\n",
       "\n",
       "  var NB_LOAD_WARNING = {'data': {'text/html':\n",
       "     \"<div style='background-color: #fdd'>\\n\"+\n",
       "     \"<p>\\n\"+\n",
       "     \"BokehJS does not appear to have successfully loaded. If loading BokehJS from CDN, this \\n\"+\n",
       "     \"may be due to a slow or bad network connection. Possible fixes:\\n\"+\n",
       "     \"</p>\\n\"+\n",
       "     \"<ul>\\n\"+\n",
       "     \"<li>re-rerun `output_notebook()` to attempt to load from CDN again, or</li>\\n\"+\n",
       "     \"<li>use INLINE resources instead, as so:</li>\\n\"+\n",
       "     \"</ul>\\n\"+\n",
       "     \"<code>\\n\"+\n",
       "     \"from bokeh.resources import INLINE\\n\"+\n",
       "     \"output_notebook(resources=INLINE)\\n\"+\n",
       "     \"</code>\\n\"+\n",
       "     \"</div>\"}};\n",
       "\n",
       "  function display_loaded() {\n",
       "    var el = document.getElementById(null);\n",
       "    if (el != null) {\n",
       "      el.textContent = \"BokehJS is loading...\";\n",
       "    }\n",
       "    if (root.Bokeh !== undefined) {\n",
       "      if (el != null) {\n",
       "        el.textContent = \"BokehJS \" + root.Bokeh.version + \" successfully loaded.\";\n",
       "      }\n",
       "    } else if (Date.now() < root._bokeh_timeout) {\n",
       "      setTimeout(display_loaded, 100)\n",
       "    }\n",
       "  }\n",
       "\n",
       "\n",
       "  function run_callbacks() {\n",
       "    try {\n",
       "      root._bokeh_onload_callbacks.forEach(function(callback) {\n",
       "        if (callback != null)\n",
       "          callback();\n",
       "      });\n",
       "    } finally {\n",
       "      delete root._bokeh_onload_callbacks\n",
       "    }\n",
       "    console.debug(\"Bokeh: all callbacks have finished\");\n",
       "  }\n",
       "\n",
       "  function load_libs(css_urls, js_urls, callback) {\n",
       "    if (css_urls == null) css_urls = [];\n",
       "    if (js_urls == null) js_urls = [];\n",
       "\n",
       "    root._bokeh_onload_callbacks.push(callback);\n",
       "    if (root._bokeh_is_loading > 0) {\n",
       "      console.debug(\"Bokeh: BokehJS is being loaded, scheduling callback at\", now());\n",
       "      return null;\n",
       "    }\n",
       "    if (js_urls == null || js_urls.length === 0) {\n",
       "      run_callbacks();\n",
       "      return null;\n",
       "    }\n",
       "    console.debug(\"Bokeh: BokehJS not loaded, scheduling load and callback at\", now());\n",
       "    root._bokeh_is_loading = css_urls.length + js_urls.length;\n",
       "\n",
       "    function on_load() {\n",
       "      root._bokeh_is_loading--;\n",
       "      if (root._bokeh_is_loading === 0) {\n",
       "        console.debug(\"Bokeh: all BokehJS libraries/stylesheets loaded\");\n",
       "        run_callbacks()\n",
       "      }\n",
       "    }\n",
       "\n",
       "    function on_error(url) {\n",
       "      console.error(\"failed to load \" + url);\n",
       "    }\n",
       "\n",
       "    for (let i = 0; i < css_urls.length; i++) {\n",
       "      const url = css_urls[i];\n",
       "      const element = document.createElement(\"link\");\n",
       "      element.onload = on_load;\n",
       "      element.onerror = on_error.bind(null, url);\n",
       "      element.rel = \"stylesheet\";\n",
       "      element.type = \"text/css\";\n",
       "      element.href = url;\n",
       "      console.debug(\"Bokeh: injecting link tag for BokehJS stylesheet: \", url);\n",
       "      document.body.appendChild(element);\n",
       "    }\n",
       "\n",
       "    const hashes = {\"https://cdn.bokeh.org/bokeh/release/bokeh-2.3.3.min.js\": \"dM3QQsP+wXdHg42wTqW85BjZQdLNNIXqlPw/BgKoExPmTG7ZLML4EGqLMfqHT6ON\", \"https://cdn.bokeh.org/bokeh/release/bokeh-tables-2.3.3.min.js\": \"8x57I4YuIfu8XyZfFo0XVr2WAT8EK4rh/uDe3wF7YuW2FNUSNEpJbsPaB1nJ2fz2\", \"https://cdn.bokeh.org/bokeh/release/bokeh-widgets-2.3.3.min.js\": \"3QTqdz9LyAm2i0sG5XTePsHec3UHWwVsrOL68SYRoAXsafvfAyqtQ+h440+qIBhS\"};\n",
       "\n",
       "    for (let i = 0; i < js_urls.length; i++) {\n",
       "      const url = js_urls[i];\n",
       "      const element = document.createElement('script');\n",
       "      element.onload = on_load;\n",
       "      element.onerror = on_error.bind(null, url);\n",
       "      element.async = false;\n",
       "      element.src = url;\n",
       "      if (url in hashes) {\n",
       "        element.crossOrigin = \"anonymous\";\n",
       "        element.integrity = \"sha384-\" + hashes[url];\n",
       "      }\n",
       "      console.debug(\"Bokeh: injecting script tag for BokehJS library: \", url);\n",
       "      document.head.appendChild(element);\n",
       "    }\n",
       "  };\n",
       "\n",
       "  function inject_raw_css(css) {\n",
       "    const element = document.createElement(\"style\");\n",
       "    element.appendChild(document.createTextNode(css));\n",
       "    document.body.appendChild(element);\n",
       "  }\n",
       "\n",
       "  \n",
       "  var js_urls = [\"https://cdn.bokeh.org/bokeh/release/bokeh-2.3.3.min.js\", \"https://cdn.bokeh.org/bokeh/release/bokeh-widgets-2.3.3.min.js\", \"https://cdn.bokeh.org/bokeh/release/bokeh-tables-2.3.3.min.js\"];\n",
       "  var css_urls = [];\n",
       "  \n",
       "\n",
       "  var inline_js = [\n",
       "    function(Bokeh) {\n",
       "      Bokeh.set_log_level(\"info\");\n",
       "    },\n",
       "    function(Bokeh) {\n",
       "    \n",
       "    \n",
       "    }\n",
       "  ];\n",
       "\n",
       "  function run_inline_js() {\n",
       "    \n",
       "    if (root.Bokeh !== undefined || force === true) {\n",
       "      \n",
       "    for (var i = 0; i < inline_js.length; i++) {\n",
       "      inline_js[i].call(root, root.Bokeh);\n",
       "    }\n",
       "    } else if (Date.now() < root._bokeh_timeout) {\n",
       "      setTimeout(run_inline_js, 100);\n",
       "    } else if (!root._bokeh_failed_load) {\n",
       "      console.log(\"Bokeh: BokehJS failed to load within specified timeout.\");\n",
       "      root._bokeh_failed_load = true;\n",
       "    } else if (force !== true) {\n",
       "      var cell = $(document.getElementById(null)).parents('.cell').data().cell;\n",
       "      cell.output_area.append_execute_result(NB_LOAD_WARNING)\n",
       "    }\n",
       "\n",
       "  }\n",
       "\n",
       "  if (root._bokeh_is_loading === 0) {\n",
       "    console.debug(\"Bokeh: BokehJS loaded, going straight to plotting\");\n",
       "    run_inline_js();\n",
       "  } else {\n",
       "    load_libs(css_urls, js_urls, function() {\n",
       "      console.debug(\"Bokeh: BokehJS plotting callback run at\", now());\n",
       "      run_inline_js();\n",
       "    });\n",
       "  }\n",
       "}(window));"
      ],
      "application/vnd.bokehjs_load.v0+json": "\n(function(root) {\n  function now() {\n    return new Date();\n  }\n\n  var force = true;\n\n  if (typeof root._bokeh_onload_callbacks === \"undefined\" || force === true) {\n    root._bokeh_onload_callbacks = [];\n    root._bokeh_is_loading = undefined;\n  }\n\n  \n\n  \n  if (typeof (root._bokeh_timeout) === \"undefined\" || force === true) {\n    root._bokeh_timeout = Date.now() + 5000;\n    root._bokeh_failed_load = false;\n  }\n\n  var NB_LOAD_WARNING = {'data': {'text/html':\n     \"<div style='background-color: #fdd'>\\n\"+\n     \"<p>\\n\"+\n     \"BokehJS does not appear to have successfully loaded. If loading BokehJS from CDN, this \\n\"+\n     \"may be due to a slow or bad network connection. Possible fixes:\\n\"+\n     \"</p>\\n\"+\n     \"<ul>\\n\"+\n     \"<li>re-rerun `output_notebook()` to attempt to load from CDN again, or</li>\\n\"+\n     \"<li>use INLINE resources instead, as so:</li>\\n\"+\n     \"</ul>\\n\"+\n     \"<code>\\n\"+\n     \"from bokeh.resources import INLINE\\n\"+\n     \"output_notebook(resources=INLINE)\\n\"+\n     \"</code>\\n\"+\n     \"</div>\"}};\n\n  function display_loaded() {\n    var el = document.getElementById(null);\n    if (el != null) {\n      el.textContent = \"BokehJS is loading...\";\n    }\n    if (root.Bokeh !== undefined) {\n      if (el != null) {\n        el.textContent = \"BokehJS \" + root.Bokeh.version + \" successfully loaded.\";\n      }\n    } else if (Date.now() < root._bokeh_timeout) {\n      setTimeout(display_loaded, 100)\n    }\n  }\n\n\n  function run_callbacks() {\n    try {\n      root._bokeh_onload_callbacks.forEach(function(callback) {\n        if (callback != null)\n          callback();\n      });\n    } finally {\n      delete root._bokeh_onload_callbacks\n    }\n    console.debug(\"Bokeh: all callbacks have finished\");\n  }\n\n  function load_libs(css_urls, js_urls, callback) {\n    if (css_urls == null) css_urls = [];\n    if (js_urls == null) js_urls = [];\n\n    root._bokeh_onload_callbacks.push(callback);\n    if (root._bokeh_is_loading > 0) {\n      console.debug(\"Bokeh: BokehJS is being loaded, scheduling callback at\", now());\n      return null;\n    }\n    if (js_urls == null || js_urls.length === 0) {\n      run_callbacks();\n      return null;\n    }\n    console.debug(\"Bokeh: BokehJS not loaded, scheduling load and callback at\", now());\n    root._bokeh_is_loading = css_urls.length + js_urls.length;\n\n    function on_load() {\n      root._bokeh_is_loading--;\n      if (root._bokeh_is_loading === 0) {\n        console.debug(\"Bokeh: all BokehJS libraries/stylesheets loaded\");\n        run_callbacks()\n      }\n    }\n\n    function on_error(url) {\n      console.error(\"failed to load \" + url);\n    }\n\n    for (let i = 0; i < css_urls.length; i++) {\n      const url = css_urls[i];\n      const element = document.createElement(\"link\");\n      element.onload = on_load;\n      element.onerror = on_error.bind(null, url);\n      element.rel = \"stylesheet\";\n      element.type = \"text/css\";\n      element.href = url;\n      console.debug(\"Bokeh: injecting link tag for BokehJS stylesheet: \", url);\n      document.body.appendChild(element);\n    }\n\n    const hashes = {\"https://cdn.bokeh.org/bokeh/release/bokeh-2.3.3.min.js\": \"dM3QQsP+wXdHg42wTqW85BjZQdLNNIXqlPw/BgKoExPmTG7ZLML4EGqLMfqHT6ON\", \"https://cdn.bokeh.org/bokeh/release/bokeh-tables-2.3.3.min.js\": \"8x57I4YuIfu8XyZfFo0XVr2WAT8EK4rh/uDe3wF7YuW2FNUSNEpJbsPaB1nJ2fz2\", \"https://cdn.bokeh.org/bokeh/release/bokeh-widgets-2.3.3.min.js\": \"3QTqdz9LyAm2i0sG5XTePsHec3UHWwVsrOL68SYRoAXsafvfAyqtQ+h440+qIBhS\"};\n\n    for (let i = 0; i < js_urls.length; i++) {\n      const url = js_urls[i];\n      const element = document.createElement('script');\n      element.onload = on_load;\n      element.onerror = on_error.bind(null, url);\n      element.async = false;\n      element.src = url;\n      if (url in hashes) {\n        element.crossOrigin = \"anonymous\";\n        element.integrity = \"sha384-\" + hashes[url];\n      }\n      console.debug(\"Bokeh: injecting script tag for BokehJS library: \", url);\n      document.head.appendChild(element);\n    }\n  };\n\n  function inject_raw_css(css) {\n    const element = document.createElement(\"style\");\n    element.appendChild(document.createTextNode(css));\n    document.body.appendChild(element);\n  }\n\n  \n  var js_urls = [\"https://cdn.bokeh.org/bokeh/release/bokeh-2.3.3.min.js\", \"https://cdn.bokeh.org/bokeh/release/bokeh-widgets-2.3.3.min.js\", \"https://cdn.bokeh.org/bokeh/release/bokeh-tables-2.3.3.min.js\"];\n  var css_urls = [];\n  \n\n  var inline_js = [\n    function(Bokeh) {\n      Bokeh.set_log_level(\"info\");\n    },\n    function(Bokeh) {\n    \n    \n    }\n  ];\n\n  function run_inline_js() {\n    \n    if (root.Bokeh !== undefined || force === true) {\n      \n    for (var i = 0; i < inline_js.length; i++) {\n      inline_js[i].call(root, root.Bokeh);\n    }\n    } else if (Date.now() < root._bokeh_timeout) {\n      setTimeout(run_inline_js, 100);\n    } else if (!root._bokeh_failed_load) {\n      console.log(\"Bokeh: BokehJS failed to load within specified timeout.\");\n      root._bokeh_failed_load = true;\n    } else if (force !== true) {\n      var cell = $(document.getElementById(null)).parents('.cell').data().cell;\n      cell.output_area.append_execute_result(NB_LOAD_WARNING)\n    }\n\n  }\n\n  if (root._bokeh_is_loading === 0) {\n    console.debug(\"Bokeh: BokehJS loaded, going straight to plotting\");\n    run_inline_js();\n  } else {\n    load_libs(css_urls, js_urls, function() {\n      console.debug(\"Bokeh: BokehJS plotting callback run at\", now());\n      run_inline_js();\n    });\n  }\n}(window));"
     },
     "metadata": {},
     "output_type": "display_data"
    },
    {
     "data": {
      "text/html": [
       "\n",
       "\n",
       "\n",
       "\n",
       "\n",
       "\n",
       "  <div class=\"bk-root\" id=\"e4fb6c83-fbac-45b0-a5d1-2388c1d44445\" data-root-id=\"1258\"></div>\n"
      ]
     },
     "metadata": {},
     "output_type": "display_data"
    },
    {
     "data": {
      "application/javascript": [
       "(function(root) {\n",
       "  function embed_document(root) {\n",
       "    \n",
       "  var docs_json = {\"f1dfb088-1bb6-42c0-952b-1cdbbf617e2e\":{\"defs\":[],\"roots\":{\"references\":[{\"attributes\":{\"below\":[{\"id\":\"1267\"}],\"center\":[{\"id\":\"1270\"},{\"id\":\"1274\"}],\"height\":400,\"left\":[{\"id\":\"1271\"}],\"renderers\":[{\"id\":\"1291\"},{\"id\":\"1297\"}],\"title\":{\"id\":\"1326\"},\"toolbar\":{\"id\":\"1280\"},\"width\":400,\"x_range\":{\"id\":\"1259\"},\"x_scale\":{\"id\":\"1263\"},\"y_range\":{\"id\":\"1261\"},\"y_scale\":{\"id\":\"1265\"}},\"id\":\"1258\",\"subtype\":\"Figure\",\"type\":\"Plot\"},{\"attributes\":{\"line_alpha\":{\"value\":0.5},\"line_color\":{\"value\":\"navy\"},\"xs\":{\"field\":\"xs\"},\"ys\":{\"field\":\"ys\"}},\"id\":\"1289\",\"type\":\"MultiLine\"},{\"attributes\":{\"line_alpha\":{\"value\":0.1},\"line_color\":{\"value\":\"navy\"},\"xs\":{\"field\":\"xs\"},\"ys\":{\"field\":\"ys\"}},\"id\":\"1290\",\"type\":\"MultiLine\"},{\"attributes\":{\"source\":{\"id\":\"1287\"}},\"id\":\"1292\",\"type\":\"CDSView\"},{\"attributes\":{\"source\":{\"id\":\"1293\"}},\"id\":\"1298\",\"type\":\"CDSView\"},{\"attributes\":{\"fill_alpha\":{\"value\":0.1},\"fill_color\":{\"field\":\"_colormap\"},\"line_alpha\":{\"value\":0.1},\"line_color\":{\"field\":\"_colormap\"},\"size\":{\"value\":25},\"x\":{\"field\":\"xs\"},\"y\":{\"field\":\"ys\"}},\"id\":\"1296\",\"type\":\"Circle\"},{\"attributes\":{\"data\":{\"_colormap\":[\"#440154\",\"#440154\"],\"_node\":[1,2],\"name\":[\"Barabasi\",\"Albert\"],\"type\":[\"Author\",\"Author\"],\"xs\":[0.2875300256603674,-0.2875300256603673],\"ys\":[1.0,-0.9999999999999999]},\"selected\":{\"id\":\"1335\"},\"selection_policy\":{\"id\":\"1336\"}},\"id\":\"1293\",\"type\":\"ColumnDataSource\"},{\"attributes\":{\"callback\":null,\"formatters\":{\"name\":\"printf\",\"node\":\"printf\",\"type\":\"printf\"},\"names\":[\"show_hover\"],\"tooltips\":[[\"node\",\"@_node\"],[\"name\",\"@name\"],[\"type\",\"@type\"]]},\"id\":\"1257\",\"type\":\"HoverTool\"},{\"attributes\":{\"fill_alpha\":{\"value\":0.7},\"fill_color\":{\"field\":\"_colormap\"},\"line_alpha\":{\"value\":0.7},\"line_color\":{\"field\":\"_colormap\"},\"size\":{\"value\":25},\"x\":{\"field\":\"xs\"},\"y\":{\"field\":\"ys\"}},\"id\":\"1295\",\"type\":\"Circle\"},{\"attributes\":{},\"id\":\"1328\",\"type\":\"BasicTickFormatter\"},{\"attributes\":{\"data\":{\"xs\":[[0.2875300256603674,-0.2875300256603673]],\"ys\":[[1.0,-0.9999999999999999]]},\"selected\":{\"id\":\"1333\"},\"selection_policy\":{\"id\":\"1334\"}},\"id\":\"1287\",\"type\":\"ColumnDataSource\"},{\"attributes\":{\"data_source\":{\"id\":\"1287\"},\"glyph\":{\"id\":\"1289\"},\"hover_glyph\":null,\"muted_glyph\":null,\"nonselection_glyph\":{\"id\":\"1290\"},\"view\":{\"id\":\"1292\"}},\"id\":\"1291\",\"type\":\"GlyphRenderer\"},{\"attributes\":{\"data_source\":{\"id\":\"1293\"},\"glyph\":{\"id\":\"1295\"},\"hover_glyph\":null,\"muted_glyph\":null,\"name\":\"show_hover\",\"nonselection_glyph\":{\"id\":\"1296\"},\"view\":{\"id\":\"1298\"}},\"id\":\"1297\",\"type\":\"GlyphRenderer\"},{\"attributes\":{},\"id\":\"1334\",\"type\":\"UnionRenderers\"},{\"attributes\":{},\"id\":\"1263\",\"type\":\"LinearScale\"},{\"attributes\":{},\"id\":\"1333\",\"type\":\"Selection\"},{\"attributes\":{},\"id\":\"1259\",\"type\":\"DataRange1d\"},{\"attributes\":{\"bottom_units\":\"screen\",\"fill_alpha\":0.5,\"fill_color\":\"lightgrey\",\"left_units\":\"screen\",\"level\":\"overlay\",\"line_alpha\":1.0,\"line_color\":\"black\",\"line_dash\":[4,4],\"line_width\":2,\"right_units\":\"screen\",\"syncable\":false,\"top_units\":\"screen\"},\"id\":\"1279\",\"type\":\"BoxAnnotation\"},{\"attributes\":{\"formatter\":{\"id\":\"1328\"},\"major_label_policy\":{\"id\":\"1327\"},\"ticker\":{\"id\":\"1268\"},\"visible\":false},\"id\":\"1267\",\"type\":\"LinearAxis\"},{\"attributes\":{},\"id\":\"1261\",\"type\":\"DataRange1d\"},{\"attributes\":{},\"id\":\"1265\",\"type\":\"LinearScale\"},{\"attributes\":{},\"id\":\"1330\",\"type\":\"AllLabels\"},{\"attributes\":{},\"id\":\"1268\",\"type\":\"BasicTicker\"},{\"attributes\":{\"axis\":{\"id\":\"1267\"},\"grid_line_color\":null,\"ticker\":null},\"id\":\"1270\",\"type\":\"Grid\"},{\"attributes\":{},\"id\":\"1278\",\"type\":\"PanTool\"},{\"attributes\":{},\"id\":\"1331\",\"type\":\"BasicTickFormatter\"},{\"attributes\":{\"axis\":{\"id\":\"1271\"},\"dimension\":1,\"grid_line_color\":null,\"ticker\":null},\"id\":\"1274\",\"type\":\"Grid\"},{\"attributes\":{\"formatter\":{\"id\":\"1331\"},\"major_label_policy\":{\"id\":\"1330\"},\"ticker\":{\"id\":\"1272\"},\"visible\":false},\"id\":\"1271\",\"type\":\"LinearAxis\"},{\"attributes\":{},\"id\":\"1272\",\"type\":\"BasicTicker\"},{\"attributes\":{},\"id\":\"1336\",\"type\":\"UnionRenderers\"},{\"attributes\":{},\"id\":\"1326\",\"type\":\"Title\"},{\"attributes\":{},\"id\":\"1335\",\"type\":\"Selection\"},{\"attributes\":{},\"id\":\"1276\",\"type\":\"ResetTool\"},{\"attributes\":{\"overlay\":{\"id\":\"1279\"}},\"id\":\"1275\",\"type\":\"BoxZoomTool\"},{\"attributes\":{},\"id\":\"1277\",\"type\":\"WheelZoomTool\"},{\"attributes\":{},\"id\":\"1327\",\"type\":\"AllLabels\"},{\"attributes\":{\"active_multi\":null,\"logo\":null,\"tools\":[{\"id\":\"1257\"},{\"id\":\"1275\"},{\"id\":\"1276\"},{\"id\":\"1277\"},{\"id\":\"1278\"}]},\"id\":\"1280\",\"type\":\"Toolbar\"}],\"root_ids\":[\"1258\"]},\"title\":\"Bokeh Application\",\"version\":\"2.3.3\"}};\n",
       "  var render_items = [{\"docid\":\"f1dfb088-1bb6-42c0-952b-1cdbbf617e2e\",\"notebook_comms_target\":\"1338\",\"root_ids\":[\"1258\"],\"roots\":{\"1258\":\"e4fb6c83-fbac-45b0-a5d1-2388c1d44445\"}}];\n",
       "  root.Bokeh.embed.embed_items_notebook(docs_json, render_items);\n",
       "\n",
       "  }\n",
       "  if (root.Bokeh !== undefined) {\n",
       "    embed_document(root);\n",
       "  } else {\n",
       "    var attempts = 0;\n",
       "    var timer = setInterval(function(root) {\n",
       "      if (root.Bokeh !== undefined) {\n",
       "        clearInterval(timer);\n",
       "        embed_document(root);\n",
       "      } else {\n",
       "        attempts++;\n",
       "        if (attempts > 100) {\n",
       "          clearInterval(timer);\n",
       "          console.log(\"Bokeh: ERROR: Unable to run BokehJS code because BokehJS library is missing\");\n",
       "        }\n",
       "      }\n",
       "    }, 10, root)\n",
       "  }\n",
       "})(window);"
      ],
      "application/vnd.bokehjs_exec.v0+json": ""
     },
     "metadata": {
      "application/vnd.bokehjs_exec.v0+json": {
       "id": "1258"
      }
     },
     "output_type": "display_data"
    }
   ],
   "source": [
    "# Plotvorgang des vereinfachten Netzwerkes\n",
    "plot = BokehGraph(show, width=400, height=400, inline=True)\n",
    "plot.draw(\n",
    "    color_by=\"type\", palette=\"viridis\",\n",
    "    edge_alpha=0.5, max_colors=5, node_size=25\n",
    ")"
   ]
  },
  {
   "cell_type": "markdown",
   "id": "86e37962",
   "metadata": {
    "slideshow": {
     "slide_type": "slide"
    }
   },
   "source": [
    "**Theorie - Netzwerke**\n",
    "\n",
    "---\n",
    "Es gibt verschiedene Arten von Edges:\n",
    "- ungerichtete (siehe oben)\n",
    "- gerichtete (z.B. bei Zitationen)\n",
    "- ungewichtete (siehe oben)\n",
    "- gewichtete (Häufigkeit von Kooperation)\n",
    "- *self-loops* (z.B. selbst-Zitation)"
   ]
  },
  {
   "cell_type": "markdown",
   "id": "4332a7a2",
   "metadata": {
    "slideshow": {
     "slide_type": "slide"
    }
   },
   "source": [
    "**Theorie - Netzwerke**\n",
    "\n",
    "---\n",
    "Etwas mehr Komplexität:\n",
    "- Dyaden und Triaden\n",
    "- Teilnetzwerke\n",
    "- *Isolates*"
   ]
  },
  {
   "cell_type": "code",
   "execution_count": null,
   "id": "275fe629",
   "metadata": {},
   "outputs": [],
   "source": [
    "# list Objekt mit Autorendictionaries\n",
    "node_list = [\n",
    "    (1, {'lastname':'Erhard', 'firstname':'Lukas', 'mark':0}),\n",
    "    (2, {'lastname':'Koss', 'firstname':'Chris', 'mark':0}),\n",
    "    (3, {'lastname':'Unger', 'firstname':'Said', 'mark':0}),\n",
    "    (4, {'lastname':'Heiberger', 'firstname':'Raphael', 'mark':1}),\n",
    "    (5, {'lastname':'Wieczorek', 'firstname':'Oliver', 'mark':2}),\n",
    "    (6, {'lastname':'Riebling', 'firstname':'Jan', 'mark':0}),\n",
    "    (7, {'lastname':'Munoz-Najar Galvez', 'firstname':'Sebastian', 'mark':1}),\n",
    "    (8, {'lastname':'McFarland', 'firstname':'Daniel', 'mark':1}),\n",
    "    (9, {'lastname':'Schwemmer', 'firstname':'Carsten', 'mark':2}),\n",
    "    (10,{'lastname':'Barabasi', 'firstname':'Albert-Laszlo', 'mark':3}),\n",
    "    (11,{'lastname':'Albert', 'firstname':'Reka', 'mark':3}),\n",
    "    (12,{'lastname':'Merton', 'firstname':'Robert King', 'mark':4})    \n",
    "]"
   ]
  },
  {
   "cell_type": "code",
   "execution_count": null,
   "id": "d80c7fe9",
   "metadata": {
    "slideshow": {
     "slide_type": "slide"
    }
   },
   "outputs": [],
   "source": [
    "# list Objekt mit edgetupeln\n",
    "edge_list = [\n",
    "    # Mapping the Field\n",
    "    (1,2), (1,3), (1,4), (1,5), (1,6),\n",
    "    (2,3), (2,4), (2,5), (2,6),\n",
    "    (3,4), (3,5), (3,6),\n",
    "    (4,5), (4,6),\n",
    "    (5,6),\n",
    "    # Paradigm Wars\n",
    "    (4,7), (4,8),\n",
    "    (7,8),\n",
    "    # Methodological Divide\n",
    "    (5,9),\n",
    "    # Emergence of Scaling\n",
    "    (10,11)\n",
    "]"
   ]
  },
  {
   "cell_type": "code",
   "execution_count": null,
   "id": "0062ac20",
   "metadata": {
    "slideshow": {
     "slide_type": "-"
    }
   },
   "outputs": [],
   "source": [
    "# Graph Objekt initialisieren\n",
    "comp = nx.Graph()\n",
    "\n",
    "# alle nodes der node_list per \"add_nodes_from\" Funktion hinzufügen\n",
    "comp.add_nodes_from(node_list)\n",
    "\n",
    "# alle edges der node_list per \"add_edges_from\" Funktion hinzufügen\n",
    "comp.add_edges_from(edge_list)"
   ]
  },
  {
   "cell_type": "code",
   "execution_count": null,
   "id": "39129dd8",
   "metadata": {},
   "outputs": [],
   "source": [
    "import copy"
   ]
  },
  {
   "cell_type": "code",
   "execution_count": null,
   "id": "b18b1cc7",
   "metadata": {
    "slideshow": {
     "slide_type": "slide"
    }
   },
   "outputs": [
    {
     "data": {
      "text/html": [
       "\n",
       "\n",
       "\n",
       "\n",
       "\n",
       "\n",
       "  <div class=\"bk-root\" id=\"604bace2-c9de-40f1-bfec-1d76fb8f500c\" data-root-id=\"1405\"></div>\n"
      ]
     },
     "metadata": {},
     "output_type": "display_data"
    },
    {
     "data": {
      "application/javascript": [
       "(function(root) {\n",
       "  function embed_document(root) {\n",
       "    \n",
       "  var docs_json = {\"a3ecd141-ea04-443e-9db2-0a5dfe20b78a\":{\"defs\":[],\"roots\":{\"references\":[{\"attributes\":{\"below\":[{\"id\":\"1414\"}],\"center\":[{\"id\":\"1417\"},{\"id\":\"1421\"}],\"height\":1024,\"left\":[{\"id\":\"1418\"}],\"renderers\":[{\"id\":\"1438\"},{\"id\":\"1444\"}],\"title\":{\"id\":\"1486\"},\"toolbar\":{\"id\":\"1427\"},\"width\":1920,\"x_range\":{\"id\":\"1406\"},\"x_scale\":{\"id\":\"1410\"},\"y_range\":{\"id\":\"1408\"},\"y_scale\":{\"id\":\"1412\"}},\"id\":\"1405\",\"subtype\":\"Figure\",\"type\":\"Plot\"},{\"attributes\":{\"active_multi\":null,\"logo\":null,\"tools\":[{\"id\":\"1404\"},{\"id\":\"1422\"},{\"id\":\"1423\"},{\"id\":\"1424\"},{\"id\":\"1425\"}]},\"id\":\"1427\",\"type\":\"Toolbar\"},{\"attributes\":{},\"id\":\"1490\",\"type\":\"AllLabels\"},{\"attributes\":{},\"id\":\"1419\",\"type\":\"BasicTicker\"},{\"attributes\":{},\"id\":\"1496\",\"type\":\"UnionRenderers\"},{\"attributes\":{},\"id\":\"1491\",\"type\":\"BasicTickFormatter\"},{\"attributes\":{\"source\":{\"id\":\"1440\"}},\"id\":\"1445\",\"type\":\"CDSView\"},{\"attributes\":{},\"id\":\"1423\",\"type\":\"ResetTool\"},{\"attributes\":{\"overlay\":{\"id\":\"1426\"}},\"id\":\"1422\",\"type\":\"BoxZoomTool\"},{\"attributes\":{},\"id\":\"1424\",\"type\":\"WheelZoomTool\"},{\"attributes\":{\"source\":{\"id\":\"1434\"}},\"id\":\"1439\",\"type\":\"CDSView\"},{\"attributes\":{\"data_source\":{\"id\":\"1434\"},\"glyph\":{\"id\":\"1436\"},\"hover_glyph\":null,\"muted_glyph\":null,\"nonselection_glyph\":{\"id\":\"1437\"},\"view\":{\"id\":\"1439\"}},\"id\":\"1438\",\"type\":\"GlyphRenderer\"},{\"attributes\":{\"line_alpha\":{\"value\":0.5},\"line_color\":{\"value\":\"navy\"},\"xs\":{\"field\":\"xs\"},\"ys\":{\"field\":\"ys\"}},\"id\":\"1436\",\"type\":\"MultiLine\"},{\"attributes\":{},\"id\":\"1486\",\"type\":\"Title\"},{\"attributes\":{\"line_alpha\":{\"value\":0.1},\"line_color\":{\"value\":\"navy\"},\"xs\":{\"field\":\"xs\"},\"ys\":{\"field\":\"ys\"}},\"id\":\"1437\",\"type\":\"MultiLine\"},{\"attributes\":{},\"id\":\"1488\",\"type\":\"BasicTickFormatter\"},{\"attributes\":{},\"id\":\"1487\",\"type\":\"AllLabels\"},{\"attributes\":{\"fill_alpha\":{\"value\":0.1},\"fill_color\":{\"field\":\"_colormap\"},\"line_alpha\":{\"value\":0.1},\"line_color\":{\"field\":\"_colormap\"},\"size\":{\"value\":25},\"x\":{\"field\":\"xs\"},\"y\":{\"field\":\"ys\"}},\"id\":\"1443\",\"type\":\"Circle\"},{\"attributes\":{\"fill_alpha\":{\"value\":0.7},\"fill_color\":{\"field\":\"_colormap\"},\"line_alpha\":{\"value\":0.7},\"line_color\":{\"field\":\"_colormap\"},\"size\":{\"value\":25},\"x\":{\"field\":\"xs\"},\"y\":{\"field\":\"ys\"}},\"id\":\"1442\",\"type\":\"Circle\"},{\"attributes\":{\"data_source\":{\"id\":\"1440\"},\"glyph\":{\"id\":\"1442\"},\"hover_glyph\":null,\"muted_glyph\":null,\"name\":\"show_hover\",\"nonselection_glyph\":{\"id\":\"1443\"},\"view\":{\"id\":\"1445\"}},\"id\":\"1444\",\"type\":\"GlyphRenderer\"},{\"attributes\":{\"data\":{\"_colormap\":[\"#440154\",\"#440154\",\"#440154\",\"#3B518A\",\"#208F8C\",\"#440154\",\"#3B518A\",\"#3B518A\",\"#208F8C\",\"#5BC862\",\"#5BC862\",\"#FDE724\"],\"_node\":[1,2,3,4,5,6,7,8,9,10,11,12],\"firstname\":[\"Lukas\",\"Chris\",\"Said\",\"Raphael\",\"Oliver\",\"Jan\",\"Sebastian\",\"Daniel\",\"Carsten\",\"Albert-Laszlo\",\"Reka\",\"Robert King\"],\"lastname\":[\"Erhard\",\"Koss\",\"Unger\",\"Heiberger\",\"Wieczorek\",\"Riebling\",\"Munoz-Najar Galvez\",\"McFarland\",\"Schwemmer\",\"Barabasi\",\"Albert\",\"Merton\"],\"mark\":[0,0,0,1,2,0,1,1,2,3,3,4],\"xs\":[0.1217171423308464,0.13058833586734483,0.19809193502447237,0.12907428361855752,0.27247770620410555,0.21062000585767102,0.0008604506577485607,0.09294455148177796,0.4505392635169635,-1.0,-0.9485282290150168,0.34161455445552846],\"ys\":[0.1689692957571294,0.23753182331268763,0.2267050543590546,0.0740480285625144,0.1949943879385088,0.13035116269825378,-0.05798442954621221,-0.10436233930127775,0.2599163062642283,-0.17883800787652646,-0.07647145309310396,-0.8748598290752562]},\"selected\":{\"id\":\"1495\"},\"selection_policy\":{\"id\":\"1496\"}},\"id\":\"1440\",\"type\":\"ColumnDataSource\"},{\"attributes\":{\"callback\":null,\"formatters\":{\"firstname\":\"printf\",\"lastname\":\"printf\",\"mark\":\"printf\",\"node\":\"printf\"},\"names\":[\"show_hover\"],\"tooltips\":[[\"node\",\"@_node\"],[\"firstname\",\"@firstname\"],[\"lastname\",\"@lastname\"],[\"mark\",\"@mark\"]]},\"id\":\"1404\",\"type\":\"HoverTool\"},{\"attributes\":{\"data\":{\"xs\":[[0.1217171423308464,0.13058833586734483],[0.1217171423308464,0.19809193502447237],[0.1217171423308464,0.12907428361855752],[0.1217171423308464,0.27247770620410555],[0.1217171423308464,0.21062000585767102],[0.13058833586734483,0.19809193502447237],[0.13058833586734483,0.12907428361855752],[0.13058833586734483,0.27247770620410555],[0.13058833586734483,0.21062000585767102],[0.19809193502447237,0.12907428361855752],[0.19809193502447237,0.27247770620410555],[0.19809193502447237,0.21062000585767102],[0.12907428361855752,0.27247770620410555],[0.12907428361855752,0.21062000585767102],[0.12907428361855752,0.0008604506577485607],[0.12907428361855752,0.09294455148177796],[0.27247770620410555,0.21062000585767102],[0.27247770620410555,0.4505392635169635],[0.0008604506577485607,0.09294455148177796],[-1.0,-0.9485282290150168]],\"ys\":[[0.1689692957571294,0.23753182331268763],[0.1689692957571294,0.2267050543590546],[0.1689692957571294,0.0740480285625144],[0.1689692957571294,0.1949943879385088],[0.1689692957571294,0.13035116269825378],[0.23753182331268763,0.2267050543590546],[0.23753182331268763,0.0740480285625144],[0.23753182331268763,0.1949943879385088],[0.23753182331268763,0.13035116269825378],[0.2267050543590546,0.0740480285625144],[0.2267050543590546,0.1949943879385088],[0.2267050543590546,0.13035116269825378],[0.0740480285625144,0.1949943879385088],[0.0740480285625144,0.13035116269825378],[0.0740480285625144,-0.05798442954621221],[0.0740480285625144,-0.10436233930127775],[0.1949943879385088,0.13035116269825378],[0.1949943879385088,0.2599163062642283],[-0.05798442954621221,-0.10436233930127775],[-0.17883800787652646,-0.07647145309310396]]},\"selected\":{\"id\":\"1493\"},\"selection_policy\":{\"id\":\"1494\"}},\"id\":\"1434\",\"type\":\"ColumnDataSource\"},{\"attributes\":{},\"id\":\"1494\",\"type\":\"UnionRenderers\"},{\"attributes\":{},\"id\":\"1493\",\"type\":\"Selection\"},{\"attributes\":{},\"id\":\"1410\",\"type\":\"LinearScale\"},{\"attributes\":{},\"id\":\"1406\",\"type\":\"DataRange1d\"},{\"attributes\":{\"bottom_units\":\"screen\",\"fill_alpha\":0.5,\"fill_color\":\"lightgrey\",\"left_units\":\"screen\",\"level\":\"overlay\",\"line_alpha\":1.0,\"line_color\":\"black\",\"line_dash\":[4,4],\"line_width\":2,\"right_units\":\"screen\",\"syncable\":false,\"top_units\":\"screen\"},\"id\":\"1426\",\"type\":\"BoxAnnotation\"},{\"attributes\":{\"formatter\":{\"id\":\"1488\"},\"major_label_policy\":{\"id\":\"1487\"},\"ticker\":{\"id\":\"1415\"},\"visible\":false},\"id\":\"1414\",\"type\":\"LinearAxis\"},{\"attributes\":{},\"id\":\"1408\",\"type\":\"DataRange1d\"},{\"attributes\":{},\"id\":\"1412\",\"type\":\"LinearScale\"},{\"attributes\":{},\"id\":\"1415\",\"type\":\"BasicTicker\"},{\"attributes\":{\"axis\":{\"id\":\"1414\"},\"grid_line_color\":null,\"ticker\":null},\"id\":\"1417\",\"type\":\"Grid\"},{\"attributes\":{},\"id\":\"1425\",\"type\":\"PanTool\"},{\"attributes\":{\"axis\":{\"id\":\"1418\"},\"dimension\":1,\"grid_line_color\":null,\"ticker\":null},\"id\":\"1421\",\"type\":\"Grid\"},{\"attributes\":{},\"id\":\"1495\",\"type\":\"Selection\"},{\"attributes\":{\"formatter\":{\"id\":\"1491\"},\"major_label_policy\":{\"id\":\"1490\"},\"ticker\":{\"id\":\"1419\"},\"visible\":false},\"id\":\"1418\",\"type\":\"LinearAxis\"}],\"root_ids\":[\"1405\"]},\"title\":\"Bokeh Application\",\"version\":\"2.3.3\"}};\n",
       "  var render_items = [{\"docid\":\"a3ecd141-ea04-443e-9db2-0a5dfe20b78a\",\"root_ids\":[\"1405\"],\"roots\":{\"1405\":\"604bace2-c9de-40f1-bfec-1d76fb8f500c\"}}];\n",
       "  root.Bokeh.embed.embed_items_notebook(docs_json, render_items);\n",
       "\n",
       "  }\n",
       "  if (root.Bokeh !== undefined) {\n",
       "    embed_document(root);\n",
       "  } else {\n",
       "    var attempts = 0;\n",
       "    var timer = setInterval(function(root) {\n",
       "      if (root.Bokeh !== undefined) {\n",
       "        clearInterval(timer);\n",
       "        embed_document(root);\n",
       "      } else {\n",
       "        attempts++;\n",
       "        if (attempts > 100) {\n",
       "          clearInterval(timer);\n",
       "          console.log(\"Bokeh: ERROR: Unable to run BokehJS code because BokehJS library is missing\");\n",
       "        }\n",
       "      }\n",
       "    }, 10, root)\n",
       "  }\n",
       "})(window);"
      ],
      "application/vnd.bokehjs_exec.v0+json": ""
     },
     "metadata": {
      "application/vnd.bokehjs_exec.v0+json": {
       "id": "1405"
      }
     },
     "output_type": "display_data"
    }
   ],
   "source": [
    "# Einstellungen für das graphing Tool:\n",
    "from bokeh.io import output_file # speichert die Plots extern um platz im Notebook zu sparen\n",
    "\n",
    "(src.PATH / \"tmp\").mkdir(exist_ok=True)\n",
    "output_file(src.PATH / \"tmp/myoutput.html\")\n",
    "\n",
    "# Plotten\n",
    "plot = BokehGraph(comp, width=1920, height=1024, inline=False)\n",
    "plot.layout()\n",
    "lay = copy.deepcopy(plot._layout)\n",
    "plot.draw(\n",
    "    color_by='mark', palette='viridis',\n",
    "    edge_alpha=0.5, max_colors=5, node_size=25\n",
    ")"
   ]
  },
  {
   "cell_type": "code",
   "execution_count": null,
   "id": "cb93dc5a",
   "metadata": {
    "slideshow": {
     "slide_type": "slide"
    }
   },
   "outputs": [],
   "source": [
    "# nur das große verbundene Netzwerk -> largest connected component\n",
    "delete = [10,11,12]\n",
    "for node in list(comp.nodes()):\n",
    "    if node in delete:\n",
    "        comp.remove_node(node)"
   ]
  },
  {
   "cell_type": "code",
   "execution_count": null,
   "id": "c43be377",
   "metadata": {
    "slideshow": {
     "slide_type": "-"
    }
   },
   "outputs": [],
   "source": [
    "# neuer Edge: McFarland - Unger\n",
    "comp.add_edge(3,8)\n",
    "# so kann ein attribut bei einem einzelnen node angewählt bzw. geändert werden\n",
    "# ähnlich wie bei dictionaries\n",
    "comp.nodes()[3]['mark']=1"
   ]
  },
  {
   "cell_type": "code",
   "execution_count": null,
   "id": "e42daea7",
   "metadata": {
    "slideshow": {
     "slide_type": "-"
    }
   },
   "outputs": [
    {
     "data": {
      "text/html": [
       "\n",
       "\n",
       "\n",
       "\n",
       "\n",
       "\n",
       "  <div class=\"bk-root\" id=\"9c674c5e-4ab5-4d01-80cb-a9ad7a6d5b6f\" data-root-id=\"5424\"></div>\n"
      ]
     },
     "metadata": {},
     "output_type": "display_data"
    },
    {
     "data": {
      "application/javascript": [
       "(function(root) {\n",
       "  function embed_document(root) {\n",
       "    \n",
       "  var docs_json = {\"931b25f5-f2da-484f-96c8-5a27cbe763cd\":{\"defs\":[],\"roots\":{\"references\":[{\"attributes\":{\"below\":[{\"id\":\"5433\"}],\"center\":[{\"id\":\"5436\"},{\"id\":\"5440\"}],\"height\":1024,\"left\":[{\"id\":\"5437\"}],\"renderers\":[{\"id\":\"5457\"},{\"id\":\"5463\"}],\"title\":{\"id\":\"5673\"},\"toolbar\":{\"id\":\"5446\"},\"width\":1920,\"x_range\":{\"id\":\"5425\"},\"x_scale\":{\"id\":\"5429\"},\"y_range\":{\"id\":\"5427\"},\"y_scale\":{\"id\":\"5431\"}},\"id\":\"5424\",\"subtype\":\"Figure\",\"type\":\"Plot\"},{\"attributes\":{},\"id\":\"5680\",\"type\":\"AllLabels\"},{\"attributes\":{},\"id\":\"5683\",\"type\":\"Selection\"},{\"attributes\":{\"line_alpha\":{\"value\":0.1},\"line_color\":{\"value\":\"navy\"},\"xs\":{\"field\":\"xs\"},\"ys\":{\"field\":\"ys\"}},\"id\":\"5456\",\"type\":\"MultiLine\"},{\"attributes\":{\"axis\":{\"id\":\"5437\"},\"dimension\":1,\"grid_line_color\":null,\"ticker\":null},\"id\":\"5440\",\"type\":\"Grid\"},{\"attributes\":{\"line_alpha\":{\"value\":0.5},\"line_color\":{\"value\":\"navy\"},\"xs\":{\"field\":\"xs\"},\"ys\":{\"field\":\"ys\"}},\"id\":\"5455\",\"type\":\"MultiLine\"},{\"attributes\":{},\"id\":\"5438\",\"type\":\"BasicTicker\"},{\"attributes\":{},\"id\":\"5684\",\"type\":\"UnionRenderers\"},{\"attributes\":{\"source\":{\"id\":\"5453\"}},\"id\":\"5458\",\"type\":\"CDSView\"},{\"attributes\":{},\"id\":\"5442\",\"type\":\"ResetTool\"},{\"attributes\":{\"overlay\":{\"id\":\"5445\"}},\"id\":\"5441\",\"type\":\"BoxZoomTool\"},{\"attributes\":{},\"id\":\"5443\",\"type\":\"WheelZoomTool\"},{\"attributes\":{\"data\":{\"_colormap\":[\"#440154\",\"#440154\",\"#208F8C\",\"#208F8C\",\"#FDE724\",\"#440154\",\"#208F8C\",\"#208F8C\",\"#FDE724\"],\"_node\":[1,2,3,4,5,6,7,8,9],\"firstname\":[\"Lukas\",\"Chris\",\"Said\",\"Raphael\",\"Oliver\",\"Jan\",\"Sebastian\",\"Daniel\",\"Carsten\"],\"lastname\":[\"Erhard\",\"Koss\",\"Unger\",\"Heiberger\",\"Wieczorek\",\"Riebling\",\"Munoz-Najar Galvez\",\"McFarland\",\"Schwemmer\"],\"mark\":[0,0,1,1,2,0,1,1,2],\"xs\":[0.39047195491613335,0.3383221920169631,0.004986697786870687,-0.24937999783349346,0.3237385098285625,0.03231278596617806,-0.973605009052031,-0.5869996609278322,0.7201525272986492],\"ys\":[-0.0032203594274265997,-0.26024756146345385,-0.28420944148213845,-0.10184593145240202,0.333028835211718,0.15996833984099407,-0.2876903832483667,-0.5557834979789248,0.9999999999999999]},\"selected\":{\"id\":\"5683\"},\"selection_policy\":{\"id\":\"5684\"}},\"id\":\"5459\",\"type\":\"ColumnDataSource\"},{\"attributes\":{\"active_multi\":null,\"logo\":null,\"tools\":[{\"id\":\"5423\"},{\"id\":\"5441\"},{\"id\":\"5442\"},{\"id\":\"5443\"},{\"id\":\"5444\"}]},\"id\":\"5446\",\"type\":\"Toolbar\"},{\"attributes\":{\"fill_alpha\":{\"value\":0.7},\"fill_color\":{\"field\":\"_colormap\"},\"line_alpha\":{\"value\":0.7},\"line_color\":{\"field\":\"_colormap\"},\"size\":{\"value\":25},\"x\":{\"field\":\"xs\"},\"y\":{\"field\":\"ys\"}},\"id\":\"5461\",\"type\":\"Circle\"},{\"attributes\":{\"fill_alpha\":{\"value\":0.1},\"fill_color\":{\"field\":\"_colormap\"},\"line_alpha\":{\"value\":0.1},\"line_color\":{\"field\":\"_colormap\"},\"size\":{\"value\":25},\"x\":{\"field\":\"xs\"},\"y\":{\"field\":\"ys\"}},\"id\":\"5462\",\"type\":\"Circle\"},{\"attributes\":{\"source\":{\"id\":\"5459\"}},\"id\":\"5464\",\"type\":\"CDSView\"},{\"attributes\":{\"data_source\":{\"id\":\"5459\"},\"glyph\":{\"id\":\"5461\"},\"hover_glyph\":null,\"muted_glyph\":null,\"name\":\"show_hover\",\"nonselection_glyph\":{\"id\":\"5462\"},\"view\":{\"id\":\"5464\"}},\"id\":\"5463\",\"type\":\"GlyphRenderer\"},{\"attributes\":{},\"id\":\"5673\",\"type\":\"Title\"},{\"attributes\":{\"data\":{\"xs\":[[0.39047195491613335,0.3383221920169631],[0.39047195491613335,0.004986697786870687],[0.39047195491613335,-0.24937999783349346],[0.39047195491613335,0.3237385098285625],[0.39047195491613335,0.03231278596617806],[0.3383221920169631,0.004986697786870687],[0.3383221920169631,-0.24937999783349346],[0.3383221920169631,0.3237385098285625],[0.3383221920169631,0.03231278596617806],[0.004986697786870687,-0.24937999783349346],[0.004986697786870687,0.3237385098285625],[0.004986697786870687,0.03231278596617806],[0.004986697786870687,-0.5869996609278322],[-0.24937999783349346,0.3237385098285625],[-0.24937999783349346,0.03231278596617806],[-0.24937999783349346,-0.973605009052031],[-0.24937999783349346,-0.5869996609278322],[0.3237385098285625,0.03231278596617806],[0.3237385098285625,0.7201525272986492],[-0.973605009052031,-0.5869996609278322]],\"ys\":[[-0.0032203594274265997,-0.26024756146345385],[-0.0032203594274265997,-0.28420944148213845],[-0.0032203594274265997,-0.10184593145240202],[-0.0032203594274265997,0.333028835211718],[-0.0032203594274265997,0.15996833984099407],[-0.26024756146345385,-0.28420944148213845],[-0.26024756146345385,-0.10184593145240202],[-0.26024756146345385,0.333028835211718],[-0.26024756146345385,0.15996833984099407],[-0.28420944148213845,-0.10184593145240202],[-0.28420944148213845,0.333028835211718],[-0.28420944148213845,0.15996833984099407],[-0.28420944148213845,-0.5557834979789248],[-0.10184593145240202,0.333028835211718],[-0.10184593145240202,0.15996833984099407],[-0.10184593145240202,-0.2876903832483667],[-0.10184593145240202,-0.5557834979789248],[0.333028835211718,0.15996833984099407],[0.333028835211718,0.9999999999999999],[-0.2876903832483667,-0.5557834979789248]]},\"selected\":{\"id\":\"5681\"},\"selection_policy\":{\"id\":\"5682\"}},\"id\":\"5453\",\"type\":\"ColumnDataSource\"},{\"attributes\":{\"callback\":null,\"formatters\":{\"firstname\":\"printf\",\"lastname\":\"printf\",\"mark\":\"printf\",\"node\":\"printf\"},\"names\":[\"show_hover\"],\"tooltips\":[[\"node\",\"@_node\"],[\"firstname\",\"@firstname\"],[\"lastname\",\"@lastname\"],[\"mark\",\"@mark\"]]},\"id\":\"5423\",\"type\":\"HoverTool\"},{\"attributes\":{\"bottom_units\":\"screen\",\"fill_alpha\":0.5,\"fill_color\":\"lightgrey\",\"left_units\":\"screen\",\"level\":\"overlay\",\"line_alpha\":1.0,\"line_color\":\"black\",\"line_dash\":[4,4],\"line_width\":2,\"right_units\":\"screen\",\"syncable\":false,\"top_units\":\"screen\"},\"id\":\"5445\",\"type\":\"BoxAnnotation\"},{\"attributes\":{},\"id\":\"5681\",\"type\":\"Selection\"},{\"attributes\":{\"data_source\":{\"id\":\"5453\"},\"glyph\":{\"id\":\"5455\"},\"hover_glyph\":null,\"muted_glyph\":null,\"nonselection_glyph\":{\"id\":\"5456\"},\"view\":{\"id\":\"5458\"}},\"id\":\"5457\",\"type\":\"GlyphRenderer\"},{\"attributes\":{},\"id\":\"5675\",\"type\":\"BasicTickFormatter\"},{\"attributes\":{},\"id\":\"5682\",\"type\":\"UnionRenderers\"},{\"attributes\":{},\"id\":\"5677\",\"type\":\"AllLabels\"},{\"attributes\":{},\"id\":\"5429\",\"type\":\"LinearScale\"},{\"attributes\":{\"formatter\":{\"id\":\"5678\"},\"major_label_policy\":{\"id\":\"5680\"},\"ticker\":{\"id\":\"5438\"},\"visible\":false},\"id\":\"5437\",\"type\":\"LinearAxis\"},{\"attributes\":{},\"id\":\"5425\",\"type\":\"DataRange1d\"},{\"attributes\":{\"formatter\":{\"id\":\"5675\"},\"major_label_policy\":{\"id\":\"5677\"},\"ticker\":{\"id\":\"5434\"},\"visible\":false},\"id\":\"5433\",\"type\":\"LinearAxis\"},{\"attributes\":{},\"id\":\"5427\",\"type\":\"DataRange1d\"},{\"attributes\":{},\"id\":\"5431\",\"type\":\"LinearScale\"},{\"attributes\":{},\"id\":\"5444\",\"type\":\"PanTool\"},{\"attributes\":{},\"id\":\"5434\",\"type\":\"BasicTicker\"},{\"attributes\":{\"axis\":{\"id\":\"5433\"},\"grid_line_color\":null,\"ticker\":null},\"id\":\"5436\",\"type\":\"Grid\"},{\"attributes\":{},\"id\":\"5678\",\"type\":\"BasicTickFormatter\"}],\"root_ids\":[\"5424\"]},\"title\":\"Bokeh Application\",\"version\":\"2.3.3\"}};\n",
       "  var render_items = [{\"docid\":\"931b25f5-f2da-484f-96c8-5a27cbe763cd\",\"root_ids\":[\"5424\"],\"roots\":{\"5424\":\"9c674c5e-4ab5-4d01-80cb-a9ad7a6d5b6f\"}}];\n",
       "  root.Bokeh.embed.embed_items_notebook(docs_json, render_items);\n",
       "\n",
       "  }\n",
       "  if (root.Bokeh !== undefined) {\n",
       "    embed_document(root);\n",
       "  } else {\n",
       "    var attempts = 0;\n",
       "    var timer = setInterval(function(root) {\n",
       "      if (root.Bokeh !== undefined) {\n",
       "        clearInterval(timer);\n",
       "        embed_document(root);\n",
       "      } else {\n",
       "        attempts++;\n",
       "        if (attempts > 100) {\n",
       "          clearInterval(timer);\n",
       "          console.log(\"Bokeh: ERROR: Unable to run BokehJS code because BokehJS library is missing\");\n",
       "        }\n",
       "      }\n",
       "    }, 10, root)\n",
       "  }\n",
       "})(window);"
      ],
      "application/vnd.bokehjs_exec.v0+json": ""
     },
     "metadata": {
      "application/vnd.bokehjs_exec.v0+json": {
       "id": "5424"
      }
     },
     "output_type": "display_data"
    }
   ],
   "source": [
    "# wieder anzeigen\n",
    "plot = BokehGraph(comp, width=1920, height=1024, inline=False)\n",
    "plot.layout()\n",
    "lay = copy.deepcopy(plot._layout)\n",
    "plot.draw(\n",
    "    color_by='mark', palette='viridis',\n",
    "    edge_alpha=0.5, max_colors=5, node_size=25\n",
    ")"
   ]
  },
  {
   "cell_type": "markdown",
   "id": "faacbef2",
   "metadata": {
    "slideshow": {
     "slide_type": "slide"
    }
   },
   "source": [
    "**Theorie - Netzwerke**\n",
    "\n",
    "---\n",
    "## *Centrality*:\n",
    "- Welche Nodes im Netzwerk sind zentral?\n",
    "- Verschiedene Herangehensweisen:\n",
    "    - *Degree Centrality*\n",
    "        - Anzahl der Edges\n",
    "    - *Closeness Centrality*\n",
    "        - \"Erreichbarkeit\"\n",
    "    - *Betweenness Centrality*\n",
    "        - \"Vermittlung\"\n",
    "    - *Eigenvector Centrality*\n",
    "        - \"Beziehungen der Beziehungen\"\n",
    "\n",
    "- &rarr; soziales Kapital"
   ]
  },
  {
   "cell_type": "code",
   "execution_count": null,
   "id": "12b1d6d0",
   "metadata": {
    "slideshow": {
     "slide_type": "slide"
    }
   },
   "outputs": [],
   "source": [
    "# Diverse centrality Funktionen aus networkx:\n",
    "dc = nx.degree_centrality(comp)\n",
    "cc = nx.closeness_centrality(comp)\n",
    "bc = nx.betweenness_centrality(comp)\n",
    "ec = nx.eigenvector_centrality(comp)"
   ]
  },
  {
   "cell_type": "code",
   "execution_count": null,
   "id": "ac44b5bb",
   "metadata": {},
   "outputs": [
    {
     "name": "stdout",
     "output_type": "stream",
     "text": [
      "{1: 0.625, 2: 0.625, 3: 0.75, 4: 0.875, 5: 0.75, 6: 0.625, 7: 0.25, 8: 0.375, 9: 0.125}\n"
     ]
    }
   ],
   "source": [
    "# Was geben uns die Funktionen eigentlich aus?\n",
    "print(dc)"
   ]
  },
  {
   "cell_type": "code",
   "execution_count": null,
   "id": "5a84cac4",
   "metadata": {
    "slideshow": {
     "slide_type": "-"
    }
   },
   "outputs": [],
   "source": [
    "# Mit der Funktion \"set_node_attributes\" können dictionary Objekte*\n",
    "# als Attribut zum Netzwerk hinzugefügt werden\n",
    "nx.set_node_attributes(comp, name='degree', values=dc)\n",
    "nx.set_node_attributes(comp, name='closeness', values=cc)\n",
    "nx.set_node_attributes(comp, name='betweenness', values=bc)\n",
    "nx.set_node_attributes(comp, name='eigenvector', values=ec)\n",
    "\n",
    "# __________________________________________________________________________________________\n",
    "# *Auch einzelne Werte können hinzugefügt werden, jeder node erhält dann diesen Wert"
   ]
  },
  {
   "cell_type": "code",
   "execution_count": null,
   "id": "9cd7ed35",
   "metadata": {
    "slideshow": {
     "slide_type": "subslide"
    }
   },
   "outputs": [
    {
     "data": {
      "text/html": [
       "\n",
       "\n",
       "\n",
       "\n",
       "\n",
       "\n",
       "  <div class=\"bk-root\" id=\"03014926-eecd-484b-aa5b-c15df2de96ab\" data-root-id=\"6417\"></div>\n"
      ]
     },
     "metadata": {},
     "output_type": "display_data"
    },
    {
     "data": {
      "application/javascript": [
       "(function(root) {\n",
       "  function embed_document(root) {\n",
       "    \n",
       "  var docs_json = {\"aea6cad3-bac1-413c-a9bd-1d153645d7d8\":{\"defs\":[],\"roots\":{\"references\":[{\"attributes\":{\"below\":[{\"id\":\"6426\"}],\"center\":[{\"id\":\"6429\"},{\"id\":\"6433\"}],\"height\":768,\"left\":[{\"id\":\"6430\"}],\"renderers\":[{\"id\":\"6450\"},{\"id\":\"6456\"}],\"title\":{\"id\":\"6692\"},\"toolbar\":{\"id\":\"6439\"},\"width\":1024,\"x_range\":{\"id\":\"6418\"},\"x_scale\":{\"id\":\"6422\"},\"y_range\":{\"id\":\"6420\"},\"y_scale\":{\"id\":\"6424\"}},\"id\":\"6417\",\"subtype\":\"Figure\",\"type\":\"Plot\"},{\"attributes\":{\"data_source\":{\"id\":\"6452\"},\"glyph\":{\"id\":\"6454\"},\"hover_glyph\":null,\"muted_glyph\":null,\"name\":\"show_hover\",\"nonselection_glyph\":{\"id\":\"6455\"},\"view\":{\"id\":\"6457\"}},\"id\":\"6456\",\"type\":\"GlyphRenderer\"},{\"attributes\":{},\"id\":\"6692\",\"type\":\"Title\"},{\"attributes\":{},\"id\":\"6702\",\"type\":\"Selection\"},{\"attributes\":{},\"id\":\"6431\",\"type\":\"BasicTicker\"},{\"attributes\":{},\"id\":\"6703\",\"type\":\"UnionRenderers\"},{\"attributes\":{\"callback\":null,\"formatters\":{\"betweenness\":\"printf\",\"closeness\":\"printf\",\"degree\":\"printf\",\"eigenvector\":\"printf\",\"firstname\":\"printf\",\"lastname\":\"printf\",\"mark\":\"printf\",\"node\":\"printf\"},\"names\":[\"show_hover\"],\"tooltips\":[[\"node\",\"@_node\"],[\"betweenness\",\"@betweenness\"],[\"closeness\",\"@closeness\"],[\"degree\",\"@degree\"],[\"eigenvector\",\"@eigenvector\"],[\"firstname\",\"@firstname\"],[\"lastname\",\"@lastname\"],[\"mark\",\"@mark\"]]},\"id\":\"6416\",\"type\":\"HoverTool\"},{\"attributes\":{},\"id\":\"6437\",\"type\":\"PanTool\"},{\"attributes\":{\"data_source\":{\"id\":\"6446\"},\"glyph\":{\"id\":\"6448\"},\"hover_glyph\":null,\"muted_glyph\":null,\"nonselection_glyph\":{\"id\":\"6449\"},\"view\":{\"id\":\"6451\"}},\"id\":\"6450\",\"type\":\"GlyphRenderer\"},{\"attributes\":{},\"id\":\"6694\",\"type\":\"BasicTickFormatter\"},{\"attributes\":{},\"id\":\"6696\",\"type\":\"AllLabels\"},{\"attributes\":{\"data\":{\"_colormap\":[\"#440154\",\"#440154\",\"#30678D\",\"#30678D\",\"#30678D\",\"#440154\",\"#35B778\",\"#35B778\",\"#FDE724\"],\"_node\":[1,2,3,4,5,6,7,8,9],\"betweenness\":[0.0,0.0,0.08928571428571427,0.2857142857142857,0.25,0.0,0.0,0.017857142857142856,0.0],\"closeness\":[0.7272727272727273,0.7272727272727273,0.8,0.8888888888888888,0.8,0.7272727272727273,0.5333333333333333,0.5714285714285714,0.47058823529411764],\"degree\":[0.625,0.625,0.75,0.875,0.75,0.625,0.25,0.375,0.125],\"eigenvector\":[0.38194595533564546,0.38194595533564546,0.41131833214305147,0.4301088904847158,0.39401910999755474,0.38194595533564546,0.11715036899614967,0.1831238027526583,0.07527176391911398],\"firstname\":[\"Lukas\",\"Chris\",\"Said\",\"Raphael\",\"Oliver\",\"Jan\",\"Sebastian\",\"Daniel\",\"Carsten\"],\"lastname\":[\"Erhard\",\"Koss\",\"Unger\",\"Heiberger\",\"Wieczorek\",\"Riebling\",\"Munoz-Najar Galvez\",\"McFarland\",\"Schwemmer\"],\"mark\":[0,0,1,1,2,0,1,1,2],\"xs\":[0.39223112369617524,0.1674169361506759,-0.10810074752385868,-0.004005588652386393,0.025972075154650578,0.29442541987603416,-0.24919682880595048,-0.4096211276149114,-0.10912126228042963],\"ys\":[-0.11781799385434492,-0.17207329110307668,0.01289931009331555,0.25243262876964123,-0.3736665285412783,0.10477473265402276,0.8239180469665677,0.46953309501515283,-1.0]},\"selected\":{\"id\":\"6702\"},\"selection_policy\":{\"id\":\"6703\"}},\"id\":\"6452\",\"type\":\"ColumnDataSource\"},{\"attributes\":{},\"id\":\"6422\",\"type\":\"LinearScale\"},{\"attributes\":{},\"id\":\"6436\",\"type\":\"WheelZoomTool\"},{\"attributes\":{\"source\":{\"id\":\"6452\"}},\"id\":\"6457\",\"type\":\"CDSView\"},{\"attributes\":{},\"id\":\"6418\",\"type\":\"DataRange1d\"},{\"attributes\":{},\"id\":\"6697\",\"type\":\"BasicTickFormatter\"},{\"attributes\":{},\"id\":\"6420\",\"type\":\"DataRange1d\"},{\"attributes\":{\"axis\":{\"id\":\"6430\"},\"dimension\":1,\"grid_line_color\":null,\"ticker\":null},\"id\":\"6433\",\"type\":\"Grid\"},{\"attributes\":{},\"id\":\"6699\",\"type\":\"AllLabels\"},{\"attributes\":{\"line_alpha\":{\"value\":0.1},\"line_color\":{\"value\":\"navy\"},\"xs\":{\"field\":\"xs\"},\"ys\":{\"field\":\"ys\"}},\"id\":\"6449\",\"type\":\"MultiLine\"},{\"attributes\":{\"formatter\":{\"id\":\"6694\"},\"major_label_policy\":{\"id\":\"6696\"},\"ticker\":{\"id\":\"6427\"},\"visible\":false},\"id\":\"6426\",\"type\":\"LinearAxis\"},{\"attributes\":{\"overlay\":{\"id\":\"6438\"}},\"id\":\"6434\",\"type\":\"BoxZoomTool\"},{\"attributes\":{\"active_multi\":null,\"logo\":null,\"tools\":[{\"id\":\"6416\"},{\"id\":\"6434\"},{\"id\":\"6435\"},{\"id\":\"6436\"},{\"id\":\"6437\"}]},\"id\":\"6439\",\"type\":\"Toolbar\"},{\"attributes\":{},\"id\":\"6700\",\"type\":\"Selection\"},{\"attributes\":{\"axis\":{\"id\":\"6426\"},\"grid_line_color\":null,\"ticker\":null},\"id\":\"6429\",\"type\":\"Grid\"},{\"attributes\":{\"line_alpha\":{\"value\":0.5},\"line_color\":{\"value\":\"navy\"},\"xs\":{\"field\":\"xs\"},\"ys\":{\"field\":\"ys\"}},\"id\":\"6448\",\"type\":\"MultiLine\"},{\"attributes\":{\"fill_alpha\":{\"value\":0.1},\"fill_color\":{\"field\":\"_colormap\"},\"line_alpha\":{\"value\":0.1},\"line_color\":{\"field\":\"_colormap\"},\"size\":{\"value\":25},\"x\":{\"field\":\"xs\"},\"y\":{\"field\":\"ys\"}},\"id\":\"6455\",\"type\":\"Circle\"},{\"attributes\":{},\"id\":\"6701\",\"type\":\"UnionRenderers\"},{\"attributes\":{\"fill_alpha\":{\"value\":0.7},\"fill_color\":{\"field\":\"_colormap\"},\"line_alpha\":{\"value\":0.7},\"line_color\":{\"field\":\"_colormap\"},\"size\":{\"value\":25},\"x\":{\"field\":\"xs\"},\"y\":{\"field\":\"ys\"}},\"id\":\"6454\",\"type\":\"Circle\"},{\"attributes\":{\"formatter\":{\"id\":\"6697\"},\"major_label_policy\":{\"id\":\"6699\"},\"ticker\":{\"id\":\"6431\"},\"visible\":false},\"id\":\"6430\",\"type\":\"LinearAxis\"},{\"attributes\":{},\"id\":\"6427\",\"type\":\"BasicTicker\"},{\"attributes\":{},\"id\":\"6424\",\"type\":\"LinearScale\"},{\"attributes\":{\"bottom_units\":\"screen\",\"fill_alpha\":0.5,\"fill_color\":\"lightgrey\",\"left_units\":\"screen\",\"level\":\"overlay\",\"line_alpha\":1.0,\"line_color\":\"black\",\"line_dash\":[4,4],\"line_width\":2,\"right_units\":\"screen\",\"syncable\":false,\"top_units\":\"screen\"},\"id\":\"6438\",\"type\":\"BoxAnnotation\"},{\"attributes\":{\"data\":{\"xs\":[[0.39223112369617524,0.1674169361506759],[0.39223112369617524,-0.10810074752385868],[0.39223112369617524,-0.004005588652386393],[0.39223112369617524,0.025972075154650578],[0.39223112369617524,0.29442541987603416],[0.1674169361506759,-0.10810074752385868],[0.1674169361506759,-0.004005588652386393],[0.1674169361506759,0.025972075154650578],[0.1674169361506759,0.29442541987603416],[-0.10810074752385868,-0.004005588652386393],[-0.10810074752385868,0.025972075154650578],[-0.10810074752385868,0.29442541987603416],[-0.10810074752385868,-0.4096211276149114],[-0.004005588652386393,0.025972075154650578],[-0.004005588652386393,0.29442541987603416],[-0.004005588652386393,-0.24919682880595048],[-0.004005588652386393,-0.4096211276149114],[0.025972075154650578,0.29442541987603416],[0.025972075154650578,-0.10912126228042963],[-0.24919682880595048,-0.4096211276149114]],\"ys\":[[-0.11781799385434492,-0.17207329110307668],[-0.11781799385434492,0.01289931009331555],[-0.11781799385434492,0.25243262876964123],[-0.11781799385434492,-0.3736665285412783],[-0.11781799385434492,0.10477473265402276],[-0.17207329110307668,0.01289931009331555],[-0.17207329110307668,0.25243262876964123],[-0.17207329110307668,-0.3736665285412783],[-0.17207329110307668,0.10477473265402276],[0.01289931009331555,0.25243262876964123],[0.01289931009331555,-0.3736665285412783],[0.01289931009331555,0.10477473265402276],[0.01289931009331555,0.46953309501515283],[0.25243262876964123,-0.3736665285412783],[0.25243262876964123,0.10477473265402276],[0.25243262876964123,0.8239180469665677],[0.25243262876964123,0.46953309501515283],[-0.3736665285412783,0.10477473265402276],[-0.3736665285412783,-1.0],[0.8239180469665677,0.46953309501515283]]},\"selected\":{\"id\":\"6700\"},\"selection_policy\":{\"id\":\"6701\"}},\"id\":\"6446\",\"type\":\"ColumnDataSource\"},{\"attributes\":{\"source\":{\"id\":\"6446\"}},\"id\":\"6451\",\"type\":\"CDSView\"},{\"attributes\":{},\"id\":\"6435\",\"type\":\"ResetTool\"}],\"root_ids\":[\"6417\"]},\"title\":\"Bokeh Application\",\"version\":\"2.3.3\"}};\n",
       "  var render_items = [{\"docid\":\"aea6cad3-bac1-413c-a9bd-1d153645d7d8\",\"root_ids\":[\"6417\"],\"roots\":{\"6417\":\"03014926-eecd-484b-aa5b-c15df2de96ab\"}}];\n",
       "  root.Bokeh.embed.embed_items_notebook(docs_json, render_items);\n",
       "\n",
       "  }\n",
       "  if (root.Bokeh !== undefined) {\n",
       "    embed_document(root);\n",
       "  } else {\n",
       "    var attempts = 0;\n",
       "    var timer = setInterval(function(root) {\n",
       "      if (root.Bokeh !== undefined) {\n",
       "        clearInterval(timer);\n",
       "        embed_document(root);\n",
       "      } else {\n",
       "        attempts++;\n",
       "        if (attempts > 100) {\n",
       "          clearInterval(timer);\n",
       "          console.log(\"Bokeh: ERROR: Unable to run BokehJS code because BokehJS library is missing\");\n",
       "        }\n",
       "      }\n",
       "    }, 10, root)\n",
       "  }\n",
       "})(window);"
      ],
      "application/vnd.bokehjs_exec.v0+json": ""
     },
     "metadata": {
      "application/vnd.bokehjs_exec.v0+json": {
       "id": "6417"
      }
     },
     "output_type": "display_data"
    }
   ],
   "source": [
    "# Hier wird in der \"draw\" Funktion angegeben, dass die nodes nach\n",
    "# closeness centrality eingefärbt werden sollen\n",
    "plot = BokehGraph(comp, width=1024, height=768, inline=False)\n",
    "plot._layout = lay\n",
    "plot.draw(\n",
    "    color_by=\"closeness\", palette=\"viridis\",\n",
    "    edge_alpha=0.5, max_colors=5, node_size=25\n",
    ")"
   ]
  },
  {
   "cell_type": "code",
   "execution_count": null,
   "id": "eae29dc0",
   "metadata": {
    "slideshow": {
     "slide_type": "subslide"
    }
   },
   "outputs": [],
   "source": [
    "# degree centrality statt closeness centrality plotten\n",
    "plot._layout = lay\n",
    "plot.draw(\n",
    "    color_by=\"degree\", palette=\"viridis\",\n",
    "    edge_alpha=0.5, max_colors=5, node_size=25\n",
    ")"
   ]
  },
  {
   "cell_type": "code",
   "execution_count": null,
   "id": "00cbf407",
   "metadata": {
    "slideshow": {
     "slide_type": "subslide"
    }
   },
   "outputs": [],
   "source": [
    "# betweenness\n",
    "plot._layout = lay\n",
    "plot.draw(\n",
    "    color_by=\"betweenness\", palette=\"viridis\",\n",
    "    edge_alpha=0.5, max_colors=5, node_size=25\n",
    ")"
   ]
  },
  {
   "cell_type": "code",
   "execution_count": null,
   "id": "e93ffbf9",
   "metadata": {
    "slideshow": {
     "slide_type": "subslide"
    }
   },
   "outputs": [],
   "source": [
    "# eigenvector\n",
    "plot._layout = lay\n",
    "plot.draw(\n",
    "    color_by=\"eigenvector\", palette=\"viridis\",\n",
    "    edge_alpha=0.5, max_colors=5, node_size=25\n",
    ")"
   ]
  },
  {
   "cell_type": "markdown",
   "id": "d8ec3b25",
   "metadata": {
    "slideshow": {
     "slide_type": "slide"
    }
   },
   "source": [
    "**Theorie - Netzwerke**\n",
    "\n",
    "---\n",
    "## Kennzahlen auf Netzwerkebene\n",
    "- Größe\n",
    "- Dichte\n",
    "- Cluster"
   ]
  },
  {
   "cell_type": "code",
   "execution_count": null,
   "id": "344bbe64",
   "metadata": {
    "slideshow": {
     "slide_type": "-"
    }
   },
   "outputs": [
    {
     "name": "stdout",
     "output_type": "stream",
     "text": [
      "Node Size                      | 9\n",
      "Edge Size                      | 20\n",
      "Network Density                | 0.5555555555555556\n",
      "Average Clustering Coefficient | 0.7375661375661376\n"
     ]
    }
   ],
   "source": [
    "# Funktionen für die erwähnten Kennzahlen\n",
    "nodesize = len(comp.nodes())\n",
    "edgesize = comp.size()\n",
    "den = nx.density(comp)\n",
    "clust = nx.average_clustering(comp)\n",
    "\n",
    "# Kennzahlen anzeigen\n",
    "print('Node Size                      |', nodesize)\n",
    "print('Edge Size                      |', edgesize)\n",
    "print('Network Density                |', den)\n",
    "print('Average Clustering Coefficient |', clust)"
   ]
  },
  {
   "cell_type": "markdown",
   "id": "5259dd5c",
   "metadata": {
    "slideshow": {
     "slide_type": "slide"
    }
   },
   "source": [
    "**Theorie - Netzwerke**\n",
    "\n",
    "---\n",
    "## Besondere Netzwerke\n",
    "- *Scale Free Networks* / *Preferential Attachment*\n",
    "    - [Barabasi & Albert, 1999](https://science.sciencemag.org/content/286/5439/509)\n",
    "    - Matthäus Effekt\n",
    "- *Small World Networks* / *Six Degrees of Separation*\n",
    "    - [Watts & Strogatz, 1998](https://www.nature.com/articles/30918)\n",
    "    - [Milgram, 1967](http://files.diario-de-bordo-redes-conecti.webnode.com/200000013-211982212c/AN%20EXPERIMENTAL%20STUDY%20by%20Travers%20and%20Milgram.pdf)\n",
    "    - Erreichbarkeit"
   ]
  },
  {
   "cell_type": "markdown",
   "id": "4f93755b",
   "metadata": {
    "slideshow": {
     "slide_type": "subslide"
    }
   },
   "source": [
    "Barabasi-Albert Graph mit **10** Nodes und jeweils einem edge:"
   ]
  },
  {
   "cell_type": "code",
   "execution_count": null,
   "id": "97b5052d",
   "metadata": {
    "slideshow": {
     "slide_type": "-"
    }
   },
   "outputs": [],
   "source": [
    "# spezielle Algorithmen zur Generierung spezieller Netzwerke importieren\n",
    "from networkx.generators import barabasi_albert_graph, connected_watts_strogatz_graph\n",
    "\n",
    "# Barabasi-Albert-Graph mit 10 nodes und jeweils einem edge generieren\n",
    "bag = barabasi_albert_graph(10, 1)\n",
    "\n",
    "# plotten\n",
    "plot = BokehGraph(bag, width=1024, height=768, inline=False)\n",
    "plot.layout()\n",
    "plot.draw(\n",
    "    edge_alpha=0.5, max_colors=5, node_size=25\n",
    ")"
   ]
  },
  {
   "cell_type": "markdown",
   "id": "8ff2b841",
   "metadata": {
    "slideshow": {
     "slide_type": "subslide"
    }
   },
   "source": [
    "Barabasi-Albert Graph mit **100** Nodes und jeweils einem edge:"
   ]
  },
  {
   "cell_type": "code",
   "execution_count": null,
   "id": "091a3325",
   "metadata": {
    "slideshow": {
     "slide_type": "-"
    }
   },
   "outputs": [],
   "source": [
    "# Diesmal mit 100 nodes\n",
    "bag = barabasi_albert_graph(100, 1)\n",
    "\n",
    "plot = BokehGraph(bag, width=1024, height=768, inline=False)\n",
    "plot.layout()\n",
    "plot.draw(\n",
    "    edge_alpha=0.5, max_colors=5, node_size=25\n",
    ")"
   ]
  },
  {
   "cell_type": "code",
   "execution_count": null,
   "id": "65f8ba13",
   "metadata": {
    "slideshow": {
     "slide_type": "subslide"
    }
   },
   "outputs": [
    {
     "data": {
      "text/html": [
       "\n",
       "<div id=\"altair-viz-3257ac947db744b3bd8d6ff26b3b51a4\"></div>\n",
       "<script type=\"text/javascript\">\n",
       "  (function(spec, embedOpt){\n",
       "    let outputDiv = document.currentScript.previousElementSibling;\n",
       "    if (outputDiv.id !== \"altair-viz-3257ac947db744b3bd8d6ff26b3b51a4\") {\n",
       "      outputDiv = document.getElementById(\"altair-viz-3257ac947db744b3bd8d6ff26b3b51a4\");\n",
       "    }\n",
       "    const paths = {\n",
       "      \"vega\": \"https://cdn.jsdelivr.net/npm//vega@5?noext\",\n",
       "      \"vega-lib\": \"https://cdn.jsdelivr.net/npm//vega-lib?noext\",\n",
       "      \"vega-lite\": \"https://cdn.jsdelivr.net/npm//vega-lite@4.8.1?noext\",\n",
       "      \"vega-embed\": \"https://cdn.jsdelivr.net/npm//vega-embed@6?noext\",\n",
       "    };\n",
       "\n",
       "    function loadScript(lib) {\n",
       "      return new Promise(function(resolve, reject) {\n",
       "        var s = document.createElement('script');\n",
       "        s.src = paths[lib];\n",
       "        s.async = true;\n",
       "        s.onload = () => resolve(paths[lib]);\n",
       "        s.onerror = () => reject(`Error loading script: ${paths[lib]}`);\n",
       "        document.getElementsByTagName(\"head\")[0].appendChild(s);\n",
       "      });\n",
       "    }\n",
       "\n",
       "    function showError(err) {\n",
       "      outputDiv.innerHTML = `<div class=\"error\" style=\"color:red;\">${err}</div>`;\n",
       "      throw err;\n",
       "    }\n",
       "\n",
       "    function displayChart(vegaEmbed) {\n",
       "      vegaEmbed(outputDiv, spec, embedOpt)\n",
       "        .catch(err => showError(`Javascript Error: ${err.message}<br>This usually means there's a typo in your chart specification. See the javascript console for the full traceback.`));\n",
       "    }\n",
       "\n",
       "    if(typeof define === \"function\" && define.amd) {\n",
       "      requirejs.config({paths});\n",
       "      require([\"vega-embed\"], displayChart, err => showError(`Error loading script: ${err.message}`));\n",
       "    } else if (typeof vegaEmbed === \"function\") {\n",
       "      displayChart(vegaEmbed);\n",
       "    } else {\n",
       "      loadScript(\"vega\")\n",
       "        .then(() => loadScript(\"vega-lite\"))\n",
       "        .then(() => loadScript(\"vega-embed\"))\n",
       "        .catch(showError)\n",
       "        .then(() => displayChart(vegaEmbed));\n",
       "    }\n",
       "  })({\"config\": {\"view\": {\"continuousWidth\": 400, \"continuousHeight\": 300}}, \"data\": {\"name\": \"data-9fc6ae490d8a2bc5a29a6fdf55630f91\"}, \"mark\": \"bar\", \"encoding\": {\"x\": {\"type\": \"quantitative\", \"field\": \"degree\"}, \"y\": {\"type\": \"quantitative\", \"aggregate\": \"count\"}}, \"$schema\": \"https://vega.github.io/schema/vega-lite/v4.8.1.json\", \"datasets\": {\"data-9fc6ae490d8a2bc5a29a6fdf55630f91\": [{\"node\": 0, \"degree\": 5}, {\"node\": 1, \"degree\": 26}, {\"node\": 2, \"degree\": 2}, {\"node\": 3, \"degree\": 11}, {\"node\": 4, \"degree\": 4}, {\"node\": 5, \"degree\": 7}, {\"node\": 6, \"degree\": 5}, {\"node\": 7, \"degree\": 1}, {\"node\": 8, \"degree\": 3}, {\"node\": 9, \"degree\": 2}, {\"node\": 10, \"degree\": 6}, {\"node\": 11, \"degree\": 1}, {\"node\": 12, \"degree\": 2}, {\"node\": 13, \"degree\": 1}, {\"node\": 14, \"degree\": 1}, {\"node\": 15, \"degree\": 2}, {\"node\": 16, \"degree\": 3}, {\"node\": 17, \"degree\": 3}, {\"node\": 18, \"degree\": 1}, {\"node\": 19, \"degree\": 2}, {\"node\": 20, \"degree\": 2}, {\"node\": 21, \"degree\": 3}, {\"node\": 22, \"degree\": 1}, {\"node\": 23, \"degree\": 1}, {\"node\": 24, \"degree\": 1}, {\"node\": 25, \"degree\": 4}, {\"node\": 26, \"degree\": 1}, {\"node\": 27, \"degree\": 3}, {\"node\": 28, \"degree\": 1}, {\"node\": 29, \"degree\": 1}, {\"node\": 30, \"degree\": 1}, {\"node\": 31, \"degree\": 1}, {\"node\": 32, \"degree\": 1}, {\"node\": 33, \"degree\": 3}, {\"node\": 34, \"degree\": 1}, {\"node\": 35, \"degree\": 2}, {\"node\": 36, \"degree\": 1}, {\"node\": 37, \"degree\": 8}, {\"node\": 38, \"degree\": 1}, {\"node\": 39, \"degree\": 4}, {\"node\": 40, \"degree\": 2}, {\"node\": 41, \"degree\": 1}, {\"node\": 42, \"degree\": 1}, {\"node\": 43, \"degree\": 1}, {\"node\": 44, \"degree\": 1}, {\"node\": 45, \"degree\": 1}, {\"node\": 46, \"degree\": 2}, {\"node\": 47, \"degree\": 3}, {\"node\": 48, \"degree\": 1}, {\"node\": 49, \"degree\": 1}, {\"node\": 50, \"degree\": 2}, {\"node\": 51, \"degree\": 1}, {\"node\": 52, \"degree\": 1}, {\"node\": 53, \"degree\": 1}, {\"node\": 54, \"degree\": 1}, {\"node\": 55, \"degree\": 1}, {\"node\": 56, \"degree\": 1}, {\"node\": 57, \"degree\": 1}, {\"node\": 58, \"degree\": 1}, {\"node\": 59, \"degree\": 2}, {\"node\": 60, \"degree\": 1}, {\"node\": 61, \"degree\": 1}, {\"node\": 62, \"degree\": 1}, {\"node\": 63, \"degree\": 1}, {\"node\": 64, \"degree\": 2}, {\"node\": 65, \"degree\": 1}, {\"node\": 66, \"degree\": 1}, {\"node\": 67, \"degree\": 1}, {\"node\": 68, \"degree\": 1}, {\"node\": 69, \"degree\": 1}, {\"node\": 70, \"degree\": 2}, {\"node\": 71, \"degree\": 1}, {\"node\": 72, \"degree\": 1}, {\"node\": 73, \"degree\": 1}, {\"node\": 74, \"degree\": 1}, {\"node\": 75, \"degree\": 1}, {\"node\": 76, \"degree\": 1}, {\"node\": 77, \"degree\": 1}, {\"node\": 78, \"degree\": 1}, {\"node\": 79, \"degree\": 1}, {\"node\": 80, \"degree\": 1}, {\"node\": 81, \"degree\": 1}, {\"node\": 82, \"degree\": 1}, {\"node\": 83, \"degree\": 2}, {\"node\": 84, \"degree\": 1}, {\"node\": 85, \"degree\": 1}, {\"node\": 86, \"degree\": 1}, {\"node\": 87, \"degree\": 1}, {\"node\": 88, \"degree\": 1}, {\"node\": 89, \"degree\": 1}, {\"node\": 90, \"degree\": 1}, {\"node\": 91, \"degree\": 1}, {\"node\": 92, \"degree\": 1}, {\"node\": 93, \"degree\": 1}, {\"node\": 94, \"degree\": 1}, {\"node\": 95, \"degree\": 1}, {\"node\": 96, \"degree\": 1}, {\"node\": 97, \"degree\": 1}, {\"node\": 98, \"degree\": 1}, {\"node\": 99, \"degree\": 1}]}}, {\"mode\": \"vega-lite\"});\n",
       "</script>"
      ],
      "text/plain": [
       "alt.Chart(...)"
      ]
     },
     "execution_count": null,
     "metadata": {},
     "output_type": "execute_result"
    }
   ],
   "source": [
    "# Module pandas und altair importieren\n",
    "import pandas as pd\n",
    "import altair as alt\n",
    "\n",
    "# pandas dataframe aus dem degree dictionary erstellen\n",
    "deg_frame = pd.DataFrame(bag.degree(), columns=['node', 'degree'])\n",
    "\n",
    "# einfaches Histogramm plotten\n",
    "alt.Chart(deg_frame).mark_bar().encode(\n",
    "    alt.X(\"degree:Q\"),\n",
    "    y='count()',\n",
    ")"
   ]
  },
  {
   "cell_type": "markdown",
   "id": "611e4316",
   "metadata": {
    "slideshow": {
     "slide_type": "slide"
    }
   },
   "source": [
    "Watts-Strogatz Graph"
   ]
  },
  {
   "cell_type": "code",
   "execution_count": null,
   "id": "2dddc686",
   "metadata": {
    "slideshow": {
     "slide_type": "-"
    }
   },
   "outputs": [],
   "source": [
    "# mit der Funktion \"connected_watts_strogatz_graph\" ein Graph Objekt\n",
    "# mit 50 nodes, jeweils zwei Nachbarschaftsedges und einer \n",
    "# Neuverbindungswahrscheinlichkeit von 10% (p=0.1) initialisieren\n",
    "wsg = connected_watts_strogatz_graph(50, 2, 0.1)"
   ]
  },
  {
   "cell_type": "code",
   "execution_count": null,
   "id": "da26ca09",
   "metadata": {},
   "outputs": [],
   "source": [
    "# plotten\n",
    "plot = BokehGraph(wsg, width=1920, height=1080, inline=False)\n",
    "plot.layout(layout=nx.fruchterman_reingold_layout(wsg))\n",
    "plot.draw(\n",
    "    edge_alpha=0.5, max_colors=5, node_size=25\n",
    ")"
   ]
  },
  {
   "cell_type": "code",
   "execution_count": null,
   "id": "6895f5c4",
   "metadata": {
    "slideshow": {
     "slide_type": "-"
    }
   },
   "outputs": [],
   "source": [
    "# plotten\n",
    "plot = BokehGraph(wsg, width=1920, height=1080, inline=False)\n",
    "plot.layout(layout=nx.circular_layout(wsg))\n",
    "plot.draw(\n",
    "    edge_alpha=0.5, max_colors=5, node_size=25\n",
    ")"
   ]
  },
  {
   "cell_type": "code",
   "execution_count": null,
   "id": "3d532723",
   "metadata": {
    "slideshow": {
     "slide_type": "subslide"
    }
   },
   "outputs": [],
   "source": [
    "# p=0.5\n",
    "wsg = connected_watts_strogatz_graph(50, 2, 0.5)\n",
    "\n",
    "# plotten (circular layout)\n",
    "plot = BokehGraph(wsg, width=1920, height=1080, inline=False)\n",
    "plot.layout(layout=nx.circular_layout(wsg))\n",
    "plot.draw(\n",
    "    edge_alpha=0.5, max_colors=5, node_size=25\n",
    ")"
   ]
  },
  {
   "cell_type": "code",
   "execution_count": null,
   "id": "701b63d5",
   "metadata": {
    "slideshow": {
     "slide_type": "-"
    }
   },
   "outputs": [],
   "source": [
    "# plotten (F-R layout)\n",
    "plot = BokehGraph(wsg, width=1920, height=1080, inline=False)\n",
    "plot.layout(layout=nx.fruchterman_reingold_layout(wsg))\n",
    "plot.draw(\n",
    "    edge_alpha=0.5, max_colors=5, node_size=25\n",
    ")"
   ]
  },
  {
   "cell_type": "markdown",
   "id": "289cfedc",
   "metadata": {
    "slideshow": {
     "slide_type": "slide"
    }
   },
   "source": [
    "**Theorie - Netzwerke**\n",
    "\n",
    "---\n",
    "### Was ist das besondere an der Netzwerkperspektive\n",
    "- Einbettung von Akteuren in Netzwerke\n",
    "- Abhängigkeit der Beobachtungen voneinander"
   ]
  },
  {
   "cell_type": "markdown",
   "id": "cba2c20e",
   "metadata": {
    "slideshow": {
     "slide_type": "slide"
    }
   },
   "source": [
    "**Theorie - Netzwerke**\n",
    "\n",
    "---\n",
    "###  Weitere Mechanismen\n",
    "- Transitivität / Triadische Schließung\n",
    "- Reziprozität\n",
    "- Homophilie\n",
    "    - [McPherson et al., 2001](https://www.annualreviews.org/doi/abs/10.1146/annurev.soc.27.1.415)\n",
    "- *Strength of weak ties*\n",
    "    - [Granovetter, Mark S., 1973](https://www.jstor.org/stable/2776392)\n",
    "- *Structural holes*\n",
    "    - [Burt, Ronald S., 2004](https://www.jstor.org/stable/10.1086/421787?seq=1#metadata_info_tab_contents)"
   ]
  },
  {
   "cell_type": "markdown",
   "id": "1b07ec22",
   "metadata": {
    "slideshow": {
     "slide_type": "slide"
    }
   },
   "source": [
    "**Theorie - Netzwerke**\n",
    "\n",
    "---\n",
    "## Community Detection\n",
    "- verschiedene Algorithmen\n",
    "    - *Modularity*\n",
    "    - *k-Cliques*\n",
    "    - ...\n",
    "- Idee: Communities haben innerhalb mehr *edges* als außerhalb"
   ]
  },
  {
   "cell_type": "code",
   "execution_count": null,
   "id": "f9b875d8",
   "metadata": {},
   "outputs": [],
   "source": [
    "# community detection Algorithmen von networkx importieren\n",
    "from networkx.algorithms import community\n",
    "\n",
    "# wir benutzen einen modularity alorithmus\n",
    "communities = community.naive_greedy_modularity_communities(comp)"
   ]
  },
  {
   "cell_type": "code",
   "execution_count": null,
   "id": "973db51d",
   "metadata": {},
   "outputs": [
    {
     "data": {
      "text/plain": [
       "[frozenset({1, 2, 3, 5, 6, 9}), frozenset({4, 7, 8})]"
      ]
     },
     "execution_count": null,
     "metadata": {},
     "output_type": "execute_result"
    }
   ],
   "source": [
    "communities"
   ]
  },
  {
   "cell_type": "code",
   "execution_count": null,
   "id": "8997c4a9",
   "metadata": {
    "slideshow": {
     "slide_type": "subslide"
    }
   },
   "outputs": [],
   "source": [
    "# Zuweisung der nodes zu den communities\n",
    "\n",
    "com_dict = {}\n",
    "com_number = 0\n",
    "for com in communities:\n",
    "    com_number += 1\n",
    "    for node in com:\n",
    "        com_dict[node] = com_number"
   ]
  },
  {
   "cell_type": "code",
   "execution_count": null,
   "id": "3dd66f0d",
   "metadata": {},
   "outputs": [
    {
     "name": "stdout",
     "output_type": "stream",
     "text": [
      "{1: 1, 2: 1, 3: 1, 5: 1, 6: 1, 9: 1, 8: 2, 4: 2, 7: 2}\n"
     ]
    }
   ],
   "source": [
    "print(com_dict)"
   ]
  },
  {
   "cell_type": "code",
   "execution_count": null,
   "id": "e01a2712",
   "metadata": {},
   "outputs": [],
   "source": [
    "# Zuweisung im Graph Objekt\n",
    "nx.set_node_attributes(comp, name='community', values=com_dict)"
   ]
  },
  {
   "cell_type": "code",
   "execution_count": null,
   "id": "19cb6907",
   "metadata": {
    "slideshow": {
     "slide_type": "subslide"
    }
   },
   "outputs": [],
   "source": [
    "# Plotten, mit unterschieldichen Farben für unterschiedliche communities\n",
    "plot = BokehGraph(comp, width=1024, height=768, inline=False)\n",
    "plot.layout()\n",
    "plot.draw(\n",
    "    color_by=\"community\", palette=\"viridis\",\n",
    "    edge_alpha=0.5, max_colors=5, node_size=25\n",
    ")"
   ]
  }
 ],
 "metadata": {
  "celltoolbar": "Slideshow",
  "kernelspec": {
   "display_name": "Python [conda env:abd_workshop_2021] *",
   "language": "python",
   "name": "conda-env-abd_workshop_2021-py"
  },
  "language_info": {
   "codemirror_mode": {
    "name": "ipython",
    "version": 3
   },
   "file_extension": ".py",
   "mimetype": "text/x-python",
   "name": "python",
   "nbconvert_exporter": "python",
   "pygments_lexer": "ipython3",
   "version": "3.8.11"
  }
 },
 "nbformat": 4,
 "nbformat_minor": 5
}
