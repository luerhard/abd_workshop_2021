{
 "cells": [
  {
   "cell_type": "markdown",
   "id": "7c0a398f",
   "metadata": {
    "slideshow": {
     "slide_type": "slide"
    }
   },
   "source": [
    "**Netzwerke - Hands-On**\n",
    "\n",
    "---\n",
    "## Gliederung:\n",
    "- Setup\n",
    "- Netzwerkerstellung\n",
    "- Bereinigung und *largest connected component*\n",
    "- Maßzahlen\n",
    "- Grafische Darstellung\n",
    "- Communities"
   ]
  },
  {
   "cell_type": "markdown",
   "id": "69dee22e-af65-41a4-abcf-d597cd599485",
   "metadata": {
    "slideshow": {
     "slide_type": "slide"
    }
   },
   "source": [
    "**Netzwerke - Hands-On**\n",
    "\n",
    "---\n",
    "## Imports und Setup"
   ]
  },
  {
   "cell_type": "code",
   "execution_count": null,
   "id": "ae3abf19-4807-478f-9e2f-9162552afd9c",
   "metadata": {},
   "outputs": [],
   "source": [
    "import networkx as nx\n",
    "import sqlalchemy as sa\n",
    "from tqdm.notebook import tqdm\n",
    "\n",
    "import src\n",
    "from src.bokeh_graph import BokehGraph\n",
    "from src.connect import create_sqlite_session\n",
    "from src.models import Author"
   ]
  },
  {
   "cell_type": "code",
   "execution_count": null,
   "id": "686f97af-d42c-4cf4-abc1-6f96d14f0495",
   "metadata": {},
   "outputs": [],
   "source": [
    "engine, s = create_sqlite_session(src.PATH / \"data/example.db\")"
   ]
  },
  {
   "cell_type": "markdown",
   "id": "6a8dda99-862e-4525-bc38-d97ee8ba0bcd",
   "metadata": {
    "slideshow": {
     "slide_type": "slide"
    }
   },
   "source": [
    "**Netzwerke - Hands-On**\n",
    "\n",
    "---\n",
    "## Netzwerk Konstruktion"
   ]
  },
  {
   "cell_type": "code",
   "execution_count": null,
   "id": "87cd6a7a-42b8-444d-8746-2213af8d1412",
   "metadata": {},
   "outputs": [
    {
     "data": {
      "text/plain": [
       "Author(pk_authors=507, fullname=Dewitte, S, lastname=Dewitte, firstname=Siegfried, middlename=None, author_group=None, role=author, orcid_id=None, orcid_id_tr=None, r_id=None, r_id_tr=None)"
      ]
     },
     "execution_count": null,
     "metadata": {},
     "output_type": "execute_result"
    }
   ],
   "source": [
    "# Query alle Autoren\n",
    "authors = s.query(Author).options(sa.orm.subqueryload(Author.items))\n",
    "authors[0]"
   ]
  },
  {
   "cell_type": "markdown",
   "id": "969356a6",
   "metadata": {
    "slideshow": {
     "slide_type": "subslide"
    }
   },
   "source": [
    "**Netzwerke - Hands-On**\n",
    "\n",
    "---\n",
    "Funktion `add_node`:\n",
    "- nimmt `author` Objekte und ein `Graph` Objekt\n",
    "- fügt Autor\\*innen dem Netzwerk hinzu"
   ]
  },
  {
   "cell_type": "code",
   "execution_count": null,
   "id": "da92872b-263a-4f6d-8ec2-b68bcac65de7",
   "metadata": {
    "slideshow": {
     "slide_type": "-"
    }
   },
   "outputs": [],
   "source": [
    "def add_node(author, net):\n",
    "    node = author.pk_authors\n",
    "\n",
    "    if not graph.has_node(node):\n",
    "        graph.add_node(\n",
    "            node,\n",
    "            firstname=author.firstname,\n",
    "            lastname=author.lastname,\n",
    "            n_items=len(author.items),\n",
    "        )\n",
    "        \n",
    "    return node"
   ]
  },
  {
   "cell_type": "markdown",
   "id": "7d99086e",
   "metadata": {
    "slideshow": {
     "slide_type": "subslide"
    }
   },
   "source": [
    "**Netzwerke - Hands-On**\n",
    "\n",
    "---\n",
    "- initialisiert ein `graph` Objekt\n",
    "- für jedes `author` Objekt und dessen `coauthor` Objekte wird die `add_node` Funktion durchgeführt"
   ]
  },
  {
   "cell_type": "code",
   "execution_count": null,
   "id": "42e3f4b6-5173-4c2a-96aa-2bc65b12a9cb",
   "metadata": {
    "slideshow": {
     "slide_type": "-"
    }
   },
   "outputs": [
    {
     "data": {
      "application/vnd.jupyter.widget-view+json": {
       "model_id": "37cc51f7410342b09002f696308ef142",
       "version_major": 2,
       "version_minor": 0
      },
      "text/plain": [
       "  0%|          | 0/16546 [00:00<?, ?it/s]"
      ]
     },
     "metadata": {},
     "output_type": "display_data"
    }
   ],
   "source": [
    "graph = nx.Graph()\n",
    "\n",
    "for author in tqdm(authors, total=authors.count()):\n",
    "    # add node if not exists\n",
    "    node = add_node(author, graph)\n",
    "\n",
    "    # add coauthors and edges that do not exist yet\n",
    "    for coauthor in author.coauthors:\n",
    "        co_node = add_node(coauthor, graph)\n",
    "\n",
    "        if not graph.has_edge(node, co_node):\n",
    "            graph.add_edge(node, co_node)"
   ]
  },
  {
   "cell_type": "markdown",
   "id": "5b8a104f-d0e4-429b-b7be-1d6f004200f1",
   "metadata": {
    "slideshow": {
     "slide_type": "slide"
    },
    "tags": []
   },
   "source": [
    "**Netzwerke - Hands-On**\n",
    "\n",
    "---\n",
    "## Bereinigung:\n",
    "- Isolierte *nodes* entfernen\n",
    "- *large connected component* auswählen\n",
    "- Eckdaten prüfen"
   ]
  },
  {
   "cell_type": "code",
   "execution_count": null,
   "id": "df94e386-6692-4821-b1ba-f77d741f4a2f",
   "metadata": {},
   "outputs": [],
   "source": [
    "# Identifikation der isolates\n",
    "isolates = nx.isolates(graph)\n",
    "\n",
    "# Alle nodes die sich in 'isolates' befinden werden entfernt*\n",
    "nodes = list(graph.nodes)\n",
    "for node in nodes:\n",
    "    if node in isolates:\n",
    "        graph.remove_node(node)\n",
    "\n",
    "# _____________________________________________________________\n",
    "# in diesem Netzwerk befinden sich allerdings keine isolates"
   ]
  },
  {
   "cell_type": "code",
   "execution_count": null,
   "id": "0ce54bec-4b43-4db0-8ff5-b10cb1a84272",
   "metadata": {
    "slideshow": {
     "slide_type": "subslide"
    }
   },
   "outputs": [],
   "source": [
    "# Subnetzwerke absteigend nach Anzahl der nodes sortieren\n",
    "largest_components = sorted(nx.connected_components(graph), key=len, reverse=True)\n",
    "\n",
    "# subnetzwerke mit der Funktion 'subgraph' zuweisen\n",
    "lcc = graph.subgraph(largest_components[0])\n",
    "subgraph = graph.subgraph(largest_components[1])"
   ]
  },
  {
   "cell_type": "code",
   "execution_count": null,
   "id": "b691f3c0",
   "metadata": {},
   "outputs": [
    {
     "name": "stdout",
     "output_type": "stream",
     "text": [
      "                 | Gesamt | LCC    | 2ndLCC\n",
      "Anzahl der nodes |  16546 | 8986   | 64\n",
      "Anzahl der edges |  82280 | 65714  | 212\n",
      "Dichte           | 0.0006 | 0.0016 | 0.1052 \n",
      "\n"
     ]
    }
   ],
   "source": [
    "# Einige Eckdaten des Gesamtnetzwerkes, des größten und zweitgrößten component\n",
    "\n",
    "print('                 | Gesamt | LCC    | 2ndLCC')\n",
    "print('Anzahl der nodes | ', len(graph.nodes()), '|', len(lcc.nodes), '  |', len(subgraph))\n",
    "print('Anzahl der edges | ', graph.size(), '|', lcc.size(), ' |', subgraph.size())\n",
    "print('Dichte           |',\n",
    "      round(nx.density(graph), 4), '|',\n",
    "      round(nx.density(lcc), 4), '|',\n",
    "      round(nx.density(subgraph), 4), '\\n')"
   ]
  },
  {
   "cell_type": "code",
   "execution_count": null,
   "id": "dd7399ce",
   "metadata": {
    "slideshow": {
     "slide_type": "subslide"
    }
   },
   "outputs": [],
   "source": [
    "degree = nx.degree(subgraph)\n",
    "cc = nx.closeness_centrality(subgraph)\n",
    "bc = nx.betweenness_centrality(subgraph)\n",
    "ec = nx.eigenvector_centrality(subgraph)\n",
    "\n",
    "degree = dict(degree)\n",
    "nx.set_node_attributes(subgraph, degree, \"degree\")\n",
    "nx.set_node_attributes(subgraph, name='closeness', values=cc)\n",
    "nx.set_node_attributes(subgraph, name='betweenness', values=bc)\n",
    "nx.set_node_attributes(subgraph, name='eigenvector', values=ec)"
   ]
  },
  {
   "cell_type": "markdown",
   "id": "bde5c05a-5ca4-4e32-9145-64ab083ed317",
   "metadata": {
    "slideshow": {
     "slide_type": "slide"
    },
    "tags": []
   },
   "source": [
    "**Netzwerke - Hands-On**\n",
    "\n",
    "---\n",
    "Grafische Darstellung"
   ]
  },
  {
   "cell_type": "code",
   "execution_count": null,
   "id": "b1930c50-8d57-45c0-b49c-dda7ec66417b",
   "metadata": {
    "slideshow": {
     "slide_type": "-"
    }
   },
   "outputs": [],
   "source": [
    "from bokeh.io import output_file\n",
    "\n",
    "(src.PATH / \"tmp\").mkdir(exist_ok=True)\n",
    "output_file(src.PATH / \"tmp/myoutput.html\")"
   ]
  },
  {
   "cell_type": "code",
   "execution_count": null,
   "id": "917ae89c-8df4-400a-a4e3-f707d6ae7f15",
   "metadata": {},
   "outputs": [],
   "source": [
    "plot = BokehGraph(subgraph, width=1920, height=1080, inline=False)\n",
    "\n",
    "import copy\n",
    "plot.layout()\n",
    "lay = copy.deepcopy(plot._layout)"
   ]
  },
  {
   "cell_type": "code",
   "execution_count": null,
   "id": "2adc7d32-1f9d-4224-99e0-c78643bbc2bc",
   "metadata": {},
   "outputs": [],
   "source": [
    "plot.draw(\n",
    "    color_by=\"degree\", palette=\"viridis\",\n",
    "    edge_alpha=0.5, max_colors=6, node_size=25\n",
    ")"
   ]
  },
  {
   "cell_type": "markdown",
   "id": "c241538a",
   "metadata": {
    "slideshow": {
     "slide_type": "slide"
    }
   },
   "source": [
    "![](images/lcc_graph.png)"
   ]
  },
  {
   "cell_type": "markdown",
   "id": "c4acfa3b",
   "metadata": {
    "slideshow": {
     "slide_type": "slide"
    }
   },
   "source": [
    "**Netzwerke - Hands-On**\n",
    "\n",
    "---\n",
    "## \"Echte\" communities"
   ]
  },
  {
   "cell_type": "code",
   "execution_count": null,
   "id": "401bc798",
   "metadata": {},
   "outputs": [],
   "source": [
    "from networkx.algorithms import community\n",
    "\n",
    "communities = community.naive_greedy_modularity_communities(subgraph)"
   ]
  },
  {
   "cell_type": "code",
   "execution_count": null,
   "id": "cf10619b",
   "metadata": {},
   "outputs": [
    {
     "data": {
      "text/plain": [
       "6"
      ]
     },
     "execution_count": null,
     "metadata": {},
     "output_type": "execute_result"
    }
   ],
   "source": [
    "len(communities)"
   ]
  },
  {
   "cell_type": "code",
   "execution_count": null,
   "id": "2fa9aff8",
   "metadata": {
    "slideshow": {
     "slide_type": "subslide"
    }
   },
   "outputs": [
    {
     "data": {
      "application/vnd.jupyter.widget-view+json": {
       "model_id": "473b2c7fef754f11ac54e151e1bfb440",
       "version_major": 2,
       "version_minor": 0
      },
      "text/plain": [
       "  0%|          | 0/6 [00:00<?, ?it/s]"
      ]
     },
     "metadata": {},
     "output_type": "display_data"
    }
   ],
   "source": [
    "com_dict = {}\n",
    "com_number = 0\n",
    "for com in tqdm(communities):\n",
    "    com_number += 1\n",
    "    for node in com:\n",
    "        com_dict[node] = com_number"
   ]
  },
  {
   "cell_type": "code",
   "execution_count": null,
   "id": "ca344fa1",
   "metadata": {},
   "outputs": [],
   "source": [
    "nx.set_node_attributes(subgraph, name='community', values=com_dict)"
   ]
  },
  {
   "cell_type": "code",
   "execution_count": null,
   "id": "117e41b3",
   "metadata": {},
   "outputs": [],
   "source": [
    "plot = BokehGraph(subgraph, width=1920, height=1080, inline=False)\n",
    "plot._layout = lay\n",
    "plot.draw(\n",
    "    color_by=\"community\", palette=\"viridis\",\n",
    "    edge_alpha=0.5, max_colors=6, node_size=25\n",
    ")"
   ]
  },
  {
   "cell_type": "markdown",
   "id": "5abe6c65",
   "metadata": {
    "slideshow": {
     "slide_type": "slide"
    }
   },
   "source": [
    "**Netzwerke - Caveat Emptor**\n",
    "\n",
    "---\n",
    "- Unvollständige Daten\n",
    "    - was passiert wenn wir 1,2,...10...100 nodes zufällig entfernen?\n",
    "    - Dichte, Zentralität, Triaden, Communities, ...\n",
    "    \n",
    "    \n",
    "- Netzwerkdefinition und Netzwerkgrenzen\n",
    "    - Simple Fragen mit möglicherweise komplexen Konsequenzen:\n",
    "        - Wie definieren wir Verbindungen?\n",
    "        - Können wir ein Netzwerk als abgeschlossen betrachten?\n",
    "        \n",
    "        \n",
    "- Wie macht sich das in Koautorschaftsnetzwerken bemerkbar?\n",
    "    - Namens- und Institutionendisambiguierung\n",
    "    - Vollständigkeit der Koautorenlisten\n",
    "    - Welche Netzwerke haben wir letztendlich?"
   ]
  },
  {
   "cell_type": "markdown",
   "id": "ca507145",
   "metadata": {
    "slideshow": {
     "slide_type": "slide"
    }
   },
   "source": [
    "**Netzwerke - Abschluss**\n",
    "\n",
    "---\n",
    "#### Was nützt uns das?\n",
    "- Netzwerkpositionen und Parameter können z.B. anhängige und unabhängige Variablen sein:\n",
    "    - Hängt Zentralität (auch) von Zitationen ab?\n",
    "    - Wie sehr überlappen sich inhaltliche Profile von Autor\\*innen mit *communities*\n",
    "    - Können bestehende *communities* zukünftige inhaltliche Profile bestimmen?\n",
    "    - Wie wirkt sich über die Zeit steigende/sinkende Zentralität auf Erfolg aus?"
   ]
  },
  {
   "cell_type": "markdown",
   "id": "53f458ab",
   "metadata": {
    "slideshow": {
     "slide_type": "slide"
    }
   },
   "source": [
    "**Netzwerke - Abschluss**\n",
    "\n",
    "---\n",
    "## Ausblick:\n",
    "- ergm / tergm\n",
    "- siena"
   ]
  },
  {
   "cell_type": "markdown",
   "id": "fdc257bd",
   "metadata": {
    "slideshow": {
     "slide_type": "slide"
    }
   },
   "source": [
    "**Exkurs - ERGM**\n",
    "\n",
    "---\n",
    "## Exponential Random Graph Models\n",
    "\n",
    "\n",
    "**Idee**\n",
    "- Untersuchung ob edges zwischen zwei nodes existieren oder nicht (vgl. logistische Regression)\n",
    "- Das empirische Netzwerk ist eines unter vielen möglichen Netzwerken (mit der gleichen Anzahl an nodes und edges)"
   ]
  },
  {
   "cell_type": "markdown",
   "id": "bd9531d5",
   "metadata": {
    "slideshow": {
     "slide_type": "subslide"
    }
   },
   "source": [
    "**Exkurs - ERGM**\n",
    "\n",
    "---\n",
    "**Vorgehen**\n",
    "1. Bindungen sind Zufallsvariablen\n",
    "2. Es bestehen möglicherweise Abhängigkeitshypothesen (Homophilie, Triadische Schließung, ...)\n",
    "3. Punkt 2 macht spezifische Modellformen erforderlich\n",
    "4. Vereinfachung von Modellparametern (z.B. durchschnittliche triadische Schließung)\n",
    "5. Modellschätzung\n",
    "\n",
    "&rarr; Wie wahrscheinlich ist es, das empirische Netzwerk unter den gegebenen Bedingungen zu beobachten?"
   ]
  },
  {
   "cell_type": "markdown",
   "id": "673ded61",
   "metadata": {
    "slideshow": {
     "slide_type": "subslide"
    }
   },
   "source": [
    "**Exkurs - ERGM**\n",
    "\n",
    "---\n",
    "### Modellierung\n",
    "\n",
    "- bisher nicht in Python möglich\n",
    "- R package [`ergm`](https://cran.r-project.org/web/packages/ergm/ergm.pdf) (`tergm` für Modellierungen über Zeit, Teil von `statnet`)\n",
    "- es ist möglich diverse Abhängigkeitsparameter aufzunehmen"
   ]
  },
  {
   "cell_type": "markdown",
   "id": "65acc4be",
   "metadata": {
    "slideshow": {
     "slide_type": "slide"
    }
   },
   "source": [
    "**Exkurs - SIENA**\n",
    "\n",
    "---\n",
    "## SIENA*, ein Stochastic Actor Oriented Model (SAOM)\n",
    "\n",
    "**Idee**\n",
    "- Untersuchung der Entscheidung (gerichtete) Verbindungen mit Alteri einzugehen\n",
    "- &rarr; Fokus auf den Handlungen von Akteuren\n",
    "\n",
    "**Besonderheiten**\n",
    "- Auf längsschnittliche Daten ausgelegt\n",
    "- Die Auflösung von edges kann modelliert werden\n",
    "\n",
    "---\n",
    "\\* Simulation Investigation for Empirical Network Analysis"
   ]
  },
  {
   "cell_type": "markdown",
   "id": "07709485",
   "metadata": {
    "slideshow": {
     "slide_type": "subslide"
    }
   },
   "source": [
    "**Exkurs - SIENA**\n",
    "\n",
    "---\n",
    "\n",
    "### Modellierung\n",
    "- ebenfalls nicht mit Python modellierbar\n",
    "- R package [`RSiena`](http://www.stats.ox.ac.uk/~snijders/siena/RSiena_Manual.pdf)"
   ]
  },
  {
   "cell_type": "markdown",
   "id": "3bfcdabb",
   "metadata": {
    "slideshow": {
     "slide_type": "slide"
    }
   },
   "source": [
    "**Fazit Modellierung**\n",
    "\n",
    "---\n",
    "#### \"Es kommt drauf an\"\n",
    "- ergm &rarr; Bindungszentriert\n",
    "- SIENA &rarr; Akteurszentriert\n"
   ]
  },
  {
   "cell_type": "markdown",
   "id": "c7fb2976",
   "metadata": {
    "slideshow": {
     "slide_type": "slide"
    }
   },
   "source": [
    "**Abschluss**\n",
    "\n",
    "---\n",
    "#### Was nützt uns das?\n",
    "- Netzwerkpositionen und Parameter können z.B. anhängige und unabhängige Variablen sein:\n",
    "    - Hängt Zentralität (auch) von Zitationen ab?\n",
    "    - Wie sehr überlappen sich inhaltliche Profile von Autor\\*innen mit *communities*\n",
    "    - Können bestehende *communities* zukünftige inhaltliche Profile bestimmen?\n",
    "    - Wie wirkt sich über die Zeit steigende/sinkende Zentralität auf Erfolg aus?"
   ]
  }
 ],
 "metadata": {
  "celltoolbar": "Slideshow",
  "kernelspec": {
   "display_name": "Python [conda env:abd_workshop_2021] *",
   "language": "python",
   "name": "conda-env-abd_workshop_2021-py"
  },
  "language_info": {
   "codemirror_mode": {
    "name": "ipython",
    "version": 3
   },
   "file_extension": ".py",
   "mimetype": "text/x-python",
   "name": "python",
   "nbconvert_exporter": "python",
   "pygments_lexer": "ipython3",
   "version": "3.8.11"
  }
 },
 "nbformat": 4,
 "nbformat_minor": 5
}
