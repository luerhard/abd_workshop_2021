{
 "cells": [
  {
   "cell_type": "markdown",
   "id": "82ca3350-da16-4046-8319-e59b5e2eb539",
   "metadata": {
    "slideshow": {
     "slide_type": "slide"
    },
    "tags": []
   },
   "source": [
    "# Vorstellung des Datensatzes\n",
    "\n",
    "- Ziel: Karriereverläufe von WissenschaftlerInnen abbilden\n",
    "- Orientierungspunkt für Karrieren sind die Daten:\n",
    "    1. der deutschen Nationalbibliothek (DNB)\n",
    "    2. ProQuest (PQ)"
   ]
  },
  {
   "cell_type": "markdown",
   "id": "102d321d-faf4-4307-8da6-faab848b76ea",
   "metadata": {
    "slideshow": {
     "slide_type": "subslide"
    },
    "tags": []
   },
   "source": [
    "Tabellen, die mit 'abd_' beginnen, sind selbsterstellte Tabellen, die die Rohdaten erweitern\n",
    "\n",
    "1. ABD_THESES\n",
    "- beschreibt eine Tabelle, in der Disserationen und Habilitationen aus der DNB bzw. ProQuest Datenbank enthalten sind\n",
    "- Die in diesen Datenbanken enthaltenen Personen wurden in den WoS Rohdaten gesucht und passende Matches extrahiert.\n",
    "    - Matches im Sinne von: \n",
    "        1. Person muss (in etwa) denselben Namen haben\n",
    "        2. Person muss in einem gewissen Zeitraum um die Dissertation an der Promotionsuniversität veröffentlicht haben\n",
    "        \n",
    "- Zu diesen Matches werden auf Basis der Metainformationen (Publons-ID, Orcid-ID) weitere Zeilen Personenzeilen aus den Rohdaten zugeordnet (s. Autorendisambiguierung)\n",
    "\n",
    "2. ABD_AUTHORS\n",
    "- enhält alle disambiguierten Personen aus 1. sowie alle Koautoren"
   ]
  },
  {
   "cell_type": "markdown",
   "id": "25486411-571b-4281-bfd7-e0f81c450e00",
   "metadata": {
    "slideshow": {
     "slide_type": "subslide"
    },
    "tags": []
   },
   "source": [
    "<img src=\"resources/db_schema_abd.png\" alt=\"Drawing\" style=\"height:650px\"/>"
   ]
  },
  {
   "cell_type": "code",
   "execution_count": null,
   "id": "1e9a5c55-f65e-4847-9745-608a9cd5c5c3",
   "metadata": {
    "slideshow": {
     "slide_type": "skip"
    },
    "tags": []
   },
   "outputs": [],
   "source": [
    "# imports & setup\n",
    "import altair as alt\n",
    "import pandas as pd\n",
    "import sqlalchemy as sa\n",
    "\n",
    "import abd\n",
    "from abd.dataset.models import (\n",
    "    Author,\n",
    "    ABDAuthor,\n",
    "    ABDInstitution,\n",
    "    ABDThesis,\n",
    "    Item,\n",
    "    ItemAuthorInstitution,\n",
    "    Institution,\n",
    ")"
   ]
  },
  {
   "cell_type": "code",
   "execution_count": null,
   "id": "3791eda9-54e0-4c6e-86e3-818f244a1276",
   "metadata": {
    "slideshow": {
     "slide_type": "skip"
    },
    "tags": []
   },
   "outputs": [],
   "source": [
    "_ = alt.renderers.enable(\"mimetype\")"
   ]
  },
  {
   "cell_type": "code",
   "execution_count": null,
   "id": "07f5f226-c1b9-4a3f-a039-1cbc5806bd38",
   "metadata": {
    "slideshow": {
     "slide_type": "skip"
    },
    "tags": []
   },
   "outputs": [
    {
     "name": "stdout",
     "output_type": "stream",
     "text": [
      "[16:23:02.480] Loaded dataset: /mnt/nvme_storage/git/abd/tmp/wos_b_2020_abd_ver-5.2.2.db\n"
     ]
    }
   ],
   "source": [
    "engine, s = abd.load.dataset()"
   ]
  },
  {
   "cell_type": "markdown",
   "id": "61e03344-a076-4a62-b666-3019b8ca9860",
   "metadata": {
    "slideshow": {
     "slide_type": "slide"
    },
    "tags": []
   },
   "source": [
    "## Rohdaten\n"
   ]
  },
  {
   "cell_type": "code",
   "execution_count": null,
   "id": "8bc6ac58-5fa3-4375-bd57-d5ad439db100",
   "metadata": {
    "slideshow": {
     "slide_type": "subslide"
    },
    "tags": []
   },
   "outputs": [],
   "source": [
    "n_items = s.query(sa.func.count(Item.pk_items)).subquery()\n",
    "n_authors = s.query(sa.func.count(Author.pk_authors)).subquery()\n",
    "n_abd_authors = s.query(sa.func.count(ABDAuthor.id)).subquery()\n",
    "n_institutions = s.query(sa.func.count(Institution.pk_institutions)).subquery()\n",
    "n_abd_institutions = s.query(sa.func.count(ABDInstitution.id)).subquery()\n",
    "\n",
    "n_pq_theses = (\n",
    "    s.query(sa.func.count(ABDThesis.id))\n",
    "    .filter_by(dataset=\"ProQuest\", doctype=\"DISS\")\n",
    "    .subquery()\n",
    ")\n",
    "n_dnb_theses = (\n",
    "    s.query(sa.func.count(ABDThesis.id))\n",
    "    .filter_by(dataset=\"DNB\", doctype=\"DISS\")\n",
    "    .subquery()\n",
    ")\n",
    "\n",
    "\n",
    "query = s.query(\n",
    "    n_items.as_scalar().label(\"n_items\"),\n",
    "    n_authors.as_scalar().label(\"n_authors\"),\n",
    "    n_abd_authors.as_scalar().label(\"n_abd_authors\"),\n",
    "    n_institutions.as_scalar().label(\"n_institutions\"),\n",
    "    n_abd_institutions.as_scalar().label(\"n_abd_institutions\"),\n",
    "    n_pq_theses.as_scalar().label(\"PQ Theses\"),\n",
    "    n_dnb_theses.as_scalar().label(\"DNB Theses\"),\n",
    ")"
   ]
  },
  {
   "cell_type": "code",
   "execution_count": null,
   "id": "e9a285db-fe58-4571-8528-0200c8f0e6ba",
   "metadata": {
    "slideshow": {
     "slide_type": "subslide"
    },
    "tags": []
   },
   "outputs": [
    {
     "data": {
      "text/html": [
       "<div>\n",
       "<style scoped>\n",
       "    .dataframe tbody tr th:only-of-type {\n",
       "        vertical-align: middle;\n",
       "    }\n",
       "\n",
       "    .dataframe tbody tr th {\n",
       "        vertical-align: top;\n",
       "    }\n",
       "\n",
       "    .dataframe thead th {\n",
       "        text-align: right;\n",
       "    }\n",
       "</style>\n",
       "<table border=\"1\" class=\"dataframe\">\n",
       "  <thead>\n",
       "    <tr style=\"text-align: right;\">\n",
       "      <th></th>\n",
       "      <th>Tabelle</th>\n",
       "      <th>Länge</th>\n",
       "    </tr>\n",
       "  </thead>\n",
       "  <tbody>\n",
       "    <tr>\n",
       "      <th>0</th>\n",
       "      <td>n_items</td>\n",
       "      <td>2510618</td>\n",
       "    </tr>\n",
       "    <tr>\n",
       "      <th>1</th>\n",
       "      <td>n_authors</td>\n",
       "      <td>4388830</td>\n",
       "    </tr>\n",
       "    <tr>\n",
       "      <th>2</th>\n",
       "      <td>n_abd_authors</td>\n",
       "      <td>3664564</td>\n",
       "    </tr>\n",
       "    <tr>\n",
       "      <th>3</th>\n",
       "      <td>n_institutions</td>\n",
       "      <td>2965715</td>\n",
       "    </tr>\n",
       "    <tr>\n",
       "      <th>4</th>\n",
       "      <td>n_abd_institutions</td>\n",
       "      <td>35951</td>\n",
       "    </tr>\n",
       "    <tr>\n",
       "      <th>5</th>\n",
       "      <td>PQ Theses</td>\n",
       "      <td>29104</td>\n",
       "    </tr>\n",
       "    <tr>\n",
       "      <th>6</th>\n",
       "      <td>DNB Theses</td>\n",
       "      <td>8323</td>\n",
       "    </tr>\n",
       "  </tbody>\n",
       "</table>\n",
       "</div>"
      ],
      "text/plain": [
       "              Tabelle    Länge\n",
       "0             n_items  2510618\n",
       "1           n_authors  4388830\n",
       "2       n_abd_authors  3664564\n",
       "3      n_institutions  2965715\n",
       "4  n_abd_institutions    35951\n",
       "5           PQ Theses    29104\n",
       "6          DNB Theses     8323"
      ]
     },
     "execution_count": null,
     "metadata": {},
     "output_type": "execute_result"
    }
   ],
   "source": [
    "pd.read_sql(query.statement, engine).T.reset_index().rename(\n",
    "    {\"index\": \"Tabelle\", 0: \"Länge\"}, axis=1\n",
    ")"
   ]
  },
  {
   "cell_type": "markdown",
   "id": "c9c1eaef-52ee-4f60-946a-dbe211f27d0a",
   "metadata": {
    "slideshow": {
     "slide_type": "slide"
    },
    "tags": []
   },
   "source": [
    "# Autoren im Datensatz"
   ]
  },
  {
   "cell_type": "code",
   "execution_count": null,
   "id": "2cd9e0c5-db74-4066-85e1-242f64031894",
   "metadata": {
    "slideshow": {
     "slide_type": "subslide"
    },
    "tags": []
   },
   "outputs": [
    {
     "data": {
      "text/html": [
       "<div>\n",
       "<style scoped>\n",
       "    .dataframe tbody tr th:only-of-type {\n",
       "        vertical-align: middle;\n",
       "    }\n",
       "\n",
       "    .dataframe tbody tr th {\n",
       "        vertical-align: top;\n",
       "    }\n",
       "\n",
       "    .dataframe thead th {\n",
       "        text-align: right;\n",
       "    }\n",
       "</style>\n",
       "<table border=\"1\" class=\"dataframe\">\n",
       "  <thead>\n",
       "    <tr style=\"text-align: right;\">\n",
       "      <th></th>\n",
       "      <th>cntry_sample</th>\n",
       "      <th>disc_sample</th>\n",
       "      <th>N Autoren</th>\n",
       "    </tr>\n",
       "  </thead>\n",
       "  <tbody>\n",
       "    <tr>\n",
       "      <th>0</th>\n",
       "      <td>DEU</td>\n",
       "      <td>biochemistry</td>\n",
       "      <td>2187</td>\n",
       "    </tr>\n",
       "    <tr>\n",
       "      <th>1</th>\n",
       "      <td>DEU</td>\n",
       "      <td>physics</td>\n",
       "      <td>5417</td>\n",
       "    </tr>\n",
       "    <tr>\n",
       "      <th>2</th>\n",
       "      <td>DEU</td>\n",
       "      <td>psychology</td>\n",
       "      <td>719</td>\n",
       "    </tr>\n",
       "    <tr>\n",
       "      <th>3</th>\n",
       "      <td>USA</td>\n",
       "      <td>biochemistry</td>\n",
       "      <td>7119</td>\n",
       "    </tr>\n",
       "    <tr>\n",
       "      <th>4</th>\n",
       "      <td>USA</td>\n",
       "      <td>physics</td>\n",
       "      <td>11561</td>\n",
       "    </tr>\n",
       "    <tr>\n",
       "      <th>5</th>\n",
       "      <td>USA</td>\n",
       "      <td>psychology</td>\n",
       "      <td>10424</td>\n",
       "    </tr>\n",
       "  </tbody>\n",
       "</table>\n",
       "</div>"
      ],
      "text/plain": [
       "  cntry_sample   disc_sample  N Autoren\n",
       "0          DEU  biochemistry       2187\n",
       "1          DEU       physics       5417\n",
       "2          DEU    psychology        719\n",
       "3          USA  biochemistry       7119\n",
       "4          USA       physics      11561\n",
       "5          USA    psychology      10424"
      ]
     },
     "execution_count": null,
     "metadata": {},
     "output_type": "execute_result"
    }
   ],
   "source": [
    "query = (\n",
    "    s.query(ABDAuthor.cntry_sample, ABDAuthor.disc_sample, sa.func.count(ABDAuthor.id))\n",
    "    .group_by(ABDAuthor.cntry_sample, ABDAuthor.disc_sample)\n",
    "    .filter(ABDAuthor.disc_sample != \"coauthor\")\n",
    ")\n",
    "\n",
    "pd.read_sql(query.statement, engine).sort_values(\n",
    "    [\"cntry_sample\", \"disc_sample\"]\n",
    ").rename({\"count_1\": \"N Autoren\"}, axis=1)"
   ]
  },
  {
   "cell_type": "markdown",
   "id": "2af024ef-a3f9-4dfb-a8f3-4afeb2093d3d",
   "metadata": {
    "slideshow": {
     "slide_type": "subslide"
    },
    "tags": []
   },
   "source": [
    "### Anzahl Autoren über Zeit (nach sample)"
   ]
  },
  {
   "cell_type": "code",
   "execution_count": null,
   "id": "a512edb9-4705-4e0a-8a86-547c4266c5c3",
   "metadata": {
    "slideshow": {
     "slide_type": "fragment"
    },
    "tags": []
   },
   "outputs": [],
   "source": [
    "query = (\n",
    "    s.query(ABDAuthor)\n",
    "    .join(ABDThesis)\n",
    "    .filter(ABDAuthor.disc_sample != \"coauthor\", ABDThesis.year > 2005)\n",
    "    .group_by(ABDAuthor.disc_sample, ABDThesis.year)\n",
    "    .with_entities(\n",
    "        ABDThesis.year,\n",
    "        ABDAuthor.disc_sample,\n",
    "        sa.func.count(ABDAuthor.id).label(\"n_authors\"),\n",
    "    )\n",
    ")\n",
    "\n",
    "df = pd.read_sql(query.statement, engine)"
   ]
  },
  {
   "cell_type": "code",
   "execution_count": null,
   "id": "a4ae4631-d6bd-48c2-adbd-86c84f18363c",
   "metadata": {
    "slideshow": {
     "slide_type": "subslide"
    },
    "tags": []
   },
   "outputs": [
    {
     "data": {
      "application/vnd.vegalite.v4+json": {
       "$schema": "https://vega.github.io/schema/vega-lite/v4.8.1.json",
       "config": {
        "view": {
         "continuousHeight": 300,
         "continuousWidth": 400
        }
       },
       "data": {
        "name": "data-44ce3275d45b12cc4a3783c27f13f862"
       },
       "datasets": {
        "data-44ce3275d45b12cc4a3783c27f13f862": [
         {
          "disc_sample": "biochemistry",
          "n_authors": 507,
          "year": 2006
         },
         {
          "disc_sample": "biochemistry",
          "n_authors": 709,
          "year": 2007
         },
         {
          "disc_sample": "biochemistry",
          "n_authors": 917,
          "year": 2008
         },
         {
          "disc_sample": "biochemistry",
          "n_authors": 1069,
          "year": 2009
         },
         {
          "disc_sample": "biochemistry",
          "n_authors": 1122,
          "year": 2010
         },
         {
          "disc_sample": "biochemistry",
          "n_authors": 1232,
          "year": 2011
         },
         {
          "disc_sample": "biochemistry",
          "n_authors": 1155,
          "year": 2012
         },
         {
          "disc_sample": "biochemistry",
          "n_authors": 1145,
          "year": 2013
         },
         {
          "disc_sample": "biochemistry",
          "n_authors": 892,
          "year": 2014
         },
         {
          "disc_sample": "biochemistry",
          "n_authors": 559,
          "year": 2015
         },
         {
          "disc_sample": "physics",
          "n_authors": 1156,
          "year": 2006
         },
         {
          "disc_sample": "physics",
          "n_authors": 1355,
          "year": 2007
         },
         {
          "disc_sample": "physics",
          "n_authors": 1541,
          "year": 2008
         },
         {
          "disc_sample": "physics",
          "n_authors": 1885,
          "year": 2009
         },
         {
          "disc_sample": "physics",
          "n_authors": 1830,
          "year": 2010
         },
         {
          "disc_sample": "physics",
          "n_authors": 1873,
          "year": 2011
         },
         {
          "disc_sample": "physics",
          "n_authors": 1941,
          "year": 2012
         },
         {
          "disc_sample": "physics",
          "n_authors": 1919,
          "year": 2013
         },
         {
          "disc_sample": "physics",
          "n_authors": 1925,
          "year": 2014
         },
         {
          "disc_sample": "physics",
          "n_authors": 1563,
          "year": 2015
         },
         {
          "disc_sample": "psychology",
          "n_authors": 570,
          "year": 2006
         },
         {
          "disc_sample": "psychology",
          "n_authors": 856,
          "year": 2007
         },
         {
          "disc_sample": "psychology",
          "n_authors": 1108,
          "year": 2008
         },
         {
          "disc_sample": "psychology",
          "n_authors": 1305,
          "year": 2009
         },
         {
          "disc_sample": "psychology",
          "n_authors": 1271,
          "year": 2010
         },
         {
          "disc_sample": "psychology",
          "n_authors": 1252,
          "year": 2011
         },
         {
          "disc_sample": "psychology",
          "n_authors": 1272,
          "year": 2012
         },
         {
          "disc_sample": "psychology",
          "n_authors": 1287,
          "year": 2013
         },
         {
          "disc_sample": "psychology",
          "n_authors": 1288,
          "year": 2014
         },
         {
          "disc_sample": "psychology",
          "n_authors": 935,
          "year": 2015
         }
        ]
       },
       "encoding": {
        "color": {
         "field": "disc_sample",
         "type": "nominal"
        },
        "x": {
         "field": "year",
         "type": "ordinal"
        },
        "y": {
         "field": "n_authors",
         "type": "quantitative"
        }
       },
       "mark": "bar"
      },
      "image/png": "[encoded data removed]",
      "text/plain": [
       "<VegaLite 4 object>\n",
       "\n",
       "If you see this message, it means the renderer has not been properly enabled\n",
       "for the frontend that you are using. For more information, see\n",
       "https://altair-viz.github.io/user_guide/troubleshooting.html\n"
      ]
     },
     "execution_count": null,
     "metadata": {},
     "output_type": "execute_result"
    }
   ],
   "source": [
    "alt.Chart(df).mark_bar().encode(\n",
    "    alt.X(\"year:O\"), alt.Y(\"n_authors:Q\"), alt.Color(\"disc_sample:N\")\n",
    ")"
   ]
  },
  {
   "cell_type": "markdown",
   "id": "a99bd02f-2082-4a3f-915f-526d7b1afca3",
   "metadata": {
    "slideshow": {
     "slide_type": "subslide"
    },
    "tags": []
   },
   "source": [
    "### Durschnittliche Anzahl pk_authors pro Autor im Sample"
   ]
  },
  {
   "cell_type": "code",
   "execution_count": null,
   "id": "9dd6fc6a-01e5-48cc-b89c-f65100ffcb25",
   "metadata": {
    "slideshow": {
     "slide_type": "fragment"
    },
    "tags": []
   },
   "outputs": [],
   "source": [
    "query = (\n",
    "    s.query(ABDAuthor)\n",
    "    .join(ABDThesis)\n",
    "    .join(Author)\n",
    "    .filter(ABDAuthor.disc_sample != \"coauthor\", ABDThesis.year > 2005)\n",
    "    .group_by(ABDAuthor.id)\n",
    "    .with_entities(\n",
    "        ABDAuthor.id,\n",
    "        ABDThesis.year,\n",
    "        sa.func.count(Author.pk_authors).label(\"n_raw_authors\"),\n",
    "    )\n",
    ")\n",
    "\n",
    "df = pd.read_sql(query.statement, engine)\n",
    "\n",
    "df = df.groupby(\"year\")[\"n_raw_authors\"].mean().reset_index()"
   ]
  },
  {
   "cell_type": "code",
   "execution_count": null,
   "id": "aa8df583-8bac-453b-9028-6a3ab2347bcb",
   "metadata": {
    "slideshow": {
     "slide_type": "subslide"
    },
    "tags": []
   },
   "outputs": [
    {
     "data": {
      "application/vnd.vegalite.v4+json": {
       "$schema": "https://vega.github.io/schema/vega-lite/v4.8.1.json",
       "config": {
        "view": {
         "continuousHeight": 300,
         "continuousWidth": 400
        }
       },
       "data": {
        "name": "data-eb2bf52496d9ae9cca88f25464c61361"
       },
       "datasets": {
        "data-eb2bf52496d9ae9cca88f25464c61361": [
         {
          "n_raw_authors": 2.367666815942678,
          "year": 2006
         },
         {
          "n_raw_authors": 2.3589041095890413,
          "year": 2007
         },
         {
          "n_raw_authors": 2.282108805384184,
          "year": 2008
         },
         {
          "n_raw_authors": 2.202160131486264,
          "year": 2009
         },
         {
          "n_raw_authors": 2.2169074117925645,
          "year": 2010
         },
         {
          "n_raw_authors": 2.218699747300712,
          "year": 2011
         },
         {
          "n_raw_authors": 2.1179299290130524,
          "year": 2012
         },
         {
          "n_raw_authors": 2.090595539204415,
          "year": 2013
         },
         {
          "n_raw_authors": 2.0741101901511456,
          "year": 2014
         },
         {
          "n_raw_authors": 2.1531914893617023,
          "year": 2015
         }
        ]
       },
       "encoding": {
        "x": {
         "field": "year",
         "type": "ordinal"
        },
        "y": {
         "axis": {
          "title": "Mean raw authors"
         },
         "field": "n_raw_authors",
         "type": "quantitative"
        }
       },
       "height": 300,
       "mark": "bar",
       "title": "Avg. Anzahl an pk_authors pro Sample Autor",
       "width": 400
      },
      "image/png": "[encoded data removed]",
      "text/plain": [
       "<VegaLite 4 object>\n",
       "\n",
       "If you see this message, it means the renderer has not been properly enabled\n",
       "for the frontend that you are using. For more information, see\n",
       "https://altair-viz.github.io/user_guide/troubleshooting.html\n"
      ]
     },
     "execution_count": null,
     "metadata": {},
     "output_type": "execute_result"
    }
   ],
   "source": [
    "alt.Chart(df).mark_bar().encode(\n",
    "    alt.X(\"year:O\"),\n",
    "    alt.Y(\"n_raw_authors\", axis=alt.Axis(title=\"Mean raw authors\")),\n",
    ").properties(\n",
    "    title=\"Avg. Anzahl an pk_authors pro Sample Autor\",\n",
    "    width=400,\n",
    "    height=300,\n",
    ")"
   ]
  },
  {
   "cell_type": "markdown",
   "id": "bd4426ac-8ba0-4aed-bf14-885a795e5dbc",
   "metadata": {
    "slideshow": {
     "slide_type": "subslide"
    },
    "tags": []
   },
   "source": [
    "### Anzahl pk_authors pro Autor im gesamten Datensatz"
   ]
  },
  {
   "cell_type": "code",
   "execution_count": null,
   "id": "9ef11c6e-75d1-46de-b89e-36b6f4e0d66a",
   "metadata": {
    "slideshow": {
     "slide_type": "fragment"
    },
    "tags": []
   },
   "outputs": [],
   "source": [
    "query = (\n",
    "    s.query(ABDAuthor)\n",
    "    .join(Author)\n",
    "    .group_by(ABDAuthor.id)\n",
    "    .with_entities(\n",
    "        ABDAuthor.id,\n",
    "        sa.func.count(Author.pk_authors).label(\"n_raw_authors\"),\n",
    "    )\n",
    ")\n",
    "\n",
    "df = pd.read_sql(query.statement, engine)\n",
    "\n",
    "df[\"n\"] = 1\n",
    "df = df.groupby(\"n_raw_authors\")[\"n\"].sum().reset_index()"
   ]
  },
  {
   "cell_type": "code",
   "execution_count": null,
   "id": "687a3722-7f7f-4e28-99d8-e5dc9d4f4cb1",
   "metadata": {
    "slideshow": {
     "slide_type": "subslide"
    },
    "tags": []
   },
   "outputs": [
    {
     "data": {
      "application/vnd.vegalite.v4+json": {
       "$schema": "https://vega.github.io/schema/vega-lite/v4.8.1.json",
       "config": {
        "view": {
         "continuousHeight": 300,
         "continuousWidth": 400
        }
       },
       "data": {
        "name": "data-a9fe723eff96c295d34e7db3ae55dbc0"
       },
       "datasets": {
        "data-a9fe723eff96c295d34e7db3ae55dbc0": [
         {
          "n": 3305327,
          "n_raw_authors": 1
         },
         {
          "n": 186584,
          "n_raw_authors": 2
         },
         {
          "n": 85747,
          "n_raw_authors": 3
         },
         {
          "n": 41171,
          "n_raw_authors": 4
         },
         {
          "n": 20764,
          "n_raw_authors": 5
         },
         {
          "n": 10876,
          "n_raw_authors": 6
         },
         {
          "n": 5995,
          "n_raw_authors": 7
         },
         {
          "n": 3374,
          "n_raw_authors": 8
         },
         {
          "n": 1868,
          "n_raw_authors": 9
         },
         {
          "n": 1124,
          "n_raw_authors": 10
         },
         {
          "n": 669,
          "n_raw_authors": 11
         },
         {
          "n": 370,
          "n_raw_authors": 12
         },
         {
          "n": 239,
          "n_raw_authors": 13
         },
         {
          "n": 158,
          "n_raw_authors": 14
         },
         {
          "n": 92,
          "n_raw_authors": 15
         },
         {
          "n": 65,
          "n_raw_authors": 16
         },
         {
          "n": 44,
          "n_raw_authors": 17
         },
         {
          "n": 29,
          "n_raw_authors": 18
         },
         {
          "n": 16,
          "n_raw_authors": 19
         },
         {
          "n": 11,
          "n_raw_authors": 20
         },
         {
          "n": 11,
          "n_raw_authors": 21
         },
         {
          "n": 11,
          "n_raw_authors": 22
         },
         {
          "n": 4,
          "n_raw_authors": 23
         },
         {
          "n": 1,
          "n_raw_authors": 24
         },
         {
          "n": 2,
          "n_raw_authors": 25
         },
         {
          "n": 3,
          "n_raw_authors": 26
         },
         {
          "n": 3,
          "n_raw_authors": 27
         },
         {
          "n": 1,
          "n_raw_authors": 28
         },
         {
          "n": 1,
          "n_raw_authors": 29
         },
         {
          "n": 2,
          "n_raw_authors": 30
         },
         {
          "n": 2,
          "n_raw_authors": 39
         }
        ]
       },
       "encoding": {
        "x": {
         "field": "n_raw_authors",
         "type": "quantitative"
        },
        "y": {
         "field": "n",
         "scale": {
          "type": "log"
         },
         "type": "quantitative"
        }
       },
       "height": 300,
       "mark": "bar",
       "title": "Anzahl pk_authors pro Autor",
       "width": 400
      },
      "image/png": "[encoded data removed]",
      "text/plain": [
       "<VegaLite 4 object>\n",
       "\n",
       "If you see this message, it means the renderer has not been properly enabled\n",
       "for the frontend that you are using. For more information, see\n",
       "https://altair-viz.github.io/user_guide/troubleshooting.html\n"
      ]
     },
     "execution_count": null,
     "metadata": {},
     "output_type": "execute_result"
    }
   ],
   "source": [
    "alt.Chart(df).mark_bar().encode(\n",
    "    alt.X(\"n_raw_authors:Q\"),\n",
    "    alt.Y(\"n:Q\", scale=alt.Scale(type=\"log\")),\n",
    ").properties(\n",
    "    title=\"Anzahl pk_authors pro Autor\",\n",
    "    width=400,\n",
    "    height=300,\n",
    ")"
   ]
  },
  {
   "cell_type": "markdown",
   "id": "3143c2a2-d2d0-4aeb-9a45-965b98b57bd7",
   "metadata": {
    "slideshow": {
     "slide_type": "slide"
    },
    "tags": []
   },
   "source": [
    "# Items im Datensatz"
   ]
  },
  {
   "cell_type": "code",
   "execution_count": null,
   "id": "7f3a1ac0-e87b-4ff3-a83c-6c920e8e862f",
   "metadata": {
    "slideshow": {
     "slide_type": "fragment"
    },
    "tags": []
   },
   "outputs": [],
   "source": [
    "query = (\n",
    "    s.query(Item)\n",
    "    .group_by(Item.doctype, Item.pubyear)\n",
    "    .with_entities(\n",
    "        Item.doctype,\n",
    "        Item.pubyear,\n",
    "        sa.func.count(Item.pk_items).label(\"n_articles\"),\n",
    "    )\n",
    ")\n",
    "\n",
    "df = pd.read_sql(query.statement, engine)"
   ]
  },
  {
   "cell_type": "code",
   "execution_count": null,
   "id": "f636a34a-3582-4c89-83a8-94aa685cac7e",
   "metadata": {
    "slideshow": {
     "slide_type": "subslide"
    },
    "tags": []
   },
   "outputs": [
    {
     "data": {
      "application/vnd.vegalite.v4+json": {
       "$schema": "https://vega.github.io/schema/vega-lite/v4.8.1.json",
       "config": {
        "view": {
         "continuousHeight": 300,
         "continuousWidth": 400
        }
       },
       "data": {
        "name": "data-e4b3177c3bb65577deadac6582646119"
       },
       "datasets": {
        "data-e4b3177c3bb65577deadac6582646119": [
         {
          "doctype": "Article",
          "n_articles": 1720,
          "pubyear": 1992
         },
         {
          "doctype": "Article",
          "n_articles": 1903,
          "pubyear": 1993
         },
         {
          "doctype": "Article",
          "n_articles": 1993,
          "pubyear": 1994
         },
         {
          "doctype": "Article",
          "n_articles": 3395,
          "pubyear": 1995
         },
         {
          "doctype": "Article",
          "n_articles": 14600,
          "pubyear": 1996
         },
         {
          "doctype": "Article",
          "n_articles": 15961,
          "pubyear": 1997
         },
         {
          "doctype": "Article",
          "n_articles": 16792,
          "pubyear": 1998
         },
         {
          "doctype": "Article",
          "n_articles": 18322,
          "pubyear": 1999
         },
         {
          "doctype": "Article",
          "n_articles": 20069,
          "pubyear": 2000
         },
         {
          "doctype": "Article",
          "n_articles": 21485,
          "pubyear": 2001
         },
         {
          "doctype": "Article",
          "n_articles": 23655,
          "pubyear": 2002
         },
         {
          "doctype": "Article",
          "n_articles": 27017,
          "pubyear": 2003
         },
         {
          "doctype": "Article",
          "n_articles": 32835,
          "pubyear": 2004
         },
         {
          "doctype": "Article",
          "n_articles": 38178,
          "pubyear": 2005
         },
         {
          "doctype": "Article",
          "n_articles": 52610,
          "pubyear": 2006
         },
         {
          "doctype": "Article",
          "n_articles": 63253,
          "pubyear": 2007
         },
         {
          "doctype": "Article",
          "n_articles": 73153,
          "pubyear": 2008
         },
         {
          "doctype": "Article",
          "n_articles": 82352,
          "pubyear": 2009
         },
         {
          "doctype": "Article",
          "n_articles": 89803,
          "pubyear": 2010
         },
         {
          "doctype": "Article",
          "n_articles": 102716,
          "pubyear": 2011
         },
         {
          "doctype": "Article",
          "n_articles": 116254,
          "pubyear": 2012
         },
         {
          "doctype": "Article",
          "n_articles": 130956,
          "pubyear": 2013
         },
         {
          "doctype": "Article",
          "n_articles": 144220,
          "pubyear": 2014
         },
         {
          "doctype": "Article",
          "n_articles": 156722,
          "pubyear": 2015
         },
         {
          "doctype": "Article",
          "n_articles": 167142,
          "pubyear": 2016
         },
         {
          "doctype": "Article",
          "n_articles": 176049,
          "pubyear": 2017
         },
         {
          "doctype": "Article",
          "n_articles": 189611,
          "pubyear": 2018
         },
         {
          "doctype": "Article",
          "n_articles": 212587,
          "pubyear": 2019
         },
         {
          "doctype": "Article",
          "n_articles": 66372,
          "pubyear": 2020
         },
         {
          "doctype": "Article",
          "n_articles": 1,
          "pubyear": 2021
         },
         {
          "doctype": "Proceedings Paper",
          "n_articles": 268,
          "pubyear": 1992
         },
         {
          "doctype": "Proceedings Paper",
          "n_articles": 326,
          "pubyear": 1993
         },
         {
          "doctype": "Proceedings Paper",
          "n_articles": 411,
          "pubyear": 1994
         },
         {
          "doctype": "Proceedings Paper",
          "n_articles": 1380,
          "pubyear": 1995
         },
         {
          "doctype": "Proceedings Paper",
          "n_articles": 2900,
          "pubyear": 1996
         },
         {
          "doctype": "Proceedings Paper",
          "n_articles": 3114,
          "pubyear": 1997
         },
         {
          "doctype": "Proceedings Paper",
          "n_articles": 3686,
          "pubyear": 1998
         },
         {
          "doctype": "Proceedings Paper",
          "n_articles": 2704,
          "pubyear": 1999
         },
         {
          "doctype": "Proceedings Paper",
          "n_articles": 3960,
          "pubyear": 2000
         },
         {
          "doctype": "Proceedings Paper",
          "n_articles": 4194,
          "pubyear": 2001
         },
         {
          "doctype": "Proceedings Paper",
          "n_articles": 4770,
          "pubyear": 2002
         },
         {
          "doctype": "Proceedings Paper",
          "n_articles": 6251,
          "pubyear": 2003
         },
         {
          "doctype": "Proceedings Paper",
          "n_articles": 7368,
          "pubyear": 2004
         },
         {
          "doctype": "Proceedings Paper",
          "n_articles": 10156,
          "pubyear": 2005
         },
         {
          "doctype": "Proceedings Paper",
          "n_articles": 13053,
          "pubyear": 2006
         },
         {
          "doctype": "Proceedings Paper",
          "n_articles": 18126,
          "pubyear": 2007
         },
         {
          "doctype": "Proceedings Paper",
          "n_articles": 19590,
          "pubyear": 2008
         },
         {
          "doctype": "Proceedings Paper",
          "n_articles": 22120,
          "pubyear": 2009
         },
         {
          "doctype": "Proceedings Paper",
          "n_articles": 20605,
          "pubyear": 2010
         },
         {
          "doctype": "Proceedings Paper",
          "n_articles": 23084,
          "pubyear": 2011
         },
         {
          "doctype": "Proceedings Paper",
          "n_articles": 27789,
          "pubyear": 2012
         },
         {
          "doctype": "Proceedings Paper",
          "n_articles": 27106,
          "pubyear": 2013
         },
         {
          "doctype": "Proceedings Paper",
          "n_articles": 28072,
          "pubyear": 2014
         },
         {
          "doctype": "Proceedings Paper",
          "n_articles": 27989,
          "pubyear": 2015
         },
         {
          "doctype": "Proceedings Paper",
          "n_articles": 30433,
          "pubyear": 2016
         },
         {
          "doctype": "Proceedings Paper",
          "n_articles": 28712,
          "pubyear": 2017
         },
         {
          "doctype": "Proceedings Paper",
          "n_articles": 24661,
          "pubyear": 2018
         },
         {
          "doctype": "Proceedings Paper",
          "n_articles": 12196,
          "pubyear": 2019
         },
         {
          "doctype": "Proceedings Paper",
          "n_articles": 301,
          "pubyear": 2020
         },
         {
          "doctype": "Review",
          "n_articles": 28,
          "pubyear": 1992
         },
         {
          "doctype": "Review",
          "n_articles": 39,
          "pubyear": 1993
         },
         {
          "doctype": "Review",
          "n_articles": 44,
          "pubyear": 1994
         },
         {
          "doctype": "Review",
          "n_articles": 94,
          "pubyear": 1995
         },
         {
          "doctype": "Review",
          "n_articles": 265,
          "pubyear": 1996
         },
         {
          "doctype": "Review",
          "n_articles": 331,
          "pubyear": 1997
         },
         {
          "doctype": "Review",
          "n_articles": 343,
          "pubyear": 1998
         },
         {
          "doctype": "Review",
          "n_articles": 363,
          "pubyear": 1999
         },
         {
          "doctype": "Review",
          "n_articles": 515,
          "pubyear": 2000
         },
         {
          "doctype": "Review",
          "n_articles": 475,
          "pubyear": 2001
         },
         {
          "doctype": "Review",
          "n_articles": 568,
          "pubyear": 2002
         },
         {
          "doctype": "Review",
          "n_articles": 691,
          "pubyear": 2003
         },
         {
          "doctype": "Review",
          "n_articles": 887,
          "pubyear": 2004
         },
         {
          "doctype": "Review",
          "n_articles": 1044,
          "pubyear": 2005
         },
         {
          "doctype": "Review",
          "n_articles": 1629,
          "pubyear": 2006
         },
         {
          "doctype": "Review",
          "n_articles": 2053,
          "pubyear": 2007
         },
         {
          "doctype": "Review",
          "n_articles": 2610,
          "pubyear": 2008
         },
         {
          "doctype": "Review",
          "n_articles": 3157,
          "pubyear": 2009
         },
         {
          "doctype": "Review",
          "n_articles": 2897,
          "pubyear": 2010
         },
         {
          "doctype": "Review",
          "n_articles": 3091,
          "pubyear": 2011
         },
         {
          "doctype": "Review",
          "n_articles": 3911,
          "pubyear": 2012
         },
         {
          "doctype": "Review",
          "n_articles": 4257,
          "pubyear": 2013
         },
         {
          "doctype": "Review",
          "n_articles": 4785,
          "pubyear": 2014
         },
         {
          "doctype": "Review",
          "n_articles": 5179,
          "pubyear": 2015
         },
         {
          "doctype": "Review",
          "n_articles": 5992,
          "pubyear": 2016
         },
         {
          "doctype": "Review",
          "n_articles": 7242,
          "pubyear": 2017
         },
         {
          "doctype": "Review",
          "n_articles": 8424,
          "pubyear": 2018
         },
         {
          "doctype": "Review",
          "n_articles": 9574,
          "pubyear": 2019
         },
         {
          "doctype": "Review",
          "n_articles": 3079,
          "pubyear": 2020
         }
        ]
       },
       "encoding": {
        "color": {
         "field": "doctype",
         "type": "nominal"
        },
        "x": {
         "field": "pubyear",
         "type": "ordinal"
        },
        "y": {
         "field": "n_articles",
         "type": "quantitative"
        }
       },
       "mark": "area"
      },
      "image/png": "[encoded data removed]",
      "text/plain": [
       "<VegaLite 4 object>\n",
       "\n",
       "If you see this message, it means the renderer has not been properly enabled\n",
       "for the frontend that you are using. For more information, see\n",
       "https://altair-viz.github.io/user_guide/troubleshooting.html\n"
      ]
     },
     "execution_count": null,
     "metadata": {},
     "output_type": "execute_result"
    }
   ],
   "source": [
    "alt.Chart(df).mark_area().encode(\n",
    "    alt.X(\"pubyear:O\"), alt.Y(\"n_articles:Q\"), alt.Color(\"doctype:N\")\n",
    ")"
   ]
  },
  {
   "cell_type": "markdown",
   "id": "aa77f4a9-ca6d-4648-a70b-6098e3097846",
   "metadata": {
    "slideshow": {
     "slide_type": "slide"
    },
    "tags": []
   },
   "source": [
    "## Autorendisambiguierung\n",
    "\n",
    "- Beispielfall: Hans-Joachim Elmers"
   ]
  },
  {
   "cell_type": "code",
   "execution_count": null,
   "id": "680ca83f-783c-47f5-bd9e-f497640745bc",
   "metadata": {
    "slideshow": {
     "slide_type": "fragment"
    },
    "tags": []
   },
   "outputs": [
    {
     "data": {
      "text/plain": [
       "ABDAuthor(id=254623, firstname=Hans-Joachim , lastname=Elmers, fullname=Elmers, Hans-Joachim , orig_sample_id=None, gender=None, disc_sample=coauthor, cntry_sample=None, prof_since=None)"
      ]
     },
     "execution_count": null,
     "metadata": {},
     "output_type": "execute_result"
    }
   ],
   "source": [
    "s.query(ABDAuthor).filter_by(id=254623).one()"
   ]
  },
  {
   "cell_type": "code",
   "execution_count": null,
   "id": "b72e55c9-e4c9-4d17-a214-756736d165cc",
   "metadata": {
    "slideshow": {
     "slide_type": "subslide"
    },
    "tags": []
   },
   "outputs": [
    {
     "data": {
      "text/html": [
       "<div>\n",
       "<style scoped>\n",
       "    .dataframe tbody tr th:only-of-type {\n",
       "        vertical-align: middle;\n",
       "    }\n",
       "\n",
       "    .dataframe tbody tr th {\n",
       "        vertical-align: top;\n",
       "    }\n",
       "\n",
       "    .dataframe thead th {\n",
       "        text-align: right;\n",
       "    }\n",
       "</style>\n",
       "<table border=\"1\" class=\"dataframe\">\n",
       "  <thead>\n",
       "    <tr style=\"text-align: right;\">\n",
       "      <th></th>\n",
       "      <th>pk_authors</th>\n",
       "      <th>fullname</th>\n",
       "      <th>middlename</th>\n",
       "      <th>author_group</th>\n",
       "      <th>role</th>\n",
       "      <th>orcid_id</th>\n",
       "      <th>orcid_id_tr</th>\n",
       "      <th>r_id</th>\n",
       "      <th>r_id_tr</th>\n",
       "      <th>author_id</th>\n",
       "      <th>firstname</th>\n",
       "      <th>lastname</th>\n",
       "    </tr>\n",
       "  </thead>\n",
       "  <tbody>\n",
       "    <tr>\n",
       "      <th>0</th>\n",
       "      <td>2593200</td>\n",
       "      <td>Elmers, HJ</td>\n",
       "      <td>None</td>\n",
       "      <td>None</td>\n",
       "      <td>author</td>\n",
       "      <td>None</td>\n",
       "      <td>None</td>\n",
       "      <td>None</td>\n",
       "      <td>None</td>\n",
       "      <td>254623</td>\n",
       "      <td>H. -J.</td>\n",
       "      <td>Elmers</td>\n",
       "    </tr>\n",
       "    <tr>\n",
       "      <th>1</th>\n",
       "      <td>7979166</td>\n",
       "      <td>Elmers, Hans-Joachim</td>\n",
       "      <td>None</td>\n",
       "      <td>None</td>\n",
       "      <td>researcher_id</td>\n",
       "      <td>0000-0002-2525-9954</td>\n",
       "      <td>None</td>\n",
       "      <td>D-6729-2011</td>\n",
       "      <td>None</td>\n",
       "      <td>254623</td>\n",
       "      <td>Hans-Joachim</td>\n",
       "      <td>Elmers</td>\n",
       "    </tr>\n",
       "    <tr>\n",
       "      <th>2</th>\n",
       "      <td>14008505</td>\n",
       "      <td>Elmers, H</td>\n",
       "      <td>None</td>\n",
       "      <td>None</td>\n",
       "      <td>author</td>\n",
       "      <td>None</td>\n",
       "      <td>None</td>\n",
       "      <td>D-6729-2011</td>\n",
       "      <td>None</td>\n",
       "      <td>254623</td>\n",
       "      <td>H</td>\n",
       "      <td>Elmers</td>\n",
       "    </tr>\n",
       "    <tr>\n",
       "      <th>3</th>\n",
       "      <td>14529075</td>\n",
       "      <td>Elmers, HJ</td>\n",
       "      <td>None</td>\n",
       "      <td>None</td>\n",
       "      <td>author</td>\n",
       "      <td>None</td>\n",
       "      <td>None</td>\n",
       "      <td>D-6729-2011</td>\n",
       "      <td>None</td>\n",
       "      <td>254623</td>\n",
       "      <td>Hans J.</td>\n",
       "      <td>Elmers</td>\n",
       "    </tr>\n",
       "    <tr>\n",
       "      <th>4</th>\n",
       "      <td>19132237</td>\n",
       "      <td>Elmers, HJ</td>\n",
       "      <td>None</td>\n",
       "      <td>None</td>\n",
       "      <td>author</td>\n",
       "      <td>None</td>\n",
       "      <td>None</td>\n",
       "      <td>D-6729-2011</td>\n",
       "      <td>None</td>\n",
       "      <td>254623</td>\n",
       "      <td>H. J.</td>\n",
       "      <td>Elmers</td>\n",
       "    </tr>\n",
       "    <tr>\n",
       "      <th>5</th>\n",
       "      <td>21636595</td>\n",
       "      <td>Elmers, HJ</td>\n",
       "      <td>None</td>\n",
       "      <td>None</td>\n",
       "      <td>author</td>\n",
       "      <td>None</td>\n",
       "      <td>None</td>\n",
       "      <td>None</td>\n",
       "      <td>None</td>\n",
       "      <td>254623</td>\n",
       "      <td>Hans Joachim</td>\n",
       "      <td>Elmers</td>\n",
       "    </tr>\n",
       "    <tr>\n",
       "      <th>6</th>\n",
       "      <td>24304346</td>\n",
       "      <td>Elmers, HJ</td>\n",
       "      <td>None</td>\n",
       "      <td>None</td>\n",
       "      <td>author</td>\n",
       "      <td>None</td>\n",
       "      <td>None</td>\n",
       "      <td>None</td>\n",
       "      <td>None</td>\n",
       "      <td>254623</td>\n",
       "      <td>H. J.</td>\n",
       "      <td>Elmers</td>\n",
       "    </tr>\n",
       "    <tr>\n",
       "      <th>7</th>\n",
       "      <td>24390980</td>\n",
       "      <td>Elmers, Hans-Joachim</td>\n",
       "      <td>None</td>\n",
       "      <td>None</td>\n",
       "      <td>researcher_id</td>\n",
       "      <td>None</td>\n",
       "      <td>None</td>\n",
       "      <td>D-6729-2011</td>\n",
       "      <td>None</td>\n",
       "      <td>254623</td>\n",
       "      <td>Hans-Joachim</td>\n",
       "      <td>Elmers</td>\n",
       "    </tr>\n",
       "    <tr>\n",
       "      <th>8</th>\n",
       "      <td>27704426</td>\n",
       "      <td>Elmers, HJ</td>\n",
       "      <td>None</td>\n",
       "      <td>None</td>\n",
       "      <td>author</td>\n",
       "      <td>None</td>\n",
       "      <td>None</td>\n",
       "      <td>D-6729-2011</td>\n",
       "      <td>None</td>\n",
       "      <td>254623</td>\n",
       "      <td>Hans-Joachim</td>\n",
       "      <td>Elmers</td>\n",
       "    </tr>\n",
       "    <tr>\n",
       "      <th>9</th>\n",
       "      <td>28261982</td>\n",
       "      <td>Elmers, HJ</td>\n",
       "      <td>None</td>\n",
       "      <td>None</td>\n",
       "      <td>author</td>\n",
       "      <td>None</td>\n",
       "      <td>None</td>\n",
       "      <td>None</td>\n",
       "      <td>None</td>\n",
       "      <td>254623</td>\n",
       "      <td>H-J</td>\n",
       "      <td>Elmers</td>\n",
       "    </tr>\n",
       "    <tr>\n",
       "      <th>10</th>\n",
       "      <td>28448020</td>\n",
       "      <td>Elmers, HJ</td>\n",
       "      <td>None</td>\n",
       "      <td>None</td>\n",
       "      <td>author</td>\n",
       "      <td>None</td>\n",
       "      <td>None</td>\n",
       "      <td>D-6729-2011</td>\n",
       "      <td>None</td>\n",
       "      <td>254623</td>\n",
       "      <td>HJ</td>\n",
       "      <td>Elmers</td>\n",
       "    </tr>\n",
       "    <tr>\n",
       "      <th>11</th>\n",
       "      <td>30494143</td>\n",
       "      <td>Elmers, Hans-Joachim</td>\n",
       "      <td>None</td>\n",
       "      <td>None</td>\n",
       "      <td>researcher_id</td>\n",
       "      <td>None</td>\n",
       "      <td>None</td>\n",
       "      <td>D-6729-2011</td>\n",
       "      <td>None</td>\n",
       "      <td>254623</td>\n",
       "      <td>Hans-Joachim</td>\n",
       "      <td>Elmers</td>\n",
       "    </tr>\n",
       "    <tr>\n",
       "      <th>12</th>\n",
       "      <td>30593277</td>\n",
       "      <td>Elmers, HJ</td>\n",
       "      <td>None</td>\n",
       "      <td>None</td>\n",
       "      <td>author</td>\n",
       "      <td>None</td>\n",
       "      <td>None</td>\n",
       "      <td>None</td>\n",
       "      <td>None</td>\n",
       "      <td>254623</td>\n",
       "      <td>Hans-Joachim</td>\n",
       "      <td>Elmers</td>\n",
       "    </tr>\n",
       "    <tr>\n",
       "      <th>13</th>\n",
       "      <td>30846105</td>\n",
       "      <td>Elmers, HJ</td>\n",
       "      <td>None</td>\n",
       "      <td>None</td>\n",
       "      <td>author</td>\n",
       "      <td>None</td>\n",
       "      <td>None</td>\n",
       "      <td>None</td>\n",
       "      <td>None</td>\n",
       "      <td>254623</td>\n",
       "      <td>HJ</td>\n",
       "      <td>Elmers</td>\n",
       "    </tr>\n",
       "  </tbody>\n",
       "</table>\n",
       "</div>"
      ],
      "text/plain": [
       "    pk_authors               fullname middlename author_group           role  \\\n",
       "0      2593200             Elmers, HJ       None         None         author   \n",
       "1      7979166   Elmers, Hans-Joachim       None         None  researcher_id   \n",
       "2     14008505              Elmers, H       None         None         author   \n",
       "3     14529075             Elmers, HJ       None         None         author   \n",
       "4     19132237             Elmers, HJ       None         None         author   \n",
       "5     21636595             Elmers, HJ       None         None         author   \n",
       "6     24304346             Elmers, HJ       None         None         author   \n",
       "7     24390980  Elmers, Hans-Joachim        None         None  researcher_id   \n",
       "8     27704426             Elmers, HJ       None         None         author   \n",
       "9     28261982             Elmers, HJ       None         None         author   \n",
       "10    28448020             Elmers, HJ       None         None         author   \n",
       "11    30494143   Elmers, Hans-Joachim       None         None  researcher_id   \n",
       "12    30593277             Elmers, HJ       None         None         author   \n",
       "13    30846105             Elmers, HJ       None         None         author   \n",
       "\n",
       "               orcid_id orcid_id_tr         r_id r_id_tr  author_id  \\\n",
       "0                  None        None         None    None     254623   \n",
       "1   0000-0002-2525-9954        None  D-6729-2011    None     254623   \n",
       "2                  None        None  D-6729-2011    None     254623   \n",
       "3                  None        None  D-6729-2011    None     254623   \n",
       "4                  None        None  D-6729-2011    None     254623   \n",
       "5                  None        None         None    None     254623   \n",
       "6                  None        None         None    None     254623   \n",
       "7                  None        None  D-6729-2011    None     254623   \n",
       "8                  None        None  D-6729-2011    None     254623   \n",
       "9                  None        None         None    None     254623   \n",
       "10                 None        None  D-6729-2011    None     254623   \n",
       "11                 None        None  D-6729-2011    None     254623   \n",
       "12                 None        None         None    None     254623   \n",
       "13                 None        None         None    None     254623   \n",
       "\n",
       "        firstname lastname  \n",
       "0          H. -J.   Elmers  \n",
       "1    Hans-Joachim   Elmers  \n",
       "2               H   Elmers  \n",
       "3         Hans J.   Elmers  \n",
       "4           H. J.   Elmers  \n",
       "5    Hans Joachim   Elmers  \n",
       "6           H. J.   Elmers  \n",
       "7   Hans-Joachim    Elmers  \n",
       "8    Hans-Joachim   Elmers  \n",
       "9             H-J   Elmers  \n",
       "10             HJ   Elmers  \n",
       "11   Hans-Joachim   Elmers  \n",
       "12   Hans-Joachim   Elmers  \n",
       "13             HJ   Elmers  "
      ]
     },
     "execution_count": null,
     "metadata": {},
     "output_type": "execute_result"
    }
   ],
   "source": [
    "query = (\n",
    "    s.query(ABDAuthor).join(Author).filter(ABDAuthor.id == 254623).with_entities(Author)\n",
    ")\n",
    "pd.read_sql(query.statement, engine)"
   ]
  },
  {
   "cell_type": "markdown",
   "id": "e518c10e-cc76-4659-9053-be725bb495fd",
   "metadata": {
    "slideshow": {
     "slide_type": "subslide"
    },
    "tags": []
   },
   "source": [
    "<img src=\"resources/elmers_01.png\" alt=\"Drawing\" style=\"width:1050px\"/>"
   ]
  },
  {
   "cell_type": "code",
   "execution_count": null,
   "id": "c860d608-c59f-4ee8-bd2c-051f4b734b35",
   "metadata": {
    "slideshow": {
     "slide_type": "subslide"
    },
    "tags": []
   },
   "outputs": [
    {
     "data": {
      "text/html": [
       "<div>\n",
       "<style scoped>\n",
       "    .dataframe tbody tr th:only-of-type {\n",
       "        vertical-align: middle;\n",
       "    }\n",
       "\n",
       "    .dataframe tbody tr th {\n",
       "        vertical-align: top;\n",
       "    }\n",
       "\n",
       "    .dataframe thead th {\n",
       "        text-align: right;\n",
       "    }\n",
       "</style>\n",
       "<table border=\"1\" class=\"dataframe\">\n",
       "  <thead>\n",
       "    <tr style=\"text-align: right;\">\n",
       "      <th></th>\n",
       "      <th>items_pk_items</th>\n",
       "      <th>items_pubyear</th>\n",
       "      <th>items_pubtype</th>\n",
       "      <th>items_doctype</th>\n",
       "      <th>items_d_author_cnt</th>\n",
       "      <th>items_d_ref_cnt</th>\n",
       "      <th>items_fk_sources</th>\n",
       "    </tr>\n",
       "  </thead>\n",
       "  <tbody>\n",
       "    <tr>\n",
       "      <th>0</th>\n",
       "      <td>315008636</td>\n",
       "      <td>2016</td>\n",
       "      <td>Journal</td>\n",
       "      <td>Article</td>\n",
       "      <td>14</td>\n",
       "      <td>49</td>\n",
       "      <td>97451</td>\n",
       "    </tr>\n",
       "    <tr>\n",
       "      <th>1</th>\n",
       "      <td>25442924902</td>\n",
       "      <td>2009</td>\n",
       "      <td>Journal</td>\n",
       "      <td>Article</td>\n",
       "      <td>12</td>\n",
       "      <td>36</td>\n",
       "      <td>8370</td>\n",
       "    </tr>\n",
       "    <tr>\n",
       "      <th>2</th>\n",
       "      <td>20630132174</td>\n",
       "      <td>2017</td>\n",
       "      <td>Journal</td>\n",
       "      <td>Article</td>\n",
       "      <td>7</td>\n",
       "      <td>20</td>\n",
       "      <td>95039</td>\n",
       "    </tr>\n",
       "    <tr>\n",
       "      <th>3</th>\n",
       "      <td>15011657812</td>\n",
       "      <td>2012</td>\n",
       "      <td>Journal</td>\n",
       "      <td>Article</td>\n",
       "      <td>8</td>\n",
       "      <td>29</td>\n",
       "      <td>97451</td>\n",
       "    </tr>\n",
       "  </tbody>\n",
       "</table>\n",
       "</div>"
      ],
      "text/plain": [
       "   items_pk_items  items_pubyear items_pubtype items_doctype  \\\n",
       "0       315008636           2016       Journal       Article   \n",
       "1     25442924902           2009       Journal       Article   \n",
       "2     20630132174           2017       Journal       Article   \n",
       "3     15011657812           2012       Journal       Article   \n",
       "\n",
       "   items_d_author_cnt  items_d_ref_cnt  items_fk_sources  \n",
       "0                  14               49             97451  \n",
       "1                  12               36              8370  \n",
       "2                   7               20             95039  \n",
       "3                   8               29             97451  "
      ]
     },
     "execution_count": null,
     "metadata": {},
     "output_type": "execute_result"
    }
   ],
   "source": [
    "query1 = (\n",
    "    s.query(Item)\n",
    "    .join(ItemAuthorInstitution)\n",
    "    .group_by(Item.pk_items)\n",
    "    .filter(\n",
    "        ItemAuthorInstitution.fk_authors == 2593200,\n",
    "    )\n",
    ")\n",
    "\n",
    "query2 = (\n",
    "    s.query(Item)\n",
    "    .join(ItemAuthorInstitution)\n",
    "    .group_by(Item.pk_items)\n",
    "    .filter(\n",
    "        ItemAuthorInstitution.fk_authors == 7979166,\n",
    "    )\n",
    ")\n",
    "\n",
    "pd.read_sql(query1.intersect(query2).statement, engine)"
   ]
  },
  {
   "cell_type": "markdown",
   "id": "ddf227bf-42b5-4e21-89b1-9d76de8b7c7b",
   "metadata": {
    "slideshow": {
     "slide_type": "fragment"
    },
    "tags": []
   },
   "source": [
    "<img src=\"resources/elmers_02.png\" alt=\"Drawing\" style=\"width:750px\"/>"
   ]
  },
  {
   "cell_type": "code",
   "execution_count": null,
   "id": "0e1cc5b5-8da5-469f-ab27-dbe5440cd904",
   "metadata": {},
   "outputs": [
    {
     "data": {
      "text/html": [
       "<div>\n",
       "<style scoped>\n",
       "    .dataframe tbody tr th:only-of-type {\n",
       "        vertical-align: middle;\n",
       "    }\n",
       "\n",
       "    .dataframe tbody tr th {\n",
       "        vertical-align: top;\n",
       "    }\n",
       "\n",
       "    .dataframe thead th {\n",
       "        text-align: right;\n",
       "    }\n",
       "</style>\n",
       "<table border=\"1\" class=\"dataframe\">\n",
       "  <thead>\n",
       "    <tr style=\"text-align: right;\">\n",
       "      <th></th>\n",
       "      <th>pk_authors</th>\n",
       "      <th>fullname</th>\n",
       "      <th>middlename</th>\n",
       "      <th>author_group</th>\n",
       "      <th>role</th>\n",
       "      <th>orcid_id</th>\n",
       "      <th>orcid_id_tr</th>\n",
       "      <th>r_id</th>\n",
       "      <th>r_id_tr</th>\n",
       "      <th>author_id</th>\n",
       "      <th>firstname</th>\n",
       "      <th>lastname</th>\n",
       "    </tr>\n",
       "  </thead>\n",
       "  <tbody>\n",
       "    <tr>\n",
       "      <th>11</th>\n",
       "      <td>29279647</td>\n",
       "      <td>Chadov, S</td>\n",
       "      <td>None</td>\n",
       "      <td>None</td>\n",
       "      <td>author</td>\n",
       "      <td>None</td>\n",
       "      <td>None</td>\n",
       "      <td>None</td>\n",
       "      <td>None</td>\n",
       "      <td>268690</td>\n",
       "      <td>S.</td>\n",
       "      <td>Chadov</td>\n",
       "    </tr>\n",
       "    <tr>\n",
       "      <th>8</th>\n",
       "      <td>23677790</td>\n",
       "      <td>Chadov, Stanislav</td>\n",
       "      <td>None</td>\n",
       "      <td>None</td>\n",
       "      <td>researcher_id</td>\n",
       "      <td>0000-0002-1160-1835</td>\n",
       "      <td>None</td>\n",
       "      <td>P-3018-2014</td>\n",
       "      <td>None</td>\n",
       "      <td>268690</td>\n",
       "      <td>Stanislav</td>\n",
       "      <td>Chadov</td>\n",
       "    </tr>\n",
       "    <tr>\n",
       "      <th>1</th>\n",
       "      <td>2593200</td>\n",
       "      <td>Elmers, HJ</td>\n",
       "      <td>None</td>\n",
       "      <td>None</td>\n",
       "      <td>author</td>\n",
       "      <td>None</td>\n",
       "      <td>None</td>\n",
       "      <td>None</td>\n",
       "      <td>None</td>\n",
       "      <td>254623</td>\n",
       "      <td>H. -J.</td>\n",
       "      <td>Elmers</td>\n",
       "    </tr>\n",
       "    <tr>\n",
       "      <th>5</th>\n",
       "      <td>7979166</td>\n",
       "      <td>Elmers, Hans-Joachim</td>\n",
       "      <td>None</td>\n",
       "      <td>None</td>\n",
       "      <td>researcher_id</td>\n",
       "      <td>0000-0002-2525-9954</td>\n",
       "      <td>None</td>\n",
       "      <td>D-6729-2011</td>\n",
       "      <td>None</td>\n",
       "      <td>254623</td>\n",
       "      <td>Hans-Joachim</td>\n",
       "      <td>Elmers</td>\n",
       "    </tr>\n",
       "    <tr>\n",
       "      <th>9</th>\n",
       "      <td>24281925</td>\n",
       "      <td>Felser, C</td>\n",
       "      <td>None</td>\n",
       "      <td>None</td>\n",
       "      <td>author</td>\n",
       "      <td>None</td>\n",
       "      <td>None</td>\n",
       "      <td>None</td>\n",
       "      <td>None</td>\n",
       "      <td>56114</td>\n",
       "      <td>C.</td>\n",
       "      <td>Felser</td>\n",
       "    </tr>\n",
       "    <tr>\n",
       "      <th>0</th>\n",
       "      <td>150669</td>\n",
       "      <td>Felser, Claudia</td>\n",
       "      <td>None</td>\n",
       "      <td>None</td>\n",
       "      <td>researcher_id</td>\n",
       "      <td>0000-0002-8200-2063</td>\n",
       "      <td>None</td>\n",
       "      <td>A-5779-2009</td>\n",
       "      <td>None</td>\n",
       "      <td>56114</td>\n",
       "      <td>Claudia</td>\n",
       "      <td>Felser</td>\n",
       "    </tr>\n",
       "    <tr>\n",
       "      <th>6</th>\n",
       "      <td>16302873</td>\n",
       "      <td>Jorge, EA</td>\n",
       "      <td>None</td>\n",
       "      <td>None</td>\n",
       "      <td>author</td>\n",
       "      <td>None</td>\n",
       "      <td>None</td>\n",
       "      <td>None</td>\n",
       "      <td>None</td>\n",
       "      <td>2138489</td>\n",
       "      <td>E. Arbelo</td>\n",
       "      <td>Jorge</td>\n",
       "    </tr>\n",
       "    <tr>\n",
       "      <th>10</th>\n",
       "      <td>25118251</td>\n",
       "      <td>Jourdan, M</td>\n",
       "      <td>None</td>\n",
       "      <td>None</td>\n",
       "      <td>author</td>\n",
       "      <td>None</td>\n",
       "      <td>None</td>\n",
       "      <td>None</td>\n",
       "      <td>None</td>\n",
       "      <td>289708</td>\n",
       "      <td>M.</td>\n",
       "      <td>Jourdan</td>\n",
       "    </tr>\n",
       "    <tr>\n",
       "      <th>7</th>\n",
       "      <td>18530443</td>\n",
       "      <td>Jourdan, Martin</td>\n",
       "      <td>None</td>\n",
       "      <td>None</td>\n",
       "      <td>researcher_id</td>\n",
       "      <td>0000-0001-6785-0518</td>\n",
       "      <td>None</td>\n",
       "      <td>D-8506-2016</td>\n",
       "      <td>None</td>\n",
       "      <td>289708</td>\n",
       "      <td>Martin</td>\n",
       "      <td>Jourdan</td>\n",
       "    </tr>\n",
       "    <tr>\n",
       "      <th>14</th>\n",
       "      <td>32133706</td>\n",
       "      <td>Klaui, M</td>\n",
       "      <td>None</td>\n",
       "      <td>None</td>\n",
       "      <td>author</td>\n",
       "      <td>None</td>\n",
       "      <td>None</td>\n",
       "      <td>None</td>\n",
       "      <td>None</td>\n",
       "      <td>212282</td>\n",
       "      <td>M.</td>\n",
       "      <td>Klaeui</td>\n",
       "    </tr>\n",
       "    <tr>\n",
       "      <th>3</th>\n",
       "      <td>6861849</td>\n",
       "      <td>Klaui, Mathias</td>\n",
       "      <td>None</td>\n",
       "      <td>None</td>\n",
       "      <td>researcher_id</td>\n",
       "      <td>0000-0002-4848-2569</td>\n",
       "      <td>None</td>\n",
       "      <td>B-6972-2009</td>\n",
       "      <td>None</td>\n",
       "      <td>212282</td>\n",
       "      <td>Mathias</td>\n",
       "      <td>Klaui</td>\n",
       "    </tr>\n",
       "    <tr>\n",
       "      <th>12</th>\n",
       "      <td>30050654</td>\n",
       "      <td>Kolbe, M</td>\n",
       "      <td>None</td>\n",
       "      <td>None</td>\n",
       "      <td>author</td>\n",
       "      <td>None</td>\n",
       "      <td>None</td>\n",
       "      <td>None</td>\n",
       "      <td>None</td>\n",
       "      <td>3115</td>\n",
       "      <td>M.</td>\n",
       "      <td>Kolbe</td>\n",
       "    </tr>\n",
       "    <tr>\n",
       "      <th>13</th>\n",
       "      <td>30050654</td>\n",
       "      <td>Kolbe, M</td>\n",
       "      <td>None</td>\n",
       "      <td>None</td>\n",
       "      <td>author</td>\n",
       "      <td>None</td>\n",
       "      <td>None</td>\n",
       "      <td>None</td>\n",
       "      <td>None</td>\n",
       "      <td>3115</td>\n",
       "      <td>M.</td>\n",
       "      <td>Kolbe</td>\n",
       "    </tr>\n",
       "    <tr>\n",
       "      <th>2</th>\n",
       "      <td>2747017</td>\n",
       "      <td>Schoenhense, Gerd</td>\n",
       "      <td>None</td>\n",
       "      <td>None</td>\n",
       "      <td>researcher_id</td>\n",
       "      <td>None</td>\n",
       "      <td>None</td>\n",
       "      <td>P-7196-2019</td>\n",
       "      <td>None</td>\n",
       "      <td>356638</td>\n",
       "      <td>Gerd</td>\n",
       "      <td>Schoenhense</td>\n",
       "    </tr>\n",
       "    <tr>\n",
       "      <th>4</th>\n",
       "      <td>7485889</td>\n",
       "      <td>Schonhense, G</td>\n",
       "      <td>None</td>\n",
       "      <td>None</td>\n",
       "      <td>author</td>\n",
       "      <td>None</td>\n",
       "      <td>None</td>\n",
       "      <td>None</td>\n",
       "      <td>None</td>\n",
       "      <td>1333719</td>\n",
       "      <td>G.</td>\n",
       "      <td>Schoenhense</td>\n",
       "    </tr>\n",
       "  </tbody>\n",
       "</table>\n",
       "</div>"
      ],
      "text/plain": [
       "    pk_authors              fullname middlename author_group           role  \\\n",
       "11    29279647             Chadov, S       None         None         author   \n",
       "8     23677790     Chadov, Stanislav       None         None  researcher_id   \n",
       "1      2593200            Elmers, HJ       None         None         author   \n",
       "5      7979166  Elmers, Hans-Joachim       None         None  researcher_id   \n",
       "9     24281925             Felser, C       None         None         author   \n",
       "0       150669       Felser, Claudia       None         None  researcher_id   \n",
       "6     16302873             Jorge, EA       None         None         author   \n",
       "10    25118251            Jourdan, M       None         None         author   \n",
       "7     18530443       Jourdan, Martin       None         None  researcher_id   \n",
       "14    32133706              Klaui, M       None         None         author   \n",
       "3      6861849        Klaui, Mathias       None         None  researcher_id   \n",
       "12    30050654              Kolbe, M       None         None         author   \n",
       "13    30050654              Kolbe, M       None         None         author   \n",
       "2      2747017     Schoenhense, Gerd       None         None  researcher_id   \n",
       "4      7485889         Schonhense, G       None         None         author   \n",
       "\n",
       "               orcid_id orcid_id_tr         r_id r_id_tr  author_id  \\\n",
       "11                 None        None         None    None     268690   \n",
       "8   0000-0002-1160-1835        None  P-3018-2014    None     268690   \n",
       "1                  None        None         None    None     254623   \n",
       "5   0000-0002-2525-9954        None  D-6729-2011    None     254623   \n",
       "9                  None        None         None    None      56114   \n",
       "0   0000-0002-8200-2063        None  A-5779-2009    None      56114   \n",
       "6                  None        None         None    None    2138489   \n",
       "10                 None        None         None    None     289708   \n",
       "7   0000-0001-6785-0518        None  D-8506-2016    None     289708   \n",
       "14                 None        None         None    None     212282   \n",
       "3   0000-0002-4848-2569        None  B-6972-2009    None     212282   \n",
       "12                 None        None         None    None       3115   \n",
       "13                 None        None         None    None       3115   \n",
       "2                  None        None  P-7196-2019    None     356638   \n",
       "4                  None        None         None    None    1333719   \n",
       "\n",
       "       firstname     lastname  \n",
       "11            S.       Chadov  \n",
       "8      Stanislav       Chadov  \n",
       "1         H. -J.       Elmers  \n",
       "5   Hans-Joachim       Elmers  \n",
       "9             C.       Felser  \n",
       "0        Claudia       Felser  \n",
       "6      E. Arbelo        Jorge  \n",
       "10            M.      Jourdan  \n",
       "7         Martin      Jourdan  \n",
       "14            M.       Klaeui  \n",
       "3        Mathias        Klaui  \n",
       "12            M.        Kolbe  \n",
       "13            M.        Kolbe  \n",
       "2           Gerd  Schoenhense  \n",
       "4             G.  Schoenhense  "
      ]
     },
     "execution_count": null,
     "metadata": {},
     "output_type": "execute_result"
    }
   ],
   "source": [
    "query = (\n",
    "    s.query(Item)\n",
    "    .join(ItemAuthorInstitution)\n",
    "    .join(Author)\n",
    "    .filter(Item.pk_items == 15011657812)\n",
    "    .with_entities(Author)\n",
    ")\n",
    "\n",
    "pd.read_sql(query.statement, engine).sort_values(\"fullname\")"
   ]
  },
  {
   "cell_type": "markdown",
   "id": "b313a318-8bb5-4057-999e-8e3de44f946d",
   "metadata": {
    "slideshow": {
     "slide_type": "subslide"
    },
    "tags": []
   },
   "source": [
    "<img src=\"resources/elmers_03.png\" alt=\"Drawing\" style=\"width:1070px\"/>"
   ]
  },
  {
   "cell_type": "markdown",
   "id": "0f7a88a5-b438-4af7-bbdc-570e5a36ae32",
   "metadata": {
    "slideshow": {
     "slide_type": "slide"
    },
    "tags": []
   },
   "source": [
    "# Institutionen im Datensatz"
   ]
  },
  {
   "cell_type": "code",
   "execution_count": null,
   "id": "ea01a410-f12e-4f84-9327-d2b6ed5ec1b0",
   "metadata": {
    "slideshow": {
     "slide_type": "subslide"
    },
    "tags": []
   },
   "outputs": [],
   "source": [
    "query = (\n",
    "    s.query(ABDInstitution)\n",
    "    .join(Institution)\n",
    "    .group_by(ABDInstitution.id)\n",
    "    .with_entities(\n",
    "        ABDInstitution.id,\n",
    "        sa.func.count(Institution.pk_institutions).label(\"n_institutions\"),\n",
    "    )\n",
    ")\n",
    "\n",
    "df = pd.read_sql(query.statement, engine)"
   ]
  },
  {
   "cell_type": "code",
   "execution_count": null,
   "id": "7b607934-d9d3-48d7-b38b-dd887714e2e2",
   "metadata": {
    "slideshow": {
     "slide_type": "fragment"
    },
    "tags": []
   },
   "outputs": [
    {
     "data": {
      "text/plain": [
       "count    35951.000000\n",
       "mean        69.943812\n",
       "std        442.662943\n",
       "min          1.000000\n",
       "25%          2.000000\n",
       "50%          4.000000\n",
       "75%         19.000000\n",
       "max      33478.000000\n",
       "Name: n_institutions, dtype: float64"
      ]
     },
     "execution_count": null,
     "metadata": {},
     "output_type": "execute_result"
    }
   ],
   "source": [
    "df[\"n_institutions\"].describe()"
   ]
  },
  {
   "cell_type": "code",
   "execution_count": null,
   "id": "c3bd59a8-03f8-44c1-b71d-97a7aa31a98d",
   "metadata": {
    "slideshow": {
     "slide_type": "subslide"
    },
    "tags": []
   },
   "outputs": [],
   "source": [
    "df[\"n\"] = 1\n",
    "df = df.groupby(\"n_institutions\")[\"n\"].sum().reset_index()"
   ]
  },
  {
   "cell_type": "code",
   "execution_count": null,
   "id": "5a5fc7e7-96e1-4b94-aef3-5ff60c285396",
   "metadata": {
    "slideshow": {
     "slide_type": "fragment"
    },
    "tags": []
   },
   "outputs": [],
   "source": [
    "log_scaled = (\n",
    "    alt.Chart(df)\n",
    "    .mark_area()\n",
    "    .encode(\n",
    "        alt.X(\"n_institutions:Q\", scale=alt.Scale(type=\"log\")),\n",
    "        alt.Y(\"n:Q\", scale=alt.Scale(type=\"log\")),\n",
    "    )\n",
    ")\n",
    "\n",
    "reduced = (\n",
    "    alt.Chart(df.loc[df[\"n_institutions\"] < 500])\n",
    "    .mark_line()\n",
    "    .encode(\n",
    "        alt.X(\"n_institutions:Q\"),\n",
    "        alt.Y(\"n:Q\", scale=alt.Scale(type=\"log\")),\n",
    "    )\n",
    ")"
   ]
  },
  {
   "cell_type": "code",
   "execution_count": null,
   "id": "aa2c7b01-3db1-42c1-8d58-8ad8886ce9ef",
   "metadata": {
    "slideshow": {
     "slide_type": "subslide"
    },
    "tags": []
   },
   "outputs": [
    {
     "data": {
      "application/vnd.vegalite.v4+json": {
       "$schema": "https://vega.github.io/schema/vega-lite/v4.8.1.json",
       "config": {
        "view": {
         "continuousHeight": 300,
         "continuousWidth": 400
        }
       },
       "datasets": {
        "data-60f1667bf13c16c151c6a4095e5ba413": [
         {
          "n": 8941,
          "n_institutions": 1
         },
         {
          "n": 4408,
          "n_institutions": 2
         },
         {
          "n": 2717,
          "n_institutions": 3
         },
         {
          "n": 1950,
          "n_institutions": 4
         },
         {
          "n": 1455,
          "n_institutions": 5
         },
         {
          "n": 1150,
          "n_institutions": 6
         },
         {
          "n": 939,
          "n_institutions": 7
         },
         {
          "n": 835,
          "n_institutions": 8
         },
         {
          "n": 690,
          "n_institutions": 9
         },
         {
          "n": 614,
          "n_institutions": 10
         },
         {
          "n": 525,
          "n_institutions": 11
         },
         {
          "n": 494,
          "n_institutions": 12
         },
         {
          "n": 464,
          "n_institutions": 13
         },
         {
          "n": 404,
          "n_institutions": 14
         },
         {
          "n": 350,
          "n_institutions": 15
         },
         {
          "n": 316,
          "n_institutions": 16
         },
         {
          "n": 313,
          "n_institutions": 17
         },
         {
          "n": 255,
          "n_institutions": 18
         },
         {
          "n": 261,
          "n_institutions": 19
         },
         {
          "n": 216,
          "n_institutions": 20
         },
         {
          "n": 213,
          "n_institutions": 21
         },
         {
          "n": 237,
          "n_institutions": 22
         },
         {
          "n": 187,
          "n_institutions": 23
         },
         {
          "n": 158,
          "n_institutions": 24
         },
         {
          "n": 173,
          "n_institutions": 25
         },
         {
          "n": 156,
          "n_institutions": 26
         },
         {
          "n": 154,
          "n_institutions": 27
         },
         {
          "n": 137,
          "n_institutions": 28
         },
         {
          "n": 146,
          "n_institutions": 29
         },
         {
          "n": 123,
          "n_institutions": 30
         },
         {
          "n": 119,
          "n_institutions": 31
         },
         {
          "n": 132,
          "n_institutions": 32
         },
         {
          "n": 105,
          "n_institutions": 33
         },
         {
          "n": 99,
          "n_institutions": 34
         },
         {
          "n": 100,
          "n_institutions": 35
         },
         {
          "n": 103,
          "n_institutions": 36
         },
         {
          "n": 116,
          "n_institutions": 37
         },
         {
          "n": 87,
          "n_institutions": 38
         },
         {
          "n": 81,
          "n_institutions": 39
         },
         {
          "n": 107,
          "n_institutions": 40
         },
         {
          "n": 81,
          "n_institutions": 41
         },
         {
          "n": 84,
          "n_institutions": 42
         },
         {
          "n": 74,
          "n_institutions": 43
         },
         {
          "n": 57,
          "n_institutions": 44
         },
         {
          "n": 77,
          "n_institutions": 45
         },
         {
          "n": 56,
          "n_institutions": 46
         },
         {
          "n": 79,
          "n_institutions": 47
         },
         {
          "n": 64,
          "n_institutions": 48
         },
         {
          "n": 67,
          "n_institutions": 49
         },
         {
          "n": 82,
          "n_institutions": 50
         },
         {
          "n": 63,
          "n_institutions": 51
         },
         {
          "n": 68,
          "n_institutions": 52
         },
         {
          "n": 65,
          "n_institutions": 53
         },
         {
          "n": 46,
          "n_institutions": 54
         },
         {
          "n": 43,
          "n_institutions": 55
         },
         {
          "n": 58,
          "n_institutions": 56
         },
         {
          "n": 55,
          "n_institutions": 57
         },
         {
          "n": 53,
          "n_institutions": 58
         },
         {
          "n": 55,
          "n_institutions": 59
         },
         {
          "n": 48,
          "n_institutions": 60
         },
         {
          "n": 48,
          "n_institutions": 61
         },
         {
          "n": 52,
          "n_institutions": 62
         },
         {
          "n": 30,
          "n_institutions": 63
         },
         {
          "n": 50,
          "n_institutions": 64
         },
         {
          "n": 46,
          "n_institutions": 65
         },
         {
          "n": 52,
          "n_institutions": 66
         },
         {
          "n": 29,
          "n_institutions": 67
         },
         {
          "n": 31,
          "n_institutions": 68
         },
         {
          "n": 43,
          "n_institutions": 69
         },
         {
          "n": 42,
          "n_institutions": 70
         },
         {
          "n": 44,
          "n_institutions": 71
         },
         {
          "n": 47,
          "n_institutions": 72
         },
         {
          "n": 36,
          "n_institutions": 73
         },
         {
          "n": 28,
          "n_institutions": 74
         },
         {
          "n": 35,
          "n_institutions": 75
         },
         {
          "n": 37,
          "n_institutions": 76
         },
         {
          "n": 28,
          "n_institutions": 77
         },
         {
          "n": 32,
          "n_institutions": 78
         },
         {
          "n": 38,
          "n_institutions": 79
         },
         {
          "n": 35,
          "n_institutions": 80
         },
         {
          "n": 27,
          "n_institutions": 81
         },
         {
          "n": 34,
          "n_institutions": 82
         },
         {
          "n": 25,
          "n_institutions": 83
         },
         {
          "n": 28,
          "n_institutions": 84
         },
         {
          "n": 24,
          "n_institutions": 85
         },
         {
          "n": 27,
          "n_institutions": 86
         },
         {
          "n": 29,
          "n_institutions": 87
         },
         {
          "n": 25,
          "n_institutions": 88
         },
         {
          "n": 33,
          "n_institutions": 89
         },
         {
          "n": 33,
          "n_institutions": 90
         },
         {
          "n": 24,
          "n_institutions": 91
         },
         {
          "n": 31,
          "n_institutions": 92
         },
         {
          "n": 18,
          "n_institutions": 93
         },
         {
          "n": 30,
          "n_institutions": 94
         },
         {
          "n": 27,
          "n_institutions": 95
         },
         {
          "n": 20,
          "n_institutions": 96
         },
         {
          "n": 23,
          "n_institutions": 97
         },
         {
          "n": 14,
          "n_institutions": 98
         },
         {
          "n": 29,
          "n_institutions": 99
         },
         {
          "n": 24,
          "n_institutions": 100
         },
         {
          "n": 23,
          "n_institutions": 101
         },
         {
          "n": 28,
          "n_institutions": 102
         },
         {
          "n": 24,
          "n_institutions": 103
         },
         {
          "n": 27,
          "n_institutions": 104
         },
         {
          "n": 26,
          "n_institutions": 105
         },
         {
          "n": 28,
          "n_institutions": 106
         },
         {
          "n": 25,
          "n_institutions": 107
         },
         {
          "n": 24,
          "n_institutions": 108
         },
         {
          "n": 18,
          "n_institutions": 109
         },
         {
          "n": 22,
          "n_institutions": 110
         },
         {
          "n": 14,
          "n_institutions": 111
         },
         {
          "n": 21,
          "n_institutions": 112
         },
         {
          "n": 19,
          "n_institutions": 113
         },
         {
          "n": 28,
          "n_institutions": 114
         },
         {
          "n": 24,
          "n_institutions": 115
         },
         {
          "n": 24,
          "n_institutions": 116
         },
         {
          "n": 12,
          "n_institutions": 117
         },
         {
          "n": 30,
          "n_institutions": 118
         },
         {
          "n": 15,
          "n_institutions": 119
         },
         {
          "n": 14,
          "n_institutions": 120
         },
         {
          "n": 16,
          "n_institutions": 121
         },
         {
          "n": 11,
          "n_institutions": 122
         },
         {
          "n": 12,
          "n_institutions": 123
         },
         {
          "n": 20,
          "n_institutions": 124
         },
         {
          "n": 18,
          "n_institutions": 125
         },
         {
          "n": 14,
          "n_institutions": 126
         },
         {
          "n": 19,
          "n_institutions": 127
         },
         {
          "n": 12,
          "n_institutions": 128
         },
         {
          "n": 19,
          "n_institutions": 129
         },
         {
          "n": 17,
          "n_institutions": 130
         },
         {
          "n": 19,
          "n_institutions": 131
         },
         {
          "n": 17,
          "n_institutions": 132
         },
         {
          "n": 16,
          "n_institutions": 133
         },
         {
          "n": 20,
          "n_institutions": 134
         },
         {
          "n": 13,
          "n_institutions": 135
         },
         {
          "n": 9,
          "n_institutions": 136
         },
         {
          "n": 22,
          "n_institutions": 137
         },
         {
          "n": 11,
          "n_institutions": 138
         },
         {
          "n": 12,
          "n_institutions": 139
         },
         {
          "n": 16,
          "n_institutions": 140
         },
         {
          "n": 15,
          "n_institutions": 141
         },
         {
          "n": 9,
          "n_institutions": 142
         },
         {
          "n": 16,
          "n_institutions": 143
         },
         {
          "n": 10,
          "n_institutions": 144
         },
         {
          "n": 16,
          "n_institutions": 145
         },
         {
          "n": 11,
          "n_institutions": 146
         },
         {
          "n": 18,
          "n_institutions": 147
         },
         {
          "n": 10,
          "n_institutions": 148
         },
         {
          "n": 15,
          "n_institutions": 149
         },
         {
          "n": 14,
          "n_institutions": 150
         },
         {
          "n": 18,
          "n_institutions": 151
         },
         {
          "n": 9,
          "n_institutions": 152
         },
         {
          "n": 17,
          "n_institutions": 153
         },
         {
          "n": 12,
          "n_institutions": 154
         },
         {
          "n": 10,
          "n_institutions": 155
         },
         {
          "n": 12,
          "n_institutions": 156
         },
         {
          "n": 15,
          "n_institutions": 157
         },
         {
          "n": 7,
          "n_institutions": 158
         },
         {
          "n": 8,
          "n_institutions": 159
         },
         {
          "n": 16,
          "n_institutions": 160
         },
         {
          "n": 13,
          "n_institutions": 161
         },
         {
          "n": 17,
          "n_institutions": 162
         },
         {
          "n": 8,
          "n_institutions": 163
         },
         {
          "n": 9,
          "n_institutions": 164
         },
         {
          "n": 13,
          "n_institutions": 165
         },
         {
          "n": 6,
          "n_institutions": 166
         },
         {
          "n": 13,
          "n_institutions": 167
         },
         {
          "n": 10,
          "n_institutions": 168
         },
         {
          "n": 10,
          "n_institutions": 169
         },
         {
          "n": 5,
          "n_institutions": 170
         },
         {
          "n": 14,
          "n_institutions": 171
         },
         {
          "n": 5,
          "n_institutions": 172
         },
         {
          "n": 9,
          "n_institutions": 173
         },
         {
          "n": 4,
          "n_institutions": 174
         },
         {
          "n": 9,
          "n_institutions": 175
         },
         {
          "n": 9,
          "n_institutions": 176
         },
         {
          "n": 8,
          "n_institutions": 177
         },
         {
          "n": 8,
          "n_institutions": 178
         },
         {
          "n": 11,
          "n_institutions": 179
         },
         {
          "n": 13,
          "n_institutions": 180
         },
         {
          "n": 10,
          "n_institutions": 181
         },
         {
          "n": 10,
          "n_institutions": 182
         },
         {
          "n": 9,
          "n_institutions": 183
         },
         {
          "n": 9,
          "n_institutions": 184
         },
         {
          "n": 5,
          "n_institutions": 185
         },
         {
          "n": 7,
          "n_institutions": 186
         },
         {
          "n": 6,
          "n_institutions": 187
         },
         {
          "n": 12,
          "n_institutions": 188
         },
         {
          "n": 11,
          "n_institutions": 189
         },
         {
          "n": 6,
          "n_institutions": 190
         },
         {
          "n": 7,
          "n_institutions": 191
         },
         {
          "n": 6,
          "n_institutions": 192
         },
         {
          "n": 8,
          "n_institutions": 193
         },
         {
          "n": 11,
          "n_institutions": 194
         },
         {
          "n": 8,
          "n_institutions": 195
         },
         {
          "n": 11,
          "n_institutions": 196
         },
         {
          "n": 11,
          "n_institutions": 197
         },
         {
          "n": 13,
          "n_institutions": 198
         },
         {
          "n": 3,
          "n_institutions": 199
         },
         {
          "n": 9,
          "n_institutions": 200
         },
         {
          "n": 3,
          "n_institutions": 201
         },
         {
          "n": 6,
          "n_institutions": 202
         },
         {
          "n": 8,
          "n_institutions": 203
         },
         {
          "n": 11,
          "n_institutions": 204
         },
         {
          "n": 5,
          "n_institutions": 205
         },
         {
          "n": 9,
          "n_institutions": 206
         },
         {
          "n": 7,
          "n_institutions": 207
         },
         {
          "n": 7,
          "n_institutions": 208
         },
         {
          "n": 6,
          "n_institutions": 209
         },
         {
          "n": 4,
          "n_institutions": 210
         },
         {
          "n": 4,
          "n_institutions": 211
         },
         {
          "n": 7,
          "n_institutions": 212
         },
         {
          "n": 7,
          "n_institutions": 213
         },
         {
          "n": 4,
          "n_institutions": 214
         },
         {
          "n": 3,
          "n_institutions": 215
         },
         {
          "n": 8,
          "n_institutions": 216
         },
         {
          "n": 3,
          "n_institutions": 217
         },
         {
          "n": 8,
          "n_institutions": 218
         },
         {
          "n": 9,
          "n_institutions": 219
         },
         {
          "n": 3,
          "n_institutions": 220
         },
         {
          "n": 4,
          "n_institutions": 221
         },
         {
          "n": 7,
          "n_institutions": 222
         },
         {
          "n": 7,
          "n_institutions": 223
         },
         {
          "n": 6,
          "n_institutions": 224
         },
         {
          "n": 9,
          "n_institutions": 225
         },
         {
          "n": 6,
          "n_institutions": 226
         },
         {
          "n": 5,
          "n_institutions": 227
         },
         {
          "n": 7,
          "n_institutions": 228
         },
         {
          "n": 7,
          "n_institutions": 229
         },
         {
          "n": 9,
          "n_institutions": 230
         },
         {
          "n": 5,
          "n_institutions": 231
         },
         {
          "n": 5,
          "n_institutions": 232
         },
         {
          "n": 8,
          "n_institutions": 233
         },
         {
          "n": 9,
          "n_institutions": 234
         },
         {
          "n": 2,
          "n_institutions": 235
         },
         {
          "n": 2,
          "n_institutions": 236
         },
         {
          "n": 3,
          "n_institutions": 237
         },
         {
          "n": 4,
          "n_institutions": 238
         },
         {
          "n": 2,
          "n_institutions": 239
         },
         {
          "n": 6,
          "n_institutions": 240
         },
         {
          "n": 6,
          "n_institutions": 241
         },
         {
          "n": 12,
          "n_institutions": 242
         },
         {
          "n": 5,
          "n_institutions": 243
         },
         {
          "n": 5,
          "n_institutions": 244
         },
         {
          "n": 4,
          "n_institutions": 245
         },
         {
          "n": 6,
          "n_institutions": 246
         },
         {
          "n": 7,
          "n_institutions": 247
         },
         {
          "n": 2,
          "n_institutions": 248
         },
         {
          "n": 2,
          "n_institutions": 249
         },
         {
          "n": 6,
          "n_institutions": 250
         },
         {
          "n": 2,
          "n_institutions": 251
         },
         {
          "n": 12,
          "n_institutions": 252
         },
         {
          "n": 5,
          "n_institutions": 253
         },
         {
          "n": 2,
          "n_institutions": 254
         },
         {
          "n": 4,
          "n_institutions": 255
         },
         {
          "n": 10,
          "n_institutions": 256
         },
         {
          "n": 10,
          "n_institutions": 257
         },
         {
          "n": 11,
          "n_institutions": 258
         },
         {
          "n": 7,
          "n_institutions": 259
         },
         {
          "n": 3,
          "n_institutions": 260
         },
         {
          "n": 5,
          "n_institutions": 261
         },
         {
          "n": 4,
          "n_institutions": 262
         },
         {
          "n": 3,
          "n_institutions": 263
         },
         {
          "n": 2,
          "n_institutions": 264
         },
         {
          "n": 2,
          "n_institutions": 265
         },
         {
          "n": 7,
          "n_institutions": 266
         },
         {
          "n": 2,
          "n_institutions": 267
         },
         {
          "n": 5,
          "n_institutions": 268
         },
         {
          "n": 4,
          "n_institutions": 269
         },
         {
          "n": 5,
          "n_institutions": 270
         },
         {
          "n": 3,
          "n_institutions": 271
         },
         {
          "n": 6,
          "n_institutions": 272
         },
         {
          "n": 2,
          "n_institutions": 273
         },
         {
          "n": 6,
          "n_institutions": 274
         },
         {
          "n": 4,
          "n_institutions": 275
         },
         {
          "n": 7,
          "n_institutions": 276
         },
         {
          "n": 7,
          "n_institutions": 277
         },
         {
          "n": 5,
          "n_institutions": 278
         },
         {
          "n": 7,
          "n_institutions": 279
         },
         {
          "n": 1,
          "n_institutions": 280
         },
         {
          "n": 7,
          "n_institutions": 281
         },
         {
          "n": 4,
          "n_institutions": 282
         },
         {
          "n": 5,
          "n_institutions": 283
         },
         {
          "n": 6,
          "n_institutions": 284
         },
         {
          "n": 5,
          "n_institutions": 285
         },
         {
          "n": 3,
          "n_institutions": 286
         },
         {
          "n": 6,
          "n_institutions": 287
         },
         {
          "n": 5,
          "n_institutions": 288
         },
         {
          "n": 2,
          "n_institutions": 289
         },
         {
          "n": 6,
          "n_institutions": 290
         },
         {
          "n": 3,
          "n_institutions": 291
         },
         {
          "n": 4,
          "n_institutions": 292
         },
         {
          "n": 2,
          "n_institutions": 293
         },
         {
          "n": 2,
          "n_institutions": 294
         },
         {
          "n": 7,
          "n_institutions": 295
         },
         {
          "n": 4,
          "n_institutions": 296
         },
         {
          "n": 5,
          "n_institutions": 297
         },
         {
          "n": 4,
          "n_institutions": 298
         },
         {
          "n": 4,
          "n_institutions": 299
         },
         {
          "n": 4,
          "n_institutions": 300
         },
         {
          "n": 3,
          "n_institutions": 301
         },
         {
          "n": 2,
          "n_institutions": 302
         },
         {
          "n": 3,
          "n_institutions": 303
         },
         {
          "n": 2,
          "n_institutions": 304
         },
         {
          "n": 4,
          "n_institutions": 305
         },
         {
          "n": 2,
          "n_institutions": 306
         },
         {
          "n": 3,
          "n_institutions": 307
         },
         {
          "n": 1,
          "n_institutions": 308
         },
         {
          "n": 3,
          "n_institutions": 309
         },
         {
          "n": 1,
          "n_institutions": 310
         },
         {
          "n": 4,
          "n_institutions": 311
         },
         {
          "n": 1,
          "n_institutions": 312
         },
         {
          "n": 3,
          "n_institutions": 313
         },
         {
          "n": 6,
          "n_institutions": 314
         },
         {
          "n": 2,
          "n_institutions": 315
         },
         {
          "n": 2,
          "n_institutions": 316
         },
         {
          "n": 2,
          "n_institutions": 317
         },
         {
          "n": 2,
          "n_institutions": 318
         },
         {
          "n": 6,
          "n_institutions": 319
         },
         {
          "n": 2,
          "n_institutions": 320
         },
         {
          "n": 5,
          "n_institutions": 321
         },
         {
          "n": 1,
          "n_institutions": 322
         },
         {
          "n": 8,
          "n_institutions": 323
         },
         {
          "n": 4,
          "n_institutions": 324
         },
         {
          "n": 2,
          "n_institutions": 325
         },
         {
          "n": 2,
          "n_institutions": 326
         },
         {
          "n": 3,
          "n_institutions": 327
         },
         {
          "n": 2,
          "n_institutions": 328
         },
         {
          "n": 7,
          "n_institutions": 329
         },
         {
          "n": 2,
          "n_institutions": 330
         },
         {
          "n": 4,
          "n_institutions": 331
         },
         {
          "n": 5,
          "n_institutions": 332
         },
         {
          "n": 5,
          "n_institutions": 333
         },
         {
          "n": 2,
          "n_institutions": 334
         },
         {
          "n": 2,
          "n_institutions": 335
         },
         {
          "n": 2,
          "n_institutions": 336
         },
         {
          "n": 4,
          "n_institutions": 337
         },
         {
          "n": 1,
          "n_institutions": 338
         },
         {
          "n": 2,
          "n_institutions": 339
         },
         {
          "n": 6,
          "n_institutions": 341
         },
         {
          "n": 2,
          "n_institutions": 342
         },
         {
          "n": 3,
          "n_institutions": 343
         },
         {
          "n": 2,
          "n_institutions": 344
         },
         {
          "n": 4,
          "n_institutions": 345
         },
         {
          "n": 7,
          "n_institutions": 346
         },
         {
          "n": 2,
          "n_institutions": 347
         },
         {
          "n": 3,
          "n_institutions": 348
         },
         {
          "n": 2,
          "n_institutions": 349
         },
         {
          "n": 5,
          "n_institutions": 351
         },
         {
          "n": 3,
          "n_institutions": 352
         },
         {
          "n": 2,
          "n_institutions": 353
         },
         {
          "n": 1,
          "n_institutions": 354
         },
         {
          "n": 3,
          "n_institutions": 355
         },
         {
          "n": 4,
          "n_institutions": 356
         },
         {
          "n": 5,
          "n_institutions": 357
         },
         {
          "n": 5,
          "n_institutions": 359
         },
         {
          "n": 2,
          "n_institutions": 360
         },
         {
          "n": 2,
          "n_institutions": 361
         },
         {
          "n": 1,
          "n_institutions": 362
         },
         {
          "n": 3,
          "n_institutions": 363
         },
         {
          "n": 2,
          "n_institutions": 364
         },
         {
          "n": 4,
          "n_institutions": 365
         },
         {
          "n": 1,
          "n_institutions": 367
         },
         {
          "n": 1,
          "n_institutions": 368
         },
         {
          "n": 2,
          "n_institutions": 370
         },
         {
          "n": 4,
          "n_institutions": 371
         },
         {
          "n": 4,
          "n_institutions": 372
         },
         {
          "n": 4,
          "n_institutions": 373
         },
         {
          "n": 2,
          "n_institutions": 374
         },
         {
          "n": 3,
          "n_institutions": 375
         },
         {
          "n": 2,
          "n_institutions": 376
         },
         {
          "n": 6,
          "n_institutions": 377
         },
         {
          "n": 2,
          "n_institutions": 378
         },
         {
          "n": 1,
          "n_institutions": 379
         },
         {
          "n": 2,
          "n_institutions": 380
         },
         {
          "n": 1,
          "n_institutions": 381
         },
         {
          "n": 2,
          "n_institutions": 382
         },
         {
          "n": 1,
          "n_institutions": 383
         },
         {
          "n": 2,
          "n_institutions": 384
         },
         {
          "n": 7,
          "n_institutions": 385
         },
         {
          "n": 3,
          "n_institutions": 386
         },
         {
          "n": 3,
          "n_institutions": 387
         },
         {
          "n": 2,
          "n_institutions": 388
         },
         {
          "n": 1,
          "n_institutions": 389
         },
         {
          "n": 3,
          "n_institutions": 390
         },
         {
          "n": 1,
          "n_institutions": 391
         },
         {
          "n": 7,
          "n_institutions": 392
         },
         {
          "n": 2,
          "n_institutions": 393
         },
         {
          "n": 2,
          "n_institutions": 394
         },
         {
          "n": 1,
          "n_institutions": 395
         },
         {
          "n": 1,
          "n_institutions": 396
         },
         {
          "n": 2,
          "n_institutions": 397
         },
         {
          "n": 3,
          "n_institutions": 398
         },
         {
          "n": 1,
          "n_institutions": 399
         },
         {
          "n": 2,
          "n_institutions": 400
         },
         {
          "n": 5,
          "n_institutions": 401
         },
         {
          "n": 2,
          "n_institutions": 402
         },
         {
          "n": 2,
          "n_institutions": 403
         },
         {
          "n": 3,
          "n_institutions": 404
         },
         {
          "n": 2,
          "n_institutions": 405
         },
         {
          "n": 3,
          "n_institutions": 406
         },
         {
          "n": 2,
          "n_institutions": 407
         },
         {
          "n": 1,
          "n_institutions": 408
         },
         {
          "n": 3,
          "n_institutions": 409
         },
         {
          "n": 3,
          "n_institutions": 410
         },
         {
          "n": 7,
          "n_institutions": 411
         },
         {
          "n": 2,
          "n_institutions": 412
         },
         {
          "n": 6,
          "n_institutions": 413
         },
         {
          "n": 1,
          "n_institutions": 414
         },
         {
          "n": 3,
          "n_institutions": 415
         },
         {
          "n": 3,
          "n_institutions": 416
         },
         {
          "n": 3,
          "n_institutions": 417
         },
         {
          "n": 3,
          "n_institutions": 418
         },
         {
          "n": 2,
          "n_institutions": 419
         },
         {
          "n": 2,
          "n_institutions": 420
         },
         {
          "n": 2,
          "n_institutions": 421
         },
         {
          "n": 3,
          "n_institutions": 422
         },
         {
          "n": 2,
          "n_institutions": 423
         },
         {
          "n": 4,
          "n_institutions": 424
         },
         {
          "n": 2,
          "n_institutions": 425
         },
         {
          "n": 2,
          "n_institutions": 426
         },
         {
          "n": 1,
          "n_institutions": 427
         },
         {
          "n": 1,
          "n_institutions": 428
         },
         {
          "n": 2,
          "n_institutions": 429
         },
         {
          "n": 1,
          "n_institutions": 430
         },
         {
          "n": 1,
          "n_institutions": 431
         },
         {
          "n": 1,
          "n_institutions": 433
         },
         {
          "n": 4,
          "n_institutions": 434
         },
         {
          "n": 2,
          "n_institutions": 436
         },
         {
          "n": 5,
          "n_institutions": 437
         },
         {
          "n": 1,
          "n_institutions": 438
         },
         {
          "n": 4,
          "n_institutions": 440
         },
         {
          "n": 4,
          "n_institutions": 441
         },
         {
          "n": 2,
          "n_institutions": 442
         },
         {
          "n": 2,
          "n_institutions": 443
         },
         {
          "n": 3,
          "n_institutions": 444
         },
         {
          "n": 2,
          "n_institutions": 445
         },
         {
          "n": 3,
          "n_institutions": 446
         },
         {
          "n": 4,
          "n_institutions": 447
         },
         {
          "n": 2,
          "n_institutions": 448
         },
         {
          "n": 1,
          "n_institutions": 449
         },
         {
          "n": 3,
          "n_institutions": 450
         },
         {
          "n": 1,
          "n_institutions": 451
         },
         {
          "n": 4,
          "n_institutions": 452
         },
         {
          "n": 1,
          "n_institutions": 453
         },
         {
          "n": 3,
          "n_institutions": 455
         },
         {
          "n": 5,
          "n_institutions": 456
         },
         {
          "n": 3,
          "n_institutions": 457
         },
         {
          "n": 2,
          "n_institutions": 458
         },
         {
          "n": 2,
          "n_institutions": 459
         },
         {
          "n": 1,
          "n_institutions": 461
         },
         {
          "n": 3,
          "n_institutions": 462
         },
         {
          "n": 2,
          "n_institutions": 463
         },
         {
          "n": 1,
          "n_institutions": 464
         },
         {
          "n": 4,
          "n_institutions": 465
         },
         {
          "n": 2,
          "n_institutions": 466
         },
         {
          "n": 2,
          "n_institutions": 467
         },
         {
          "n": 1,
          "n_institutions": 468
         },
         {
          "n": 4,
          "n_institutions": 470
         },
         {
          "n": 3,
          "n_institutions": 471
         },
         {
          "n": 2,
          "n_institutions": 472
         },
         {
          "n": 2,
          "n_institutions": 473
         },
         {
          "n": 5,
          "n_institutions": 474
         },
         {
          "n": 3,
          "n_institutions": 475
         },
         {
          "n": 1,
          "n_institutions": 477
         },
         {
          "n": 2,
          "n_institutions": 478
         },
         {
          "n": 1,
          "n_institutions": 479
         },
         {
          "n": 1,
          "n_institutions": 480
         },
         {
          "n": 2,
          "n_institutions": 482
         },
         {
          "n": 2,
          "n_institutions": 483
         },
         {
          "n": 2,
          "n_institutions": 484
         },
         {
          "n": 4,
          "n_institutions": 485
         },
         {
          "n": 2,
          "n_institutions": 486
         },
         {
          "n": 3,
          "n_institutions": 487
         },
         {
          "n": 2,
          "n_institutions": 488
         },
         {
          "n": 1,
          "n_institutions": 489
         },
         {
          "n": 1,
          "n_institutions": 490
         },
         {
          "n": 1,
          "n_institutions": 491
         },
         {
          "n": 3,
          "n_institutions": 492
         },
         {
          "n": 3,
          "n_institutions": 493
         },
         {
          "n": 1,
          "n_institutions": 494
         },
         {
          "n": 4,
          "n_institutions": 495
         },
         {
          "n": 4,
          "n_institutions": 498
         },
         {
          "n": 1,
          "n_institutions": 500
         },
         {
          "n": 1,
          "n_institutions": 503
         },
         {
          "n": 2,
          "n_institutions": 504
         },
         {
          "n": 1,
          "n_institutions": 505
         },
         {
          "n": 1,
          "n_institutions": 507
         },
         {
          "n": 1,
          "n_institutions": 508
         },
         {
          "n": 1,
          "n_institutions": 509
         },
         {
          "n": 3,
          "n_institutions": 510
         },
         {
          "n": 2,
          "n_institutions": 511
         },
         {
          "n": 1,
          "n_institutions": 513
         },
         {
          "n": 3,
          "n_institutions": 514
         },
         {
          "n": 1,
          "n_institutions": 515
         },
         {
          "n": 1,
          "n_institutions": 516
         },
         {
          "n": 4,
          "n_institutions": 517
         },
         {
          "n": 4,
          "n_institutions": 518
         },
         {
          "n": 2,
          "n_institutions": 519
         },
         {
          "n": 1,
          "n_institutions": 520
         },
         {
          "n": 3,
          "n_institutions": 522
         },
         {
          "n": 1,
          "n_institutions": 523
         },
         {
          "n": 1,
          "n_institutions": 524
         },
         {
          "n": 1,
          "n_institutions": 526
         },
         {
          "n": 1,
          "n_institutions": 527
         },
         {
          "n": 1,
          "n_institutions": 529
         },
         {
          "n": 1,
          "n_institutions": 530
         },
         {
          "n": 1,
          "n_institutions": 531
         },
         {
          "n": 2,
          "n_institutions": 532
         },
         {
          "n": 1,
          "n_institutions": 533
         },
         {
          "n": 2,
          "n_institutions": 534
         },
         {
          "n": 3,
          "n_institutions": 535
         },
         {
          "n": 2,
          "n_institutions": 537
         },
         {
          "n": 2,
          "n_institutions": 538
         },
         {
          "n": 1,
          "n_institutions": 539
         },
         {
          "n": 3,
          "n_institutions": 540
         },
         {
          "n": 1,
          "n_institutions": 543
         },
         {
          "n": 2,
          "n_institutions": 544
         },
         {
          "n": 4,
          "n_institutions": 545
         },
         {
          "n": 1,
          "n_institutions": 546
         },
         {
          "n": 1,
          "n_institutions": 547
         },
         {
          "n": 1,
          "n_institutions": 549
         },
         {
          "n": 2,
          "n_institutions": 550
         },
         {
          "n": 1,
          "n_institutions": 551
         },
         {
          "n": 2,
          "n_institutions": 552
         },
         {
          "n": 2,
          "n_institutions": 553
         },
         {
          "n": 1,
          "n_institutions": 554
         },
         {
          "n": 2,
          "n_institutions": 555
         },
         {
          "n": 2,
          "n_institutions": 556
         },
         {
          "n": 1,
          "n_institutions": 557
         },
         {
          "n": 1,
          "n_institutions": 558
         },
         {
          "n": 2,
          "n_institutions": 559
         },
         {
          "n": 3,
          "n_institutions": 561
         },
         {
          "n": 1,
          "n_institutions": 562
         },
         {
          "n": 1,
          "n_institutions": 563
         },
         {
          "n": 2,
          "n_institutions": 565
         },
         {
          "n": 2,
          "n_institutions": 567
         },
         {
          "n": 1,
          "n_institutions": 568
         },
         {
          "n": 1,
          "n_institutions": 570
         },
         {
          "n": 2,
          "n_institutions": 573
         },
         {
          "n": 1,
          "n_institutions": 574
         },
         {
          "n": 1,
          "n_institutions": 575
         },
         {
          "n": 3,
          "n_institutions": 576
         },
         {
          "n": 2,
          "n_institutions": 577
         },
         {
          "n": 1,
          "n_institutions": 578
         },
         {
          "n": 1,
          "n_institutions": 579
         },
         {
          "n": 1,
          "n_institutions": 580
         },
         {
          "n": 2,
          "n_institutions": 581
         },
         {
          "n": 1,
          "n_institutions": 582
         },
         {
          "n": 1,
          "n_institutions": 585
         },
         {
          "n": 3,
          "n_institutions": 587
         },
         {
          "n": 1,
          "n_institutions": 588
         },
         {
          "n": 1,
          "n_institutions": 589
         },
         {
          "n": 2,
          "n_institutions": 590
         },
         {
          "n": 2,
          "n_institutions": 591
         },
         {
          "n": 2,
          "n_institutions": 593
         },
         {
          "n": 1,
          "n_institutions": 594
         },
         {
          "n": 2,
          "n_institutions": 595
         },
         {
          "n": 3,
          "n_institutions": 596
         },
         {
          "n": 1,
          "n_institutions": 597
         },
         {
          "n": 3,
          "n_institutions": 600
         },
         {
          "n": 1,
          "n_institutions": 601
         },
         {
          "n": 2,
          "n_institutions": 604
         },
         {
          "n": 1,
          "n_institutions": 605
         },
         {
          "n": 2,
          "n_institutions": 606
         },
         {
          "n": 1,
          "n_institutions": 608
         },
         {
          "n": 1,
          "n_institutions": 610
         },
         {
          "n": 1,
          "n_institutions": 615
         },
         {
          "n": 2,
          "n_institutions": 616
         },
         {
          "n": 1,
          "n_institutions": 617
         },
         {
          "n": 3,
          "n_institutions": 619
         },
         {
          "n": 2,
          "n_institutions": 622
         },
         {
          "n": 1,
          "n_institutions": 623
         },
         {
          "n": 2,
          "n_institutions": 624
         },
         {
          "n": 1,
          "n_institutions": 625
         },
         {
          "n": 4,
          "n_institutions": 627
         },
         {
          "n": 2,
          "n_institutions": 629
         },
         {
          "n": 1,
          "n_institutions": 631
         },
         {
          "n": 3,
          "n_institutions": 632
         },
         {
          "n": 1,
          "n_institutions": 635
         },
         {
          "n": 1,
          "n_institutions": 636
         },
         {
          "n": 1,
          "n_institutions": 637
         },
         {
          "n": 3,
          "n_institutions": 639
         },
         {
          "n": 1,
          "n_institutions": 641
         },
         {
          "n": 2,
          "n_institutions": 643
         },
         {
          "n": 1,
          "n_institutions": 644
         },
         {
          "n": 1,
          "n_institutions": 645
         },
         {
          "n": 2,
          "n_institutions": 647
         },
         {
          "n": 2,
          "n_institutions": 648
         },
         {
          "n": 1,
          "n_institutions": 649
         },
         {
          "n": 2,
          "n_institutions": 650
         },
         {
          "n": 1,
          "n_institutions": 651
         },
         {
          "n": 2,
          "n_institutions": 655
         },
         {
          "n": 1,
          "n_institutions": 656
         },
         {
          "n": 1,
          "n_institutions": 658
         },
         {
          "n": 1,
          "n_institutions": 660
         },
         {
          "n": 1,
          "n_institutions": 662
         },
         {
          "n": 1,
          "n_institutions": 664
         },
         {
          "n": 2,
          "n_institutions": 665
         },
         {
          "n": 2,
          "n_institutions": 666
         },
         {
          "n": 1,
          "n_institutions": 667
         },
         {
          "n": 1,
          "n_institutions": 668
         },
         {
          "n": 1,
          "n_institutions": 669
         },
         {
          "n": 1,
          "n_institutions": 670
         },
         {
          "n": 1,
          "n_institutions": 671
         },
         {
          "n": 2,
          "n_institutions": 675
         },
         {
          "n": 5,
          "n_institutions": 678
         },
         {
          "n": 1,
          "n_institutions": 679
         },
         {
          "n": 1,
          "n_institutions": 680
         },
         {
          "n": 2,
          "n_institutions": 681
         },
         {
          "n": 2,
          "n_institutions": 686
         },
         {
          "n": 2,
          "n_institutions": 687
         },
         {
          "n": 3,
          "n_institutions": 693
         },
         {
          "n": 2,
          "n_institutions": 694
         },
         {
          "n": 1,
          "n_institutions": 696
         },
         {
          "n": 1,
          "n_institutions": 697
         },
         {
          "n": 2,
          "n_institutions": 698
         },
         {
          "n": 2,
          "n_institutions": 699
         },
         {
          "n": 1,
          "n_institutions": 702
         },
         {
          "n": 1,
          "n_institutions": 703
         },
         {
          "n": 1,
          "n_institutions": 704
         },
         {
          "n": 1,
          "n_institutions": 706
         },
         {
          "n": 3,
          "n_institutions": 710
         },
         {
          "n": 1,
          "n_institutions": 712
         },
         {
          "n": 1,
          "n_institutions": 713
         },
         {
          "n": 2,
          "n_institutions": 714
         },
         {
          "n": 1,
          "n_institutions": 716
         },
         {
          "n": 2,
          "n_institutions": 717
         },
         {
          "n": 1,
          "n_institutions": 719
         },
         {
          "n": 1,
          "n_institutions": 720
         },
         {
          "n": 1,
          "n_institutions": 722
         },
         {
          "n": 1,
          "n_institutions": 725
         },
         {
          "n": 2,
          "n_institutions": 726
         },
         {
          "n": 2,
          "n_institutions": 727
         },
         {
          "n": 2,
          "n_institutions": 729
         },
         {
          "n": 1,
          "n_institutions": 730
         },
         {
          "n": 2,
          "n_institutions": 732
         },
         {
          "n": 1,
          "n_institutions": 733
         },
         {
          "n": 1,
          "n_institutions": 734
         },
         {
          "n": 2,
          "n_institutions": 735
         },
         {
          "n": 2,
          "n_institutions": 736
         },
         {
          "n": 1,
          "n_institutions": 737
         },
         {
          "n": 1,
          "n_institutions": 739
         },
         {
          "n": 4,
          "n_institutions": 744
         },
         {
          "n": 1,
          "n_institutions": 745
         },
         {
          "n": 2,
          "n_institutions": 747
         },
         {
          "n": 3,
          "n_institutions": 751
         },
         {
          "n": 1,
          "n_institutions": 754
         },
         {
          "n": 2,
          "n_institutions": 757
         },
         {
          "n": 1,
          "n_institutions": 760
         },
         {
          "n": 2,
          "n_institutions": 768
         },
         {
          "n": 1,
          "n_institutions": 769
         },
         {
          "n": 2,
          "n_institutions": 770
         },
         {
          "n": 1,
          "n_institutions": 772
         },
         {
          "n": 1,
          "n_institutions": 773
         },
         {
          "n": 3,
          "n_institutions": 776
         },
         {
          "n": 2,
          "n_institutions": 777
         },
         {
          "n": 3,
          "n_institutions": 778
         },
         {
          "n": 2,
          "n_institutions": 779
         },
         {
          "n": 2,
          "n_institutions": 780
         },
         {
          "n": 1,
          "n_institutions": 781
         },
         {
          "n": 2,
          "n_institutions": 783
         },
         {
          "n": 1,
          "n_institutions": 788
         },
         {
          "n": 3,
          "n_institutions": 790
         },
         {
          "n": 1,
          "n_institutions": 793
         },
         {
          "n": 1,
          "n_institutions": 795
         },
         {
          "n": 3,
          "n_institutions": 797
         },
         {
          "n": 2,
          "n_institutions": 802
         },
         {
          "n": 1,
          "n_institutions": 804
         },
         {
          "n": 1,
          "n_institutions": 808
         },
         {
          "n": 3,
          "n_institutions": 810
         },
         {
          "n": 1,
          "n_institutions": 811
         },
         {
          "n": 3,
          "n_institutions": 812
         },
         {
          "n": 2,
          "n_institutions": 814
         },
         {
          "n": 2,
          "n_institutions": 815
         },
         {
          "n": 1,
          "n_institutions": 820
         },
         {
          "n": 2,
          "n_institutions": 822
         },
         {
          "n": 1,
          "n_institutions": 823
         },
         {
          "n": 2,
          "n_institutions": 824
         },
         {
          "n": 1,
          "n_institutions": 825
         },
         {
          "n": 1,
          "n_institutions": 827
         },
         {
          "n": 4,
          "n_institutions": 828
         },
         {
          "n": 1,
          "n_institutions": 832
         },
         {
          "n": 2,
          "n_institutions": 835
         },
         {
          "n": 1,
          "n_institutions": 839
         },
         {
          "n": 2,
          "n_institutions": 841
         },
         {
          "n": 2,
          "n_institutions": 845
         },
         {
          "n": 1,
          "n_institutions": 846
         },
         {
          "n": 2,
          "n_institutions": 849
         },
         {
          "n": 3,
          "n_institutions": 851
         },
         {
          "n": 1,
          "n_institutions": 852
         },
         {
          "n": 1,
          "n_institutions": 853
         },
         {
          "n": 2,
          "n_institutions": 855
         },
         {
          "n": 1,
          "n_institutions": 857
         },
         {
          "n": 2,
          "n_institutions": 858
         },
         {
          "n": 2,
          "n_institutions": 861
         },
         {
          "n": 2,
          "n_institutions": 862
         },
         {
          "n": 1,
          "n_institutions": 863
         },
         {
          "n": 1,
          "n_institutions": 865
         },
         {
          "n": 2,
          "n_institutions": 866
         },
         {
          "n": 1,
          "n_institutions": 868
         },
         {
          "n": 1,
          "n_institutions": 869
         },
         {
          "n": 1,
          "n_institutions": 873
         },
         {
          "n": 1,
          "n_institutions": 880
         },
         {
          "n": 1,
          "n_institutions": 882
         },
         {
          "n": 2,
          "n_institutions": 886
         },
         {
          "n": 2,
          "n_institutions": 890
         },
         {
          "n": 1,
          "n_institutions": 891
         },
         {
          "n": 1,
          "n_institutions": 894
         },
         {
          "n": 1,
          "n_institutions": 898
         },
         {
          "n": 1,
          "n_institutions": 899
         },
         {
          "n": 2,
          "n_institutions": 902
         },
         {
          "n": 2,
          "n_institutions": 904
         },
         {
          "n": 1,
          "n_institutions": 906
         },
         {
          "n": 2,
          "n_institutions": 910
         },
         {
          "n": 1,
          "n_institutions": 912
         },
         {
          "n": 1,
          "n_institutions": 913
         },
         {
          "n": 2,
          "n_institutions": 916
         },
         {
          "n": 3,
          "n_institutions": 917
         },
         {
          "n": 1,
          "n_institutions": 919
         },
         {
          "n": 1,
          "n_institutions": 923
         },
         {
          "n": 1,
          "n_institutions": 925
         },
         {
          "n": 3,
          "n_institutions": 926
         },
         {
          "n": 2,
          "n_institutions": 930
         },
         {
          "n": 2,
          "n_institutions": 932
         },
         {
          "n": 1,
          "n_institutions": 936
         },
         {
          "n": 1,
          "n_institutions": 939
         },
         {
          "n": 1,
          "n_institutions": 942
         },
         {
          "n": 1,
          "n_institutions": 945
         },
         {
          "n": 2,
          "n_institutions": 949
         },
         {
          "n": 1,
          "n_institutions": 950
         },
         {
          "n": 2,
          "n_institutions": 951
         },
         {
          "n": 1,
          "n_institutions": 952
         },
         {
          "n": 2,
          "n_institutions": 959
         },
         {
          "n": 1,
          "n_institutions": 960
         },
         {
          "n": 1,
          "n_institutions": 961
         },
         {
          "n": 1,
          "n_institutions": 963
         },
         {
          "n": 2,
          "n_institutions": 964
         },
         {
          "n": 2,
          "n_institutions": 966
         },
         {
          "n": 1,
          "n_institutions": 967
         },
         {
          "n": 2,
          "n_institutions": 970
         },
         {
          "n": 1,
          "n_institutions": 971
         },
         {
          "n": 1,
          "n_institutions": 972
         },
         {
          "n": 1,
          "n_institutions": 973
         },
         {
          "n": 1,
          "n_institutions": 977
         },
         {
          "n": 1,
          "n_institutions": 980
         },
         {
          "n": 1,
          "n_institutions": 981
         },
         {
          "n": 1,
          "n_institutions": 985
         },
         {
          "n": 1,
          "n_institutions": 989
         },
         {
          "n": 1,
          "n_institutions": 992
         },
         {
          "n": 1,
          "n_institutions": 993
         },
         {
          "n": 1,
          "n_institutions": 1000
         },
         {
          "n": 1,
          "n_institutions": 1003
         },
         {
          "n": 2,
          "n_institutions": 1005
         },
         {
          "n": 1,
          "n_institutions": 1007
         },
         {
          "n": 2,
          "n_institutions": 1009
         },
         {
          "n": 1,
          "n_institutions": 1011
         },
         {
          "n": 1,
          "n_institutions": 1016
         },
         {
          "n": 1,
          "n_institutions": 1017
         },
         {
          "n": 1,
          "n_institutions": 1021
         },
         {
          "n": 1,
          "n_institutions": 1022
         },
         {
          "n": 1,
          "n_institutions": 1025
         },
         {
          "n": 2,
          "n_institutions": 1026
         },
         {
          "n": 1,
          "n_institutions": 1028
         },
         {
          "n": 1,
          "n_institutions": 1030
         },
         {
          "n": 2,
          "n_institutions": 1031
         },
         {
          "n": 1,
          "n_institutions": 1033
         },
         {
          "n": 1,
          "n_institutions": 1034
         },
         {
          "n": 1,
          "n_institutions": 1035
         },
         {
          "n": 1,
          "n_institutions": 1036
         },
         {
          "n": 1,
          "n_institutions": 1037
         },
         {
          "n": 1,
          "n_institutions": 1038
         },
         {
          "n": 1,
          "n_institutions": 1045
         },
         {
          "n": 1,
          "n_institutions": 1051
         },
         {
          "n": 1,
          "n_institutions": 1052
         },
         {
          "n": 1,
          "n_institutions": 1053
         },
         {
          "n": 1,
          "n_institutions": 1054
         },
         {
          "n": 1,
          "n_institutions": 1055
         },
         {
          "n": 2,
          "n_institutions": 1056
         },
         {
          "n": 1,
          "n_institutions": 1057
         },
         {
          "n": 1,
          "n_institutions": 1061
         },
         {
          "n": 1,
          "n_institutions": 1065
         },
         {
          "n": 2,
          "n_institutions": 1066
         },
         {
          "n": 1,
          "n_institutions": 1069
         },
         {
          "n": 1,
          "n_institutions": 1074
         },
         {
          "n": 1,
          "n_institutions": 1077
         },
         {
          "n": 2,
          "n_institutions": 1084
         },
         {
          "n": 1,
          "n_institutions": 1086
         },
         {
          "n": 1,
          "n_institutions": 1089
         },
         {
          "n": 2,
          "n_institutions": 1090
         },
         {
          "n": 1,
          "n_institutions": 1091
         },
         {
          "n": 1,
          "n_institutions": 1093
         },
         {
          "n": 1,
          "n_institutions": 1094
         },
         {
          "n": 1,
          "n_institutions": 1095
         },
         {
          "n": 3,
          "n_institutions": 1098
         },
         {
          "n": 1,
          "n_institutions": 1106
         },
         {
          "n": 1,
          "n_institutions": 1107
         },
         {
          "n": 1,
          "n_institutions": 1111
         },
         {
          "n": 1,
          "n_institutions": 1117
         },
         {
          "n": 1,
          "n_institutions": 1118
         },
         {
          "n": 1,
          "n_institutions": 1119
         },
         {
          "n": 1,
          "n_institutions": 1121
         },
         {
          "n": 1,
          "n_institutions": 1124
         },
         {
          "n": 1,
          "n_institutions": 1126
         },
         {
          "n": 1,
          "n_institutions": 1129
         },
         {
          "n": 4,
          "n_institutions": 1130
         },
         {
          "n": 1,
          "n_institutions": 1133
         },
         {
          "n": 2,
          "n_institutions": 1138
         },
         {
          "n": 1,
          "n_institutions": 1142
         },
         {
          "n": 1,
          "n_institutions": 1144
         },
         {
          "n": 1,
          "n_institutions": 1150
         },
         {
          "n": 1,
          "n_institutions": 1155
         },
         {
          "n": 1,
          "n_institutions": 1164
         },
         {
          "n": 1,
          "n_institutions": 1170
         },
         {
          "n": 1,
          "n_institutions": 1174
         },
         {
          "n": 3,
          "n_institutions": 1175
         },
         {
          "n": 1,
          "n_institutions": 1178
         },
         {
          "n": 1,
          "n_institutions": 1187
         },
         {
          "n": 1,
          "n_institutions": 1193
         },
         {
          "n": 1,
          "n_institutions": 1198
         },
         {
          "n": 1,
          "n_institutions": 1200
         },
         {
          "n": 1,
          "n_institutions": 1203
         },
         {
          "n": 1,
          "n_institutions": 1207
         },
         {
          "n": 1,
          "n_institutions": 1210
         },
         {
          "n": 1,
          "n_institutions": 1215
         },
         {
          "n": 1,
          "n_institutions": 1217
         },
         {
          "n": 1,
          "n_institutions": 1220
         },
         {
          "n": 1,
          "n_institutions": 1221
         },
         {
          "n": 2,
          "n_institutions": 1222
         },
         {
          "n": 1,
          "n_institutions": 1224
         },
         {
          "n": 1,
          "n_institutions": 1235
         },
         {
          "n": 1,
          "n_institutions": 1237
         },
         {
          "n": 2,
          "n_institutions": 1241
         },
         {
          "n": 2,
          "n_institutions": 1243
         },
         {
          "n": 1,
          "n_institutions": 1246
         },
         {
          "n": 1,
          "n_institutions": 1250
         },
         {
          "n": 1,
          "n_institutions": 1251
         },
         {
          "n": 1,
          "n_institutions": 1254
         },
         {
          "n": 1,
          "n_institutions": 1255
         },
         {
          "n": 1,
          "n_institutions": 1274
         },
         {
          "n": 1,
          "n_institutions": 1276
         },
         {
          "n": 1,
          "n_institutions": 1277
         },
         {
          "n": 1,
          "n_institutions": 1279
         },
         {
          "n": 1,
          "n_institutions": 1280
         },
         {
          "n": 1,
          "n_institutions": 1283
         },
         {
          "n": 1,
          "n_institutions": 1289
         },
         {
          "n": 1,
          "n_institutions": 1292
         },
         {
          "n": 1,
          "n_institutions": 1293
         },
         {
          "n": 1,
          "n_institutions": 1294
         },
         {
          "n": 1,
          "n_institutions": 1302
         },
         {
          "n": 1,
          "n_institutions": 1310
         },
         {
          "n": 1,
          "n_institutions": 1311
         },
         {
          "n": 1,
          "n_institutions": 1314
         },
         {
          "n": 1,
          "n_institutions": 1319
         },
         {
          "n": 1,
          "n_institutions": 1321
         },
         {
          "n": 1,
          "n_institutions": 1324
         },
         {
          "n": 2,
          "n_institutions": 1328
         },
         {
          "n": 1,
          "n_institutions": 1330
         },
         {
          "n": 1,
          "n_institutions": 1333
         },
         {
          "n": 1,
          "n_institutions": 1336
         },
         {
          "n": 1,
          "n_institutions": 1337
         },
         {
          "n": 2,
          "n_institutions": 1343
         },
         {
          "n": 1,
          "n_institutions": 1345
         },
         {
          "n": 1,
          "n_institutions": 1347
         },
         {
          "n": 1,
          "n_institutions": 1348
         },
         {
          "n": 1,
          "n_institutions": 1350
         },
         {
          "n": 1,
          "n_institutions": 1366
         },
         {
          "n": 1,
          "n_institutions": 1370
         },
         {
          "n": 1,
          "n_institutions": 1372
         },
         {
          "n": 1,
          "n_institutions": 1373
         },
         {
          "n": 1,
          "n_institutions": 1374
         },
         {
          "n": 1,
          "n_institutions": 1376
         },
         {
          "n": 1,
          "n_institutions": 1379
         },
         {
          "n": 1,
          "n_institutions": 1382
         },
         {
          "n": 1,
          "n_institutions": 1384
         },
         {
          "n": 1,
          "n_institutions": 1387
         },
         {
          "n": 1,
          "n_institutions": 1388
         },
         {
          "n": 2,
          "n_institutions": 1391
         },
         {
          "n": 2,
          "n_institutions": 1406
         },
         {
          "n": 1,
          "n_institutions": 1407
         },
         {
          "n": 1,
          "n_institutions": 1410
         },
         {
          "n": 1,
          "n_institutions": 1412
         },
         {
          "n": 1,
          "n_institutions": 1418
         },
         {
          "n": 1,
          "n_institutions": 1423
         },
         {
          "n": 1,
          "n_institutions": 1426
         },
         {
          "n": 1,
          "n_institutions": 1429
         },
         {
          "n": 1,
          "n_institutions": 1431
         },
         {
          "n": 1,
          "n_institutions": 1437
         },
         {
          "n": 1,
          "n_institutions": 1438
         },
         {
          "n": 1,
          "n_institutions": 1445
         },
         {
          "n": 1,
          "n_institutions": 1446
         },
         {
          "n": 1,
          "n_institutions": 1451
         },
         {
          "n": 1,
          "n_institutions": 1452
         },
         {
          "n": 1,
          "n_institutions": 1456
         },
         {
          "n": 1,
          "n_institutions": 1457
         },
         {
          "n": 1,
          "n_institutions": 1460
         },
         {
          "n": 2,
          "n_institutions": 1462
         },
         {
          "n": 2,
          "n_institutions": 1465
         },
         {
          "n": 1,
          "n_institutions": 1484
         },
         {
          "n": 1,
          "n_institutions": 1490
         },
         {
          "n": 1,
          "n_institutions": 1495
         },
         {
          "n": 1,
          "n_institutions": 1502
         },
         {
          "n": 1,
          "n_institutions": 1504
         },
         {
          "n": 1,
          "n_institutions": 1512
         },
         {
          "n": 2,
          "n_institutions": 1518
         },
         {
          "n": 1,
          "n_institutions": 1521
         },
         {
          "n": 1,
          "n_institutions": 1523
         },
         {
          "n": 1,
          "n_institutions": 1524
         },
         {
          "n": 1,
          "n_institutions": 1527
         },
         {
          "n": 1,
          "n_institutions": 1534
         },
         {
          "n": 1,
          "n_institutions": 1539
         },
         {
          "n": 1,
          "n_institutions": 1541
         },
         {
          "n": 1,
          "n_institutions": 1542
         },
         {
          "n": 1,
          "n_institutions": 1555
         },
         {
          "n": 1,
          "n_institutions": 1557
         },
         {
          "n": 1,
          "n_institutions": 1558
         },
         {
          "n": 1,
          "n_institutions": 1560
         },
         {
          "n": 1,
          "n_institutions": 1570
         },
         {
          "n": 1,
          "n_institutions": 1573
         },
         {
          "n": 1,
          "n_institutions": 1574
         },
         {
          "n": 2,
          "n_institutions": 1581
         },
         {
          "n": 1,
          "n_institutions": 1584
         },
         {
          "n": 1,
          "n_institutions": 1592
         },
         {
          "n": 1,
          "n_institutions": 1600
         },
         {
          "n": 1,
          "n_institutions": 1606
         },
         {
          "n": 1,
          "n_institutions": 1607
         },
         {
          "n": 1,
          "n_institutions": 1615
         },
         {
          "n": 1,
          "n_institutions": 1616
         },
         {
          "n": 1,
          "n_institutions": 1622
         },
         {
          "n": 1,
          "n_institutions": 1626
         },
         {
          "n": 2,
          "n_institutions": 1633
         },
         {
          "n": 1,
          "n_institutions": 1639
         },
         {
          "n": 2,
          "n_institutions": 1648
         },
         {
          "n": 1,
          "n_institutions": 1649
         },
         {
          "n": 1,
          "n_institutions": 1651
         },
         {
          "n": 1,
          "n_institutions": 1653
         },
         {
          "n": 1,
          "n_institutions": 1657
         },
         {
          "n": 1,
          "n_institutions": 1658
         },
         {
          "n": 1,
          "n_institutions": 1659
         },
         {
          "n": 1,
          "n_institutions": 1663
         },
         {
          "n": 2,
          "n_institutions": 1672
         },
         {
          "n": 1,
          "n_institutions": 1673
         },
         {
          "n": 1,
          "n_institutions": 1675
         },
         {
          "n": 1,
          "n_institutions": 1681
         },
         {
          "n": 1,
          "n_institutions": 1683
         },
         {
          "n": 1,
          "n_institutions": 1691
         },
         {
          "n": 1,
          "n_institutions": 1695
         },
         {
          "n": 1,
          "n_institutions": 1696
         },
         {
          "n": 1,
          "n_institutions": 1700
         },
         {
          "n": 1,
          "n_institutions": 1736
         },
         {
          "n": 1,
          "n_institutions": 1738
         },
         {
          "n": 1,
          "n_institutions": 1741
         },
         {
          "n": 1,
          "n_institutions": 1743
         },
         {
          "n": 1,
          "n_institutions": 1752
         },
         {
          "n": 1,
          "n_institutions": 1756
         },
         {
          "n": 1,
          "n_institutions": 1763
         },
         {
          "n": 1,
          "n_institutions": 1766
         },
         {
          "n": 1,
          "n_institutions": 1767
         },
         {
          "n": 1,
          "n_institutions": 1768
         },
         {
          "n": 1,
          "n_institutions": 1772
         },
         {
          "n": 2,
          "n_institutions": 1775
         },
         {
          "n": 1,
          "n_institutions": 1780
         },
         {
          "n": 1,
          "n_institutions": 1782
         },
         {
          "n": 1,
          "n_institutions": 1784
         },
         {
          "n": 1,
          "n_institutions": 1785
         },
         {
          "n": 1,
          "n_institutions": 1796
         },
         {
          "n": 1,
          "n_institutions": 1798
         },
         {
          "n": 1,
          "n_institutions": 1813
         },
         {
          "n": 1,
          "n_institutions": 1814
         },
         {
          "n": 1,
          "n_institutions": 1815
         },
         {
          "n": 1,
          "n_institutions": 1825
         },
         {
          "n": 1,
          "n_institutions": 1831
         },
         {
          "n": 1,
          "n_institutions": 1848
         },
         {
          "n": 1,
          "n_institutions": 1865
         },
         {
          "n": 1,
          "n_institutions": 1867
         },
         {
          "n": 1,
          "n_institutions": 1878
         },
         {
          "n": 1,
          "n_institutions": 1881
         },
         {
          "n": 1,
          "n_institutions": 1883
         },
         {
          "n": 2,
          "n_institutions": 1884
         },
         {
          "n": 1,
          "n_institutions": 1888
         },
         {
          "n": 1,
          "n_institutions": 1891
         },
         {
          "n": 1,
          "n_institutions": 1895
         },
         {
          "n": 1,
          "n_institutions": 1896
         },
         {
          "n": 1,
          "n_institutions": 1912
         },
         {
          "n": 1,
          "n_institutions": 1914
         },
         {
          "n": 2,
          "n_institutions": 1921
         },
         {
          "n": 1,
          "n_institutions": 1925
         },
         {
          "n": 1,
          "n_institutions": 1926
         },
         {
          "n": 2,
          "n_institutions": 1940
         },
         {
          "n": 1,
          "n_institutions": 1941
         },
         {
          "n": 1,
          "n_institutions": 1951
         },
         {
          "n": 1,
          "n_institutions": 1952
         },
         {
          "n": 1,
          "n_institutions": 1956
         },
         {
          "n": 1,
          "n_institutions": 1962
         },
         {
          "n": 1,
          "n_institutions": 1972
         },
         {
          "n": 1,
          "n_institutions": 1977
         },
         {
          "n": 2,
          "n_institutions": 1979
         },
         {
          "n": 1,
          "n_institutions": 1984
         },
         {
          "n": 2,
          "n_institutions": 1987
         },
         {
          "n": 1,
          "n_institutions": 2005
         },
         {
          "n": 1,
          "n_institutions": 2022
         },
         {
          "n": 1,
          "n_institutions": 2024
         },
         {
          "n": 1,
          "n_institutions": 2029
         },
         {
          "n": 1,
          "n_institutions": 2030
         },
         {
          "n": 1,
          "n_institutions": 2041
         },
         {
          "n": 1,
          "n_institutions": 2054
         },
         {
          "n": 1,
          "n_institutions": 2055
         },
         {
          "n": 1,
          "n_institutions": 2057
         },
         {
          "n": 2,
          "n_institutions": 2069
         },
         {
          "n": 1,
          "n_institutions": 2070
         },
         {
          "n": 1,
          "n_institutions": 2072
         },
         {
          "n": 1,
          "n_institutions": 2078
         },
         {
          "n": 1,
          "n_institutions": 2084
         },
         {
          "n": 1,
          "n_institutions": 2100
         },
         {
          "n": 1,
          "n_institutions": 2101
         },
         {
          "n": 1,
          "n_institutions": 2103
         },
         {
          "n": 1,
          "n_institutions": 2113
         },
         {
          "n": 1,
          "n_institutions": 2118
         },
         {
          "n": 1,
          "n_institutions": 2122
         },
         {
          "n": 1,
          "n_institutions": 2146
         },
         {
          "n": 1,
          "n_institutions": 2150
         },
         {
          "n": 1,
          "n_institutions": 2152
         },
         {
          "n": 1,
          "n_institutions": 2156
         },
         {
          "n": 1,
          "n_institutions": 2165
         },
         {
          "n": 1,
          "n_institutions": 2173
         },
         {
          "n": 2,
          "n_institutions": 2186
         },
         {
          "n": 1,
          "n_institutions": 2187
         },
         {
          "n": 1,
          "n_institutions": 2189
         },
         {
          "n": 1,
          "n_institutions": 2191
         },
         {
          "n": 1,
          "n_institutions": 2211
         },
         {
          "n": 1,
          "n_institutions": 2212
         },
         {
          "n": 1,
          "n_institutions": 2216
         },
         {
          "n": 1,
          "n_institutions": 2222
         },
         {
          "n": 1,
          "n_institutions": 2236
         },
         {
          "n": 1,
          "n_institutions": 2251
         },
         {
          "n": 1,
          "n_institutions": 2253
         },
         {
          "n": 1,
          "n_institutions": 2254
         },
         {
          "n": 2,
          "n_institutions": 2255
         },
         {
          "n": 1,
          "n_institutions": 2267
         },
         {
          "n": 1,
          "n_institutions": 2278
         },
         {
          "n": 1,
          "n_institutions": 2286
         },
         {
          "n": 1,
          "n_institutions": 2287
         },
         {
          "n": 1,
          "n_institutions": 2294
         },
         {
          "n": 1,
          "n_institutions": 2295
         },
         {
          "n": 1,
          "n_institutions": 2301
         },
         {
          "n": 1,
          "n_institutions": 2316
         },
         {
          "n": 1,
          "n_institutions": 2355
         },
         {
          "n": 1,
          "n_institutions": 2377
         },
         {
          "n": 1,
          "n_institutions": 2383
         },
         {
          "n": 1,
          "n_institutions": 2390
         },
         {
          "n": 1,
          "n_institutions": 2410
         },
         {
          "n": 1,
          "n_institutions": 2411
         },
         {
          "n": 1,
          "n_institutions": 2430
         },
         {
          "n": 1,
          "n_institutions": 2441
         },
         {
          "n": 1,
          "n_institutions": 2443
         },
         {
          "n": 1,
          "n_institutions": 2446
         },
         {
          "n": 1,
          "n_institutions": 2452
         },
         {
          "n": 1,
          "n_institutions": 2455
         },
         {
          "n": 1,
          "n_institutions": 2472
         },
         {
          "n": 1,
          "n_institutions": 2475
         },
         {
          "n": 1,
          "n_institutions": 2484
         },
         {
          "n": 1,
          "n_institutions": 2485
         },
         {
          "n": 1,
          "n_institutions": 2495
         },
         {
          "n": 1,
          "n_institutions": 2512
         },
         {
          "n": 1,
          "n_institutions": 2519
         },
         {
          "n": 1,
          "n_institutions": 2533
         },
         {
          "n": 1,
          "n_institutions": 2559
         },
         {
          "n": 1,
          "n_institutions": 2569
         },
         {
          "n": 1,
          "n_institutions": 2571
         },
         {
          "n": 1,
          "n_institutions": 2593
         },
         {
          "n": 1,
          "n_institutions": 2605
         },
         {
          "n": 1,
          "n_institutions": 2613
         },
         {
          "n": 1,
          "n_institutions": 2627
         },
         {
          "n": 1,
          "n_institutions": 2634
         },
         {
          "n": 1,
          "n_institutions": 2648
         },
         {
          "n": 1,
          "n_institutions": 2650
         },
         {
          "n": 1,
          "n_institutions": 2653
         },
         {
          "n": 1,
          "n_institutions": 2661
         },
         {
          "n": 1,
          "n_institutions": 2663
         },
         {
          "n": 1,
          "n_institutions": 2682
         },
         {
          "n": 1,
          "n_institutions": 2683
         },
         {
          "n": 1,
          "n_institutions": 2689
         },
         {
          "n": 1,
          "n_institutions": 2733
         },
         {
          "n": 1,
          "n_institutions": 2737
         },
         {
          "n": 1,
          "n_institutions": 2754
         },
         {
          "n": 1,
          "n_institutions": 2764
         },
         {
          "n": 1,
          "n_institutions": 2766
         },
         {
          "n": 1,
          "n_institutions": 2815
         },
         {
          "n": 1,
          "n_institutions": 2834
         },
         {
          "n": 1,
          "n_institutions": 2842
         },
         {
          "n": 1,
          "n_institutions": 2844
         },
         {
          "n": 1,
          "n_institutions": 2856
         },
         {
          "n": 1,
          "n_institutions": 2869
         },
         {
          "n": 1,
          "n_institutions": 2891
         },
         {
          "n": 1,
          "n_institutions": 2902
         },
         {
          "n": 1,
          "n_institutions": 2906
         },
         {
          "n": 1,
          "n_institutions": 2909
         },
         {
          "n": 1,
          "n_institutions": 2919
         },
         {
          "n": 1,
          "n_institutions": 2922
         },
         {
          "n": 1,
          "n_institutions": 2935
         },
         {
          "n": 1,
          "n_institutions": 2953
         },
         {
          "n": 1,
          "n_institutions": 2956
         },
         {
          "n": 1,
          "n_institutions": 2990
         },
         {
          "n": 1,
          "n_institutions": 3008
         },
         {
          "n": 2,
          "n_institutions": 3040
         },
         {
          "n": 2,
          "n_institutions": 3078
         },
         {
          "n": 1,
          "n_institutions": 3099
         },
         {
          "n": 1,
          "n_institutions": 3118
         },
         {
          "n": 1,
          "n_institutions": 3129
         },
         {
          "n": 1,
          "n_institutions": 3192
         },
         {
          "n": 1,
          "n_institutions": 3220
         },
         {
          "n": 1,
          "n_institutions": 3224
         },
         {
          "n": 1,
          "n_institutions": 3237
         },
         {
          "n": 1,
          "n_institutions": 3258
         },
         {
          "n": 1,
          "n_institutions": 3278
         },
         {
          "n": 1,
          "n_institutions": 3279
         },
         {
          "n": 1,
          "n_institutions": 3285
         },
         {
          "n": 1,
          "n_institutions": 3286
         },
         {
          "n": 1,
          "n_institutions": 3293
         },
         {
          "n": 1,
          "n_institutions": 3305
         },
         {
          "n": 1,
          "n_institutions": 3349
         },
         {
          "n": 1,
          "n_institutions": 3355
         },
         {
          "n": 1,
          "n_institutions": 3358
         },
         {
          "n": 1,
          "n_institutions": 3385
         },
         {
          "n": 1,
          "n_institutions": 3390
         },
         {
          "n": 1,
          "n_institutions": 3392
         },
         {
          "n": 1,
          "n_institutions": 3396
         },
         {
          "n": 1,
          "n_institutions": 3399
         },
         {
          "n": 1,
          "n_institutions": 3413
         },
         {
          "n": 1,
          "n_institutions": 3436
         },
         {
          "n": 1,
          "n_institutions": 3462
         },
         {
          "n": 1,
          "n_institutions": 3471
         },
         {
          "n": 1,
          "n_institutions": 3477
         },
         {
          "n": 1,
          "n_institutions": 3484
         },
         {
          "n": 1,
          "n_institutions": 3562
         },
         {
          "n": 1,
          "n_institutions": 3569
         },
         {
          "n": 1,
          "n_institutions": 3573
         },
         {
          "n": 1,
          "n_institutions": 3661
         },
         {
          "n": 1,
          "n_institutions": 3690
         },
         {
          "n": 1,
          "n_institutions": 3748
         },
         {
          "n": 1,
          "n_institutions": 3790
         },
         {
          "n": 1,
          "n_institutions": 3806
         },
         {
          "n": 1,
          "n_institutions": 3825
         },
         {
          "n": 1,
          "n_institutions": 3863
         },
         {
          "n": 1,
          "n_institutions": 3901
         },
         {
          "n": 1,
          "n_institutions": 3912
         },
         {
          "n": 1,
          "n_institutions": 3926
         },
         {
          "n": 1,
          "n_institutions": 3935
         },
         {
          "n": 1,
          "n_institutions": 3948
         },
         {
          "n": 1,
          "n_institutions": 4199
         },
         {
          "n": 1,
          "n_institutions": 4206
         },
         {
          "n": 1,
          "n_institutions": 4292
         },
         {
          "n": 1,
          "n_institutions": 4333
         },
         {
          "n": 1,
          "n_institutions": 4335
         },
         {
          "n": 1,
          "n_institutions": 4361
         },
         {
          "n": 1,
          "n_institutions": 4362
         },
         {
          "n": 1,
          "n_institutions": 4399
         },
         {
          "n": 1,
          "n_institutions": 4424
         },
         {
          "n": 1,
          "n_institutions": 4456
         },
         {
          "n": 1,
          "n_institutions": 4489
         },
         {
          "n": 1,
          "n_institutions": 4665
         },
         {
          "n": 1,
          "n_institutions": 4682
         },
         {
          "n": 1,
          "n_institutions": 4728
         },
         {
          "n": 1,
          "n_institutions": 4747
         },
         {
          "n": 1,
          "n_institutions": 4758
         },
         {
          "n": 1,
          "n_institutions": 4776
         },
         {
          "n": 1,
          "n_institutions": 4779
         },
         {
          "n": 1,
          "n_institutions": 4899
         },
         {
          "n": 1,
          "n_institutions": 4925
         },
         {
          "n": 1,
          "n_institutions": 4927
         },
         {
          "n": 1,
          "n_institutions": 4928
         },
         {
          "n": 1,
          "n_institutions": 4951
         },
         {
          "n": 1,
          "n_institutions": 4991
         },
         {
          "n": 1,
          "n_institutions": 5034
         },
         {
          "n": 1,
          "n_institutions": 5071
         },
         {
          "n": 1,
          "n_institutions": 5091
         },
         {
          "n": 1,
          "n_institutions": 5239
         },
         {
          "n": 1,
          "n_institutions": 5260
         },
         {
          "n": 1,
          "n_institutions": 5324
         },
         {
          "n": 1,
          "n_institutions": 5335
         },
         {
          "n": 1,
          "n_institutions": 5349
         },
         {
          "n": 1,
          "n_institutions": 5431
         },
         {
          "n": 1,
          "n_institutions": 5558
         },
         {
          "n": 1,
          "n_institutions": 5600
         },
         {
          "n": 1,
          "n_institutions": 5709
         },
         {
          "n": 1,
          "n_institutions": 5860
         },
         {
          "n": 1,
          "n_institutions": 5952
         },
         {
          "n": 1,
          "n_institutions": 6057
         },
         {
          "n": 1,
          "n_institutions": 6071
         },
         {
          "n": 1,
          "n_institutions": 6158
         },
         {
          "n": 1,
          "n_institutions": 6195
         },
         {
          "n": 1,
          "n_institutions": 6242
         },
         {
          "n": 1,
          "n_institutions": 6463
         },
         {
          "n": 1,
          "n_institutions": 6500
         },
         {
          "n": 1,
          "n_institutions": 6517
         },
         {
          "n": 1,
          "n_institutions": 6549
         },
         {
          "n": 1,
          "n_institutions": 6955
         },
         {
          "n": 1,
          "n_institutions": 7175
         },
         {
          "n": 1,
          "n_institutions": 7416
         },
         {
          "n": 1,
          "n_institutions": 7504
         },
         {
          "n": 1,
          "n_institutions": 7560
         },
         {
          "n": 1,
          "n_institutions": 7973
         },
         {
          "n": 1,
          "n_institutions": 8035
         },
         {
          "n": 1,
          "n_institutions": 8744
         },
         {
          "n": 1,
          "n_institutions": 9204
         },
         {
          "n": 1,
          "n_institutions": 9276
         },
         {
          "n": 1,
          "n_institutions": 9547
         },
         {
          "n": 1,
          "n_institutions": 9915
         },
         {
          "n": 1,
          "n_institutions": 10379
         },
         {
          "n": 1,
          "n_institutions": 10444
         },
         {
          "n": 1,
          "n_institutions": 10445
         },
         {
          "n": 1,
          "n_institutions": 12149
         },
         {
          "n": 1,
          "n_institutions": 12265
         },
         {
          "n": 1,
          "n_institutions": 12873
         },
         {
          "n": 1,
          "n_institutions": 13340
         },
         {
          "n": 1,
          "n_institutions": 16661
         },
         {
          "n": 1,
          "n_institutions": 23761
         },
         {
          "n": 1,
          "n_institutions": 33478
         }
        ],
        "data-fbe5caf61ee78458d0107877a1cd5d45": [
         {
          "n": 8941,
          "n_institutions": 1
         },
         {
          "n": 4408,
          "n_institutions": 2
         },
         {
          "n": 2717,
          "n_institutions": 3
         },
         {
          "n": 1950,
          "n_institutions": 4
         },
         {
          "n": 1455,
          "n_institutions": 5
         },
         {
          "n": 1150,
          "n_institutions": 6
         },
         {
          "n": 939,
          "n_institutions": 7
         },
         {
          "n": 835,
          "n_institutions": 8
         },
         {
          "n": 690,
          "n_institutions": 9
         },
         {
          "n": 614,
          "n_institutions": 10
         },
         {
          "n": 525,
          "n_institutions": 11
         },
         {
          "n": 494,
          "n_institutions": 12
         },
         {
          "n": 464,
          "n_institutions": 13
         },
         {
          "n": 404,
          "n_institutions": 14
         },
         {
          "n": 350,
          "n_institutions": 15
         },
         {
          "n": 316,
          "n_institutions": 16
         },
         {
          "n": 313,
          "n_institutions": 17
         },
         {
          "n": 255,
          "n_institutions": 18
         },
         {
          "n": 261,
          "n_institutions": 19
         },
         {
          "n": 216,
          "n_institutions": 20
         },
         {
          "n": 213,
          "n_institutions": 21
         },
         {
          "n": 237,
          "n_institutions": 22
         },
         {
          "n": 187,
          "n_institutions": 23
         },
         {
          "n": 158,
          "n_institutions": 24
         },
         {
          "n": 173,
          "n_institutions": 25
         },
         {
          "n": 156,
          "n_institutions": 26
         },
         {
          "n": 154,
          "n_institutions": 27
         },
         {
          "n": 137,
          "n_institutions": 28
         },
         {
          "n": 146,
          "n_institutions": 29
         },
         {
          "n": 123,
          "n_institutions": 30
         },
         {
          "n": 119,
          "n_institutions": 31
         },
         {
          "n": 132,
          "n_institutions": 32
         },
         {
          "n": 105,
          "n_institutions": 33
         },
         {
          "n": 99,
          "n_institutions": 34
         },
         {
          "n": 100,
          "n_institutions": 35
         },
         {
          "n": 103,
          "n_institutions": 36
         },
         {
          "n": 116,
          "n_institutions": 37
         },
         {
          "n": 87,
          "n_institutions": 38
         },
         {
          "n": 81,
          "n_institutions": 39
         },
         {
          "n": 107,
          "n_institutions": 40
         },
         {
          "n": 81,
          "n_institutions": 41
         },
         {
          "n": 84,
          "n_institutions": 42
         },
         {
          "n": 74,
          "n_institutions": 43
         },
         {
          "n": 57,
          "n_institutions": 44
         },
         {
          "n": 77,
          "n_institutions": 45
         },
         {
          "n": 56,
          "n_institutions": 46
         },
         {
          "n": 79,
          "n_institutions": 47
         },
         {
          "n": 64,
          "n_institutions": 48
         },
         {
          "n": 67,
          "n_institutions": 49
         },
         {
          "n": 82,
          "n_institutions": 50
         },
         {
          "n": 63,
          "n_institutions": 51
         },
         {
          "n": 68,
          "n_institutions": 52
         },
         {
          "n": 65,
          "n_institutions": 53
         },
         {
          "n": 46,
          "n_institutions": 54
         },
         {
          "n": 43,
          "n_institutions": 55
         },
         {
          "n": 58,
          "n_institutions": 56
         },
         {
          "n": 55,
          "n_institutions": 57
         },
         {
          "n": 53,
          "n_institutions": 58
         },
         {
          "n": 55,
          "n_institutions": 59
         },
         {
          "n": 48,
          "n_institutions": 60
         },
         {
          "n": 48,
          "n_institutions": 61
         },
         {
          "n": 52,
          "n_institutions": 62
         },
         {
          "n": 30,
          "n_institutions": 63
         },
         {
          "n": 50,
          "n_institutions": 64
         },
         {
          "n": 46,
          "n_institutions": 65
         },
         {
          "n": 52,
          "n_institutions": 66
         },
         {
          "n": 29,
          "n_institutions": 67
         },
         {
          "n": 31,
          "n_institutions": 68
         },
         {
          "n": 43,
          "n_institutions": 69
         },
         {
          "n": 42,
          "n_institutions": 70
         },
         {
          "n": 44,
          "n_institutions": 71
         },
         {
          "n": 47,
          "n_institutions": 72
         },
         {
          "n": 36,
          "n_institutions": 73
         },
         {
          "n": 28,
          "n_institutions": 74
         },
         {
          "n": 35,
          "n_institutions": 75
         },
         {
          "n": 37,
          "n_institutions": 76
         },
         {
          "n": 28,
          "n_institutions": 77
         },
         {
          "n": 32,
          "n_institutions": 78
         },
         {
          "n": 38,
          "n_institutions": 79
         },
         {
          "n": 35,
          "n_institutions": 80
         },
         {
          "n": 27,
          "n_institutions": 81
         },
         {
          "n": 34,
          "n_institutions": 82
         },
         {
          "n": 25,
          "n_institutions": 83
         },
         {
          "n": 28,
          "n_institutions": 84
         },
         {
          "n": 24,
          "n_institutions": 85
         },
         {
          "n": 27,
          "n_institutions": 86
         },
         {
          "n": 29,
          "n_institutions": 87
         },
         {
          "n": 25,
          "n_institutions": 88
         },
         {
          "n": 33,
          "n_institutions": 89
         },
         {
          "n": 33,
          "n_institutions": 90
         },
         {
          "n": 24,
          "n_institutions": 91
         },
         {
          "n": 31,
          "n_institutions": 92
         },
         {
          "n": 18,
          "n_institutions": 93
         },
         {
          "n": 30,
          "n_institutions": 94
         },
         {
          "n": 27,
          "n_institutions": 95
         },
         {
          "n": 20,
          "n_institutions": 96
         },
         {
          "n": 23,
          "n_institutions": 97
         },
         {
          "n": 14,
          "n_institutions": 98
         },
         {
          "n": 29,
          "n_institutions": 99
         },
         {
          "n": 24,
          "n_institutions": 100
         },
         {
          "n": 23,
          "n_institutions": 101
         },
         {
          "n": 28,
          "n_institutions": 102
         },
         {
          "n": 24,
          "n_institutions": 103
         },
         {
          "n": 27,
          "n_institutions": 104
         },
         {
          "n": 26,
          "n_institutions": 105
         },
         {
          "n": 28,
          "n_institutions": 106
         },
         {
          "n": 25,
          "n_institutions": 107
         },
         {
          "n": 24,
          "n_institutions": 108
         },
         {
          "n": 18,
          "n_institutions": 109
         },
         {
          "n": 22,
          "n_institutions": 110
         },
         {
          "n": 14,
          "n_institutions": 111
         },
         {
          "n": 21,
          "n_institutions": 112
         },
         {
          "n": 19,
          "n_institutions": 113
         },
         {
          "n": 28,
          "n_institutions": 114
         },
         {
          "n": 24,
          "n_institutions": 115
         },
         {
          "n": 24,
          "n_institutions": 116
         },
         {
          "n": 12,
          "n_institutions": 117
         },
         {
          "n": 30,
          "n_institutions": 118
         },
         {
          "n": 15,
          "n_institutions": 119
         },
         {
          "n": 14,
          "n_institutions": 120
         },
         {
          "n": 16,
          "n_institutions": 121
         },
         {
          "n": 11,
          "n_institutions": 122
         },
         {
          "n": 12,
          "n_institutions": 123
         },
         {
          "n": 20,
          "n_institutions": 124
         },
         {
          "n": 18,
          "n_institutions": 125
         },
         {
          "n": 14,
          "n_institutions": 126
         },
         {
          "n": 19,
          "n_institutions": 127
         },
         {
          "n": 12,
          "n_institutions": 128
         },
         {
          "n": 19,
          "n_institutions": 129
         },
         {
          "n": 17,
          "n_institutions": 130
         },
         {
          "n": 19,
          "n_institutions": 131
         },
         {
          "n": 17,
          "n_institutions": 132
         },
         {
          "n": 16,
          "n_institutions": 133
         },
         {
          "n": 20,
          "n_institutions": 134
         },
         {
          "n": 13,
          "n_institutions": 135
         },
         {
          "n": 9,
          "n_institutions": 136
         },
         {
          "n": 22,
          "n_institutions": 137
         },
         {
          "n": 11,
          "n_institutions": 138
         },
         {
          "n": 12,
          "n_institutions": 139
         },
         {
          "n": 16,
          "n_institutions": 140
         },
         {
          "n": 15,
          "n_institutions": 141
         },
         {
          "n": 9,
          "n_institutions": 142
         },
         {
          "n": 16,
          "n_institutions": 143
         },
         {
          "n": 10,
          "n_institutions": 144
         },
         {
          "n": 16,
          "n_institutions": 145
         },
         {
          "n": 11,
          "n_institutions": 146
         },
         {
          "n": 18,
          "n_institutions": 147
         },
         {
          "n": 10,
          "n_institutions": 148
         },
         {
          "n": 15,
          "n_institutions": 149
         },
         {
          "n": 14,
          "n_institutions": 150
         },
         {
          "n": 18,
          "n_institutions": 151
         },
         {
          "n": 9,
          "n_institutions": 152
         },
         {
          "n": 17,
          "n_institutions": 153
         },
         {
          "n": 12,
          "n_institutions": 154
         },
         {
          "n": 10,
          "n_institutions": 155
         },
         {
          "n": 12,
          "n_institutions": 156
         },
         {
          "n": 15,
          "n_institutions": 157
         },
         {
          "n": 7,
          "n_institutions": 158
         },
         {
          "n": 8,
          "n_institutions": 159
         },
         {
          "n": 16,
          "n_institutions": 160
         },
         {
          "n": 13,
          "n_institutions": 161
         },
         {
          "n": 17,
          "n_institutions": 162
         },
         {
          "n": 8,
          "n_institutions": 163
         },
         {
          "n": 9,
          "n_institutions": 164
         },
         {
          "n": 13,
          "n_institutions": 165
         },
         {
          "n": 6,
          "n_institutions": 166
         },
         {
          "n": 13,
          "n_institutions": 167
         },
         {
          "n": 10,
          "n_institutions": 168
         },
         {
          "n": 10,
          "n_institutions": 169
         },
         {
          "n": 5,
          "n_institutions": 170
         },
         {
          "n": 14,
          "n_institutions": 171
         },
         {
          "n": 5,
          "n_institutions": 172
         },
         {
          "n": 9,
          "n_institutions": 173
         },
         {
          "n": 4,
          "n_institutions": 174
         },
         {
          "n": 9,
          "n_institutions": 175
         },
         {
          "n": 9,
          "n_institutions": 176
         },
         {
          "n": 8,
          "n_institutions": 177
         },
         {
          "n": 8,
          "n_institutions": 178
         },
         {
          "n": 11,
          "n_institutions": 179
         },
         {
          "n": 13,
          "n_institutions": 180
         },
         {
          "n": 10,
          "n_institutions": 181
         },
         {
          "n": 10,
          "n_institutions": 182
         },
         {
          "n": 9,
          "n_institutions": 183
         },
         {
          "n": 9,
          "n_institutions": 184
         },
         {
          "n": 5,
          "n_institutions": 185
         },
         {
          "n": 7,
          "n_institutions": 186
         },
         {
          "n": 6,
          "n_institutions": 187
         },
         {
          "n": 12,
          "n_institutions": 188
         },
         {
          "n": 11,
          "n_institutions": 189
         },
         {
          "n": 6,
          "n_institutions": 190
         },
         {
          "n": 7,
          "n_institutions": 191
         },
         {
          "n": 6,
          "n_institutions": 192
         },
         {
          "n": 8,
          "n_institutions": 193
         },
         {
          "n": 11,
          "n_institutions": 194
         },
         {
          "n": 8,
          "n_institutions": 195
         },
         {
          "n": 11,
          "n_institutions": 196
         },
         {
          "n": 11,
          "n_institutions": 197
         },
         {
          "n": 13,
          "n_institutions": 198
         },
         {
          "n": 3,
          "n_institutions": 199
         },
         {
          "n": 9,
          "n_institutions": 200
         },
         {
          "n": 3,
          "n_institutions": 201
         },
         {
          "n": 6,
          "n_institutions": 202
         },
         {
          "n": 8,
          "n_institutions": 203
         },
         {
          "n": 11,
          "n_institutions": 204
         },
         {
          "n": 5,
          "n_institutions": 205
         },
         {
          "n": 9,
          "n_institutions": 206
         },
         {
          "n": 7,
          "n_institutions": 207
         },
         {
          "n": 7,
          "n_institutions": 208
         },
         {
          "n": 6,
          "n_institutions": 209
         },
         {
          "n": 4,
          "n_institutions": 210
         },
         {
          "n": 4,
          "n_institutions": 211
         },
         {
          "n": 7,
          "n_institutions": 212
         },
         {
          "n": 7,
          "n_institutions": 213
         },
         {
          "n": 4,
          "n_institutions": 214
         },
         {
          "n": 3,
          "n_institutions": 215
         },
         {
          "n": 8,
          "n_institutions": 216
         },
         {
          "n": 3,
          "n_institutions": 217
         },
         {
          "n": 8,
          "n_institutions": 218
         },
         {
          "n": 9,
          "n_institutions": 219
         },
         {
          "n": 3,
          "n_institutions": 220
         },
         {
          "n": 4,
          "n_institutions": 221
         },
         {
          "n": 7,
          "n_institutions": 222
         },
         {
          "n": 7,
          "n_institutions": 223
         },
         {
          "n": 6,
          "n_institutions": 224
         },
         {
          "n": 9,
          "n_institutions": 225
         },
         {
          "n": 6,
          "n_institutions": 226
         },
         {
          "n": 5,
          "n_institutions": 227
         },
         {
          "n": 7,
          "n_institutions": 228
         },
         {
          "n": 7,
          "n_institutions": 229
         },
         {
          "n": 9,
          "n_institutions": 230
         },
         {
          "n": 5,
          "n_institutions": 231
         },
         {
          "n": 5,
          "n_institutions": 232
         },
         {
          "n": 8,
          "n_institutions": 233
         },
         {
          "n": 9,
          "n_institutions": 234
         },
         {
          "n": 2,
          "n_institutions": 235
         },
         {
          "n": 2,
          "n_institutions": 236
         },
         {
          "n": 3,
          "n_institutions": 237
         },
         {
          "n": 4,
          "n_institutions": 238
         },
         {
          "n": 2,
          "n_institutions": 239
         },
         {
          "n": 6,
          "n_institutions": 240
         },
         {
          "n": 6,
          "n_institutions": 241
         },
         {
          "n": 12,
          "n_institutions": 242
         },
         {
          "n": 5,
          "n_institutions": 243
         },
         {
          "n": 5,
          "n_institutions": 244
         },
         {
          "n": 4,
          "n_institutions": 245
         },
         {
          "n": 6,
          "n_institutions": 246
         },
         {
          "n": 7,
          "n_institutions": 247
         },
         {
          "n": 2,
          "n_institutions": 248
         },
         {
          "n": 2,
          "n_institutions": 249
         },
         {
          "n": 6,
          "n_institutions": 250
         },
         {
          "n": 2,
          "n_institutions": 251
         },
         {
          "n": 12,
          "n_institutions": 252
         },
         {
          "n": 5,
          "n_institutions": 253
         },
         {
          "n": 2,
          "n_institutions": 254
         },
         {
          "n": 4,
          "n_institutions": 255
         },
         {
          "n": 10,
          "n_institutions": 256
         },
         {
          "n": 10,
          "n_institutions": 257
         },
         {
          "n": 11,
          "n_institutions": 258
         },
         {
          "n": 7,
          "n_institutions": 259
         },
         {
          "n": 3,
          "n_institutions": 260
         },
         {
          "n": 5,
          "n_institutions": 261
         },
         {
          "n": 4,
          "n_institutions": 262
         },
         {
          "n": 3,
          "n_institutions": 263
         },
         {
          "n": 2,
          "n_institutions": 264
         },
         {
          "n": 2,
          "n_institutions": 265
         },
         {
          "n": 7,
          "n_institutions": 266
         },
         {
          "n": 2,
          "n_institutions": 267
         },
         {
          "n": 5,
          "n_institutions": 268
         },
         {
          "n": 4,
          "n_institutions": 269
         },
         {
          "n": 5,
          "n_institutions": 270
         },
         {
          "n": 3,
          "n_institutions": 271
         },
         {
          "n": 6,
          "n_institutions": 272
         },
         {
          "n": 2,
          "n_institutions": 273
         },
         {
          "n": 6,
          "n_institutions": 274
         },
         {
          "n": 4,
          "n_institutions": 275
         },
         {
          "n": 7,
          "n_institutions": 276
         },
         {
          "n": 7,
          "n_institutions": 277
         },
         {
          "n": 5,
          "n_institutions": 278
         },
         {
          "n": 7,
          "n_institutions": 279
         },
         {
          "n": 1,
          "n_institutions": 280
         },
         {
          "n": 7,
          "n_institutions": 281
         },
         {
          "n": 4,
          "n_institutions": 282
         },
         {
          "n": 5,
          "n_institutions": 283
         },
         {
          "n": 6,
          "n_institutions": 284
         },
         {
          "n": 5,
          "n_institutions": 285
         },
         {
          "n": 3,
          "n_institutions": 286
         },
         {
          "n": 6,
          "n_institutions": 287
         },
         {
          "n": 5,
          "n_institutions": 288
         },
         {
          "n": 2,
          "n_institutions": 289
         },
         {
          "n": 6,
          "n_institutions": 290
         },
         {
          "n": 3,
          "n_institutions": 291
         },
         {
          "n": 4,
          "n_institutions": 292
         },
         {
          "n": 2,
          "n_institutions": 293
         },
         {
          "n": 2,
          "n_institutions": 294
         },
         {
          "n": 7,
          "n_institutions": 295
         },
         {
          "n": 4,
          "n_institutions": 296
         },
         {
          "n": 5,
          "n_institutions": 297
         },
         {
          "n": 4,
          "n_institutions": 298
         },
         {
          "n": 4,
          "n_institutions": 299
         },
         {
          "n": 4,
          "n_institutions": 300
         },
         {
          "n": 3,
          "n_institutions": 301
         },
         {
          "n": 2,
          "n_institutions": 302
         },
         {
          "n": 3,
          "n_institutions": 303
         },
         {
          "n": 2,
          "n_institutions": 304
         },
         {
          "n": 4,
          "n_institutions": 305
         },
         {
          "n": 2,
          "n_institutions": 306
         },
         {
          "n": 3,
          "n_institutions": 307
         },
         {
          "n": 1,
          "n_institutions": 308
         },
         {
          "n": 3,
          "n_institutions": 309
         },
         {
          "n": 1,
          "n_institutions": 310
         },
         {
          "n": 4,
          "n_institutions": 311
         },
         {
          "n": 1,
          "n_institutions": 312
         },
         {
          "n": 3,
          "n_institutions": 313
         },
         {
          "n": 6,
          "n_institutions": 314
         },
         {
          "n": 2,
          "n_institutions": 315
         },
         {
          "n": 2,
          "n_institutions": 316
         },
         {
          "n": 2,
          "n_institutions": 317
         },
         {
          "n": 2,
          "n_institutions": 318
         },
         {
          "n": 6,
          "n_institutions": 319
         },
         {
          "n": 2,
          "n_institutions": 320
         },
         {
          "n": 5,
          "n_institutions": 321
         },
         {
          "n": 1,
          "n_institutions": 322
         },
         {
          "n": 8,
          "n_institutions": 323
         },
         {
          "n": 4,
          "n_institutions": 324
         },
         {
          "n": 2,
          "n_institutions": 325
         },
         {
          "n": 2,
          "n_institutions": 326
         },
         {
          "n": 3,
          "n_institutions": 327
         },
         {
          "n": 2,
          "n_institutions": 328
         },
         {
          "n": 7,
          "n_institutions": 329
         },
         {
          "n": 2,
          "n_institutions": 330
         },
         {
          "n": 4,
          "n_institutions": 331
         },
         {
          "n": 5,
          "n_institutions": 332
         },
         {
          "n": 5,
          "n_institutions": 333
         },
         {
          "n": 2,
          "n_institutions": 334
         },
         {
          "n": 2,
          "n_institutions": 335
         },
         {
          "n": 2,
          "n_institutions": 336
         },
         {
          "n": 4,
          "n_institutions": 337
         },
         {
          "n": 1,
          "n_institutions": 338
         },
         {
          "n": 2,
          "n_institutions": 339
         },
         {
          "n": 6,
          "n_institutions": 341
         },
         {
          "n": 2,
          "n_institutions": 342
         },
         {
          "n": 3,
          "n_institutions": 343
         },
         {
          "n": 2,
          "n_institutions": 344
         },
         {
          "n": 4,
          "n_institutions": 345
         },
         {
          "n": 7,
          "n_institutions": 346
         },
         {
          "n": 2,
          "n_institutions": 347
         },
         {
          "n": 3,
          "n_institutions": 348
         },
         {
          "n": 2,
          "n_institutions": 349
         },
         {
          "n": 5,
          "n_institutions": 351
         },
         {
          "n": 3,
          "n_institutions": 352
         },
         {
          "n": 2,
          "n_institutions": 353
         },
         {
          "n": 1,
          "n_institutions": 354
         },
         {
          "n": 3,
          "n_institutions": 355
         },
         {
          "n": 4,
          "n_institutions": 356
         },
         {
          "n": 5,
          "n_institutions": 357
         },
         {
          "n": 5,
          "n_institutions": 359
         },
         {
          "n": 2,
          "n_institutions": 360
         },
         {
          "n": 2,
          "n_institutions": 361
         },
         {
          "n": 1,
          "n_institutions": 362
         },
         {
          "n": 3,
          "n_institutions": 363
         },
         {
          "n": 2,
          "n_institutions": 364
         },
         {
          "n": 4,
          "n_institutions": 365
         },
         {
          "n": 1,
          "n_institutions": 367
         },
         {
          "n": 1,
          "n_institutions": 368
         },
         {
          "n": 2,
          "n_institutions": 370
         },
         {
          "n": 4,
          "n_institutions": 371
         },
         {
          "n": 4,
          "n_institutions": 372
         },
         {
          "n": 4,
          "n_institutions": 373
         },
         {
          "n": 2,
          "n_institutions": 374
         },
         {
          "n": 3,
          "n_institutions": 375
         },
         {
          "n": 2,
          "n_institutions": 376
         },
         {
          "n": 6,
          "n_institutions": 377
         },
         {
          "n": 2,
          "n_institutions": 378
         },
         {
          "n": 1,
          "n_institutions": 379
         },
         {
          "n": 2,
          "n_institutions": 380
         },
         {
          "n": 1,
          "n_institutions": 381
         },
         {
          "n": 2,
          "n_institutions": 382
         },
         {
          "n": 1,
          "n_institutions": 383
         },
         {
          "n": 2,
          "n_institutions": 384
         },
         {
          "n": 7,
          "n_institutions": 385
         },
         {
          "n": 3,
          "n_institutions": 386
         },
         {
          "n": 3,
          "n_institutions": 387
         },
         {
          "n": 2,
          "n_institutions": 388
         },
         {
          "n": 1,
          "n_institutions": 389
         },
         {
          "n": 3,
          "n_institutions": 390
         },
         {
          "n": 1,
          "n_institutions": 391
         },
         {
          "n": 7,
          "n_institutions": 392
         },
         {
          "n": 2,
          "n_institutions": 393
         },
         {
          "n": 2,
          "n_institutions": 394
         },
         {
          "n": 1,
          "n_institutions": 395
         },
         {
          "n": 1,
          "n_institutions": 396
         },
         {
          "n": 2,
          "n_institutions": 397
         },
         {
          "n": 3,
          "n_institutions": 398
         },
         {
          "n": 1,
          "n_institutions": 399
         },
         {
          "n": 2,
          "n_institutions": 400
         },
         {
          "n": 5,
          "n_institutions": 401
         },
         {
          "n": 2,
          "n_institutions": 402
         },
         {
          "n": 2,
          "n_institutions": 403
         },
         {
          "n": 3,
          "n_institutions": 404
         },
         {
          "n": 2,
          "n_institutions": 405
         },
         {
          "n": 3,
          "n_institutions": 406
         },
         {
          "n": 2,
          "n_institutions": 407
         },
         {
          "n": 1,
          "n_institutions": 408
         },
         {
          "n": 3,
          "n_institutions": 409
         },
         {
          "n": 3,
          "n_institutions": 410
         },
         {
          "n": 7,
          "n_institutions": 411
         },
         {
          "n": 2,
          "n_institutions": 412
         },
         {
          "n": 6,
          "n_institutions": 413
         },
         {
          "n": 1,
          "n_institutions": 414
         },
         {
          "n": 3,
          "n_institutions": 415
         },
         {
          "n": 3,
          "n_institutions": 416
         },
         {
          "n": 3,
          "n_institutions": 417
         },
         {
          "n": 3,
          "n_institutions": 418
         },
         {
          "n": 2,
          "n_institutions": 419
         },
         {
          "n": 2,
          "n_institutions": 420
         },
         {
          "n": 2,
          "n_institutions": 421
         },
         {
          "n": 3,
          "n_institutions": 422
         },
         {
          "n": 2,
          "n_institutions": 423
         },
         {
          "n": 4,
          "n_institutions": 424
         },
         {
          "n": 2,
          "n_institutions": 425
         },
         {
          "n": 2,
          "n_institutions": 426
         },
         {
          "n": 1,
          "n_institutions": 427
         },
         {
          "n": 1,
          "n_institutions": 428
         },
         {
          "n": 2,
          "n_institutions": 429
         },
         {
          "n": 1,
          "n_institutions": 430
         },
         {
          "n": 1,
          "n_institutions": 431
         },
         {
          "n": 1,
          "n_institutions": 433
         },
         {
          "n": 4,
          "n_institutions": 434
         },
         {
          "n": 2,
          "n_institutions": 436
         },
         {
          "n": 5,
          "n_institutions": 437
         },
         {
          "n": 1,
          "n_institutions": 438
         },
         {
          "n": 4,
          "n_institutions": 440
         },
         {
          "n": 4,
          "n_institutions": 441
         },
         {
          "n": 2,
          "n_institutions": 442
         },
         {
          "n": 2,
          "n_institutions": 443
         },
         {
          "n": 3,
          "n_institutions": 444
         },
         {
          "n": 2,
          "n_institutions": 445
         },
         {
          "n": 3,
          "n_institutions": 446
         },
         {
          "n": 4,
          "n_institutions": 447
         },
         {
          "n": 2,
          "n_institutions": 448
         },
         {
          "n": 1,
          "n_institutions": 449
         },
         {
          "n": 3,
          "n_institutions": 450
         },
         {
          "n": 1,
          "n_institutions": 451
         },
         {
          "n": 4,
          "n_institutions": 452
         },
         {
          "n": 1,
          "n_institutions": 453
         },
         {
          "n": 3,
          "n_institutions": 455
         },
         {
          "n": 5,
          "n_institutions": 456
         },
         {
          "n": 3,
          "n_institutions": 457
         },
         {
          "n": 2,
          "n_institutions": 458
         },
         {
          "n": 2,
          "n_institutions": 459
         },
         {
          "n": 1,
          "n_institutions": 461
         },
         {
          "n": 3,
          "n_institutions": 462
         },
         {
          "n": 2,
          "n_institutions": 463
         },
         {
          "n": 1,
          "n_institutions": 464
         },
         {
          "n": 4,
          "n_institutions": 465
         },
         {
          "n": 2,
          "n_institutions": 466
         },
         {
          "n": 2,
          "n_institutions": 467
         },
         {
          "n": 1,
          "n_institutions": 468
         },
         {
          "n": 4,
          "n_institutions": 470
         },
         {
          "n": 3,
          "n_institutions": 471
         },
         {
          "n": 2,
          "n_institutions": 472
         },
         {
          "n": 2,
          "n_institutions": 473
         },
         {
          "n": 5,
          "n_institutions": 474
         },
         {
          "n": 3,
          "n_institutions": 475
         },
         {
          "n": 1,
          "n_institutions": 477
         },
         {
          "n": 2,
          "n_institutions": 478
         },
         {
          "n": 1,
          "n_institutions": 479
         },
         {
          "n": 1,
          "n_institutions": 480
         },
         {
          "n": 2,
          "n_institutions": 482
         },
         {
          "n": 2,
          "n_institutions": 483
         },
         {
          "n": 2,
          "n_institutions": 484
         },
         {
          "n": 4,
          "n_institutions": 485
         },
         {
          "n": 2,
          "n_institutions": 486
         },
         {
          "n": 3,
          "n_institutions": 487
         },
         {
          "n": 2,
          "n_institutions": 488
         },
         {
          "n": 1,
          "n_institutions": 489
         },
         {
          "n": 1,
          "n_institutions": 490
         },
         {
          "n": 1,
          "n_institutions": 491
         },
         {
          "n": 3,
          "n_institutions": 492
         },
         {
          "n": 3,
          "n_institutions": 493
         },
         {
          "n": 1,
          "n_institutions": 494
         },
         {
          "n": 4,
          "n_institutions": 495
         },
         {
          "n": 4,
          "n_institutions": 498
         }
        ]
       },
       "hconcat": [
        {
         "data": {
          "name": "data-60f1667bf13c16c151c6a4095e5ba413"
         },
         "encoding": {
          "x": {
           "field": "n_institutions",
           "scale": {
            "type": "log"
           },
           "type": "quantitative"
          },
          "y": {
           "field": "n",
           "scale": {
            "type": "log"
           },
           "type": "quantitative"
          }
         },
         "mark": "area"
        },
        {
         "data": {
          "name": "data-fbe5caf61ee78458d0107877a1cd5d45"
         },
         "encoding": {
          "x": {
           "field": "n_institutions",
           "type": "quantitative"
          },
          "y": {
           "field": "n",
           "scale": {
            "type": "log"
           },
           "type": "quantitative"
          }
         },
         "mark": "line"
        }
       ]
      },
      "image/png": "[encoded data removed]",
      "text/plain": [
       "<VegaLite 4 object>\n",
       "\n",
       "If you see this message, it means the renderer has not been properly enabled\n",
       "for the frontend that you are using. For more information, see\n",
       "https://altair-viz.github.io/user_guide/troubleshooting.html\n"
      ]
     },
     "execution_count": null,
     "metadata": {},
     "output_type": "execute_result"
    }
   ],
   "source": [
    "log_scaled | reduced"
   ]
  }
 ],
 "metadata": {
  "kernelspec": {
   "display_name": "Python [conda env:abd]",
   "language": "python",
   "name": "conda-env-abd-py"
  },
  "language_info": {
   "codemirror_mode": {
    "name": "ipython",
    "version": 3
   },
   "file_extension": ".py",
   "mimetype": "text/x-python",
   "name": "python",
   "nbconvert_exporter": "python",
   "pygments_lexer": "ipython3",
   "version": "3.7.10"
  }
 },
 "nbformat": 4,
 "nbformat_minor": 5
}
