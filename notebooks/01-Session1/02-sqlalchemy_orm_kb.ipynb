{
 "cells": [
  {
   "cell_type": "markdown",
   "id": "11b5ab64-7092-4246-babe-de063d312457",
   "metadata": {
    "tags": []
   },
   "source": [
    "# imports"
   ]
  },
  {
   "cell_type": "code",
   "execution_count": null,
   "id": "0f37567d-a90a-412f-a933-9cb195284c94",
   "metadata": {},
   "outputs": [],
   "source": [
    "import pandas as pd\n",
    "from sqlalchemy.orm import Query\n",
    "\n",
    "from src.connect import create_wos_session\n",
    "from src.models import Author, ItemAuthorInstitution, Item"
   ]
  },
  {
   "cell_type": "markdown",
   "id": "b64e128c-8b33-40fb-bc35-1318fdff14e1",
   "metadata": {},
   "source": [
    "# setup"
   ]
  },
  {
   "cell_type": "code",
   "execution_count": null,
   "id": "f3f0f30f-8b41-49e1-9a0e-86362e87cced",
   "metadata": {},
   "outputs": [],
   "source": [
    "engine, s = create_wos_session()"
   ]
  },
  {
   "cell_type": "markdown",
   "id": "c15a2197-7c35-4d5c-9452-f8f5ed9be236",
   "metadata": {},
   "source": [
    "# Erste ORM Query"
   ]
  },
  {
   "cell_type": "code",
   "execution_count": null,
   "id": "e7e3989b-70be-4dfd-af04-7695d4e7678e",
   "metadata": {},
   "outputs": [
    {
     "data": {
      "text/html": [
       "<div>\n",
       "<style scoped>\n",
       "    .dataframe tbody tr th:only-of-type {\n",
       "        vertical-align: middle;\n",
       "    }\n",
       "\n",
       "    .dataframe tbody tr th {\n",
       "        vertical-align: top;\n",
       "    }\n",
       "\n",
       "    .dataframe thead th {\n",
       "        text-align: right;\n",
       "    }\n",
       "</style>\n",
       "<table border=\"1\" class=\"dataframe\">\n",
       "  <thead>\n",
       "    <tr style=\"text-align: right;\">\n",
       "      <th></th>\n",
       "      <th>firstname</th>\n",
       "      <th>lastname</th>\n",
       "      <th>pubyear</th>\n",
       "      <th>article_title</th>\n",
       "    </tr>\n",
       "  </thead>\n",
       "  <tbody>\n",
       "    <tr>\n",
       "      <th>4</th>\n",
       "      <td>Niklas</td>\n",
       "      <td>Luhmann</td>\n",
       "      <td>2013</td>\n",
       "      <td>An urgent need to scale-up injecting drug harm reduction services in Tanzania: Prevalence of blood-borne viruses among drug ...</td>\n",
       "    </tr>\n",
       "    <tr>\n",
       "      <th>10</th>\n",
       "      <td>Niklas</td>\n",
       "      <td>Luhmann</td>\n",
       "      <td>2014</td>\n",
       "      <td>Hepatitis C among people who inject drugs in Tbilisi, Georgia: An urgent need for prevention and treatment</td>\n",
       "    </tr>\n",
       "    <tr>\n",
       "      <th>2</th>\n",
       "      <td>Niklas</td>\n",
       "      <td>Luhmann</td>\n",
       "      <td>2015</td>\n",
       "      <td>Human rights and access to hepatitis C treatment for people who inject drugs</td>\n",
       "    </tr>\n",
       "    <tr>\n",
       "      <th>14</th>\n",
       "      <td>Niklas</td>\n",
       "      <td>Luhmann</td>\n",
       "      <td>2015</td>\n",
       "      <td>Access to hepatitis C treatment for people who inject drugs in low and middle income settings: Evidence from 5 countries in ...</td>\n",
       "    </tr>\n",
       "    <tr>\n",
       "      <th>0</th>\n",
       "      <td>Niklas</td>\n",
       "      <td>Luhmann</td>\n",
       "      <td>2016</td>\n",
       "      <td>Prevalence and risk factors associated with HIV and tuberculosis in people who use drugs in Abidjan, Ivory Coast</td>\n",
       "    </tr>\n",
       "    <tr>\n",
       "      <th>9</th>\n",
       "      <td>Niklas</td>\n",
       "      <td>Luhmann</td>\n",
       "      <td>2017</td>\n",
       "      <td>The inner differentiation of society: stratification and functional differentiation</td>\n",
       "    </tr>\n",
       "    <tr>\n",
       "      <th>12</th>\n",
       "      <td>Niklas</td>\n",
       "      <td>Luhmann</td>\n",
       "      <td>2017</td>\n",
       "      <td>Survey of programmatic experiences and challenges in delivery of hepatitis B and C testing in low- and middle-income countries</td>\n",
       "    </tr>\n",
       "    <tr>\n",
       "      <th>13</th>\n",
       "      <td>Niklas</td>\n",
       "      <td>Luhmann</td>\n",
       "      <td>2017</td>\n",
       "      <td>Action Theory and System Theory</td>\n",
       "    </tr>\n",
       "    <tr>\n",
       "      <th>15</th>\n",
       "      <td>Niklas</td>\n",
       "      <td>Luhmann</td>\n",
       "      <td>2017</td>\n",
       "      <td>Effect of oxygen plasma on nanomechanical silicon nitride resonators</td>\n",
       "    </tr>\n",
       "    <tr>\n",
       "      <th>3</th>\n",
       "      <td>Niklas</td>\n",
       "      <td>Luhmann</td>\n",
       "      <td>2018</td>\n",
       "      <td>Approaches for simplified HCV diagnostic algorithms</td>\n",
       "    </tr>\n",
       "    <tr>\n",
       "      <th>6</th>\n",
       "      <td>Niklas</td>\n",
       "      <td>Luhmann</td>\n",
       "      <td>2018</td>\n",
       "      <td>Harm reduction-based and peer-supported hepatitis C treatment for people who inject drugs in Georgia</td>\n",
       "    </tr>\n",
       "    <tr>\n",
       "      <th>8</th>\n",
       "      <td>Niklas</td>\n",
       "      <td>Luhmann</td>\n",
       "      <td>2018</td>\n",
       "      <td>Modelling the Impact of Prevention and Treatment Interventions on HIV and Hepatitis C Virus Transmission Among PWID in Nairobi</td>\n",
       "    </tr>\n",
       "    <tr>\n",
       "      <th>1</th>\n",
       "      <td>Niklas</td>\n",
       "      <td>Luhmann</td>\n",
       "      <td>2019</td>\n",
       "      <td>Staying hepatitis C negative: A systematic review and meta-analysis of cure and reinfection in people who inject drugs</td>\n",
       "    </tr>\n",
       "    <tr>\n",
       "      <th>7</th>\n",
       "      <td>Niklas</td>\n",
       "      <td>Luhmann</td>\n",
       "      <td>2019</td>\n",
       "      <td>Deconstruction as a second order observation</td>\n",
       "    </tr>\n",
       "    <tr>\n",
       "      <th>11</th>\n",
       "      <td>Niklas</td>\n",
       "      <td>Luhmann</td>\n",
       "      <td>2019</td>\n",
       "      <td>Priorities and recommended actions for how researchers, practitioners, policy makers, and the affected community can work to...</td>\n",
       "    </tr>\n",
       "    <tr>\n",
       "      <th>5</th>\n",
       "      <td>Niklas</td>\n",
       "      <td>Luhmann</td>\n",
       "      <td>2020</td>\n",
       "      <td>Evaluating the impact of Georgia's hepatitis C elimination plan: lessons learned for the global initiative</td>\n",
       "    </tr>\n",
       "  </tbody>\n",
       "</table>\n",
       "</div>"
      ],
      "text/plain": [
       "   firstname lastname  pubyear  \\\n",
       "4     Niklas  Luhmann     2013   \n",
       "10    Niklas  Luhmann     2014   \n",
       "2     Niklas  Luhmann     2015   \n",
       "14    Niklas  Luhmann     2015   \n",
       "0     Niklas  Luhmann     2016   \n",
       "9     Niklas  Luhmann     2017   \n",
       "12    Niklas  Luhmann     2017   \n",
       "13    Niklas  Luhmann     2017   \n",
       "15    Niklas  Luhmann     2017   \n",
       "3     Niklas  Luhmann     2018   \n",
       "6     Niklas  Luhmann     2018   \n",
       "8     Niklas  Luhmann     2018   \n",
       "1     Niklas  Luhmann     2019   \n",
       "7     Niklas  Luhmann     2019   \n",
       "11    Niklas  Luhmann     2019   \n",
       "5     Niklas  Luhmann     2020   \n",
       "\n",
       "                                                                                                                      article_title  \n",
       "4   An urgent need to scale-up injecting drug harm reduction services in Tanzania: Prevalence of blood-borne viruses among drug ...  \n",
       "10                       Hepatitis C among people who inject drugs in Tbilisi, Georgia: An urgent need for prevention and treatment  \n",
       "2                                                      Human rights and access to hepatitis C treatment for people who inject drugs  \n",
       "14  Access to hepatitis C treatment for people who inject drugs in low and middle income settings: Evidence from 5 countries in ...  \n",
       "0                  Prevalence and risk factors associated with HIV and tuberculosis in people who use drugs in Abidjan, Ivory Coast  \n",
       "9                                               The inner differentiation of society: stratification and functional differentiation  \n",
       "12   Survey of programmatic experiences and challenges in delivery of hepatitis B and C testing in low- and middle-income countries  \n",
       "13                                                                                                  Action Theory and System Theory  \n",
       "15                                                             Effect of oxygen plasma on nanomechanical silicon nitride resonators  \n",
       "3                                                                               Approaches for simplified HCV diagnostic algorithms  \n",
       "6                              Harm reduction-based and peer-supported hepatitis C treatment for people who inject drugs in Georgia  \n",
       "8    Modelling the Impact of Prevention and Treatment Interventions on HIV and Hepatitis C Virus Transmission Among PWID in Nairobi  \n",
       "1            Staying hepatitis C negative: A systematic review and meta-analysis of cure and reinfection in people who inject drugs  \n",
       "7                                                                                      Deconstruction as a second order observation  \n",
       "11  Priorities and recommended actions for how researchers, practitioners, policy makers, and the affected community can work to...  \n",
       "5                        Evaluating the impact of Georgia's hepatitis C elimination plan: lessons learned for the global initiative  "
      ]
     },
     "execution_count": null,
     "metadata": {},
     "output_type": "execute_result"
    }
   ],
   "source": [
    "query = (\n",
    "    Query(Author)\n",
    "    .join(ItemAuthorInstitution)\n",
    "    .join(Item)\n",
    "    .filter(Author.firstname == \"Niklas\", Author.lastname == \"Luhmann\")\n",
    "    .with_entities(\n",
    "        Author.firstname,\n",
    "        Author.lastname,\n",
    "        Item.pubyear,\n",
    "        Item.article_title,\n",
    "    )\n",
    "    .distinct()\n",
    ")\n",
    "\n",
    "pd.read_sql(query.statement, engine).sort_values(\"pubyear\")"
   ]
  },
  {
   "cell_type": "markdown",
   "id": "d06a8918-b2ea-4cbd-978e-17f066a173b1",
   "metadata": {},
   "source": [
    "# ORM Query, aber mit relationship"
   ]
  },
  {
   "cell_type": "code",
   "execution_count": null,
   "id": "420fb591-12bc-4961-bb21-8f4d29035af4",
   "metadata": {},
   "outputs": [
    {
     "data": {
      "text/html": [
       "<div>\n",
       "<style scoped>\n",
       "    .dataframe tbody tr th:only-of-type {\n",
       "        vertical-align: middle;\n",
       "    }\n",
       "\n",
       "    .dataframe tbody tr th {\n",
       "        vertical-align: top;\n",
       "    }\n",
       "\n",
       "    .dataframe thead th {\n",
       "        text-align: right;\n",
       "    }\n",
       "</style>\n",
       "<table border=\"1\" class=\"dataframe\">\n",
       "  <thead>\n",
       "    <tr style=\"text-align: right;\">\n",
       "      <th></th>\n",
       "      <th>firstname</th>\n",
       "      <th>lastname</th>\n",
       "      <th>pubyear</th>\n",
       "      <th>article_title</th>\n",
       "    </tr>\n",
       "  </thead>\n",
       "  <tbody>\n",
       "    <tr>\n",
       "      <th>4</th>\n",
       "      <td>Niklas</td>\n",
       "      <td>Luhmann</td>\n",
       "      <td>2013</td>\n",
       "      <td>An urgent need to scale-up injecting drug harm reduction services in Tanzania: Prevalence of blood-borne viruses among drug ...</td>\n",
       "    </tr>\n",
       "    <tr>\n",
       "      <th>10</th>\n",
       "      <td>Niklas</td>\n",
       "      <td>Luhmann</td>\n",
       "      <td>2014</td>\n",
       "      <td>Hepatitis C among people who inject drugs in Tbilisi, Georgia: An urgent need for prevention and treatment</td>\n",
       "    </tr>\n",
       "    <tr>\n",
       "      <th>2</th>\n",
       "      <td>Niklas</td>\n",
       "      <td>Luhmann</td>\n",
       "      <td>2015</td>\n",
       "      <td>Human rights and access to hepatitis C treatment for people who inject drugs</td>\n",
       "    </tr>\n",
       "    <tr>\n",
       "      <th>14</th>\n",
       "      <td>Niklas</td>\n",
       "      <td>Luhmann</td>\n",
       "      <td>2015</td>\n",
       "      <td>Access to hepatitis C treatment for people who inject drugs in low and middle income settings: Evidence from 5 countries in ...</td>\n",
       "    </tr>\n",
       "    <tr>\n",
       "      <th>0</th>\n",
       "      <td>Niklas</td>\n",
       "      <td>Luhmann</td>\n",
       "      <td>2016</td>\n",
       "      <td>Prevalence and risk factors associated with HIV and tuberculosis in people who use drugs in Abidjan, Ivory Coast</td>\n",
       "    </tr>\n",
       "    <tr>\n",
       "      <th>9</th>\n",
       "      <td>Niklas</td>\n",
       "      <td>Luhmann</td>\n",
       "      <td>2017</td>\n",
       "      <td>The inner differentiation of society: stratification and functional differentiation</td>\n",
       "    </tr>\n",
       "    <tr>\n",
       "      <th>12</th>\n",
       "      <td>Niklas</td>\n",
       "      <td>Luhmann</td>\n",
       "      <td>2017</td>\n",
       "      <td>Survey of programmatic experiences and challenges in delivery of hepatitis B and C testing in low- and middle-income countries</td>\n",
       "    </tr>\n",
       "    <tr>\n",
       "      <th>13</th>\n",
       "      <td>Niklas</td>\n",
       "      <td>Luhmann</td>\n",
       "      <td>2017</td>\n",
       "      <td>Action Theory and System Theory</td>\n",
       "    </tr>\n",
       "    <tr>\n",
       "      <th>15</th>\n",
       "      <td>Niklas</td>\n",
       "      <td>Luhmann</td>\n",
       "      <td>2017</td>\n",
       "      <td>Effect of oxygen plasma on nanomechanical silicon nitride resonators</td>\n",
       "    </tr>\n",
       "    <tr>\n",
       "      <th>3</th>\n",
       "      <td>Niklas</td>\n",
       "      <td>Luhmann</td>\n",
       "      <td>2018</td>\n",
       "      <td>Approaches for simplified HCV diagnostic algorithms</td>\n",
       "    </tr>\n",
       "    <tr>\n",
       "      <th>6</th>\n",
       "      <td>Niklas</td>\n",
       "      <td>Luhmann</td>\n",
       "      <td>2018</td>\n",
       "      <td>Harm reduction-based and peer-supported hepatitis C treatment for people who inject drugs in Georgia</td>\n",
       "    </tr>\n",
       "    <tr>\n",
       "      <th>8</th>\n",
       "      <td>Niklas</td>\n",
       "      <td>Luhmann</td>\n",
       "      <td>2018</td>\n",
       "      <td>Modelling the Impact of Prevention and Treatment Interventions on HIV and Hepatitis C Virus Transmission Among PWID in Nairobi</td>\n",
       "    </tr>\n",
       "    <tr>\n",
       "      <th>1</th>\n",
       "      <td>Niklas</td>\n",
       "      <td>Luhmann</td>\n",
       "      <td>2019</td>\n",
       "      <td>Staying hepatitis C negative: A systematic review and meta-analysis of cure and reinfection in people who inject drugs</td>\n",
       "    </tr>\n",
       "    <tr>\n",
       "      <th>7</th>\n",
       "      <td>Niklas</td>\n",
       "      <td>Luhmann</td>\n",
       "      <td>2019</td>\n",
       "      <td>Deconstruction as a second order observation</td>\n",
       "    </tr>\n",
       "    <tr>\n",
       "      <th>11</th>\n",
       "      <td>Niklas</td>\n",
       "      <td>Luhmann</td>\n",
       "      <td>2019</td>\n",
       "      <td>Priorities and recommended actions for how researchers, practitioners, policy makers, and the affected community can work to...</td>\n",
       "    </tr>\n",
       "    <tr>\n",
       "      <th>5</th>\n",
       "      <td>Niklas</td>\n",
       "      <td>Luhmann</td>\n",
       "      <td>2020</td>\n",
       "      <td>Evaluating the impact of Georgia's hepatitis C elimination plan: lessons learned for the global initiative</td>\n",
       "    </tr>\n",
       "  </tbody>\n",
       "</table>\n",
       "</div>"
      ],
      "text/plain": [
       "   firstname lastname  pubyear  \\\n",
       "4     Niklas  Luhmann     2013   \n",
       "10    Niklas  Luhmann     2014   \n",
       "2     Niklas  Luhmann     2015   \n",
       "14    Niklas  Luhmann     2015   \n",
       "0     Niklas  Luhmann     2016   \n",
       "9     Niklas  Luhmann     2017   \n",
       "12    Niklas  Luhmann     2017   \n",
       "13    Niklas  Luhmann     2017   \n",
       "15    Niklas  Luhmann     2017   \n",
       "3     Niklas  Luhmann     2018   \n",
       "6     Niklas  Luhmann     2018   \n",
       "8     Niklas  Luhmann     2018   \n",
       "1     Niklas  Luhmann     2019   \n",
       "7     Niklas  Luhmann     2019   \n",
       "11    Niklas  Luhmann     2019   \n",
       "5     Niklas  Luhmann     2020   \n",
       "\n",
       "                                                                                                                      article_title  \n",
       "4   An urgent need to scale-up injecting drug harm reduction services in Tanzania: Prevalence of blood-borne viruses among drug ...  \n",
       "10                       Hepatitis C among people who inject drugs in Tbilisi, Georgia: An urgent need for prevention and treatment  \n",
       "2                                                      Human rights and access to hepatitis C treatment for people who inject drugs  \n",
       "14  Access to hepatitis C treatment for people who inject drugs in low and middle income settings: Evidence from 5 countries in ...  \n",
       "0                  Prevalence and risk factors associated with HIV and tuberculosis in people who use drugs in Abidjan, Ivory Coast  \n",
       "9                                               The inner differentiation of society: stratification and functional differentiation  \n",
       "12   Survey of programmatic experiences and challenges in delivery of hepatitis B and C testing in low- and middle-income countries  \n",
       "13                                                                                                  Action Theory and System Theory  \n",
       "15                                                             Effect of oxygen plasma on nanomechanical silicon nitride resonators  \n",
       "3                                                                               Approaches for simplified HCV diagnostic algorithms  \n",
       "6                              Harm reduction-based and peer-supported hepatitis C treatment for people who inject drugs in Georgia  \n",
       "8    Modelling the Impact of Prevention and Treatment Interventions on HIV and Hepatitis C Virus Transmission Among PWID in Nairobi  \n",
       "1            Staying hepatitis C negative: A systematic review and meta-analysis of cure and reinfection in people who inject drugs  \n",
       "7                                                                                      Deconstruction as a second order observation  \n",
       "11  Priorities and recommended actions for how researchers, practitioners, policy makers, and the affected community can work to...  \n",
       "5                        Evaluating the impact of Georgia's hepatitis C elimination plan: lessons learned for the global initiative  "
      ]
     },
     "execution_count": null,
     "metadata": {},
     "output_type": "execute_result"
    }
   ],
   "source": [
    "query = (\n",
    "    Query(Author)\n",
    "    .join(Author.items)\n",
    "    .filter(Author.firstname == \"Niklas\", Author.lastname == \"Luhmann\")\n",
    "    .with_entities(\n",
    "        Author.firstname,\n",
    "        Author.lastname,\n",
    "        Item.pubyear,\n",
    "        Item.article_title,\n",
    "    )\n",
    "    .distinct()\n",
    ")\n",
    "\n",
    "pd.read_sql(query.statement, engine).sort_values(\"pubyear\")"
   ]
  },
  {
   "cell_type": "markdown",
   "id": "b5c6af09-deb0-41a1-8c86-2b5e7f716370",
   "metadata": {},
   "source": [
    "# Arbeiten mit Objekten"
   ]
  },
  {
   "cell_type": "code",
   "execution_count": null,
   "id": "644a7fd2-bd02-4c3c-b7ff-15f23ec8d780",
   "metadata": {},
   "outputs": [
    {
     "data": {
      "text/plain": [
       "Author(pk_authors=31991735, fullname=Luhmann, N, lastname=Luhmann, firstname=Niklas, middlename=None, author_group=None, role=author, orcid_id=None, orcid_id_tr=None, r_id=None, r_id_tr=None)"
      ]
     },
     "execution_count": null,
     "metadata": {},
     "output_type": "execute_result"
    }
   ],
   "source": [
    "luhmann = s.query(Author).filter_by(pk_authors=31991735).one()\n",
    "luhmann"
   ]
  },
  {
   "cell_type": "code",
   "execution_count": null,
   "id": "293307fe-621c-454c-918f-3326393e8cdb",
   "metadata": {},
   "outputs": [
    {
     "data": {
      "text/plain": [
       "15"
      ]
     },
     "execution_count": null,
     "metadata": {},
     "output_type": "execute_result"
    }
   ],
   "source": [
    "len(luhmann.items)"
   ]
  },
  {
   "cell_type": "code",
   "execution_count": null,
   "id": "f9cc0402-f086-4ca0-b89f-6f7c9b3342a1",
   "metadata": {},
   "outputs": [],
   "source": [
    "item = luhmann.items[0]"
   ]
  },
  {
   "cell_type": "code",
   "execution_count": null,
   "id": "849e1cde-f893-4ea6-a9d8-824112d5b698",
   "metadata": {},
   "outputs": [
    {
     "data": {
      "text/plain": [
       "Item(pk_items=340623368, fk_sources=124726, article_title=Access to hepatitis C treatment for people who inject drugs in low and middle income settings: Evidence from 5 countries in Eastern Europe and Asia, doi=10.1016/j.drugpo.2015.07.016, page_cnt=7, pubyear=2015, pubtype=Journal, doctype=Article, d_author_cnt=9, d_ref_cnt=41)"
      ]
     },
     "execution_count": null,
     "metadata": {},
     "output_type": "execute_result"
    }
   ],
   "source": [
    "item"
   ]
  },
  {
   "cell_type": "code",
   "execution_count": null,
   "id": "0dbc905b-e0a3-4af1-a2f8-c91151126aa6",
   "metadata": {},
   "outputs": [
    {
     "data": {
      "text/plain": [
       "[Author(pk_authors=5561435, fullname=Maistat, L, lastname=Maistat, firstname=Ludmila, middlename=None, author_group=None, role=author, orcid_id=None, orcid_id_tr=None, r_id=None, r_id_tr=None),\n",
       " Author(pk_authors=8495791, fullname=Luhmann, Niklas, lastname=Luhmann, firstname=Niklas, middlename=None, author_group=None, role=researcher_id, orcid_id=0000-0003-1108-058X, orcid_id_tr=None, r_id=None, r_id_tr=None),\n",
       " Author(pk_authors=9338122, fullname=Golovin, S, lastname=Golovin, firstname=Sergey, middlename=None, author_group=None, role=author, orcid_id=None, orcid_id_tr=None, r_id=None, r_id_tr=None),\n",
       " Author(pk_authors=12059428, fullname=Bouscaillou, J, lastname=Bouscaillou, firstname=Julie, middlename=None, author_group=None, role=author, orcid_id=None, orcid_id_tr=None, r_id=None, r_id_tr=None),\n",
       " Author(pk_authors=14689036, fullname=Agustian, E, lastname=Agustian, firstname=Edo, middlename=None, author_group=None, role=author, orcid_id=None, orcid_id_tr=None, r_id=None, r_id_tr=None),\n",
       " Author(pk_authors=19663380, fullname=Butsashvili, M, lastname=Butsashvili, firstname=Maia, middlename=None, author_group=None, role=author, orcid_id=None, orcid_id_tr=None, r_id=None, r_id_tr=None),\n",
       " Author(pk_authors=21244374, fullname=Inaridze, I, lastname=Inaridze, firstname=Ina, middlename=None, author_group=None, role=author, orcid_id=None, orcid_id_tr=None, r_id=None, r_id_tr=None),\n",
       " Author(pk_authors=24865304, fullname=Myint, WM, lastname=Myint, firstname=Wai Moe, middlename=None, author_group=None, role=author, orcid_id=None, orcid_id_tr=None, r_id=None, r_id_tr=None),\n",
       " Author(pk_authors=28882122, fullname=Champagnat, J, lastname=Champagnat, firstname=Julie, middlename=None, author_group=None, role=author, orcid_id=None, orcid_id_tr=None, r_id=None, r_id_tr=None),\n",
       " Author(pk_authors=31991735, fullname=Luhmann, N, lastname=Luhmann, firstname=Niklas, middlename=None, author_group=None, role=author, orcid_id=None, orcid_id_tr=None, r_id=None, r_id_tr=None)]"
      ]
     },
     "execution_count": null,
     "metadata": {},
     "output_type": "execute_result"
    }
   ],
   "source": [
    "item.authors"
   ]
  },
  {
   "cell_type": "code",
   "execution_count": null,
   "id": "faa229fe-a087-4f67-9de0-8b233553b911",
   "metadata": {},
   "outputs": [
    {
     "data": {
      "text/plain": [
       "[Author(pk_authors=11586, fullname=Pedrana, A, lastname=Pedrana, firstname=Alisa, middlename=None, author_group=None, role=author, orcid_id=None, orcid_id_tr=None, r_id=None, r_id_tr=None),\n",
       " Author(pk_authors=664192, fullname=Thiam-Niangoin, M, lastname=Thiam-Niangoin, firstname=Marguerite, middlename=None, author_group=None, role=author, orcid_id=None, orcid_id_tr=None, r_id=None, r_id_tr=None),\n",
       " Author(pk_authors=765421, fullname=Li, ZN, lastname=Li, firstname=Zinia, middlename=None, author_group=None, role=author, orcid_id=None, orcid_id_tr=None, r_id=None, r_id_tr=None)]"
      ]
     },
     "execution_count": null,
     "metadata": {},
     "output_type": "execute_result"
    }
   ],
   "source": [
    "luhmann.coauthors[:3]"
   ]
  },
  {
   "cell_type": "code",
   "execution_count": null,
   "id": "5e15d1d7-e711-4a59-8789-e25174e9b0ed",
   "metadata": {},
   "outputs": [],
   "source": []
  }
 ],
 "metadata": {
  "kernelspec": {
   "display_name": "Python [conda env:abd_workshop_2021] *",
   "language": "python",
   "name": "conda-env-abd_workshop_2021-py"
  },
  "language_info": {
   "codemirror_mode": {
    "name": "ipython",
    "version": 3
   },
   "file_extension": ".py",
   "mimetype": "text/x-python",
   "name": "python",
   "nbconvert_exporter": "python",
   "pygments_lexer": "ipython3",
   "version": "3.8.11"
  }
 },
 "nbformat": 4,
 "nbformat_minor": 5
}
