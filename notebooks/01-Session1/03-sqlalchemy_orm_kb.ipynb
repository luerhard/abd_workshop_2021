{
 "cells": [
  {
   "cell_type": "markdown",
   "id": "11b5ab64-7092-4246-babe-de063d312457",
   "metadata": {
    "tags": []
   },
   "source": [
    "# imports"
   ]
  },
  {
   "cell_type": "code",
   "execution_count": null,
   "id": "0f37567d-a90a-412f-a933-9cb195284c94",
   "metadata": {},
   "outputs": [],
   "source": [
    "import pandas as pd\n",
    "import sqlalchemy as sa\n",
    "from sqlalchemy.orm import Query\n",
    "\n",
    "from src.connect import create_wos_session\n",
    "from src.models import Author, ItemAuthorInstitution, Item"
   ]
  },
  {
   "cell_type": "markdown",
   "id": "b64e128c-8b33-40fb-bc35-1318fdff14e1",
   "metadata": {},
   "source": [
    "# setup"
   ]
  },
  {
   "cell_type": "code",
   "execution_count": null,
   "id": "f3f0f30f-8b41-49e1-9a0e-86362e87cced",
   "metadata": {},
   "outputs": [],
   "source": [
    "engine, s = create_wos_session()"
   ]
  },
  {
   "cell_type": "markdown",
   "id": "c15a2197-7c35-4d5c-9452-f8f5ed9be236",
   "metadata": {},
   "source": [
    "# Erste ORM Query"
   ]
  },
  {
   "cell_type": "code",
   "execution_count": null,
   "id": "e7e3989b-70be-4dfd-af04-7695d4e7678e",
   "metadata": {},
   "outputs": [
    {
     "data": {
      "text/html": [
       "<div>\n",
       "<style scoped>\n",
       "    .dataframe tbody tr th:only-of-type {\n",
       "        vertical-align: middle;\n",
       "    }\n",
       "\n",
       "    .dataframe tbody tr th {\n",
       "        vertical-align: top;\n",
       "    }\n",
       "\n",
       "    .dataframe thead th {\n",
       "        text-align: right;\n",
       "    }\n",
       "</style>\n",
       "<table border=\"1\" class=\"dataframe\">\n",
       "  <thead>\n",
       "    <tr style=\"text-align: right;\">\n",
       "      <th></th>\n",
       "      <th>firstname</th>\n",
       "      <th>lastname</th>\n",
       "      <th>pubyear</th>\n",
       "      <th>article_title</th>\n",
       "    </tr>\n",
       "  </thead>\n",
       "  <tbody>\n",
       "    <tr>\n",
       "      <th>2</th>\n",
       "      <td>Niklas</td>\n",
       "      <td>Luhmann</td>\n",
       "      <td>2013</td>\n",
       "      <td>An urgent need to scale-up injecting drug harm reduction services in Tanzania: Prevalence of blood-borne viruses among drug ...</td>\n",
       "    </tr>\n",
       "    <tr>\n",
       "      <th>11</th>\n",
       "      <td>Niklas</td>\n",
       "      <td>Luhmann</td>\n",
       "      <td>2014</td>\n",
       "      <td>Hepatitis C among people who inject drugs in Tbilisi, Georgia: An urgent need for prevention and treatment</td>\n",
       "    </tr>\n",
       "    <tr>\n",
       "      <th>13</th>\n",
       "      <td>Niklas</td>\n",
       "      <td>Luhmann</td>\n",
       "      <td>2015</td>\n",
       "      <td>Access to hepatitis C treatment for people who inject drugs in low and middle income settings: Evidence from 5 countries in ...</td>\n",
       "    </tr>\n",
       "    <tr>\n",
       "      <th>0</th>\n",
       "      <td>Niklas</td>\n",
       "      <td>Luhmann</td>\n",
       "      <td>2016</td>\n",
       "      <td>Prevalence and risk factors associated with HIV and tuberculosis in people who use drugs in Abidjan, Ivory Coast</td>\n",
       "    </tr>\n",
       "    <tr>\n",
       "      <th>7</th>\n",
       "      <td>Niklas</td>\n",
       "      <td>Luhmann</td>\n",
       "      <td>2017</td>\n",
       "      <td>The inner differentiation of society: stratification and functional differentiation</td>\n",
       "    </tr>\n",
       "    <tr>\n",
       "      <th>9</th>\n",
       "      <td>Niklas</td>\n",
       "      <td>Luhmann</td>\n",
       "      <td>2017</td>\n",
       "      <td>Survey of programmatic experiences and challenges in delivery of hepatitis B and C testing in low- and middle-income countries</td>\n",
       "    </tr>\n",
       "    <tr>\n",
       "      <th>12</th>\n",
       "      <td>Niklas</td>\n",
       "      <td>Luhmann</td>\n",
       "      <td>2017</td>\n",
       "      <td>Action Theory and System Theory</td>\n",
       "    </tr>\n",
       "    <tr>\n",
       "      <th>14</th>\n",
       "      <td>Niklas</td>\n",
       "      <td>Luhmann</td>\n",
       "      <td>2017</td>\n",
       "      <td>Effect of oxygen plasma on nanomechanical silicon nitride resonators</td>\n",
       "    </tr>\n",
       "    <tr>\n",
       "      <th>3</th>\n",
       "      <td>Niklas</td>\n",
       "      <td>Luhmann</td>\n",
       "      <td>2018</td>\n",
       "      <td>Approaches for simplified HCV diagnostic algorithms</td>\n",
       "    </tr>\n",
       "    <tr>\n",
       "      <th>4</th>\n",
       "      <td>Niklas</td>\n",
       "      <td>Luhmann</td>\n",
       "      <td>2018</td>\n",
       "      <td>Harm reduction-based and peer-supported hepatitis C treatment for people who inject drugs in Georgia</td>\n",
       "    </tr>\n",
       "    <tr>\n",
       "      <th>6</th>\n",
       "      <td>Niklas</td>\n",
       "      <td>Luhmann</td>\n",
       "      <td>2018</td>\n",
       "      <td>Modelling the Impact of Prevention and Treatment Interventions on HIV and Hepatitis C Virus Transmission Among PWID in Nairobi</td>\n",
       "    </tr>\n",
       "    <tr>\n",
       "      <th>1</th>\n",
       "      <td>Niklas</td>\n",
       "      <td>Luhmann</td>\n",
       "      <td>2019</td>\n",
       "      <td>Staying hepatitis C negative: A systematic review and meta-analysis of cure and reinfection in people who inject drugs</td>\n",
       "    </tr>\n",
       "    <tr>\n",
       "      <th>8</th>\n",
       "      <td>Niklas</td>\n",
       "      <td>Luhmann</td>\n",
       "      <td>2019</td>\n",
       "      <td>Deconstruction as a second order observation</td>\n",
       "    </tr>\n",
       "    <tr>\n",
       "      <th>10</th>\n",
       "      <td>Niklas</td>\n",
       "      <td>Luhmann</td>\n",
       "      <td>2019</td>\n",
       "      <td>Priorities and recommended actions for how researchers, practitioners, policy makers, and the affected community can work to...</td>\n",
       "    </tr>\n",
       "    <tr>\n",
       "      <th>5</th>\n",
       "      <td>Niklas</td>\n",
       "      <td>Luhmann</td>\n",
       "      <td>2020</td>\n",
       "      <td>Evaluating the impact of Georgia's hepatitis C elimination plan: lessons learned for the global initiative</td>\n",
       "    </tr>\n",
       "  </tbody>\n",
       "</table>\n",
       "</div>"
      ],
      "text/plain": [
       "   firstname lastname  pubyear  \\\n",
       "2     Niklas  Luhmann     2013   \n",
       "11    Niklas  Luhmann     2014   \n",
       "13    Niklas  Luhmann     2015   \n",
       "0     Niklas  Luhmann     2016   \n",
       "7     Niklas  Luhmann     2017   \n",
       "9     Niklas  Luhmann     2017   \n",
       "12    Niklas  Luhmann     2017   \n",
       "14    Niklas  Luhmann     2017   \n",
       "3     Niklas  Luhmann     2018   \n",
       "4     Niklas  Luhmann     2018   \n",
       "6     Niklas  Luhmann     2018   \n",
       "1     Niklas  Luhmann     2019   \n",
       "8     Niklas  Luhmann     2019   \n",
       "10    Niklas  Luhmann     2019   \n",
       "5     Niklas  Luhmann     2020   \n",
       "\n",
       "                                                                                                                      article_title  \n",
       "2   An urgent need to scale-up injecting drug harm reduction services in Tanzania: Prevalence of blood-borne viruses among drug ...  \n",
       "11                       Hepatitis C among people who inject drugs in Tbilisi, Georgia: An urgent need for prevention and treatment  \n",
       "13  Access to hepatitis C treatment for people who inject drugs in low and middle income settings: Evidence from 5 countries in ...  \n",
       "0                  Prevalence and risk factors associated with HIV and tuberculosis in people who use drugs in Abidjan, Ivory Coast  \n",
       "7                                               The inner differentiation of society: stratification and functional differentiation  \n",
       "9    Survey of programmatic experiences and challenges in delivery of hepatitis B and C testing in low- and middle-income countries  \n",
       "12                                                                                                  Action Theory and System Theory  \n",
       "14                                                             Effect of oxygen plasma on nanomechanical silicon nitride resonators  \n",
       "3                                                                               Approaches for simplified HCV diagnostic algorithms  \n",
       "4                              Harm reduction-based and peer-supported hepatitis C treatment for people who inject drugs in Georgia  \n",
       "6    Modelling the Impact of Prevention and Treatment Interventions on HIV and Hepatitis C Virus Transmission Among PWID in Nairobi  \n",
       "1            Staying hepatitis C negative: A systematic review and meta-analysis of cure and reinfection in people who inject drugs  \n",
       "8                                                                                      Deconstruction as a second order observation  \n",
       "10  Priorities and recommended actions for how researchers, practitioners, policy makers, and the affected community can work to...  \n",
       "5                        Evaluating the impact of Georgia's hepatitis C elimination plan: lessons learned for the global initiative  "
      ]
     },
     "execution_count": null,
     "metadata": {},
     "output_type": "execute_result"
    }
   ],
   "source": [
    "query = (\n",
    "    Query(Author)\n",
    "    .join(ItemAuthorInstitution)\n",
    "    .join(Item)\n",
    "    .filter(Author.pk_authors == 31991735)\n",
    "    .with_entities(\n",
    "        Author.firstname,\n",
    "        Author.lastname,\n",
    "        Item.pubyear,\n",
    "        Item.article_title,\n",
    "    )\n",
    "    .distinct()\n",
    ")\n",
    "\n",
    "pd.read_sql(query.statement, engine).sort_values(\"pubyear\")"
   ]
  },
  {
   "cell_type": "markdown",
   "id": "d06a8918-b2ea-4cbd-978e-17f066a173b1",
   "metadata": {},
   "source": [
    "# ORM Query, aber mit relationship"
   ]
  },
  {
   "cell_type": "code",
   "execution_count": null,
   "id": "420fb591-12bc-4961-bb21-8f4d29035af4",
   "metadata": {},
   "outputs": [
    {
     "data": {
      "text/html": [
       "<div>\n",
       "<style scoped>\n",
       "    .dataframe tbody tr th:only-of-type {\n",
       "        vertical-align: middle;\n",
       "    }\n",
       "\n",
       "    .dataframe tbody tr th {\n",
       "        vertical-align: top;\n",
       "    }\n",
       "\n",
       "    .dataframe thead th {\n",
       "        text-align: right;\n",
       "    }\n",
       "</style>\n",
       "<table border=\"1\" class=\"dataframe\">\n",
       "  <thead>\n",
       "    <tr style=\"text-align: right;\">\n",
       "      <th></th>\n",
       "      <th>firstname</th>\n",
       "      <th>lastname</th>\n",
       "      <th>pubyear</th>\n",
       "      <th>article_title</th>\n",
       "    </tr>\n",
       "  </thead>\n",
       "  <tbody>\n",
       "    <tr>\n",
       "      <th>4</th>\n",
       "      <td>Niklas</td>\n",
       "      <td>Luhmann</td>\n",
       "      <td>2013</td>\n",
       "      <td>An urgent need to scale-up injecting drug harm reduction services in Tanzania: Prevalence of blood-borne viruses among drug ...</td>\n",
       "    </tr>\n",
       "    <tr>\n",
       "      <th>10</th>\n",
       "      <td>Niklas</td>\n",
       "      <td>Luhmann</td>\n",
       "      <td>2014</td>\n",
       "      <td>Hepatitis C among people who inject drugs in Tbilisi, Georgia: An urgent need for prevention and treatment</td>\n",
       "    </tr>\n",
       "    <tr>\n",
       "      <th>2</th>\n",
       "      <td>Niklas</td>\n",
       "      <td>Luhmann</td>\n",
       "      <td>2015</td>\n",
       "      <td>Human rights and access to hepatitis C treatment for people who inject drugs</td>\n",
       "    </tr>\n",
       "    <tr>\n",
       "      <th>14</th>\n",
       "      <td>Niklas</td>\n",
       "      <td>Luhmann</td>\n",
       "      <td>2015</td>\n",
       "      <td>Access to hepatitis C treatment for people who inject drugs in low and middle income settings: Evidence from 5 countries in ...</td>\n",
       "    </tr>\n",
       "    <tr>\n",
       "      <th>0</th>\n",
       "      <td>Niklas</td>\n",
       "      <td>Luhmann</td>\n",
       "      <td>2016</td>\n",
       "      <td>Prevalence and risk factors associated with HIV and tuberculosis in people who use drugs in Abidjan, Ivory Coast</td>\n",
       "    </tr>\n",
       "    <tr>\n",
       "      <th>9</th>\n",
       "      <td>Niklas</td>\n",
       "      <td>Luhmann</td>\n",
       "      <td>2017</td>\n",
       "      <td>The inner differentiation of society: stratification and functional differentiation</td>\n",
       "    </tr>\n",
       "    <tr>\n",
       "      <th>12</th>\n",
       "      <td>Niklas</td>\n",
       "      <td>Luhmann</td>\n",
       "      <td>2017</td>\n",
       "      <td>Survey of programmatic experiences and challenges in delivery of hepatitis B and C testing in low- and middle-income countries</td>\n",
       "    </tr>\n",
       "    <tr>\n",
       "      <th>13</th>\n",
       "      <td>Niklas</td>\n",
       "      <td>Luhmann</td>\n",
       "      <td>2017</td>\n",
       "      <td>Action Theory and System Theory</td>\n",
       "    </tr>\n",
       "    <tr>\n",
       "      <th>15</th>\n",
       "      <td>Niklas</td>\n",
       "      <td>Luhmann</td>\n",
       "      <td>2017</td>\n",
       "      <td>Effect of oxygen plasma on nanomechanical silicon nitride resonators</td>\n",
       "    </tr>\n",
       "    <tr>\n",
       "      <th>3</th>\n",
       "      <td>Niklas</td>\n",
       "      <td>Luhmann</td>\n",
       "      <td>2018</td>\n",
       "      <td>Approaches for simplified HCV diagnostic algorithms</td>\n",
       "    </tr>\n",
       "    <tr>\n",
       "      <th>6</th>\n",
       "      <td>Niklas</td>\n",
       "      <td>Luhmann</td>\n",
       "      <td>2018</td>\n",
       "      <td>Harm reduction-based and peer-supported hepatitis C treatment for people who inject drugs in Georgia</td>\n",
       "    </tr>\n",
       "    <tr>\n",
       "      <th>8</th>\n",
       "      <td>Niklas</td>\n",
       "      <td>Luhmann</td>\n",
       "      <td>2018</td>\n",
       "      <td>Modelling the Impact of Prevention and Treatment Interventions on HIV and Hepatitis C Virus Transmission Among PWID in Nairobi</td>\n",
       "    </tr>\n",
       "    <tr>\n",
       "      <th>1</th>\n",
       "      <td>Niklas</td>\n",
       "      <td>Luhmann</td>\n",
       "      <td>2019</td>\n",
       "      <td>Staying hepatitis C negative: A systematic review and meta-analysis of cure and reinfection in people who inject drugs</td>\n",
       "    </tr>\n",
       "    <tr>\n",
       "      <th>7</th>\n",
       "      <td>Niklas</td>\n",
       "      <td>Luhmann</td>\n",
       "      <td>2019</td>\n",
       "      <td>Deconstruction as a second order observation</td>\n",
       "    </tr>\n",
       "    <tr>\n",
       "      <th>11</th>\n",
       "      <td>Niklas</td>\n",
       "      <td>Luhmann</td>\n",
       "      <td>2019</td>\n",
       "      <td>Priorities and recommended actions for how researchers, practitioners, policy makers, and the affected community can work to...</td>\n",
       "    </tr>\n",
       "    <tr>\n",
       "      <th>5</th>\n",
       "      <td>Niklas</td>\n",
       "      <td>Luhmann</td>\n",
       "      <td>2020</td>\n",
       "      <td>Evaluating the impact of Georgia's hepatitis C elimination plan: lessons learned for the global initiative</td>\n",
       "    </tr>\n",
       "  </tbody>\n",
       "</table>\n",
       "</div>"
      ],
      "text/plain": [
       "   firstname lastname  pubyear  \\\n",
       "4     Niklas  Luhmann     2013   \n",
       "10    Niklas  Luhmann     2014   \n",
       "2     Niklas  Luhmann     2015   \n",
       "14    Niklas  Luhmann     2015   \n",
       "0     Niklas  Luhmann     2016   \n",
       "9     Niklas  Luhmann     2017   \n",
       "12    Niklas  Luhmann     2017   \n",
       "13    Niklas  Luhmann     2017   \n",
       "15    Niklas  Luhmann     2017   \n",
       "3     Niklas  Luhmann     2018   \n",
       "6     Niklas  Luhmann     2018   \n",
       "8     Niklas  Luhmann     2018   \n",
       "1     Niklas  Luhmann     2019   \n",
       "7     Niklas  Luhmann     2019   \n",
       "11    Niklas  Luhmann     2019   \n",
       "5     Niklas  Luhmann     2020   \n",
       "\n",
       "                                                                                                                      article_title  \n",
       "4   An urgent need to scale-up injecting drug harm reduction services in Tanzania: Prevalence of blood-borne viruses among drug ...  \n",
       "10                       Hepatitis C among people who inject drugs in Tbilisi, Georgia: An urgent need for prevention and treatment  \n",
       "2                                                      Human rights and access to hepatitis C treatment for people who inject drugs  \n",
       "14  Access to hepatitis C treatment for people who inject drugs in low and middle income settings: Evidence from 5 countries in ...  \n",
       "0                  Prevalence and risk factors associated with HIV and tuberculosis in people who use drugs in Abidjan, Ivory Coast  \n",
       "9                                               The inner differentiation of society: stratification and functional differentiation  \n",
       "12   Survey of programmatic experiences and challenges in delivery of hepatitis B and C testing in low- and middle-income countries  \n",
       "13                                                                                                  Action Theory and System Theory  \n",
       "15                                                             Effect of oxygen plasma on nanomechanical silicon nitride resonators  \n",
       "3                                                                               Approaches for simplified HCV diagnostic algorithms  \n",
       "6                              Harm reduction-based and peer-supported hepatitis C treatment for people who inject drugs in Georgia  \n",
       "8    Modelling the Impact of Prevention and Treatment Interventions on HIV and Hepatitis C Virus Transmission Among PWID in Nairobi  \n",
       "1            Staying hepatitis C negative: A systematic review and meta-analysis of cure and reinfection in people who inject drugs  \n",
       "7                                                                                      Deconstruction as a second order observation  \n",
       "11  Priorities and recommended actions for how researchers, practitioners, policy makers, and the affected community can work to...  \n",
       "5                        Evaluating the impact of Georgia's hepatitis C elimination plan: lessons learned for the global initiative  "
      ]
     },
     "execution_count": null,
     "metadata": {},
     "output_type": "execute_result"
    }
   ],
   "source": [
    "query = (\n",
    "    Query(Author)\n",
    "    .join(Author.items)\n",
    "    .filter(Author.firstname == \"Niklas\", Author.lastname == \"Luhmann\")\n",
    "    .with_entities(\n",
    "        Author.firstname,\n",
    "        Author.lastname,\n",
    "        Item.pubyear,\n",
    "        Item.article_title,\n",
    "    )\n",
    "    .distinct()\n",
    ")\n",
    "\n",
    "pd.read_sql(query.statement, engine).sort_values(\"pubyear\")"
   ]
  },
  {
   "cell_type": "markdown",
   "id": "b5c6af09-deb0-41a1-8c86-2b5e7f716370",
   "metadata": {},
   "source": [
    "# Arbeiten mit Objekten"
   ]
  },
  {
   "cell_type": "code",
   "execution_count": null,
   "id": "644a7fd2-bd02-4c3c-b7ff-15f23ec8d780",
   "metadata": {},
   "outputs": [
    {
     "data": {
      "text/plain": [
       "Author(pk_authors=31991735, fullname=Luhmann, N, lastname=Luhmann, firstname=Niklas, middlename=None, author_group=None, role=author, orcid_id=None, orcid_id_tr=None, r_id=None, r_id_tr=None)"
      ]
     },
     "execution_count": null,
     "metadata": {},
     "output_type": "execute_result"
    }
   ],
   "source": [
    "luhmann = s.query(Author).filter_by(pk_authors=31991735).one()\n",
    "luhmann"
   ]
  },
  {
   "cell_type": "code",
   "execution_count": null,
   "id": "293307fe-621c-454c-918f-3326393e8cdb",
   "metadata": {},
   "outputs": [
    {
     "data": {
      "text/plain": [
       "15"
      ]
     },
     "execution_count": null,
     "metadata": {},
     "output_type": "execute_result"
    }
   ],
   "source": [
    "len(luhmann.items)"
   ]
  },
  {
   "cell_type": "code",
   "execution_count": null,
   "id": "f9cc0402-f086-4ca0-b89f-6f7c9b3342a1",
   "metadata": {},
   "outputs": [],
   "source": [
    "item = luhmann.items[0]"
   ]
  },
  {
   "cell_type": "code",
   "execution_count": null,
   "id": "849e1cde-f893-4ea6-a9d8-824112d5b698",
   "metadata": {},
   "outputs": [
    {
     "data": {
      "text/plain": [
       "Item(pk_items=340623368, fk_sources=124726, article_title=Access to hepatitis C treatment for people who inject drugs in low and middle income settings: Evidence from 5 countries in Eastern Europe and Asia, doi=10.1016/j.drugpo.2015.07.016, page_cnt=7, pubyear=2015, pubtype=Journal, doctype=Article, d_author_cnt=9, d_ref_cnt=41)"
      ]
     },
     "execution_count": null,
     "metadata": {},
     "output_type": "execute_result"
    }
   ],
   "source": [
    "item"
   ]
  },
  {
   "cell_type": "code",
   "execution_count": null,
   "id": "0dbc905b-e0a3-4af1-a2f8-c91151126aa6",
   "metadata": {},
   "outputs": [
    {
     "data": {
      "text/plain": [
       "[Author(pk_authors=5561435, fullname=Maistat, L, lastname=Maistat, firstname=Ludmila, middlename=None, author_group=None, role=author, orcid_id=None, orcid_id_tr=None, r_id=None, r_id_tr=None),\n",
       " Author(pk_authors=8495791, fullname=Luhmann, Niklas, lastname=Luhmann, firstname=Niklas, middlename=None, author_group=None, role=researcher_id, orcid_id=0000-0003-1108-058X, orcid_id_tr=None, r_id=None, r_id_tr=None),\n",
       " Author(pk_authors=9338122, fullname=Golovin, S, lastname=Golovin, firstname=Sergey, middlename=None, author_group=None, role=author, orcid_id=None, orcid_id_tr=None, r_id=None, r_id_tr=None),\n",
       " Author(pk_authors=31991735, fullname=Luhmann, N, lastname=Luhmann, firstname=Niklas, middlename=None, author_group=None, role=author, orcid_id=None, orcid_id_tr=None, r_id=None, r_id_tr=None),\n",
       " Author(pk_authors=21244374, fullname=Inaridze, I, lastname=Inaridze, firstname=Ina, middlename=None, author_group=None, role=author, orcid_id=None, orcid_id_tr=None, r_id=None, r_id_tr=None),\n",
       " Author(pk_authors=19663380, fullname=Butsashvili, M, lastname=Butsashvili, firstname=Maia, middlename=None, author_group=None, role=author, orcid_id=None, orcid_id_tr=None, r_id=None, r_id_tr=None),\n",
       " Author(pk_authors=24865304, fullname=Myint, WM, lastname=Myint, firstname=Wai Moe, middlename=None, author_group=None, role=author, orcid_id=None, orcid_id_tr=None, r_id=None, r_id_tr=None),\n",
       " Author(pk_authors=28882122, fullname=Champagnat, J, lastname=Champagnat, firstname=Julie, middlename=None, author_group=None, role=author, orcid_id=None, orcid_id_tr=None, r_id=None, r_id_tr=None),\n",
       " Author(pk_authors=12059428, fullname=Bouscaillou, J, lastname=Bouscaillou, firstname=Julie, middlename=None, author_group=None, role=author, orcid_id=None, orcid_id_tr=None, r_id=None, r_id_tr=None),\n",
       " Author(pk_authors=14689036, fullname=Agustian, E, lastname=Agustian, firstname=Edo, middlename=None, author_group=None, role=author, orcid_id=None, orcid_id_tr=None, r_id=None, r_id_tr=None)]"
      ]
     },
     "execution_count": null,
     "metadata": {},
     "output_type": "execute_result"
    }
   ],
   "source": [
    "item.authors"
   ]
  },
  {
   "cell_type": "code",
   "execution_count": null,
   "id": "faa229fe-a087-4f67-9de0-8b233553b911",
   "metadata": {},
   "outputs": [
    {
     "data": {
      "text/plain": [
       "[Author(pk_authors=11586, fullname=Pedrana, A, lastname=Pedrana, firstname=Alisa, middlename=None, author_group=None, role=author, orcid_id=None, orcid_id_tr=None, r_id=None, r_id_tr=None),\n",
       " Author(pk_authors=664192, fullname=Thiam-Niangoin, M, lastname=Thiam-Niangoin, firstname=Marguerite, middlename=None, author_group=None, role=author, orcid_id=None, orcid_id_tr=None, r_id=None, r_id_tr=None),\n",
       " Author(pk_authors=765421, fullname=Li, ZN, lastname=Li, firstname=Zinia, middlename=None, author_group=None, role=author, orcid_id=None, orcid_id_tr=None, r_id=None, r_id_tr=None)]"
      ]
     },
     "execution_count": null,
     "metadata": {},
     "output_type": "execute_result"
    }
   ],
   "source": [
    "luhmann.coauthors[:3]"
   ]
  },
  {
   "cell_type": "code",
   "execution_count": null,
   "id": "5e15d1d7-e711-4a59-8789-e25174e9b0ed",
   "metadata": {},
   "outputs": [
    {
     "data": {
      "text/plain": [
       "Author(pk_authors=31991735, fullname=Luhmann, N, lastname=Luhmann, firstname=Niklas, middlename=None, author_group=None, role=author, orcid_id=None, orcid_id_tr=None, r_id=None, r_id_tr=None)"
      ]
     },
     "execution_count": null,
     "metadata": {},
     "output_type": "execute_result"
    }
   ],
   "source": [
    "luhmann"
   ]
  },
  {
   "cell_type": "code",
   "execution_count": null,
   "id": "d5beca5e-a7c9-453d-8011-c13ca225fb05",
   "metadata": {},
   "outputs": [],
   "source": []
  },
  {
   "cell_type": "code",
   "execution_count": null,
   "id": "5863260d-9b00-4d5a-affd-e8be59ace267",
   "metadata": {},
   "outputs": [],
   "source": [
    "import networkx as nx"
   ]
  },
  {
   "cell_type": "code",
   "execution_count": null,
   "id": "7668d681-d85b-480a-ae57-35697ba92aa0",
   "metadata": {},
   "outputs": [],
   "source": [
    "e, s = create_wos_session()"
   ]
  },
  {
   "cell_type": "code",
   "execution_count": null,
   "id": "aa823125-a0da-4262-a0a5-9fcc9677cbce",
   "metadata": {},
   "outputs": [],
   "source": [
    "from tqdm import tqdm\n",
    "\n",
    "import src\n",
    "from src.connect import create_sqlite_session\n",
    "from src.models import Base"
   ]
  },
  {
   "cell_type": "code",
   "execution_count": null,
   "id": "e048a340-ce26-4bb6-9193-12dbfebb6405",
   "metadata": {},
   "outputs": [],
   "source": [
    "e, s = create_sqlite_session(src.PATH / \"data/example.db\")"
   ]
  },
  {
   "cell_type": "code",
   "execution_count": null,
   "id": "465845b3-8477-4dfb-96f4-7d8d5928e5e6",
   "metadata": {},
   "outputs": [],
   "source": [
    "authors = s.query(Author).options(sa.orm.joinedload(Author.items)).join(Author.items)"
   ]
  },
  {
   "cell_type": "code",
   "execution_count": null,
   "id": "685a84c0-f29e-4d2a-957d-87a5988bca4f",
   "metadata": {},
   "outputs": [
    {
     "name": "stderr",
     "output_type": "stream",
     "text": [
      "16546it [01:19, 208.74it/s]\n"
     ]
    }
   ],
   "source": [
    "graph = nx.Graph()\n",
    "\n",
    "\n",
    "def add_node(author, net):\n",
    "    node = author.pk_authors\n",
    "\n",
    "    if node not in graph.nodes:\n",
    "        # citations = sum(\n",
    "        #    citation.cum_3 for item in author.items for citation in item.citations\n",
    "        # )\n",
    "        item_count = len(author.items)\n",
    "        graph.add_node(\n",
    "            node,\n",
    "            **{\n",
    "                \"firstname\": author.firstname,\n",
    "                \"lastname\": author.lastname,\n",
    "                \"n_items\": item_count,\n",
    "                # \"cum_citation\": citations,\n",
    "            },\n",
    "        )\n",
    "\n",
    "    return node\n",
    "\n",
    "\n",
    "for author in tqdm(authors):\n",
    "\n",
    "    # add node if not exists\n",
    "    node = add_node(author, graph)\n",
    "    # add edges that do not exist yet\n",
    "\n",
    "    for coauthor in author.coauthors:\n",
    "        co_node = add_node(coauthor, graph)\n",
    "\n",
    "        graph.add_edge(node, co_node)"
   ]
  },
  {
   "cell_type": "code",
   "execution_count": null,
   "id": "3d6471c7-43b4-4255-8d8b-a9a83e8e67a2",
   "metadata": {},
   "outputs": [],
   "source": [
    "isolates = nx.isolates(graph)\n",
    "\n",
    "nodes = list(graph.nodes)\n",
    "for node in nodes:\n",
    "    if node in isolates:\n",
    "        graph.remove_node(node)"
   ]
  },
  {
   "cell_type": "code",
   "execution_count": null,
   "id": "a95c2a17-e2a9-4eb3-ac7f-282d9e715825",
   "metadata": {},
   "outputs": [
    {
     "data": {
      "text/plain": [
       "16546"
      ]
     },
     "execution_count": null,
     "metadata": {},
     "output_type": "execute_result"
    }
   ],
   "source": [
    "len(graph.nodes)"
   ]
  },
  {
   "cell_type": "code",
   "execution_count": null,
   "id": "95a0fc0d-f8d8-4cb9-9577-3be623d80079",
   "metadata": {},
   "outputs": [],
   "source": [
    "Gcc = sorted(nx.connected_components(graph), key=len, reverse=True)\n",
    "G0 = graph.subgraph(Gcc[0])"
   ]
  },
  {
   "cell_type": "code",
   "execution_count": null,
   "id": "b09d2ecd-d903-495f-8982-cc60a1e51b69",
   "metadata": {},
   "outputs": [],
   "source": [
    "degree = nx.degree(G0)"
   ]
  },
  {
   "cell_type": "code",
   "execution_count": null,
   "id": "59ff3de9-2660-423d-82cf-e882e7325ca6",
   "metadata": {},
   "outputs": [],
   "source": [
    "degree = dict(degree)"
   ]
  },
  {
   "cell_type": "code",
   "execution_count": null,
   "id": "89a9557a-beac-478e-890c-691d2f3ff2f1",
   "metadata": {},
   "outputs": [],
   "source": [
    "nx.set_node_attributes(G0, degree, \"degree\")"
   ]
  },
  {
   "cell_type": "code",
   "execution_count": null,
   "id": "74e032f1-b97b-4335-bf09-77e9ec4991fd",
   "metadata": {},
   "outputs": [
    {
     "data": {
      "text/plain": [
       "64"
      ]
     },
     "execution_count": null,
     "metadata": {},
     "output_type": "execute_result"
    }
   ],
   "source": [
    "len(G0.nodes)"
   ]
  },
  {
   "cell_type": "code",
   "execution_count": null,
   "id": "d5e63bf9-c4c8-4494-8d74-a62336e87ecf",
   "metadata": {},
   "outputs": [],
   "source": [
    "from src.bokeh_graph import BokehGraph"
   ]
  },
  {
   "cell_type": "code",
   "execution_count": null,
   "id": "35ab21d1-2f5f-4d7f-a326-541b080f443b",
   "metadata": {},
   "outputs": [],
   "source": [
    "plot = BokehGraph(G0, width=1027, height=768, inline=False)"
   ]
  },
  {
   "cell_type": "code",
   "execution_count": null,
   "id": "36fd5110-9cfb-4c7f-900a-8fd1bf1bb4ae",
   "metadata": {},
   "outputs": [],
   "source": [
    "plot.layout()"
   ]
  },
  {
   "cell_type": "raw",
   "id": "2c4d0343-a720-49cc-9738-19a787fc5633",
   "metadata": {},
   "source": [
    "from bokeh.io import output_file"
   ]
  },
  {
   "cell_type": "raw",
   "id": "329f98c1-0b80-4ee2-8db7-c5211dbb8d3d",
   "metadata": {},
   "source": [
    "output_file(\"supertest.html\")"
   ]
  },
  {
   "cell_type": "code",
   "execution_count": null,
   "id": "5b8c02ff-bcf0-4998-8918-a886fb3238bb",
   "metadata": {},
   "outputs": [
    {
     "data": {
      "text/html": [
       "\n",
       "\n",
       "\n",
       "\n",
       "\n",
       "\n",
       "  <div class=\"bk-root\" id=\"74d15d16-1d23-44d4-a366-ea09f2034b9f\" data-root-id=\"4832\"></div>\n"
      ]
     },
     "metadata": {},
     "output_type": "display_data"
    },
    {
     "data": {
      "application/javascript": [
       "(function(root) {\n",
       "  function embed_document(root) {\n",
       "    \n",
       "  var docs_json = {\"2b5e6ddd-7ce9-45a5-be85-88a760387cea\":{\"defs\":[],\"roots\":{\"references\":[{\"attributes\":{\"below\":[{\"id\":\"4841\"}],\"center\":[{\"id\":\"4844\"},{\"id\":\"4848\"}],\"height\":768,\"left\":[{\"id\":\"4845\"}],\"renderers\":[{\"id\":\"4865\"},{\"id\":\"4871\"}],\"title\":{\"id\":\"5055\"},\"toolbar\":{\"id\":\"4854\"},\"width\":1027,\"x_range\":{\"id\":\"4833\"},\"x_scale\":{\"id\":\"4837\"},\"y_range\":{\"id\":\"4835\"},\"y_scale\":{\"id\":\"4839\"}},\"id\":\"4832\",\"subtype\":\"Figure\",\"type\":\"Plot\"},{\"attributes\":{},\"id\":\"5055\",\"type\":\"Title\"},{\"attributes\":{},\"id\":\"4852\",\"type\":\"PanTool\"},{\"attributes\":{\"source\":{\"id\":\"4867\"}},\"id\":\"4872\",\"type\":\"CDSView\"},{\"attributes\":{},\"id\":\"5058\",\"type\":\"BasicTickFormatter\"},{\"attributes\":{},\"id\":\"4850\",\"type\":\"ResetTool\"},{\"attributes\":{\"overlay\":{\"id\":\"4853\"}},\"id\":\"4849\",\"type\":\"BoxZoomTool\"},{\"attributes\":{},\"id\":\"4851\",\"type\":\"WheelZoomTool\"},{\"attributes\":{},\"id\":\"5061\",\"type\":\"BasicTickFormatter\"},{\"attributes\":{\"active_multi\":null,\"logo\":null,\"tools\":[{\"id\":\"4831\"},{\"id\":\"4849\"},{\"id\":\"4850\"},{\"id\":\"4851\"},{\"id\":\"4852\"}]},\"id\":\"4854\",\"type\":\"Toolbar\"},{\"attributes\":{\"data\":{\"xs\":[[0.08999040410196758,0.11323371910262874],[0.08999040410196758,0.06873485926898858],[0.08999040410196758,0.33591888683435245],[0.08999040410196758,-0.1827006566306279],[0.08999040410196758,0.04705689289080905],[0.6033831424564072,0.5216621035455826],[0.6033831424564072,0.5890982777861712],[0.6033831424564072,0.33591888683435245],[0.6033831424564072,0.5418907010272688],[0.6033831424564072,0.609940552186609],[0.6033831424564072,0.4320721129198611],[0.6033831424564072,0.5218538050603432],[0.6033831424564072,0.5692176625266612],[0.5692176625266612,0.5216621035455826],[0.5692176625266612,0.5890982777861712],[0.5692176625266612,0.33591888683435245],[0.5692176625266612,0.5418907010272688],[0.5692176625266612,0.609940552186609],[0.5692176625266612,0.4320721129198611],[0.5692176625266612,0.5218538050603432],[-0.47131247627372763,-0.5970634438870659],[-0.47131247627372763,-0.1827006566306279],[-0.23112143091376788,-0.19207463963846422],[-0.23112143091376788,-0.04411271430672642],[-0.23112143091376788,-0.3434940391824544],[-0.23112143091376788,-0.30213228654946744],[-0.23112143091376788,-0.2321551200478727],[-0.23112143091376788,-0.27173532375709225],[-0.23112143091376788,-0.31734346588263634],[0.13526162022852112,0.33591888683435245],[0.13526162022852112,-0.1827006566306279],[-0.9183183082109485,-0.9994339759559847],[-0.9183183082109485,-0.8368400250176632],[-0.9183183082109485,-1.0],[-0.9183183082109485,-0.9275620466752387],[0.5218538050603432,0.5216621035455826],[0.5218538050603432,0.5890982777861712],[0.5218538050603432,0.33591888683435245],[0.5218538050603432,0.5418907010272688],[0.5218538050603432,0.609940552186609],[0.5218538050603432,0.4320721129198611],[0.4320721129198611,0.36584183262946557],[0.4320721129198611,0.5216621035455826],[0.4320721129198611,0.5890982777861712],[0.4320721129198611,0.19953201763627654],[0.4320721129198611,0.33591888683435245],[0.4320721129198611,0.5418907010272688],[0.4320721129198611,0.35748654008608927],[0.4320721129198611,0.2092484929869507],[0.4320721129198611,0.33367845779456834],[0.4320721129198611,0.3164419155918126],[0.4320721129198611,0.40427131676610234],[0.4320721129198611,0.609940552186609],[0.4320721129198611,0.29563629342198966],[0.4320721129198611,0.3469903001363657],[0.4320721129198611,0.39671938379303306],[-0.2321551200478727,-0.3434940391824544],[-0.2321551200478727,-0.27173532375709225],[-0.2321551200478727,-0.31734346588263634],[0.0023335650295796483,0.08343645306164679],[0.0023335650295796483,0.19953201763627654],[0.0023335650295796483,0.04031178754225007],[0.0023335650295796483,0.2092484929869507],[0.0023335650295796483,-0.006341076328089229],[0.0023335650295796483,0.06343252283544365],[0.0023335650295796483,0.05317289741235876],[0.0023335650295796483,-0.03243091425139918],[0.3469903001363657,0.36584183262946557],[0.3469903001363657,0.19953201763627654],[0.3469903001363657,0.35748654008608927],[0.3469903001363657,0.2092484929869507],[0.3469903001363657,0.33367845779456834],[0.3469903001363657,0.3164419155918126],[0.3469903001363657,0.40427131676610234],[0.3469903001363657,0.29563629342198966],[0.3469903001363657,0.39671938379303306],[-0.3124202649744838,-0.1827006566306279],[-0.3124202649744838,-0.3789209754948981],[-0.3124202649744838,-0.3903068951292322],[-0.4384994991934552,-0.5970634438870659],[-0.4384994991934552,-0.1827006566306279],[0.05317289741235876,0.08343645306164679],[0.05317289741235876,0.19953201763627654],[0.05317289741235876,0.04031178754225007],[0.05317289741235876,0.2092484929869507],[0.05317289741235876,-0.006341076328089229],[0.05317289741235876,0.06343252283544365],[0.05317289741235876,-0.03243091425139918],[-0.006341076328089229,0.08343645306164679],[-0.006341076328089229,0.19953201763627654],[-0.006341076328089229,0.04031178754225007],[-0.006341076328089229,0.2092484929869507],[-0.006341076328089229,0.06343252283544365],[-0.006341076328089229,-0.03243091425139918],[-0.1827006566306279,0.11323371910262874],[-0.1827006566306279,-0.5044026345735052],[-0.1827006566306279,-0.5970634438870659],[-0.1827006566306279,0.06873485926898858],[-0.1827006566306279,0.33591888683435245],[-0.1827006566306279,-0.3789209754948981],[-0.1827006566306279,-0.3903068951292322],[-0.1827006566306279,0.04705689289080905],[0.46576260428495003,0.33591888683435245],[0.46576260428495003,0.5009116004754381],[0.46576260428495003,0.5754559445684537],[0.46576260428495003,0.539160613771339],[0.5216621035455826,0.5890982777861712],[0.5216621035455826,0.33591888683435245],[0.5216621035455826,0.5418907010272688],[0.5216621035455826,0.609940552186609],[0.539160613771339,0.33591888683435245],[0.539160613771339,0.5009116004754381],[0.539160613771339,0.5754559445684537],[-1.0,-0.9994339759559847],[-1.0,-0.8368400250176632],[-1.0,-0.9275620466752387],[0.33591888683435245,0.11323371910262874],[0.33591888683435245,0.5890982777861712],[0.33591888683435245,0.06873485926898858],[0.33591888683435245,0.04679944165080925],[0.33591888683435245,0.6245950213042706],[0.33591888683435245,0.6734917838400559],[0.33591888683435245,0.5418907010272688],[0.33591888683435245,0.609940552186609],[0.33591888683435245,-0.04411271430672642],[0.33591888683435245,0.09466562447385939],[0.33591888683435245,0.5009116004754381],[0.33591888683435245,0.5754559445684537],[0.33591888683435245,0.04705689289080905],[-0.8368400250176632,-0.5970634438870659],[-0.8368400250176632,-0.9994339759559847],[-0.8368400250176632,-0.9275620466752387],[0.11323371910262874,0.06873485926898858],[0.11323371910262874,0.04705689289080905],[-0.3434940391824544,-0.27173532375709225],[-0.3434940391824544,-0.31734346588263634],[0.33367845779456834,0.36584183262946557],[0.33367845779456834,0.19953201763627654],[0.33367845779456834,0.35748654008608927],[0.33367845779456834,0.2092484929869507],[0.33367845779456834,0.3164419155918126],[0.33367845779456834,0.40427131676610234],[0.33367845779456834,0.29563629342198966],[0.33367845779456834,0.39671938379303306],[0.5418907010272688,0.5890982777861712],[0.5418907010272688,0.609940552186609],[0.08343645306164679,0.19953201763627654],[0.08343645306164679,0.04031178754225007],[0.08343645306164679,0.2092484929869507],[0.08343645306164679,0.06343252283544365],[0.08343645306164679,-0.03243091425139918],[-0.3903068951292322,-0.3789209754948981],[0.40427131676610234,0.36584183262946557],[0.40427131676610234,0.19953201763627654],[0.40427131676610234,0.35748654008608927],[0.40427131676610234,0.2092484929869507],[0.40427131676610234,0.3164419155918126],[0.40427131676610234,0.29563629342198966],[0.40427131676610234,0.39671938379303306],[-0.5044026345735052,-0.5970634438870659],[-0.5573460342413457,-0.30213228654946744],[-0.19207463963846422,-0.04411271430672642],[-0.19207463963846422,-0.30213228654946744],[0.04031178754225007,0.19953201763627654],[0.04031178754225007,0.2092484929869507],[0.04031178754225007,0.06343252283544365],[0.04031178754225007,-0.03243091425139918],[-0.9275620466752387,-0.9994339759559847],[-0.27173532375709225,-0.31734346588263634],[0.29563629342198966,0.36584183262946557],[0.29563629342198966,0.19953201763627654],[0.29563629342198966,0.35748654008608927],[0.29563629342198966,0.2092484929869507],[0.29563629342198966,0.3164419155918126],[0.29563629342198966,0.39671938379303306],[0.5890982777861712,0.6245950213042706],[0.5890982777861712,0.6734917838400559],[0.5890982777861712,0.609940552186609],[-0.8310482621210609,-0.5970634438870659],[-0.8310482621210609,-0.8534315124876899],[0.6245950213042706,0.6734917838400559],[0.5754559445684537,0.5009116004754381],[0.2092484929869507,0.36584183262946557],[0.2092484929869507,0.19953201763627654],[0.2092484929869507,0.35748654008608927],[0.2092484929869507,0.06343252283544365],[0.2092484929869507,-0.03243091425139918],[0.2092484929869507,0.3164419155918126],[0.2092484929869507,0.39671938379303306],[0.09466562447385939,0.06873485926898858],[0.09466562447385939,0.04679944165080925],[0.09466562447385939,-0.04411271430672642],[-0.30213228654946744,-0.04411271430672642],[0.06343252283544365,0.19953201763627654],[0.06343252283544365,-0.03243091425139918],[0.00385687069561753,0.04679944165080925],[-0.5970634438870659,-0.8534315124876899],[0.39671938379303306,0.36584183262946557],[0.39671938379303306,0.19953201763627654],[0.39671938379303306,0.35748654008608927],[0.39671938379303306,0.3164419155918126],[-0.04411271430672642,0.06873485926898858],[-0.04411271430672642,0.04679944165080925],[-0.03243091425139918,0.19953201763627654],[0.3164419155918126,0.36584183262946557],[0.3164419155918126,0.19953201763627654],[0.3164419155918126,0.35748654008608927],[0.04679944165080925,0.06873485926898858],[0.04705689289080905,0.06873485926898858],[0.36584183262946557,0.19953201763627654],[0.36584183262946557,0.35748654008608927],[0.19953201763627654,0.35748654008608927]],\"ys\":[[0.382258403786593,0.4231186523492986],[0.382258403786593,0.27924218253859556],[0.382258403786593,0.2927825811329128],[0.382258403786593,0.2843766822285791],[0.382258403786593,0.42700744204110197],[0.18099188213756345,0.21864674613968726],[0.18099188213756345,0.23766694547007972],[0.18099188213756345,0.2927825811329128],[0.18099188213756345,0.18283175260726414],[0.18099188213756345,0.13553123918516918],[0.18099188213756345,0.019875927566585908],[0.18099188213756345,0.1388230442801956],[0.18099188213756345,0.1105009425188754],[0.1105009425188754,0.21864674613968726],[0.1105009425188754,0.23766694547007972],[0.1105009425188754,0.2927825811329128],[0.1105009425188754,0.18283175260726414],[0.1105009425188754,0.13553123918516918],[0.1105009425188754,0.019875927566585908],[0.1105009425188754,0.1388230442801956],[0.1607582438806471,-0.052714579265410136],[0.1607582438806471,0.2843766822285791],[-0.4588323543929984,-0.2708504337909545],[-0.4588323543929984,-0.0014973129713445057],[-0.4588323543929984,-0.7136187233343788],[-0.4588323543929984,-0.2518196703251749],[-0.4588323543929984,-0.6949599624287134],[-0.4588323543929984,-0.7426315921791462],[-0.4588323543929984,-0.6580044213455079],[0.26303843607577904,0.2927825811329128],[0.26303843607577904,0.2843766822285791],[-0.7677357471005508,-0.7352290053738737],[-0.7677357471005508,-0.5659285486795249],[-0.7677357471005508,-0.800315008683541],[-0.7677357471005508,-0.8297965197543907],[0.1388230442801956,0.21864674613968726],[0.1388230442801956,0.23766694547007972],[0.1388230442801956,0.2927825811329128],[0.1388230442801956,0.18283175260726414],[0.1388230442801956,0.13553123918516918],[0.1388230442801956,0.019875927566585908],[0.019875927566585908,-0.1992836351689629],[0.019875927566585908,0.21864674613968726],[0.019875927566585908,0.23766694547007972],[0.019875927566585908,-0.0981935275812844],[0.019875927566585908,0.2927825811329128],[0.019875927566585908,0.18283175260726414],[0.019875927566585908,-0.0726663794594869],[0.019875927566585908,-0.06978043505209469],[0.019875927566585908,-0.10633875818069514],[0.019875927566585908,-0.19726271348822152],[0.019875927566585908,-0.1663569517799325],[0.019875927566585908,0.13553123918516918],[0.019875927566585908,-0.14616065558395105],[0.019875927566585908,-0.15004340329430707],[0.019875927566585908,-0.11581364352025336],[-0.6949599624287134,-0.7136187233343788],[-0.6949599624287134,-0.7426315921791462],[-0.6949599624287134,-0.6580044213455079],[0.014318966992765945,0.01412738612063315],[0.014318966992765945,-0.0981935275812844],[0.014318966992765945,0.03381283953549923],[0.014318966992765945,-0.06978043505209469],[0.014318966992765945,-0.08791587368365109],[0.014318966992765945,-0.037466521557761624],[0.014318966992765945,-0.09310587722133461],[0.014318966992765945,-0.04399332368182263],[-0.15004340329430707,-0.1992836351689629],[-0.15004340329430707,-0.0981935275812844],[-0.15004340329430707,-0.0726663794594869],[-0.15004340329430707,-0.06978043505209469],[-0.15004340329430707,-0.10633875818069514],[-0.15004340329430707,-0.19726271348822152],[-0.15004340329430707,-0.1663569517799325],[-0.15004340329430707,-0.14616065558395105],[-0.15004340329430707,-0.11581364352025336],[0.5224391739725243,0.2843766822285791],[0.5224391739725243,0.5164232806048391],[0.5224391739725243,0.45055060583164525],[0.1128508522834712,-0.052714579265410136],[0.1128508522834712,0.2843766822285791],[-0.09310587722133461,0.01412738612063315],[-0.09310587722133461,-0.0981935275812844],[-0.09310587722133461,0.03381283953549923],[-0.09310587722133461,-0.06978043505209469],[-0.09310587722133461,-0.08791587368365109],[-0.09310587722133461,-0.037466521557761624],[-0.09310587722133461,-0.04399332368182263],[-0.08791587368365109,0.01412738612063315],[-0.08791587368365109,-0.0981935275812844],[-0.08791587368365109,0.03381283953549923],[-0.08791587368365109,-0.06978043505209469],[-0.08791587368365109,-0.037466521557761624],[-0.08791587368365109,-0.04399332368182263],[0.2843766822285791,0.4231186523492986],[0.2843766822285791,0.2041170210580143],[0.2843766822285791,-0.052714579265410136],[0.2843766822285791,0.27924218253859556],[0.2843766822285791,0.2927825811329128],[0.2843766822285791,0.5164232806048391],[0.2843766822285791,0.45055060583164525],[0.2843766822285791,0.42700744204110197],[0.5629719441783784,0.2927825811329128],[0.5629719441783784,0.49945084225532976],[0.5629719441783784,0.5004663624477521],[0.5629719441783784,0.5611158604104541],[0.21864674613968726,0.23766694547007972],[0.21864674613968726,0.2927825811329128],[0.21864674613968726,0.18283175260726414],[0.21864674613968726,0.13553123918516918],[0.5611158604104541,0.2927825811329128],[0.5611158604104541,0.49945084225532976],[0.5611158604104541,0.5004663624477521],[-0.800315008683541,-0.7352290053738737],[-0.800315008683541,-0.5659285486795249],[-0.800315008683541,-0.8297965197543907],[0.2927825811329128,0.4231186523492986],[0.2927825811329128,0.23766694547007972],[0.2927825811329128,0.27924218253859556],[0.2927825811329128,0.3373116511159164],[0.2927825811329128,0.381144857793578],[0.2927825811329128,0.3335432642853497],[0.2927825811329128,0.18283175260726414],[0.2927825811329128,0.13553123918516918],[0.2927825811329128,-0.0014973129713445057],[0.2927825811329128,0.21020693430197632],[0.2927825811329128,0.49945084225532976],[0.2927825811329128,0.5004663624477521],[0.2927825811329128,0.42700744204110197],[-0.5659285486795249,-0.052714579265410136],[-0.5659285486795249,-0.7352290053738737],[-0.5659285486795249,-0.8297965197543907],[0.4231186523492986,0.27924218253859556],[0.4231186523492986,0.42700744204110197],[-0.7136187233343788,-0.7426315921791462],[-0.7136187233343788,-0.6580044213455079],[-0.10633875818069514,-0.1992836351689629],[-0.10633875818069514,-0.0981935275812844],[-0.10633875818069514,-0.0726663794594869],[-0.10633875818069514,-0.06978043505209469],[-0.10633875818069514,-0.19726271348822152],[-0.10633875818069514,-0.1663569517799325],[-0.10633875818069514,-0.14616065558395105],[-0.10633875818069514,-0.11581364352025336],[0.18283175260726414,0.23766694547007972],[0.18283175260726414,0.13553123918516918],[0.01412738612063315,-0.0981935275812844],[0.01412738612063315,0.03381283953549923],[0.01412738612063315,-0.06978043505209469],[0.01412738612063315,-0.037466521557761624],[0.01412738612063315,-0.04399332368182263],[0.45055060583164525,0.5164232806048391],[-0.1663569517799325,-0.1992836351689629],[-0.1663569517799325,-0.0981935275812844],[-0.1663569517799325,-0.0726663794594869],[-0.1663569517799325,-0.06978043505209469],[-0.1663569517799325,-0.19726271348822152],[-0.1663569517799325,-0.14616065558395105],[-0.1663569517799325,-0.11581364352025336],[0.2041170210580143,-0.052714579265410136],[-0.2806181427733874,-0.2518196703251749],[-0.2708504337909545,-0.0014973129713445057],[-0.2708504337909545,-0.2518196703251749],[0.03381283953549923,-0.0981935275812844],[0.03381283953549923,-0.06978043505209469],[0.03381283953549923,-0.037466521557761624],[0.03381283953549923,-0.04399332368182263],[-0.8297965197543907,-0.7352290053738737],[-0.7426315921791462,-0.6580044213455079],[-0.14616065558395105,-0.1992836351689629],[-0.14616065558395105,-0.0981935275812844],[-0.14616065558395105,-0.0726663794594869],[-0.14616065558395105,-0.06978043505209469],[-0.14616065558395105,-0.19726271348822152],[-0.14616065558395105,-0.11581364352025336],[0.23766694547007972,0.381144857793578],[0.23766694547007972,0.3335432642853497],[0.23766694547007972,0.13553123918516918],[-0.15449827387089554,-0.052714579265410136],[-0.15449827387089554,-0.07005830006566406],[0.381144857793578,0.3335432642853497],[0.5004663624477521,0.49945084225532976],[-0.06978043505209469,-0.1992836351689629],[-0.06978043505209469,-0.0981935275812844],[-0.06978043505209469,-0.0726663794594869],[-0.06978043505209469,-0.037466521557761624],[-0.06978043505209469,-0.04399332368182263],[-0.06978043505209469,-0.19726271348822152],[-0.06978043505209469,-0.11581364352025336],[0.21020693430197632,0.27924218253859556],[0.21020693430197632,0.3373116511159164],[0.21020693430197632,-0.0014973129713445057],[-0.2518196703251749,-0.0014973129713445057],[-0.037466521557761624,-0.0981935275812844],[-0.037466521557761624,-0.04399332368182263],[0.6411873484621627,0.3373116511159164],[-0.052714579265410136,-0.07005830006566406],[-0.11581364352025336,-0.1992836351689629],[-0.11581364352025336,-0.0981935275812844],[-0.11581364352025336,-0.0726663794594869],[-0.11581364352025336,-0.19726271348822152],[-0.0014973129713445057,0.27924218253859556],[-0.0014973129713445057,0.3373116511159164],[-0.04399332368182263,-0.0981935275812844],[-0.19726271348822152,-0.1992836351689629],[-0.19726271348822152,-0.0981935275812844],[-0.19726271348822152,-0.0726663794594869],[0.3373116511159164,0.27924218253859556],[0.42700744204110197,0.27924218253859556],[-0.1992836351689629,-0.0981935275812844],[-0.1992836351689629,-0.0726663794594869],[-0.0981935275812844,-0.0726663794594869]]},\"selected\":{\"id\":\"5065\"},\"selection_policy\":{\"id\":\"5064\"}},\"id\":\"4861\",\"type\":\"ColumnDataSource\"},{\"attributes\":{\"data\":{\"_colormap\":[\"#2ab9ed\",\"#2ff09a\",\"#2ff09a\",\"#30123b\",\"#2ff09a\",\"#30123b\",\"#4668e0\",\"#2ff09a\",\"#d23005\",\"#4668e0\",\"#2ff09a\",\"#a1fc3d\",\"#4668e0\",\"#30123b\",\"#2ff09a\",\"#2ff09a\",\"#ecd139\",\"#4668e0\",\"#2ff09a\",\"#4668e0\",\"#4668e0\",\"#7a0402\",\"#2ab9ed\",\"#2ab9ed\",\"#4668e0\",\"#a1fc3d\",\"#2ff09a\",\"#2ff09a\",\"#4668e0\",\"#a1fc3d\",\"#30123b\",\"#30123b\",\"#4668e0\",\"#2ff09a\",\"#4668e0\",\"#4668e0\",\"#a1fc3d\",\"#a1fc3d\",\"#30123b\",\"#4668e0\",\"#4668e0\",\"#4668e0\",\"#fb8022\",\"#4668e0\",\"#4668e0\",\"#2ff09a\",\"#4668e0\",\"#4668e0\",\"#30123b\",\"#2ff09a\",\"#30123b\",\"#a1fc3d\",\"#2ff09a\",\"#2ff09a\",\"#2ff09a\",\"#a1fc3d\",\"#2ab9ed\",\"#2ab9ed\",\"#a1fc3d\",\"#4668e0\",\"#4668e0\",\"#fb8022\",\"#a1fc3d\",\"#2ff09a\"],\"_node\":[29280640,12123521,30919556,9043972,31680901,138377,9041674,28602879,19401229,26356752,790549,18822935,20140951,20555671,19843095,7488154,6589342,20884510,688926,28278431,19374120,4777390,17159854,1058992,14555951,6316468,5302455,1296951,29956281,12913978,1667897,30148283,7364926,5302591,27635780,28438726,17564999,2275784,28047944,17028552,19431500,18136268,6060494,10036814,15622477,12552402,21851604,8015189,31530070,2847703,27666521,26625372,8003038,16450785,29356772,11515369,4394730,18836332,1395,22560501,29372152,3482617,5675386,3637759],\"degree\":[5,8,8,2,7,2,4,8,18,4,8,10,3,2,8,8,13,4,8,4,4,23,5,5,4,10,8,8,3,10,2,1,3,8,4,4,10,10,2,4,3,4,17,4,4,8,3,4,1,7,2,10,7,8,8,10,5,5,10,3,4,17,10,8],\"firstname\":[\"Juan Cristobal\",\"Dylan P.\",\"Anthony D.\",\"Vicki\",\"John C.\",\"Jeroen J. G.\",\"Jan L.\",\"Anthony D\",\"Anna\",\"Farimah\",\"Theresa Currier\",\"Shaun W.\",\"Wayne\",\"Dayu\",\"Darik A.\",\"Jeffrey P.\",\"John\",\"Sharon\",\"Dylan\",\"Stoo\",\"Bruce D.\",\"Fred\",\"Jan L.\",\"Ouhao\",\"Philip H.\",\"Linda J.\",\"Myrto-Foteini\",\"Patricia B.\",\"Jose\",\"Nicole D.\",\"Greg\",\"Ada T.\",\"Carlos J.\",\"Joshua A.\",\"Charles K.\",\"Kiran\",\"Corina\",\"Fred\",\"Anne-Marie\",\"Bruce\",\"Sofie\",\"Steven J.\",\"Corina O.\",\"Mona\",\"Noah L.\",\"Megan J.\",\"Margina\",\"Shirley\",\"Alexander\",\"Slava\",\"Slava\",\"C. Edward\",\"Olusola O.\",\"Paul\",\"Theresa\",\"Nicole\",\"Paul\",\"CIAE\",\"Christopher C.\",\"Jose\",\"Qing\",\"Anthony E.\",\"Bridgette D.\",\"Juan C.\"],\"lastname\":[\"Castro-Alonso\",\"Cliff\",\"Okely\",\"Likourezos\",\"Nesbit\",\"van Merrienboer\",\"Plass\",\"Okely\",\"Meijer\",\"Salimi\",\"Thomas\",\"Carlson\",\"Leahy\",\"Jiang\",\"O'Neil\",\"Cheng\",\"Sweller\",\"Tindall-Ford\",\"Cliff\",\"Sepp\",\"Homer\",\"Paas\",\"Plass\",\"Chen\",\"Winne\",\"Noble-Haeusslein\",\"Mavilidi\",\"de la Tremblaye\",\"Hanham\",\"Osier\",\"Ashman\",\"Cenkci\",\"Anguiano\",\"Beitchman\",\"Kinzer\",\"Bisra\",\"Bondi\",\"Paas\",\"Singh\",\"Homer\",\"Loyens\",\"Howard\",\"Bondi\",\"Wong\",\"Schroeder\",\"LaPorte\",\"Ruiter\",\"Agostinho\",\"Smith\",\"Kalyuga\",\"Kalyuga\",\"Dixon\",\"Adesope\",\"Chandler\",\"Thomas\",\"Osier\",\"Ayres\",\"2014-2018\",\"Giza\",\"Hanham\",\"Liu\",\"Kline\",\"Semple\",\"Castro-Alonso\"],\"n_items\":[1,1,1,1,2,1,1,1,2,1,1,1,2,1,1,1,8,1,1,1,1,6,2,1,1,1,1,1,1,1,1,1,1,1,1,1,1,2,1,1,1,1,2,1,2,1,1,1,1,5,1,1,2,1,1,1,2,1,1,1,1,2,1,2],\"xs\":[0.08999040410196758,0.6033831424564072,0.5692176625266612,-0.47131247627372763,-0.23112143091376788,0.13526162022852112,-0.9183183082109485,0.5218538050603432,0.4320721129198611,-0.2321551200478727,0.0023335650295796483,0.3469903001363657,-0.3124202649744838,-0.4384994991934552,0.05317289741235876,-0.006341076328089229,-0.1827006566306279,0.46576260428495003,0.5216621035455826,0.539160613771339,-1.0,0.33591888683435245,-0.8368400250176632,0.11323371910262874,-0.3434940391824544,0.33367845779456834,0.5418907010272688,0.08343645306164679,-0.3903068951292322,0.40427131676610234,-0.5044026345735052,-0.5573460342413457,-0.19207463963846422,0.04031178754225007,-0.9275620466752387,-0.27173532375709225,0.29563629342198966,0.5890982777861712,-0.8310482621210609,-0.9994339759559847,0.6245950213042706,0.5754559445684537,0.2092484929869507,0.09466562447385939,-0.30213228654946744,0.06343252283544365,0.6734917838400559,0.5009116004754381,0.00385687069561753,-0.5970634438870659,-0.8534315124876899,0.39671938379303306,-0.04411271430672642,0.609940552186609,-0.03243091425139918,0.3164419155918126,0.04679944165080925,0.04705689289080905,0.36584183262946557,-0.3789209754948981,-0.31734346588263634,0.19953201763627654,0.35748654008608927,0.06873485926898858],\"ys\":[0.382258403786593,0.18099188213756345,0.1105009425188754,0.1607582438806471,-0.4588323543929984,0.26303843607577904,-0.7677357471005508,0.1388230442801956,0.019875927566585908,-0.6949599624287134,0.014318966992765945,-0.15004340329430707,0.5224391739725243,0.1128508522834712,-0.09310587722133461,-0.08791587368365109,0.2843766822285791,0.5629719441783784,0.21864674613968726,0.5611158604104541,-0.800315008683541,0.2927825811329128,-0.5659285486795249,0.4231186523492986,-0.7136187233343788,-0.10633875818069514,0.18283175260726414,0.01412738612063315,0.45055060583164525,-0.1663569517799325,0.2041170210580143,-0.2806181427733874,-0.2708504337909545,0.03381283953549923,-0.8297965197543907,-0.7426315921791462,-0.14616065558395105,0.23766694547007972,-0.15449827387089554,-0.7352290053738737,0.381144857793578,0.5004663624477521,-0.06978043505209469,0.21020693430197632,-0.2518196703251749,-0.037466521557761624,0.3335432642853497,0.49945084225532976,0.6411873484621627,-0.052714579265410136,-0.07005830006566406,-0.11581364352025336,-0.0014973129713445057,0.13553123918516918,-0.04399332368182263,-0.19726271348822152,0.3373116511159164,0.42700744204110197,-0.1992836351689629,0.5164232806048391,-0.6580044213455079,-0.0981935275812844,-0.0726663794594869,0.27924218253859556]},\"selected\":{\"id\":\"5067\"},\"selection_policy\":{\"id\":\"5066\"}},\"id\":\"4867\",\"type\":\"ColumnDataSource\"},{\"attributes\":{\"line_alpha\":{\"value\":0.1},\"line_color\":{\"value\":\"navy\"},\"xs\":{\"field\":\"xs\"},\"ys\":{\"field\":\"ys\"}},\"id\":\"4864\",\"type\":\"MultiLine\"},{\"attributes\":{},\"id\":\"5060\",\"type\":\"AllLabels\"},{\"attributes\":{\"fill_alpha\":{\"value\":0.7},\"fill_color\":{\"field\":\"_colormap\"},\"line_alpha\":{\"value\":0.7},\"line_color\":{\"field\":\"_colormap\"},\"size\":{\"value\":9},\"x\":{\"field\":\"xs\"},\"y\":{\"field\":\"ys\"}},\"id\":\"4869\",\"type\":\"Circle\"},{\"attributes\":{},\"id\":\"5064\",\"type\":\"UnionRenderers\"},{\"attributes\":{},\"id\":\"4846\",\"type\":\"BasicTicker\"},{\"attributes\":{},\"id\":\"5057\",\"type\":\"AllLabels\"},{\"attributes\":{},\"id\":\"4839\",\"type\":\"LinearScale\"},{\"attributes\":{},\"id\":\"5065\",\"type\":\"Selection\"},{\"attributes\":{\"formatter\":{\"id\":\"5058\"},\"major_label_policy\":{\"id\":\"5057\"},\"ticker\":{\"id\":\"4846\"},\"visible\":false},\"id\":\"4845\",\"type\":\"LinearAxis\"},{\"attributes\":{\"data_source\":{\"id\":\"4867\"},\"glyph\":{\"id\":\"4869\"},\"hover_glyph\":null,\"muted_glyph\":null,\"name\":\"show_hover\",\"nonselection_glyph\":{\"id\":\"4870\"},\"view\":{\"id\":\"4872\"}},\"id\":\"4871\",\"type\":\"GlyphRenderer\"},{\"attributes\":{\"source\":{\"id\":\"4861\"}},\"id\":\"4866\",\"type\":\"CDSView\"},{\"attributes\":{\"data_source\":{\"id\":\"4861\"},\"glyph\":{\"id\":\"4863\"},\"hover_glyph\":null,\"muted_glyph\":null,\"nonselection_glyph\":{\"id\":\"4864\"},\"view\":{\"id\":\"4866\"}},\"id\":\"4865\",\"type\":\"GlyphRenderer\"},{\"attributes\":{\"line_alpha\":{\"value\":0.01},\"line_color\":{\"value\":\"navy\"},\"xs\":{\"field\":\"xs\"},\"ys\":{\"field\":\"ys\"}},\"id\":\"4863\",\"type\":\"MultiLine\"},{\"attributes\":{},\"id\":\"4842\",\"type\":\"BasicTicker\"},{\"attributes\":{\"fill_alpha\":{\"value\":0.1},\"fill_color\":{\"field\":\"_colormap\"},\"line_alpha\":{\"value\":0.1},\"line_color\":{\"field\":\"_colormap\"},\"size\":{\"value\":9},\"x\":{\"field\":\"xs\"},\"y\":{\"field\":\"ys\"}},\"id\":\"4870\",\"type\":\"Circle\"},{\"attributes\":{\"bottom_units\":\"screen\",\"fill_alpha\":0.5,\"fill_color\":\"lightgrey\",\"left_units\":\"screen\",\"level\":\"overlay\",\"line_alpha\":1.0,\"line_color\":\"black\",\"line_dash\":[4,4],\"line_width\":2,\"right_units\":\"screen\",\"syncable\":false,\"top_units\":\"screen\"},\"id\":\"4853\",\"type\":\"BoxAnnotation\"},{\"attributes\":{\"axis\":{\"id\":\"4845\"},\"dimension\":1,\"grid_line_color\":null,\"ticker\":null},\"id\":\"4848\",\"type\":\"Grid\"},{\"attributes\":{},\"id\":\"4835\",\"type\":\"DataRange1d\"},{\"attributes\":{\"callback\":null,\"formatters\":{\"degree\":\"printf\",\"firstname\":\"printf\",\"lastname\":\"printf\",\"n_items\":\"printf\",\"node\":\"printf\"},\"names\":[\"show_hover\"],\"tooltips\":[[\"node\",\"@_node\"],[\"degree\",\"@degree\"],[\"firstname\",\"@firstname\"],[\"lastname\",\"@lastname\"],[\"n_items\",\"@n_items\"]]},\"id\":\"4831\",\"type\":\"HoverTool\"},{\"attributes\":{},\"id\":\"5066\",\"type\":\"UnionRenderers\"},{\"attributes\":{},\"id\":\"5067\",\"type\":\"Selection\"},{\"attributes\":{\"formatter\":{\"id\":\"5061\"},\"major_label_policy\":{\"id\":\"5060\"},\"ticker\":{\"id\":\"4842\"},\"visible\":false},\"id\":\"4841\",\"type\":\"LinearAxis\"},{\"attributes\":{},\"id\":\"4837\",\"type\":\"LinearScale\"},{\"attributes\":{\"axis\":{\"id\":\"4841\"},\"grid_line_color\":null,\"ticker\":null},\"id\":\"4844\",\"type\":\"Grid\"},{\"attributes\":{},\"id\":\"4833\",\"type\":\"DataRange1d\"}],\"root_ids\":[\"4832\"]},\"title\":\"Bokeh Application\",\"version\":\"2.3.3\"}};\n",
       "  var render_items = [{\"docid\":\"2b5e6ddd-7ce9-45a5-be85-88a760387cea\",\"root_ids\":[\"4832\"],\"roots\":{\"4832\":\"74d15d16-1d23-44d4-a366-ea09f2034b9f\"}}];\n",
       "  root.Bokeh.embed.embed_items_notebook(docs_json, render_items);\n",
       "\n",
       "  }\n",
       "  if (root.Bokeh !== undefined) {\n",
       "    embed_document(root);\n",
       "  } else {\n",
       "    var attempts = 0;\n",
       "    var timer = setInterval(function(root) {\n",
       "      if (root.Bokeh !== undefined) {\n",
       "        clearInterval(timer);\n",
       "        embed_document(root);\n",
       "      } else {\n",
       "        attempts++;\n",
       "        if (attempts > 100) {\n",
       "          clearInterval(timer);\n",
       "          console.log(\"Bokeh: ERROR: Unable to run BokehJS code because BokehJS library is missing\");\n",
       "        }\n",
       "      }\n",
       "    }, 10, root)\n",
       "  }\n",
       "})(window);"
      ],
      "application/vnd.bokehjs_exec.v0+json": ""
     },
     "metadata": {
      "application/vnd.bokehjs_exec.v0+json": {
       "id": "4832"
      }
     },
     "output_type": "display_data"
    }
   ],
   "source": [
    "plot.draw(color_by=\"degree\", palette=\"Turbo\", edge_alpha=0.01, max_colors=10)"
   ]
  },
  {
   "cell_type": "code",
   "execution_count": null,
   "id": "0383469b-f223-4d21-bf69-2bb94328b061",
   "metadata": {},
   "outputs": [],
   "source": []
  },
  {
   "cell_type": "code",
   "execution_count": null,
   "id": "3003baac-6eac-46ce-b9a2-77cb76230b32",
   "metadata": {},
   "outputs": [],
   "source": []
  },
  {
   "cell_type": "code",
   "execution_count": null,
   "id": "60f8ab4e-42ad-4e4a-9e1a-ade5e2e57945",
   "metadata": {},
   "outputs": [],
   "source": []
  },
  {
   "cell_type": "code",
   "execution_count": null,
   "id": "84e2cd7d-e751-4b7b-8470-c13775a6a8da",
   "metadata": {},
   "outputs": [],
   "source": []
  },
  {
   "cell_type": "code",
   "execution_count": null,
   "id": "98290941-d14b-4394-9b75-ffa61de503af",
   "metadata": {},
   "outputs": [],
   "source": []
  },
  {
   "cell_type": "code",
   "execution_count": null,
   "id": "a4d07ac4-32a9-4844-b051-e2cd3f8b08e9",
   "metadata": {},
   "outputs": [],
   "source": []
  }
 ],
 "metadata": {
  "kernelspec": {
   "display_name": "Python [conda env:abd_workshop_2021] *",
   "language": "python",
   "name": "conda-env-abd_workshop_2021-py"
  },
  "language_info": {
   "codemirror_mode": {
    "name": "ipython",
    "version": 3
   },
   "file_extension": ".py",
   "mimetype": "text/x-python",
   "name": "python",
   "nbconvert_exporter": "python",
   "pygments_lexer": "ipython3",
   "version": "3.8.11"
  }
 },
 "nbformat": 4,
 "nbformat_minor": 5
}
