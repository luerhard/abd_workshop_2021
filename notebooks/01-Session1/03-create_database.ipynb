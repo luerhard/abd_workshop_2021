{
 "cells": [
  {
   "cell_type": "markdown",
   "id": "5dc4bee2-e096-489b-b4a0-217a03ee032b",
   "metadata": {
    "tags": []
   },
   "source": [
    "# imports"
   ]
  },
  {
   "cell_type": "code",
   "execution_count": null,
   "id": "f24bc153-4291-4875-a35b-c92001adc976",
   "metadata": {},
   "outputs": [],
   "source": [
    "import pandas as pd\n",
    "from sqlalchemy.orm import Query\n",
    "from sqlalchemy import func\n",
    "from sqlalchemy import and_\n",
    "\n",
    "from src.connect import create_wos_session\n",
    "from src.models import Author, ItemAuthorInstitution, Item, Source"
   ]
  },
  {
   "cell_type": "markdown",
   "id": "21cffc43-3567-410e-8616-6775cdc52873",
   "metadata": {
    "tags": []
   },
   "source": [
    "# setup"
   ]
  },
  {
   "cell_type": "code",
   "execution_count": null,
   "id": "d37a9d37-943a-46aa-833a-3eb2af0e4107",
   "metadata": {},
   "outputs": [],
   "source": [
    "engine, s = create_wos_session()"
   ]
  },
  {
   "cell_type": "code",
   "execution_count": null,
   "id": "0df2fa80-949a-4415-9a64-240ec5b8c5ef",
   "metadata": {},
   "outputs": [],
   "source": [
    "sources = [\n",
    "    \"astronomy and astrophysics review\",\n",
    "    \"living reviews in solar physics\",\n",
    "    \"astrophysical journal letters\",\n",
    "    \"astrophysical journal, supplement series\",\n",
    "    \"nature astronomy\",\n",
    "    \"astronomical journal\",\n",
    "    \"space science reviews\",\n",
    "    \"astrophysical journal\",\n",
    "    \"publications of the astronomical society of the pacific\",\n",
    "    \"astronomy and astrophysics\",\n",
    "    \"monthly notices of the royal astronomical society: letters\",\n",
    "    \"monthly notices of the royal astronomical society\",\n",
    "    \"publication of the astronomical society of japan\",\n",
    "    \"new astronomy reviews\",\n",
    "    \"icarus\",\n",
    "    \"physics of the dark universe\",\n",
    "    \"astrodynamics\",\n",
    "    \"publications of the astronomical society of australia\",\n",
    "    \"chinese physics c\",\n",
    "    \"acta astronomica\",\n",
    "    \"frontiers in astronomy and space sciences\",\n",
    "    \"astroparticle physics\",\n",
    "    \"revista mexicana de astronomia y astrofisica\",\n",
    "    \"physics of the earth and planetary interiors\",\n",
    "    \"journal of high energy astrophysics\",\n",
    "    \"molecular astrophysics\",\n",
    "    \"solar physics\",\n",
    "    \"journal of cosmology and astroparticle physics\",\n",
    "    \"international journal of modern physics d\",\n",
    "    \"experimental astronomy\",\n",
    "]"
   ]
  },
  {
   "cell_type": "code",
   "execution_count": null,
   "id": "4916e96a-5941-4cc6-8a93-6c504132e99e",
   "metadata": {},
   "outputs": [
    {
     "data": {
      "text/plain": [
       "30"
      ]
     },
     "execution_count": null,
     "metadata": {},
     "output_type": "execute_result"
    }
   ],
   "source": [
    "len(sources)"
   ]
  },
  {
   "cell_type": "code",
   "execution_count": null,
   "id": "51f59f54-8310-4906-9f12-923fdecebdbe",
   "metadata": {},
   "outputs": [],
   "source": [
    "base_query = (\n",
    "    s.query(Source)\n",
    "    .join(Source.items, isouter=True)\n",
    "    .join(Item.authors, isouter=True)\n",
    "    .filter(\n",
    "        and_(\n",
    "            Item.pubyear.between(2019, 2020),\n",
    "            func.lower(Source.sourcetitle).in_(sources),\n",
    "        )\n",
    "    )\n",
    ")"
   ]
  },
  {
   "cell_type": "code",
   "execution_count": null,
   "id": "ede978f2-6af6-4555-9888-2b8631dd1b1f",
   "metadata": {},
   "outputs": [
    {
     "name": "stdout",
     "output_type": "stream",
     "text": [
      "CPU times: user 79.3 ms, sys: 19 ms, total: 98.3 ms\n",
      "Wall time: 5min 44s\n"
     ]
    },
    {
     "data": {
      "text/plain": [
       "66449"
      ]
     },
     "execution_count": null,
     "metadata": {},
     "output_type": "execute_result"
    }
   ],
   "source": [
    "%%time\n",
    "base_query.with_entities(Author.pk_authors).distinct().count()"
   ]
  },
  {
   "cell_type": "code",
   "execution_count": null,
   "id": "76a96fa6-1bea-487f-a888-207b86ae21c8",
   "metadata": {},
   "outputs": [
    {
     "name": "stdout",
     "output_type": "stream",
     "text": [
      "CPU times: user 9.02 ms, sys: 4.74 ms, total: 13.8 ms\n",
      "Wall time: 3min 8s\n"
     ]
    },
    {
     "data": {
      "text/plain": [
       "13895"
      ]
     },
     "execution_count": null,
     "metadata": {},
     "output_type": "execute_result"
    }
   ],
   "source": [
    "%%time\n",
    "base_query.with_entities(Item.pk_items).distinct().count()"
   ]
  },
  {
   "cell_type": "code",
   "execution_count": null,
   "id": "8159dee7-cb1c-4090-8057-00057df63f23",
   "metadata": {},
   "outputs": [
    {
     "name": "stdout",
     "output_type": "stream",
     "text": [
      "CPU times: user 11.1 ms, sys: 4.57 ms, total: 15.6 ms\n",
      "Wall time: 3min 14s\n"
     ]
    },
    {
     "data": {
      "text/plain": [
       "23"
      ]
     },
     "execution_count": null,
     "metadata": {},
     "output_type": "execute_result"
    }
   ],
   "source": [
    "%%time\n",
    "base_query.with_entities(Source.pk_sources).distinct().count()"
   ]
  },
  {
   "cell_type": "code",
   "execution_count": null,
   "id": "484a33e8-fbaf-48c6-9099-aeaaaf8a93d3",
   "metadata": {},
   "outputs": [],
   "source": [
    "engine.dispose()"
   ]
  },
  {
   "cell_type": "code",
   "execution_count": null,
   "id": "22967e5f-25e7-403d-bc40-454fb76fe051",
   "metadata": {},
   "outputs": [],
   "source": [
    "import pandas as pd\n",
    "from sqlalchemy.orm import Query\n",
    "\n",
    "from src.connect import create_wos_session\n",
    "from src.models import Author, ItemAuthorInstitution, Item"
   ]
  },
  {
   "cell_type": "code",
   "execution_count": null,
   "id": "fb45d56b-93bc-4dc5-a60f-b3f97fc3e12c",
   "metadata": {},
   "outputs": [],
   "source": [
    "query = \"\"\"\n",
    "SELECT \n",
    "    a.PK_AUTHORS, a.FULLNAME, a.LASTNAME, a.FIRSTNAME,\n",
    "    i.PK_ITEMS, i.ARTICLE_TITLE, i.PUBYEAR,\n",
    "    s.SOURCETITLE\n",
    "    FROM \n",
    "        wos_b_2020.SOURCES s\n",
    "    LEFT JOIN\n",
    "        wos_b_2020.ITEMS i\n",
    "        ON\n",
    "            s.PK_SOURCES = i.FK_SOURCES\n",
    "    LEFT JOIN\n",
    "        wos_b_2020.ITEMS_AUTHORS_INSTITUTIONS iai\n",
    "        ON\n",
    "            i.PK_ITEMS = iai.FK_ITEMS\n",
    "    LEFT JOIN\n",
    "        wos_b_2020.AUTHORS a\n",
    "        ON\n",
    "            iai.FK_AUTHORS = a.PK_AUTHORS\n",
    "    WHERE \n",
    "        lower(s.SOURCETITLE) in (\n",
    "            'astronomy and astrophysics review',\n",
    "            'living reviews in solar physics',\n",
    "            'astrophysical journal letters',\n",
    "            'astrophysical journal, supplement series',\n",
    "            'nature astronomy',\n",
    "            'astronomical journal',\n",
    "            'space science reviews',\n",
    "            'astrophysical journal',\n",
    "            'publications of the astronomical society of the pacific',\n",
    "            'astronomy and astrophysics',\n",
    "            'monthly notices of the royal astronomical society: letters',\n",
    "            'monthly notices of the royal astronomical society',\n",
    "            'publication of the astronomical society of japan',\n",
    "            'new astronomy reviews',\n",
    "            'icarus',\n",
    "            'physics of the dark universe',\n",
    "            'astrodynamics',\n",
    "            'publications of the astronomical society of australia',\n",
    "            'chinese physics c',\n",
    "            'acta astronomica',\n",
    "            'frontiers in astronomy and space sciences',\n",
    "            'astroparticle physics',\n",
    "            'revista mexicana de astronomia y astrofisica',\n",
    "            'physics of the earth and planetary interiors',\n",
    "            'journal of high energy astrophysics',\n",
    "            'molecular astrophysics',\n",
    "            'solar physics',\n",
    "            'journal of cosmology and astroparticle physics',\n",
    "            'international journal of modern physics d',\n",
    "            'experimental astronomy'\n",
    "            )\n",
    "    AND\n",
    "        i.PUBYEAR BETWEEN 2019 AND 2020\n",
    "\"\"\""
   ]
  }
 ],
 "metadata": {
  "kernelspec": {
   "display_name": "Python [conda env:abd_workshop_2021] *",
   "language": "python",
   "name": "conda-env-abd_workshop_2021-py"
  },
  "language_info": {
   "codemirror_mode": {
    "name": "ipython",
    "version": 3
   },
   "file_extension": ".py",
   "mimetype": "text/x-python",
   "name": "python",
   "nbconvert_exporter": "python",
   "pygments_lexer": "ipython3",
   "version": "3.8.11"
  }
 },
 "nbformat": 4,
 "nbformat_minor": 5
}
