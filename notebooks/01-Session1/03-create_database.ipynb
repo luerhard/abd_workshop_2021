{
 "cells": [
  {
   "cell_type": "markdown",
   "id": "5dc4bee2-e096-489b-b4a0-217a03ee032b",
   "metadata": {
    "tags": []
   },
   "source": [
    "# imports"
   ]
  },
  {
   "cell_type": "code",
   "execution_count": null,
   "id": "f24bc153-4291-4875-a35b-c92001adc976",
   "metadata": {},
   "outputs": [],
   "source": [
    "import pandas as pd\n",
    "\n",
    "import sqlalchemy as sa\n",
    "from sqlalchemy import func\n",
    "from sqlalchemy.orm import Query\n",
    "\n",
    "import src\n",
    "from src.connect import create_wos_session, create_sqlite_session\n",
    "from src.models import Author, ItemAuthorInstitution, Item, Source, Base, Abstract"
   ]
  },
  {
   "cell_type": "markdown",
   "id": "21cffc43-3567-410e-8616-6775cdc52873",
   "metadata": {
    "tags": []
   },
   "source": [
    "# setup"
   ]
  },
  {
   "cell_type": "code",
   "execution_count": null,
   "id": "d37a9d37-943a-46aa-833a-3eb2af0e4107",
   "metadata": {},
   "outputs": [],
   "source": [
    "engine, s = create_wos_session()"
   ]
  },
  {
   "cell_type": "code",
   "execution_count": null,
   "id": "0df2fa80-949a-4415-9a64-240ec5b8c5ef",
   "metadata": {},
   "outputs": [],
   "source": [
    "sources = [\n",
    "    \"clinical psychology review\",\n",
    "    \"current directions in psychological science\",\n",
    "    \"developmental review\",\n",
    "    \"educational psychologist\",\n",
    "    \"educational psychology review\",\n",
    "    \"international review of sport and exercise psychology\",\n",
    "    \"journal of abnormal psychology\",\n",
    "    \"journal of applied psychology\",\n",
    "    \"journal of consumer psychology\",\n",
    "    \"journal of occupational health psychology\",\n",
    "    \"journal of organizational behavior\",\n",
    "    \"journal of personality and social psychology\",\n",
    "    \"journal of the learning sciences\",\n",
    "    \"leadership quarterly\",\n",
    "    \"neuroscience and biobehavioral reviews\",\n",
    "    \"personality and social psychology review\",\n",
    "    \"personnel psychology\",\n",
    "    \"perspectives on psychological science\",\n",
    "    \"psychological bulletin\",\n",
    "    \"psychological methods\",\n",
    "    \"psychological review\",\n",
    "    \"psychological science\",\n",
    "    \"psychological science in the public interest\",\n",
    "    \"social issues and policy review\",\n",
    "    \"trends in cognitive sciences\",\n",
    "]"
   ]
  },
  {
   "cell_type": "code",
   "execution_count": null,
   "id": "4916e96a-5941-4cc6-8a93-6c504132e99e",
   "metadata": {},
   "outputs": [
    {
     "data": {
      "text/plain": [
       "25"
      ]
     },
     "execution_count": null,
     "metadata": {},
     "output_type": "execute_result"
    }
   ],
   "source": [
    "len(sources)"
   ]
  },
  {
   "cell_type": "code",
   "execution_count": null,
   "id": "51f59f54-8310-4906-9f12-923fdecebdbe",
   "metadata": {},
   "outputs": [],
   "source": [
    "base_query = (\n",
    "    s.query(Source)\n",
    "    .join(Item)\n",
    "    .join(ItemAuthorInstitution)\n",
    "    .join(Author)\n",
    "    .join(Abstract, isouter=True)\n",
    "    .filter(\n",
    "        Item.pubyear.between(2015, 2020),\n",
    "        Item.doctype == \"Article\",\n",
    "        func.lower(Source.sourcetitle).in_(sources),\n",
    "    )\n",
    ")"
   ]
  },
  {
   "cell_type": "code",
   "execution_count": null,
   "id": "fffc8666-0add-4e7b-a195-2d7dfd8af2ec",
   "metadata": {},
   "outputs": [
    {
     "data": {
      "text/plain": [
       "16546"
      ]
     },
     "execution_count": null,
     "metadata": {},
     "output_type": "execute_result"
    }
   ],
   "source": [
    "base_query.with_entities(Author.pk_authors).distinct().count()"
   ]
  },
  {
   "cell_type": "code",
   "execution_count": null,
   "id": "ab9c2628-c065-4d2c-af93-af60a6baf06e",
   "metadata": {},
   "outputs": [
    {
     "data": {
      "text/plain": [
       "5629"
      ]
     },
     "execution_count": null,
     "metadata": {},
     "output_type": "execute_result"
    }
   ],
   "source": [
    "base_query.with_entities(Item.pk_items).distinct().count()"
   ]
  },
  {
   "cell_type": "code",
   "execution_count": null,
   "id": "b2d83bcd-a765-4a75-90c4-4a413fce7978",
   "metadata": {},
   "outputs": [
    {
     "data": {
      "text/plain": [
       "24"
      ]
     },
     "execution_count": null,
     "metadata": {},
     "output_type": "execute_result"
    }
   ],
   "source": [
    "base_query.with_entities(Source.pk_sources).distinct().count()"
   ]
  },
  {
   "cell_type": "code",
   "execution_count": null,
   "id": "61028b0d-ecfe-47fe-aca0-41d5b522b6f9",
   "metadata": {},
   "outputs": [
    {
     "data": {
      "text/plain": [
       "{'trends in cognitive sciences'}"
      ]
     },
     "execution_count": null,
     "metadata": {},
     "output_type": "execute_result"
    }
   ],
   "source": [
    "# check for non-existing sources\n",
    "new = {\n",
    "    c.lower() for (c,) in base_query.with_entities(Source.sourcetitle).distinct().all()\n",
    "}\n",
    "\n",
    "set(sources) - new"
   ]
  },
  {
   "cell_type": "code",
   "execution_count": null,
   "id": "c8ed8162-bb5e-46ef-9428-988aa9c39000",
   "metadata": {},
   "outputs": [
    {
     "data": {
      "text/plain": [
       "32385"
      ]
     },
     "execution_count": null,
     "metadata": {},
     "output_type": "execute_result"
    }
   ],
   "source": [
    "base_query.with_entities(ItemAuthorInstitution.pk_itm_auth_inst).distinct().count()"
   ]
  },
  {
   "cell_type": "code",
   "execution_count": null,
   "id": "00722d97-129d-4fcf-a1a0-73b7fb859cc2",
   "metadata": {},
   "outputs": [
    {
     "data": {
      "text/plain": [
       "32385"
      ]
     },
     "execution_count": null,
     "metadata": {},
     "output_type": "execute_result"
    }
   ],
   "source": [
    "base_query.with_entities(Abstract.pk_abstracts).distinct().count()"
   ]
  },
  {
   "cell_type": "markdown",
   "id": "1b8ed18c-dfa3-4328-b1c0-d39575f2b24b",
   "metadata": {},
   "source": [
    "## Erstelle SQlite DB"
   ]
  },
  {
   "cell_type": "code",
   "execution_count": null,
   "id": "3a05d5f3-2abe-4ded-9f04-d8e208498d7b",
   "metadata": {},
   "outputs": [],
   "source": [
    "sqlite_path = src.PATH / \"data/example.db\"\n",
    "\n",
    "if sqlite_path.is_file():\n",
    "    sqlite_path.unlink()"
   ]
  },
  {
   "cell_type": "code",
   "execution_count": null,
   "id": "2875565f-f9bf-4367-bc85-dc564f8d870b",
   "metadata": {},
   "outputs": [],
   "source": [
    "def copy_table(table):\n",
    "    # nur zur Veranschaulichung (nicht notwendig):\n",
    "    global engine\n",
    "    global sqlite_engine\n",
    "\n",
    "    df = pd.read_sql(base_query.with_entities(table).distinct().statement, engine)\n",
    "    df.to_sql(\n",
    "        getattr(table, \"__tablename__\"), sqlite_engine, if_exists=\"append\", index=False\n",
    "    )"
   ]
  },
  {
   "cell_type": "code",
   "execution_count": null,
   "id": "abf50dfc-8d02-4293-8f50-4ba9dda7ff94",
   "metadata": {},
   "outputs": [],
   "source": [
    "sqlite_engine, sqlite_s = create_sqlite_session(sqlite_path)"
   ]
  },
  {
   "cell_type": "code",
   "execution_count": null,
   "id": "50fb0cd1-fc0f-4cf2-94c2-a84b7cc5f186",
   "metadata": {},
   "outputs": [],
   "source": [
    "Base.metadata.create_all(bind=sqlite_engine)"
   ]
  },
  {
   "cell_type": "markdown",
   "id": "4113b3ba-9e08-4e57-8ef0-ef7575bf0870",
   "metadata": {},
   "source": [
    "### Author"
   ]
  },
  {
   "cell_type": "code",
   "execution_count": null,
   "id": "97363af2-0314-42d2-a98c-a35afd8d060a",
   "metadata": {},
   "outputs": [],
   "source": [
    "df = pd.read_sql(base_query.with_entities(Author).distinct().statement, engine)\n",
    "df.to_sql(\"authors\", sqlite_engine, if_exists=\"append\", index=False)"
   ]
  },
  {
   "cell_type": "markdown",
   "id": "fe5e33c5-df33-4557-bf83-e9b47a5e82e9",
   "metadata": {
    "tags": []
   },
   "source": [
    "### Item"
   ]
  },
  {
   "cell_type": "code",
   "execution_count": null,
   "id": "0bb7268d-97bb-426b-9a02-5227b37adbee",
   "metadata": {},
   "outputs": [],
   "source": [
    "df = pd.read_sql(base_query.with_entities(Item).distinct().statement, engine)\n",
    "df.to_sql(\"items\", sqlite_engine, if_exists=\"append\", index=False)"
   ]
  },
  {
   "cell_type": "markdown",
   "id": "3d623f24-66ef-43f0-8d17-d10f26668aa3",
   "metadata": {
    "tags": []
   },
   "source": [
    "### Source"
   ]
  },
  {
   "cell_type": "code",
   "execution_count": null,
   "id": "a4cc84ac-8e57-4270-bc71-5aaa43e4e3d0",
   "metadata": {},
   "outputs": [],
   "source": [
    "df = pd.read_sql(base_query.with_entities(Source).distinct().statement, engine)\n",
    "df.to_sql(\"sources\", sqlite_engine, if_exists=\"append\", index=False)"
   ]
  },
  {
   "cell_type": "markdown",
   "id": "148b2df8-2bb4-4781-a8af-b4fe4e20d61c",
   "metadata": {
    "tags": []
   },
   "source": [
    "### ItemAuthorInstitution"
   ]
  },
  {
   "cell_type": "code",
   "execution_count": null,
   "id": "eb14b60b-4b4f-4d3e-88f3-f80360ec0604",
   "metadata": {},
   "outputs": [],
   "source": [
    "df = pd.read_sql(\n",
    "    base_query.with_entities(ItemAuthorInstitution).distinct().statement, engine\n",
    ")\n",
    "df.to_sql(\"items_authors_institutions\", sqlite_engine, if_exists=\"append\", index=False)"
   ]
  },
  {
   "cell_type": "markdown",
   "id": "a3cc187c-b8ec-45c9-b2d6-893b8e9d163c",
   "metadata": {
    "tags": []
   },
   "source": [
    "### Abstracts"
   ]
  },
  {
   "cell_type": "code",
   "execution_count": null,
   "id": "87496f26-22d3-465d-859f-ad1a7495241a",
   "metadata": {},
   "outputs": [
    {
     "ename": "KeyboardInterrupt",
     "evalue": "",
     "output_type": "error",
     "traceback": [
      "\u001b[0;31m---------------------------------------------------------------------------\u001b[0m",
      "\u001b[0;31mKeyboardInterrupt\u001b[0m                         Traceback (most recent call last)",
      "\u001b[0;32m<ipython-input-40-bb8ca9b37610>\u001b[0m in \u001b[0;36m<module>\u001b[0;34m\u001b[0m\n\u001b[1;32m      5\u001b[0m \u001b[0mquery\u001b[0m \u001b[0;34m=\u001b[0m \u001b[0ms\u001b[0m\u001b[0;34m.\u001b[0m\u001b[0mquery\u001b[0m\u001b[0;34m(\u001b[0m\u001b[0mAbstract\u001b[0m\u001b[0;34m)\u001b[0m\u001b[0;34m.\u001b[0m\u001b[0mfilter\u001b[0m\u001b[0;34m(\u001b[0m\u001b[0mAbstract\u001b[0m\u001b[0;34m.\u001b[0m\u001b[0mpk_abstracts\u001b[0m\u001b[0;34m.\u001b[0m\u001b[0min_\u001b[0m\u001b[0;34m(\u001b[0m\u001b[0munique_pk_abstracts\u001b[0m\u001b[0;34m)\u001b[0m\u001b[0;34m)\u001b[0m\u001b[0;34m\u001b[0m\u001b[0;34m\u001b[0m\u001b[0m\n\u001b[1;32m      6\u001b[0m \u001b[0;34m\u001b[0m\u001b[0m\n\u001b[0;32m----> 7\u001b[0;31m \u001b[0mdf\u001b[0m \u001b[0;34m=\u001b[0m \u001b[0mpd\u001b[0m\u001b[0;34m.\u001b[0m\u001b[0mread_sql\u001b[0m\u001b[0;34m(\u001b[0m\u001b[0mquery\u001b[0m\u001b[0;34m.\u001b[0m\u001b[0mstatement\u001b[0m\u001b[0;34m,\u001b[0m \u001b[0mengine\u001b[0m\u001b[0;34m)\u001b[0m\u001b[0;34m\u001b[0m\u001b[0;34m\u001b[0m\u001b[0m\n\u001b[0m\u001b[1;32m      8\u001b[0m \u001b[0mdf\u001b[0m\u001b[0;34m.\u001b[0m\u001b[0mto_sql\u001b[0m\u001b[0;34m(\u001b[0m\u001b[0;34m\"abstracts\"\u001b[0m\u001b[0;34m,\u001b[0m \u001b[0msqlite_engine\u001b[0m\u001b[0;34m,\u001b[0m \u001b[0mif_exists\u001b[0m\u001b[0;34m=\u001b[0m\u001b[0;34m\"append\"\u001b[0m\u001b[0;34m,\u001b[0m \u001b[0mindex\u001b[0m\u001b[0;34m=\u001b[0m\u001b[0;32mFalse\u001b[0m\u001b[0;34m)\u001b[0m\u001b[0;34m\u001b[0m\u001b[0;34m\u001b[0m\u001b[0m\n",
      "\u001b[0;32m~/miniconda3/envs/abd_workshop_2021/lib/python3.8/site-packages/pandas/io/sql.py\u001b[0m in \u001b[0;36mread_sql\u001b[0;34m(sql, con, index_col, coerce_float, params, parse_dates, columns, chunksize)\u001b[0m\n\u001b[1;32m    626\u001b[0m         )\n\u001b[1;32m    627\u001b[0m     \u001b[0;32melse\u001b[0m\u001b[0;34m:\u001b[0m\u001b[0;34m\u001b[0m\u001b[0;34m\u001b[0m\u001b[0m\n\u001b[0;32m--> 628\u001b[0;31m         return pandas_sql.read_query(\n\u001b[0m\u001b[1;32m    629\u001b[0m             \u001b[0msql\u001b[0m\u001b[0;34m,\u001b[0m\u001b[0;34m\u001b[0m\u001b[0;34m\u001b[0m\u001b[0m\n\u001b[1;32m    630\u001b[0m             \u001b[0mindex_col\u001b[0m\u001b[0;34m=\u001b[0m\u001b[0mindex_col\u001b[0m\u001b[0;34m,\u001b[0m\u001b[0;34m\u001b[0m\u001b[0;34m\u001b[0m\u001b[0m\n",
      "\u001b[0;32m~/miniconda3/envs/abd_workshop_2021/lib/python3.8/site-packages/pandas/io/sql.py\u001b[0m in \u001b[0;36mread_query\u001b[0;34m(self, sql, index_col, coerce_float, parse_dates, params, chunksize, dtype)\u001b[0m\n\u001b[1;32m   1591\u001b[0m             )\n\u001b[1;32m   1592\u001b[0m         \u001b[0;32melse\u001b[0m\u001b[0;34m:\u001b[0m\u001b[0;34m\u001b[0m\u001b[0;34m\u001b[0m\u001b[0m\n\u001b[0;32m-> 1593\u001b[0;31m             \u001b[0mdata\u001b[0m \u001b[0;34m=\u001b[0m \u001b[0mresult\u001b[0m\u001b[0;34m.\u001b[0m\u001b[0mfetchall\u001b[0m\u001b[0;34m(\u001b[0m\u001b[0;34m)\u001b[0m\u001b[0;34m\u001b[0m\u001b[0;34m\u001b[0m\u001b[0m\n\u001b[0m\u001b[1;32m   1594\u001b[0m             frame = _wrap_result(\n\u001b[1;32m   1595\u001b[0m                 \u001b[0mdata\u001b[0m\u001b[0;34m,\u001b[0m\u001b[0;34m\u001b[0m\u001b[0;34m\u001b[0m\u001b[0m\n",
      "\u001b[0;32m~/miniconda3/envs/abd_workshop_2021/lib/python3.8/site-packages/sqlalchemy/engine/result.py\u001b[0m in \u001b[0;36mfetchall\u001b[0;34m(self)\u001b[0m\n\u001b[1;32m    990\u001b[0m         \u001b[0;34m\"\"\"A synonym for the :meth:`_engine.Result.all` method.\"\"\"\u001b[0m\u001b[0;34m\u001b[0m\u001b[0;34m\u001b[0m\u001b[0m\n\u001b[1;32m    991\u001b[0m \u001b[0;34m\u001b[0m\u001b[0m\n\u001b[0;32m--> 992\u001b[0;31m         \u001b[0;32mreturn\u001b[0m \u001b[0mself\u001b[0m\u001b[0;34m.\u001b[0m\u001b[0m_allrows\u001b[0m\u001b[0;34m(\u001b[0m\u001b[0;34m)\u001b[0m\u001b[0;34m\u001b[0m\u001b[0;34m\u001b[0m\u001b[0m\n\u001b[0m\u001b[1;32m    993\u001b[0m \u001b[0;34m\u001b[0m\u001b[0m\n\u001b[1;32m    994\u001b[0m     \u001b[0;32mdef\u001b[0m \u001b[0mfetchone\u001b[0m\u001b[0;34m(\u001b[0m\u001b[0mself\u001b[0m\u001b[0;34m)\u001b[0m\u001b[0;34m:\u001b[0m\u001b[0;34m\u001b[0m\u001b[0;34m\u001b[0m\u001b[0m\n",
      "\u001b[0;32m~/miniconda3/envs/abd_workshop_2021/lib/python3.8/site-packages/sqlalchemy/engine/result.py\u001b[0m in \u001b[0;36m_allrows\u001b[0;34m(self)\u001b[0m\n\u001b[1;32m    398\u001b[0m         \u001b[0mmake_row\u001b[0m \u001b[0;34m=\u001b[0m \u001b[0mself\u001b[0m\u001b[0;34m.\u001b[0m\u001b[0m_row_getter\u001b[0m\u001b[0;34m\u001b[0m\u001b[0;34m\u001b[0m\u001b[0m\n\u001b[1;32m    399\u001b[0m \u001b[0;34m\u001b[0m\u001b[0m\n\u001b[0;32m--> 400\u001b[0;31m         \u001b[0mrows\u001b[0m \u001b[0;34m=\u001b[0m \u001b[0mself\u001b[0m\u001b[0;34m.\u001b[0m\u001b[0m_fetchall_impl\u001b[0m\u001b[0;34m(\u001b[0m\u001b[0;34m)\u001b[0m\u001b[0;34m\u001b[0m\u001b[0;34m\u001b[0m\u001b[0m\n\u001b[0m\u001b[1;32m    401\u001b[0m         \u001b[0;32mif\u001b[0m \u001b[0mmake_row\u001b[0m\u001b[0;34m:\u001b[0m\u001b[0;34m\u001b[0m\u001b[0;34m\u001b[0m\u001b[0m\n\u001b[1;32m    402\u001b[0m             \u001b[0mmade_rows\u001b[0m \u001b[0;34m=\u001b[0m \u001b[0;34m[\u001b[0m\u001b[0mmake_row\u001b[0m\u001b[0;34m(\u001b[0m\u001b[0mrow\u001b[0m\u001b[0;34m)\u001b[0m \u001b[0;32mfor\u001b[0m \u001b[0mrow\u001b[0m \u001b[0;32min\u001b[0m \u001b[0mrows\u001b[0m\u001b[0;34m]\u001b[0m\u001b[0;34m\u001b[0m\u001b[0;34m\u001b[0m\u001b[0m\n",
      "\u001b[0;32m~/miniconda3/envs/abd_workshop_2021/lib/python3.8/site-packages/sqlalchemy/engine/cursor.py\u001b[0m in \u001b[0;36m_fetchall_impl\u001b[0;34m(self)\u001b[0m\n\u001b[1;32m   1795\u001b[0m \u001b[0;34m\u001b[0m\u001b[0m\n\u001b[1;32m   1796\u001b[0m     \u001b[0;32mdef\u001b[0m \u001b[0m_fetchall_impl\u001b[0m\u001b[0;34m(\u001b[0m\u001b[0mself\u001b[0m\u001b[0;34m)\u001b[0m\u001b[0;34m:\u001b[0m\u001b[0;34m\u001b[0m\u001b[0;34m\u001b[0m\u001b[0m\n\u001b[0;32m-> 1797\u001b[0;31m         \u001b[0;32mreturn\u001b[0m \u001b[0mself\u001b[0m\u001b[0;34m.\u001b[0m\u001b[0mcursor_strategy\u001b[0m\u001b[0;34m.\u001b[0m\u001b[0mfetchall\u001b[0m\u001b[0;34m(\u001b[0m\u001b[0mself\u001b[0m\u001b[0;34m,\u001b[0m \u001b[0mself\u001b[0m\u001b[0;34m.\u001b[0m\u001b[0mcursor\u001b[0m\u001b[0;34m)\u001b[0m\u001b[0;34m\u001b[0m\u001b[0;34m\u001b[0m\u001b[0m\n\u001b[0m\u001b[1;32m   1798\u001b[0m \u001b[0;34m\u001b[0m\u001b[0m\n\u001b[1;32m   1799\u001b[0m     \u001b[0;32mdef\u001b[0m \u001b[0m_fetchmany_impl\u001b[0m\u001b[0;34m(\u001b[0m\u001b[0mself\u001b[0m\u001b[0;34m,\u001b[0m \u001b[0msize\u001b[0m\u001b[0;34m=\u001b[0m\u001b[0;32mNone\u001b[0m\u001b[0;34m)\u001b[0m\u001b[0;34m:\u001b[0m\u001b[0;34m\u001b[0m\u001b[0;34m\u001b[0m\u001b[0m\n",
      "\u001b[0;32m~/miniconda3/envs/abd_workshop_2021/lib/python3.8/site-packages/sqlalchemy/engine/cursor.py\u001b[0m in \u001b[0;36mfetchall\u001b[0;34m(self, result, dbapi_cursor)\u001b[0m\n\u001b[1;32m    979\u001b[0m             \u001b[0;32mreturn\u001b[0m \u001b[0mrows\u001b[0m\u001b[0;34m\u001b[0m\u001b[0;34m\u001b[0m\u001b[0m\n\u001b[1;32m    980\u001b[0m         \u001b[0;32mexcept\u001b[0m \u001b[0mBaseException\u001b[0m \u001b[0;32mas\u001b[0m \u001b[0me\u001b[0m\u001b[0;34m:\u001b[0m\u001b[0;34m\u001b[0m\u001b[0;34m\u001b[0m\u001b[0m\n\u001b[0;32m--> 981\u001b[0;31m             \u001b[0mself\u001b[0m\u001b[0;34m.\u001b[0m\u001b[0mhandle_exception\u001b[0m\u001b[0;34m(\u001b[0m\u001b[0mresult\u001b[0m\u001b[0;34m,\u001b[0m \u001b[0mdbapi_cursor\u001b[0m\u001b[0;34m,\u001b[0m \u001b[0me\u001b[0m\u001b[0;34m)\u001b[0m\u001b[0;34m\u001b[0m\u001b[0;34m\u001b[0m\u001b[0m\n\u001b[0m\u001b[1;32m    982\u001b[0m \u001b[0;34m\u001b[0m\u001b[0m\n\u001b[1;32m    983\u001b[0m \u001b[0;34m\u001b[0m\u001b[0m\n",
      "\u001b[0;32m~/miniconda3/envs/abd_workshop_2021/lib/python3.8/site-packages/sqlalchemy/engine/cursor.py\u001b[0m in \u001b[0;36mhandle_exception\u001b[0;34m(self, result, dbapi_cursor, err)\u001b[0m\n\u001b[1;32m    939\u001b[0m \u001b[0;34m\u001b[0m\u001b[0m\n\u001b[1;32m    940\u001b[0m     \u001b[0;32mdef\u001b[0m \u001b[0mhandle_exception\u001b[0m\u001b[0;34m(\u001b[0m\u001b[0mself\u001b[0m\u001b[0;34m,\u001b[0m \u001b[0mresult\u001b[0m\u001b[0;34m,\u001b[0m \u001b[0mdbapi_cursor\u001b[0m\u001b[0;34m,\u001b[0m \u001b[0merr\u001b[0m\u001b[0;34m)\u001b[0m\u001b[0;34m:\u001b[0m\u001b[0;34m\u001b[0m\u001b[0;34m\u001b[0m\u001b[0m\n\u001b[0;32m--> 941\u001b[0;31m         result.connection._handle_dbapi_exception(\n\u001b[0m\u001b[1;32m    942\u001b[0m             \u001b[0merr\u001b[0m\u001b[0;34m,\u001b[0m \u001b[0;32mNone\u001b[0m\u001b[0;34m,\u001b[0m \u001b[0;32mNone\u001b[0m\u001b[0;34m,\u001b[0m \u001b[0mdbapi_cursor\u001b[0m\u001b[0;34m,\u001b[0m \u001b[0mresult\u001b[0m\u001b[0;34m.\u001b[0m\u001b[0mcontext\u001b[0m\u001b[0;34m\u001b[0m\u001b[0;34m\u001b[0m\u001b[0m\n\u001b[1;32m    943\u001b[0m         )\n",
      "\u001b[0;32m~/miniconda3/envs/abd_workshop_2021/lib/python3.8/site-packages/sqlalchemy/engine/base.py\u001b[0m in \u001b[0;36m_handle_dbapi_exception\u001b[0;34m(self, e, statement, parameters, cursor, context)\u001b[0m\n\u001b[1;32m   1997\u001b[0m                 )\n\u001b[1;32m   1998\u001b[0m             \u001b[0;32melse\u001b[0m\u001b[0;34m:\u001b[0m\u001b[0;34m\u001b[0m\u001b[0;34m\u001b[0m\u001b[0m\n\u001b[0;32m-> 1999\u001b[0;31m                 \u001b[0mutil\u001b[0m\u001b[0;34m.\u001b[0m\u001b[0mraise_\u001b[0m\u001b[0;34m(\u001b[0m\u001b[0mexc_info\u001b[0m\u001b[0;34m[\u001b[0m\u001b[0;36m1\u001b[0m\u001b[0;34m]\u001b[0m\u001b[0;34m,\u001b[0m \u001b[0mwith_traceback\u001b[0m\u001b[0;34m=\u001b[0m\u001b[0mexc_info\u001b[0m\u001b[0;34m[\u001b[0m\u001b[0;36m2\u001b[0m\u001b[0;34m]\u001b[0m\u001b[0;34m)\u001b[0m\u001b[0;34m\u001b[0m\u001b[0;34m\u001b[0m\u001b[0m\n\u001b[0m\u001b[1;32m   2000\u001b[0m \u001b[0;34m\u001b[0m\u001b[0m\n\u001b[1;32m   2001\u001b[0m         \u001b[0;32mfinally\u001b[0m\u001b[0;34m:\u001b[0m\u001b[0;34m\u001b[0m\u001b[0;34m\u001b[0m\u001b[0m\n",
      "\u001b[0;32m~/miniconda3/envs/abd_workshop_2021/lib/python3.8/site-packages/sqlalchemy/util/compat.py\u001b[0m in \u001b[0;36mraise_\u001b[0;34m(***failed resolving arguments***)\u001b[0m\n\u001b[1;32m    205\u001b[0m \u001b[0;34m\u001b[0m\u001b[0m\n\u001b[1;32m    206\u001b[0m         \u001b[0;32mtry\u001b[0m\u001b[0;34m:\u001b[0m\u001b[0;34m\u001b[0m\u001b[0;34m\u001b[0m\u001b[0m\n\u001b[0;32m--> 207\u001b[0;31m             \u001b[0;32mraise\u001b[0m \u001b[0mexception\u001b[0m\u001b[0;34m\u001b[0m\u001b[0;34m\u001b[0m\u001b[0m\n\u001b[0m\u001b[1;32m    208\u001b[0m         \u001b[0;32mfinally\u001b[0m\u001b[0;34m:\u001b[0m\u001b[0;34m\u001b[0m\u001b[0;34m\u001b[0m\u001b[0m\n\u001b[1;32m    209\u001b[0m             \u001b[0;31m# credit to\u001b[0m\u001b[0;34m\u001b[0m\u001b[0;34m\u001b[0m\u001b[0;34m\u001b[0m\u001b[0m\n",
      "\u001b[0;32m~/miniconda3/envs/abd_workshop_2021/lib/python3.8/site-packages/sqlalchemy/engine/cursor.py\u001b[0m in \u001b[0;36mfetchall\u001b[0;34m(self, result, dbapi_cursor)\u001b[0m\n\u001b[1;32m    975\u001b[0m     \u001b[0;32mdef\u001b[0m \u001b[0mfetchall\u001b[0m\u001b[0;34m(\u001b[0m\u001b[0mself\u001b[0m\u001b[0;34m,\u001b[0m \u001b[0mresult\u001b[0m\u001b[0;34m,\u001b[0m \u001b[0mdbapi_cursor\u001b[0m\u001b[0;34m)\u001b[0m\u001b[0;34m:\u001b[0m\u001b[0;34m\u001b[0m\u001b[0;34m\u001b[0m\u001b[0m\n\u001b[1;32m    976\u001b[0m         \u001b[0;32mtry\u001b[0m\u001b[0;34m:\u001b[0m\u001b[0;34m\u001b[0m\u001b[0;34m\u001b[0m\u001b[0m\n\u001b[0;32m--> 977\u001b[0;31m             \u001b[0mrows\u001b[0m \u001b[0;34m=\u001b[0m \u001b[0mdbapi_cursor\u001b[0m\u001b[0;34m.\u001b[0m\u001b[0mfetchall\u001b[0m\u001b[0;34m(\u001b[0m\u001b[0;34m)\u001b[0m\u001b[0;34m\u001b[0m\u001b[0;34m\u001b[0m\u001b[0m\n\u001b[0m\u001b[1;32m    978\u001b[0m             \u001b[0mresult\u001b[0m\u001b[0;34m.\u001b[0m\u001b[0m_soft_close\u001b[0m\u001b[0;34m(\u001b[0m\u001b[0;34m)\u001b[0m\u001b[0;34m\u001b[0m\u001b[0;34m\u001b[0m\u001b[0m\n\u001b[1;32m    979\u001b[0m             \u001b[0;32mreturn\u001b[0m \u001b[0mrows\u001b[0m\u001b[0;34m\u001b[0m\u001b[0;34m\u001b[0m\u001b[0m\n",
      "\u001b[0;31mKeyboardInterrupt\u001b[0m: "
     ]
    }
   ],
   "source": [
    "# man kann leider kein DISTINCT() auf CLOB Spalten anwenden, daher hier ein 'workaround'\n",
    "\n",
    "unique_pk_abstracts = base_query.with_entities(Abstract.pk_abstracts).distinct()\n",
    "\n",
    "query = s.query(Abstract).filter(Abstract.pk_abstracts.in_(unique_pk_abstracts))\n",
    "\n",
    "df = pd.read_sql(query.statement, engine)\n",
    "df.to_sql(\"abstracts\", sqlite_engine, if_exists=\"append\", index=False)"
   ]
  },
  {
   "cell_type": "markdown",
   "id": "0a70815d-e8fc-462c-88a8-2e8ba10f5b51",
   "metadata": {},
   "source": [
    "# Ein Schmankerl für die Nerds"
   ]
  },
  {
   "cell_type": "code",
   "execution_count": null,
   "id": "70f262b9-5089-470b-9af9-aa467335644b",
   "metadata": {},
   "outputs": [],
   "source": [
    "def explain_query(query, detail=\"TYPICAL\"):\n",
    "    \"\"\"show the query execution plan for an oracle DB\n",
    "\n",
    "    possible values for detail (in ascending detail order):\n",
    "    BASIC, SERIAL, TYPICAL, ALL\n",
    "    \"\"\"\n",
    "    raw_query = str(\n",
    "        query.statement.compile(\n",
    "            engine,\n",
    "            compile_kwargs={\n",
    "                \"literal_binds\": True,\n",
    "            },\n",
    "        )\n",
    "    )\n",
    "\n",
    "    s.execute(\"ALTER SESSION SET current_schema = WOS_B_2020\")\n",
    "    s.execute(\"EXPLAIN PLAN FOR \" + raw_query)\n",
    "    out = s.execute(\n",
    "        f\"SELECT * FROM TABLE(DBMS_XPLAN.DISPLAY(format => '{detail}'))\"\n",
    "    ).fetchall()\n",
    "\n",
    "    print(\"\\n\".join(str(row) for (row,) in out))"
   ]
  },
  {
   "cell_type": "code",
   "execution_count": null,
   "id": "327b895f-997b-4ce2-8dfb-be715c08b363",
   "metadata": {},
   "outputs": [
    {
     "name": "stdout",
     "output_type": "stream",
     "text": [
      "Plan hash value: 1451258128\n",
      " \n",
      "------------------------------------------------------------------------------------------------------------------------------\n",
      "| Id  | Operation                               | Name                       | Rows  | Bytes |TempSpc| Cost (%CPU)| Time     |\n",
      "------------------------------------------------------------------------------------------------------------------------------\n",
      "|   0 | SELECT STATEMENT                        |                            | 61079 |    10M|       | 94675   (1)| 00:00:10 |\n",
      "|*  1 |  HASH JOIN                              |                            | 61079 |    10M|    11M| 94675   (1)| 00:00:10 |\n",
      "|   2 |   NESTED LOOPS                          |                            | 61079 |    10M|       | 68759   (1)| 00:00:07 |\n",
      "|*  3 |    HASH JOIN OUTER                      |                            |  9964 |  1595K|       | 28900   (1)| 00:00:03 |\n",
      "|   4 |     NESTED LOOPS                        |                            |  9964 |  1517K|       | 12890   (1)| 00:00:02 |\n",
      "|*  5 |      TABLE ACCESS FULL                  | SOURCES                    |    31 |  4309 |       |   551   (1)| 00:00:01 |\n",
      "|*  6 |      TABLE ACCESS BY INDEX ROWID BATCHED| ITEMS                      |   326 |  5542 |       |   398   (0)| 00:00:01 |\n",
      "|*  7 |       INDEX RANGE SCAN                  | FK_ITEMS_SOURCES           |   409 |       |       |     2   (0)| 00:00:01 |\n",
      "|   8 |     INDEX FAST FULL SCAN                | IDX_ABSTRACTS_FK_ITEMS     |    35M|   271M|       | 15975   (1)| 00:00:02 |\n",
      "|*  9 |    TABLE ACCESS BY INDEX ROWID BATCHED  | ITEMS_AUTHORS_INSTITUTIONS |     6 |    84 |       |     4   (0)| 00:00:01 |\n",
      "|* 10 |     INDEX RANGE SCAN                    | FK_ITMAUTHINST_ITEMS       |     6 |       |       |     3   (0)| 00:00:01 |\n",
      "|  11 |   INDEX FAST FULL SCAN                  | PK_AUTHORS                 |    33M|   189M|       | 12395   (1)| 00:00:02 |\n",
      "------------------------------------------------------------------------------------------------------------------------------\n",
      " \n",
      "Predicate Information (identified by operation id):\n",
      "---------------------------------------------------\n",
      " \n",
      "   1 - access(\"AUTHORS\".\"PK_AUTHORS\"=\"ITEMS_AUTHORS_INSTITUTIONS\".\"FK_AUTHORS\")\n",
      "   3 - access(\"ITEMS\".\"PK_ITEMS\"=\"ABSTRACTS\".\"FK_ITEMS\"(+))\n",
      "   5 - filter(LOWER(\"SOURCES\".\"SOURCETITLE\")='clinical psychology review' OR LOWER(\"SOURCES\".\"SOURCETITLE\")='current \n",
      "              directions in psychological science' OR LOWER(\"SOURCES\".\"SOURCETITLE\")='developmental review' OR \n",
      "              LOWER(\"SOURCES\".\"SOURCETITLE\")='educational psychologist' OR LOWER(\"SOURCES\".\"SOURCETITLE\")='educational psychology \n",
      "              review' OR LOWER(\"SOURCES\".\"SOURCETITLE\")='international review of sport and exercise psychology' OR \n",
      "              LOWER(\"SOURCES\".\"SOURCETITLE\")='journal of abnormal psychology' OR LOWER(\"SOURCES\".\"SOURCETITLE\")='journal of applied \n",
      "              psychology' OR LOWER(\"SOURCES\".\"SOURCETITLE\")='journal of consumer psychology' OR \n",
      "              LOWER(\"SOURCES\".\"SOURCETITLE\")='journal of occupational health psychology' OR LOWER(\"SOURCES\".\"SOURCETITLE\")='journal \n",
      "              of organizational behavior' OR LOWER(\"SOURCES\".\"SOURCETITLE\")='journal of personality and social psychology' OR \n",
      "              LOWER(\"SOURCES\".\"SOURCETITLE\")='journal of the learning sciences' OR LOWER(\"SOURCES\".\"SOURCETITLE\")='leadership \n",
      "              quarterly' OR LOWER(\"SOURCES\".\"SOURCETITLE\")='neuroscience and biobehavioral reviews' OR \n",
      "              LOWER(\"SOURCES\".\"SOURCETITLE\")='personality and social psychology review' OR \n",
      "              LOWER(\"SOURCES\".\"SOURCETITLE\")='personnel psychology' OR LOWER(\"SOURCES\".\"SOURCETITLE\")='perspectives on \n",
      "              psychological science' OR LOWER(\"SOURCES\".\"SOURCETITLE\")='psychological bulletin' OR \n",
      "              LOWER(\"SOURCES\".\"SOURCETITLE\")='psychological methods' OR LOWER(\"SOURCES\".\"SOURCETITLE\")='psychological review' OR \n",
      "              LOWER(\"SOURCES\".\"SOURCETITLE\")='psychological science' OR LOWER(\"SOURCES\".\"SOURCETITLE\")='psychological science in \n",
      "              the public interest' OR LOWER(\"SOURCES\".\"SOURCETITLE\")='social issues and policy review' OR \n",
      "              LOWER(\"SOURCES\".\"SOURCETITLE\")='trends in cognitive sciences')\n",
      "   6 - filter(\"ITEMS\".\"PUBYEAR\">=2015 AND \"ITEMS\".\"PUBYEAR\"<=2020)\n",
      "   7 - access(\"SOURCES\".\"PK_SOURCES\"=\"ITEMS\".\"FK_SOURCES\")\n",
      "   9 - filter(\"ITEMS_AUTHORS_INSTITUTIONS\".\"FK_AUTHORS\" IS NOT NULL)\n",
      "  10 - access(\"ITEMS\".\"PK_ITEMS\"=\"ITEMS_AUTHORS_INSTITUTIONS\".\"FK_ITEMS\")\n",
      " \n",
      "Note\n",
      "-----\n",
      "   - dynamic statistics used: dynamic sampling (level=2)\n",
      "   - 3 Sql Plan Directives used for this statement\n"
     ]
    }
   ],
   "source": [
    "explain_query(base_query, detail=\"SERIAL\")"
   ]
  },
  {
   "cell_type": "code",
   "execution_count": null,
   "id": "22967e5f-25e7-403d-bc40-454fb76fe051",
   "metadata": {},
   "outputs": [],
   "source": [
    "import pandas as pd\n",
    "from sqlalchemy.orm import Query\n",
    "\n",
    "from src.connect import create_wos_session\n",
    "from src.models import Author, ItemAuthorInstitution, Item"
   ]
  },
  {
   "cell_type": "code",
   "execution_count": null,
   "id": "fb45d56b-93bc-4dc5-a60f-b3f97fc3e12c",
   "metadata": {},
   "outputs": [],
   "source": [
    "query = \"\"\"\n",
    "SELECT \n",
    "    a.PK_AUTHORS, a.FULLNAME, a.LASTNAME, a.FIRSTNAME,\n",
    "    i.PK_ITEMS, i.ARTICLE_TITLE, i.PUBYEAR,\n",
    "    s.SOURCETITLE\n",
    "    FROM \n",
    "        wos_b_2020.SOURCES s\n",
    "    LEFT JOIN\n",
    "        wos_b_2020.ITEMS i\n",
    "        ON\n",
    "            s.PK_SOURCES = i.FK_SOURCES\n",
    "    LEFT JOIN\n",
    "        wos_b_2020.ITEMS_AUTHORS_INSTITUTIONS iai\n",
    "        ON\n",
    "            i.PK_ITEMS = iai.FK_ITEMS\n",
    "    LEFT JOIN\n",
    "        wos_b_2020.AUTHORS a\n",
    "        ON\n",
    "            iai.FK_AUTHORS = a.PK_AUTHORS\n",
    "    WHERE \n",
    "        lower(s.SOURCETITLE) in (\n",
    "            'astronomy and astrophysics review',\n",
    "            'living reviews in solar physics',\n",
    "            'astrophysical journal letters',\n",
    "            'astrophysical journal, supplement series',\n",
    "            'nature astronomy',\n",
    "            'astronomical journal',\n",
    "            'space science reviews',\n",
    "            'astrophysical journal',\n",
    "            'publications of the astronomical society of the pacific',\n",
    "            'astronomy and astrophysics',\n",
    "            'monthly notices of the royal astronomical society: letters',\n",
    "            'monthly notices of the royal astronomical society',\n",
    "            'publication of the astronomical society of japan',\n",
    "            'new astronomy reviews',\n",
    "            'icarus',\n",
    "            'physics of the dark universe',\n",
    "            'astrodynamics',\n",
    "            'publications of the astronomical society of australia',\n",
    "            'chinese physics c',\n",
    "            'acta astronomica',\n",
    "            'frontiers in astronomy and space sciences',\n",
    "            'astroparticle physics',\n",
    "            'revista mexicana de astronomia y astrofisica',\n",
    "            'physics of the earth and planetary interiors',\n",
    "            'journal of high energy astrophysics',\n",
    "            'molecular astrophysics',\n",
    "            'solar physics',\n",
    "            'journal of cosmology and astroparticle physics',\n",
    "            'international journal of modern physics d',\n",
    "            'experimental astronomy'\n",
    "            )\n",
    "    AND\n",
    "        i.PUBYEAR BETWEEN 2019 AND 2020\n",
    "\"\"\""
   ]
  }
 ],
 "metadata": {
  "kernelspec": {
   "display_name": "Python [conda env:abd_workshop_2021] *",
   "language": "python",
   "name": "conda-env-abd_workshop_2021-py"
  },
  "language_info": {
   "codemirror_mode": {
    "name": "ipython",
    "version": 3
   },
   "file_extension": ".py",
   "mimetype": "text/x-python",
   "name": "python",
   "nbconvert_exporter": "python",
   "pygments_lexer": "ipython3",
   "version": "3.8.11"
  }
 },
 "nbformat": 4,
 "nbformat_minor": 5
}
