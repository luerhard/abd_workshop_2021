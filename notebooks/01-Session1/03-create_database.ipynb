{
 "cells": [
  {
   "cell_type": "markdown",
   "id": "487b875f-af59-40d1-8444-486807e07b8e",
   "metadata": {
    "slideshow": {
     "slide_type": "slide"
    },
    "tags": []
   },
   "source": [
    "# Erstellung eines Datensatzes\n",
    "\n",
    "- Wir erheben nun einen Beispiel-Datensatz\n",
    "- Alle Artikel von 25 ausgewählten Journals der Psychologie\n",
    "- Zeitraum: 2015-2020"
   ]
  },
  {
   "cell_type": "markdown",
   "id": "e6501898-56a8-4ffe-8fe3-6456020fcd25",
   "metadata": {
    "slideshow": {
     "slide_type": "fragment"
    },
    "tags": []
   },
   "source": [
    "- Dieser wird morgen in den Sessions verwendet\n",
    "- Um Zugang zu dem hier erstellten Datensatz zu erhalten, folgen Sie den Anweisungen in der README.md in diesem Repo"
   ]
  },
  {
   "cell_type": "code",
   "execution_count": null,
   "id": "0df2fa80-949a-4415-9a64-240ec5b8c5ef",
   "metadata": {
    "slideshow": {
     "slide_type": "subslide"
    },
    "tags": []
   },
   "outputs": [],
   "source": [
    "sources = [\n",
    "    \"clinical psychology review\",\n",
    "    \"current directions in psychological science\",\n",
    "    \"developmental review\",\n",
    "    \"educational psychologist\",\n",
    "    \"educational psychology review\",\n",
    "    \"international review of sport and exercise psychology\",\n",
    "    \"journal of abnormal psychology\",\n",
    "    \"journal of applied psychology\",\n",
    "    \"journal of consumer psychology\",\n",
    "    \"journal of occupational health psychology\",\n",
    "    \"journal of organizational behavior\",\n",
    "    \"journal of personality and social psychology\",\n",
    "    \"journal of the learning sciences\",\n",
    "    \"leadership quarterly\",\n",
    "    \"neuroscience and biobehavioral reviews\",\n",
    "    \"personality and social psychology review\",\n",
    "    \"personnel psychology\",\n",
    "    \"perspectives on psychological science\",\n",
    "    \"psychological bulletin\",\n",
    "    \"psychological methods\",\n",
    "    \"psychological review\",\n",
    "    \"psychological science\",\n",
    "    \"psychological science in the public interest\",\n",
    "    \"social issues and policy review\",\n",
    "    \"trends in cognitive sciences\",\n",
    "]"
   ]
  },
  {
   "cell_type": "code",
   "execution_count": null,
   "id": "4916e96a-5941-4cc6-8a93-6c504132e99e",
   "metadata": {
    "slideshow": {
     "slide_type": "fragment"
    },
    "tags": []
   },
   "outputs": [
    {
     "data": {
      "text/plain": [
       "25"
      ]
     },
     "execution_count": null,
     "metadata": {},
     "output_type": "execute_result"
    }
   ],
   "source": [
    "len(sources)"
   ]
  },
  {
   "cell_type": "code",
   "execution_count": null,
   "id": "d37a9d37-943a-46aa-833a-3eb2af0e4107",
   "metadata": {
    "slideshow": {
     "slide_type": "subslide"
    },
    "tags": []
   },
   "outputs": [],
   "source": [
    "from src.connect import create_wos_session\n",
    "\n",
    "engine, s = create_wos_session()"
   ]
  },
  {
   "cell_type": "code",
   "execution_count": null,
   "id": "51f59f54-8310-4906-9f12-923fdecebdbe",
   "metadata": {
    "slideshow": {
     "slide_type": "subslide"
    },
    "tags": []
   },
   "outputs": [],
   "source": [
    "from sqlalchemy import func\n",
    "from src.models import Abstract, Author, Item, ItemAuthorInstitution, Source\n",
    "\n",
    "base_query = (\n",
    "    s.query(Source)\n",
    "    .join(Item)\n",
    "    .join(ItemAuthorInstitution)\n",
    "    .join(Author)\n",
    "    .join(Abstract, isouter=True)\n",
    "    .filter(\n",
    "        Item.pubyear.between(2015, 2020),\n",
    "        Item.doctype == \"Article\",\n",
    "        func.lower(Source.sourcetitle).in_(sources),\n",
    "    )\n",
    ")"
   ]
  },
  {
   "cell_type": "code",
   "execution_count": null,
   "id": "fffc8666-0add-4e7b-a195-2d7dfd8af2ec",
   "metadata": {
    "slideshow": {
     "slide_type": "fragment"
    },
    "tags": []
   },
   "outputs": [
    {
     "data": {
      "text/plain": [
       "16546"
      ]
     },
     "execution_count": null,
     "metadata": {},
     "output_type": "execute_result"
    }
   ],
   "source": [
    "base_query.with_entities(Author.pk_authors).distinct().count()"
   ]
  },
  {
   "cell_type": "code",
   "execution_count": null,
   "id": "ab9c2628-c065-4d2c-af93-af60a6baf06e",
   "metadata": {
    "slideshow": {
     "slide_type": "fragment"
    },
    "tags": []
   },
   "outputs": [
    {
     "data": {
      "text/plain": [
       "5629"
      ]
     },
     "execution_count": null,
     "metadata": {},
     "output_type": "execute_result"
    }
   ],
   "source": [
    "base_query.with_entities(Item.pk_items).distinct().count()"
   ]
  },
  {
   "cell_type": "code",
   "execution_count": null,
   "id": "c8ed8162-bb5e-46ef-9428-988aa9c39000",
   "metadata": {
    "slideshow": {
     "slide_type": "fragment"
    },
    "tags": []
   },
   "outputs": [
    {
     "data": {
      "text/plain": [
       "32385"
      ]
     },
     "execution_count": null,
     "metadata": {},
     "output_type": "execute_result"
    }
   ],
   "source": [
    "base_query.with_entities(ItemAuthorInstitution.pk_itm_auth_inst).distinct().count()"
   ]
  },
  {
   "cell_type": "code",
   "execution_count": null,
   "id": "00722d97-129d-4fcf-a1a0-73b7fb859cc2",
   "metadata": {
    "slideshow": {
     "slide_type": "subslide"
    },
    "tags": []
   },
   "outputs": [
    {
     "data": {
      "text/plain": [
       "5557"
      ]
     },
     "execution_count": null,
     "metadata": {},
     "output_type": "execute_result"
    }
   ],
   "source": [
    "base_query.filter(Abstract.pk_abstracts != None).with_entities(\n",
    "    Abstract.pk_abstracts\n",
    ").distinct().count()"
   ]
  },
  {
   "cell_type": "code",
   "execution_count": null,
   "id": "b2d83bcd-a765-4a75-90c4-4a413fce7978",
   "metadata": {
    "slideshow": {
     "slide_type": "fragment"
    },
    "tags": []
   },
   "outputs": [
    {
     "data": {
      "text/plain": [
       "24"
      ]
     },
     "execution_count": null,
     "metadata": {},
     "output_type": "execute_result"
    }
   ],
   "source": [
    "base_query.with_entities(Source.pk_sources).distinct().count()"
   ]
  },
  {
   "cell_type": "code",
   "execution_count": null,
   "id": "61028b0d-ecfe-47fe-aca0-41d5b522b6f9",
   "metadata": {
    "slideshow": {
     "slide_type": "fragment"
    },
    "tags": []
   },
   "outputs": [
    {
     "data": {
      "text/plain": [
       "{'trends in cognitive sciences'}"
      ]
     },
     "execution_count": null,
     "metadata": {},
     "output_type": "execute_result"
    }
   ],
   "source": [
    "# check for non-existing sources\n",
    "new = {\n",
    "    c.lower() for (c,) in base_query.with_entities(Source.sourcetitle).distinct().all()\n",
    "}\n",
    "\n",
    "set(sources) - new"
   ]
  },
  {
   "cell_type": "markdown",
   "id": "1b8ed18c-dfa3-4328-b1c0-d39575f2b24b",
   "metadata": {
    "slideshow": {
     "slide_type": "slide"
    },
    "tags": []
   },
   "source": [
    "## Erstelle SQlite DB\n",
    "\n",
    "- hier wird pathlib verwendet.\n",
    "- großartiges package aus der Standard-Library für den Umgang mit Pfaden (cross-plattform)\n",
    "- eingängige API\n",
    "- Dokumentation dazu [hier](https://docs.python.org/3/library/pathlib.html)"
   ]
  },
  {
   "cell_type": "code",
   "execution_count": null,
   "id": "3a05d5f3-2abe-4ded-9f04-d8e208498d7b",
   "metadata": {
    "slideshow": {
     "slide_type": "fragment"
    },
    "tags": []
   },
   "outputs": [],
   "source": [
    "import src\n",
    "\n",
    "sqlite_path = src.PATH / \"data/example.db\"\n",
    "\n",
    "if sqlite_path.is_file():\n",
    "    sqlite_path.unlink()"
   ]
  },
  {
   "cell_type": "code",
   "execution_count": null,
   "id": "abf50dfc-8d02-4293-8f50-4ba9dda7ff94",
   "metadata": {
    "slideshow": {
     "slide_type": "fragment"
    },
    "tags": []
   },
   "outputs": [],
   "source": [
    "from src.connect import create_sqlite_session\n",
    "\n",
    "sqlite_engine, sqlite_s = create_sqlite_session(sqlite_path)"
   ]
  },
  {
   "cell_type": "code",
   "execution_count": null,
   "id": "50fb0cd1-fc0f-4cf2-94c2-a84b7cc5f186",
   "metadata": {
    "slideshow": {
     "slide_type": "fragment"
    },
    "tags": []
   },
   "outputs": [],
   "source": [
    "from src.models import Base\n",
    "\n",
    "Base.metadata.create_all(bind=sqlite_engine)"
   ]
  },
  {
   "cell_type": "markdown",
   "id": "4113b3ba-9e08-4e57-8ef0-ef7575bf0870",
   "metadata": {
    "slideshow": {
     "slide_type": "subslide"
    },
    "tags": []
   },
   "source": [
    "### Author"
   ]
  },
  {
   "cell_type": "code",
   "execution_count": null,
   "id": "97363af2-0314-42d2-a98c-a35afd8d060a",
   "metadata": {
    "slideshow": {
     "slide_type": "fragment"
    },
    "tags": []
   },
   "outputs": [],
   "source": [
    "import pandas as pd\n",
    "\n",
    "df = pd.read_sql(base_query.with_entities(Author).distinct().statement, engine)\n",
    "df.to_sql(\"authors\", sqlite_engine, if_exists=\"append\", index=False)"
   ]
  },
  {
   "cell_type": "markdown",
   "id": "fe5e33c5-df33-4557-bf83-e9b47a5e82e9",
   "metadata": {
    "slideshow": {
     "slide_type": "fragment"
    },
    "tags": []
   },
   "source": [
    "### Item"
   ]
  },
  {
   "cell_type": "code",
   "execution_count": null,
   "id": "0bb7268d-97bb-426b-9a02-5227b37adbee",
   "metadata": {
    "slideshow": {
     "slide_type": "fragment"
    },
    "tags": []
   },
   "outputs": [],
   "source": [
    "df = pd.read_sql(base_query.with_entities(Item).distinct().statement, engine)\n",
    "df.to_sql(\"items\", sqlite_engine, if_exists=\"append\", index=False)"
   ]
  },
  {
   "cell_type": "markdown",
   "id": "3d623f24-66ef-43f0-8d17-d10f26668aa3",
   "metadata": {
    "slideshow": {
     "slide_type": "fragment"
    },
    "tags": []
   },
   "source": [
    "### Source"
   ]
  },
  {
   "cell_type": "code",
   "execution_count": null,
   "id": "a4cc84ac-8e57-4270-bc71-5aaa43e4e3d0",
   "metadata": {
    "slideshow": {
     "slide_type": "fragment"
    },
    "tags": []
   },
   "outputs": [],
   "source": [
    "df = pd.read_sql(base_query.with_entities(Source).distinct().statement, engine)\n",
    "df.to_sql(\"sources\", sqlite_engine, if_exists=\"append\", index=False)"
   ]
  },
  {
   "cell_type": "markdown",
   "id": "148b2df8-2bb4-4781-a8af-b4fe4e20d61c",
   "metadata": {
    "slideshow": {
     "slide_type": "fragment"
    },
    "tags": []
   },
   "source": [
    "### ItemAuthorInstitution"
   ]
  },
  {
   "cell_type": "code",
   "execution_count": null,
   "id": "eb14b60b-4b4f-4d3e-88f3-f80360ec0604",
   "metadata": {
    "slideshow": {
     "slide_type": "fragment"
    },
    "tags": []
   },
   "outputs": [],
   "source": [
    "df = pd.read_sql(\n",
    "    base_query.with_entities(ItemAuthorInstitution).distinct().statement, engine\n",
    ")\n",
    "df.to_sql(\"items_authors_institutions\", sqlite_engine, if_exists=\"append\", index=False)"
   ]
  },
  {
   "cell_type": "markdown",
   "id": "a3cc187c-b8ec-45c9-b2d6-893b8e9d163c",
   "metadata": {
    "slideshow": {
     "slide_type": "subslide"
    },
    "tags": []
   },
   "source": [
    "### Abstracts"
   ]
  },
  {
   "cell_type": "code",
   "execution_count": null,
   "id": "87496f26-22d3-465d-859f-ad1a7495241a",
   "metadata": {
    "slideshow": {
     "slide_type": "fragment"
    },
    "tags": []
   },
   "outputs": [],
   "source": [
    "# man kann leider kein DISTINCT() auf CLOB Spalten anwenden, daher hier ein 'workaround'\n",
    "\n",
    "unique_pk_abstracts = base_query.with_entities(Abstract.pk_abstracts).distinct()\n",
    "\n",
    "query = s.query(Abstract).filter(Abstract.pk_abstracts.in_(unique_pk_abstracts))\n",
    "\n",
    "df = pd.read_sql(query.statement, engine)\n",
    "df.to_sql(\"abstracts\", sqlite_engine, if_exists=\"append\", index=False)"
   ]
  },
  {
   "cell_type": "markdown",
   "id": "0a70815d-e8fc-462c-88a8-2e8ba10f5b51",
   "metadata": {
    "slideshow": {
     "slide_type": "slide"
    },
    "tags": []
   },
   "source": [
    "# Ein Schmankerl für die Nerds"
   ]
  },
  {
   "cell_type": "code",
   "execution_count": null,
   "id": "70f262b9-5089-470b-9af9-aa467335644b",
   "metadata": {
    "slideshow": {
     "slide_type": "subslide"
    },
    "tags": []
   },
   "outputs": [],
   "source": [
    "def explain_query(query, detail=\"TYPICAL\"):\n",
    "    \"\"\"show the query execution plan for an oracle DB\n",
    "\n",
    "    possible values for detail (in ascending detail order):\n",
    "    BASIC, SERIAL, TYPICAL, ALL\n",
    "    \"\"\"\n",
    "    raw_query = str(\n",
    "        query.statement.compile(\n",
    "            engine,\n",
    "            compile_kwargs={\n",
    "                \"literal_binds\": True,\n",
    "            },\n",
    "        )\n",
    "    )\n",
    "\n",
    "    s.execute(\"ALTER SESSION SET current_schema = WOS_B_2020\")\n",
    "    s.execute(\"EXPLAIN PLAN FOR \" + raw_query)\n",
    "    out = s.execute(\n",
    "        f\"SELECT * FROM TABLE(DBMS_XPLAN.DISPLAY(format => '{detail}'))\"\n",
    "    ).fetchall()\n",
    "\n",
    "    print(\"\\n\".join(str(row) for (row,) in out))"
   ]
  },
  {
   "cell_type": "code",
   "execution_count": null,
   "id": "327b895f-997b-4ce2-8dfb-be715c08b363",
   "metadata": {
    "slideshow": {
     "slide_type": "skip"
    },
    "tags": []
   },
   "outputs": [
    {
     "name": "stdout",
     "output_type": "stream",
     "text": [
      "Plan hash value: 3576923419\n",
      " \n",
      "------------------------------------------------------------------------------\n",
      "| Id  | Operation                               | Name                       |\n",
      "------------------------------------------------------------------------------\n",
      "|   0 | SELECT STATEMENT                        |                            |\n",
      "|   1 |  HASH JOIN                              |                            |\n",
      "|   2 |   NESTED LOOPS                          |                            |\n",
      "|   3 |    NESTED LOOPS OUTER                   |                            |\n",
      "|   4 |     NESTED LOOPS                        |                            |\n",
      "|   5 |      TABLE ACCESS FULL                  | SOURCES                    |\n",
      "|   6 |      TABLE ACCESS BY INDEX ROWID BATCHED| ITEMS                      |\n",
      "|   7 |       INDEX RANGE SCAN                  | FK_ITEMS_SOURCES           |\n",
      "|   8 |     INDEX RANGE SCAN                    | IDX_ABSTRACTS_FK_ITEMS     |\n",
      "|   9 |    TABLE ACCESS BY INDEX ROWID BATCHED  | ITEMS_AUTHORS_INSTITUTIONS |\n",
      "|  10 |     INDEX RANGE SCAN                    | FK_ITMAUTHINST_ITEMS       |\n",
      "|  11 |   INDEX FAST FULL SCAN                  | PK_AUTHORS                 |\n",
      "------------------------------------------------------------------------------\n"
     ]
    }
   ],
   "source": [
    "explain_query(base_query, detail=\"BASIC\")"
   ]
  },
  {
   "cell_type": "code",
   "execution_count": null,
   "id": "25bf3121-d9cd-40c0-a8ec-491f7267137a",
   "metadata": {
    "slideshow": {
     "slide_type": "skip"
    },
    "tags": []
   },
   "outputs": [
    {
     "name": "stdout",
     "output_type": "stream",
     "text": [
      "Plan hash value: 364409137\n",
      " \n",
      "----------------------------------------------------------------------------------------------------------------------\n",
      "| Id  | Operation                               | Name                       | Rows  | Bytes | Cost (%CPU)| Time     |\n",
      "----------------------------------------------------------------------------------------------------------------------\n",
      "|   0 | SELECT STATEMENT                        |                            |  9603 |  1828K| 32436   (1)| 00:00:04 |\n",
      "|   1 |  NESTED LOOPS                           |                            |  9603 |  1828K| 32436   (1)| 00:00:04 |\n",
      "|   2 |   NESTED LOOPS                          |                            |  9603 |  1772K| 22832   (1)| 00:00:03 |\n",
      "|   3 |    NESTED LOOPS OUTER                   |                            |  1724 |   294K| 15936   (1)| 00:00:02 |\n",
      "|   4 |     NESTED LOOPS                        |                            |  1724 |   281K| 12487   (1)| 00:00:02 |\n",
      "|*  5 |      TABLE ACCESS FULL                  | SOURCES                    |    31 |  4309 |   551   (1)| 00:00:01 |\n",
      "|*  6 |      TABLE ACCESS BY INDEX ROWID BATCHED| ITEMS                      |    56 |  1568 |   385   (0)| 00:00:01 |\n",
      "|*  7 |       INDEX RANGE SCAN                  | FK_ITEMS_SOURCES           |   397 |       |     2   (0)| 00:00:01 |\n",
      "|*  8 |     INDEX RANGE SCAN                    | IDX_ABSTRACTS_FK_ITEMS     |     1 |     8 |     2   (0)| 00:00:01 |\n",
      "|*  9 |    TABLE ACCESS BY INDEX ROWID BATCHED  | ITEMS_AUTHORS_INSTITUTIONS |     6 |    84 |     4   (0)| 00:00:01 |\n",
      "|* 10 |     INDEX RANGE SCAN                    | FK_ITMAUTHINST_ITEMS       |     6 |       |     3   (0)| 00:00:01 |\n",
      "|* 11 |   INDEX UNIQUE SCAN                     | PK_AUTHORS                 |     1 |     6 |     1   (0)| 00:00:01 |\n",
      "----------------------------------------------------------------------------------------------------------------------\n",
      " \n",
      "Predicate Information (identified by operation id):\n",
      "---------------------------------------------------\n",
      " \n",
      "   5 - filter(LOWER(\"SOURCES\".\"SOURCETITLE\")='clinical psychology review' OR \n",
      "              LOWER(\"SOURCES\".\"SOURCETITLE\")='current directions in psychological science' OR \n",
      "              LOWER(\"SOURCES\".\"SOURCETITLE\")='developmental review' OR LOWER(\"SOURCES\".\"SOURCETITLE\")='educational \n",
      "              psychologist' OR LOWER(\"SOURCES\".\"SOURCETITLE\")='educational psychology review' OR \n",
      "              LOWER(\"SOURCES\".\"SOURCETITLE\")='international review of sport and exercise psychology' OR \n",
      "              LOWER(\"SOURCES\".\"SOURCETITLE\")='journal of abnormal psychology' OR LOWER(\"SOURCES\".\"SOURCETITLE\")='journal of \n",
      "              applied psychology' OR LOWER(\"SOURCES\".\"SOURCETITLE\")='journal of consumer psychology' OR \n",
      "              LOWER(\"SOURCES\".\"SOURCETITLE\")='journal of occupational health psychology' OR \n",
      "              LOWER(\"SOURCES\".\"SOURCETITLE\")='journal of organizational behavior' OR \n",
      "              LOWER(\"SOURCES\".\"SOURCETITLE\")='journal of personality and social psychology' OR \n",
      "              LOWER(\"SOURCES\".\"SOURCETITLE\")='journal of the learning sciences' OR \n",
      "              LOWER(\"SOURCES\".\"SOURCETITLE\")='leadership quarterly' OR LOWER(\"SOURCES\".\"SOURCETITLE\")='neuroscience and \n",
      "              biobehavioral reviews' OR LOWER(\"SOURCES\".\"SOURCETITLE\")='personality and social psychology review' OR \n",
      "              LOWER(\"SOURCES\".\"SOURCETITLE\")='personnel psychology' OR LOWER(\"SOURCES\".\"SOURCETITLE\")='perspectives on \n",
      "              psychological science' OR LOWER(\"SOURCES\".\"SOURCETITLE\")='psychological bulletin' OR \n",
      "              LOWER(\"SOURCES\".\"SOURCETITLE\")='psychological methods' OR LOWER(\"SOURCES\".\"SOURCETITLE\")='psychological \n",
      "              review' OR LOWER(\"SOURCES\".\"SOURCETITLE\")='psychological science' OR \n",
      "              LOWER(\"SOURCES\".\"SOURCETITLE\")='psychological science in the public interest' OR \n",
      "              LOWER(\"SOURCES\".\"SOURCETITLE\")='social issues and policy review' OR LOWER(\"SOURCES\".\"SOURCETITLE\")='trends in \n",
      "              cognitive sciences')\n",
      "   6 - filter(\"ITEMS\".\"PUBYEAR\">=2015 AND \"ITEMS\".\"DOCTYPE\"='Article' AND \"ITEMS\".\"PUBYEAR\"<=2020)\n",
      "   7 - access(\"SOURCES\".\"PK_SOURCES\"=\"ITEMS\".\"FK_SOURCES\")\n",
      "   8 - access(\"ITEMS\".\"PK_ITEMS\"=\"ABSTRACTS\".\"FK_ITEMS\"(+))\n",
      "   9 - filter(\"ITEMS_AUTHORS_INSTITUTIONS\".\"FK_AUTHORS\" IS NOT NULL)\n",
      "  10 - access(\"ITEMS\".\"PK_ITEMS\"=\"ITEMS_AUTHORS_INSTITUTIONS\".\"FK_ITEMS\")\n",
      "  11 - access(\"AUTHORS\".\"PK_AUTHORS\"=\"ITEMS_AUTHORS_INSTITUTIONS\".\"FK_AUTHORS\")\n",
      " \n",
      "Note\n",
      "-----\n",
      "   - dynamic statistics used: dynamic sampling (level=2)\n",
      "   - this is an adaptive plan\n",
      "   - 2 Sql Plan Directives used for this statement\n"
     ]
    }
   ],
   "source": [
    "explain_query(base_query, detail=\"SERIAL\")"
   ]
  }
 ],
 "metadata": {
  "kernelspec": {
   "display_name": "Python [conda env:abd_workshop_2021] *",
   "language": "python",
   "name": "conda-env-abd_workshop_2021-py"
  },
  "language_info": {
   "codemirror_mode": {
    "name": "ipython",
    "version": 3
   },
   "file_extension": ".py",
   "mimetype": "text/x-python",
   "name": "python",
   "nbconvert_exporter": "python",
   "pygments_lexer": "ipython3",
   "version": "3.8.11"
  }
 },
 "nbformat": 4,
 "nbformat_minor": 5
}
