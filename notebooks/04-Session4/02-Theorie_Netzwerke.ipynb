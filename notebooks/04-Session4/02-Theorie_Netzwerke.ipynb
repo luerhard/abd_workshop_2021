{
 "cells": [
  {
   "cell_type": "markdown",
   "id": "dbfad0ee",
   "metadata": {
    "slideshow": {
     "slide_type": "slide"
    }
   },
   "source": [
    "**Theorie - Netzwerke**\n",
    "\n",
    "---\n",
    "Wie kommen wir von den Koautorschaften zu den Netzwerken?\n",
    "- Nodes\n",
    "- Edges"
   ]
  },
  {
   "cell_type": "code",
   "execution_count": null,
   "id": "3878d481",
   "metadata": {
    "slideshow": {
     "slide_type": "slide"
    }
   },
   "outputs": [],
   "source": [
    "# zentrales Modul: networkx (oft mit nx abgekürzt)\n",
    "import networkx as nx\n",
    "\n",
    "# Modul mit selbst geschriebenen Inhalten:\n",
    "import src\n",
    "from src.bokeh_graph import BokehGraph\n",
    "\n",
    "# Einstellungen für das graphing Tool:\n",
    "from bokeh.io import output_file # speichert die Plots extern um platz im Notebook zu sparen\n",
    "\n",
    "(src.PATH / \"tmp\").mkdir(exist_ok=True)\n",
    "output_file(src.PATH / \"tmp/myoutput.html\")"
   ]
  },
  {
   "cell_type": "code",
   "execution_count": null,
   "id": "f934674c",
   "metadata": {
    "slideshow": {
     "slide_type": "-"
    }
   },
   "outputs": [],
   "source": [
    "# initialisiert ein Graph Objekt namens \"show\"\n",
    "show = nx.Graph()\n",
    " \n",
    "# füge zwei Autoren nodes und einen Artikel node hinzu\n",
    "show.add_nodes_from([\n",
    "    (1, {'name':'Barabasi', 'type':'Author'}),\n",
    "    (2, {'name':'Albert', 'type':'Author'}),\n",
    "    ('A', {'name':'Emergence of Scaling ...', 'type':'Article'})\n",
    "])"
   ]
  },
  {
   "cell_type": "code",
   "execution_count": null,
   "id": "ab0f31f2",
   "metadata": {
    "slideshow": {
     "slide_type": "subslide"
    }
   },
   "outputs": [],
   "source": [
    "# plot definieren\n",
    "plot = BokehGraph(show, width=1920, height=1024, inline=False)\n",
    "\n",
    "# layout initialisieren\n",
    "plot.layout()\n",
    "\n",
    "# plot anzeigen\n",
    "plot.draw(\n",
    "    color_by=\"type\", palette=\"viridis\",\n",
    "    edge_alpha=0.01, max_colors=5, node_size=25\n",
    ")"
   ]
  },
  {
   "cell_type": "code",
   "execution_count": null,
   "id": "a00fcd5e",
   "metadata": {
    "slideshow": {
     "slide_type": "subslide"
    }
   },
   "outputs": [],
   "source": [
    "# edges zwischen Autoren und dem Artikel hinzufügen\n",
    "show.add_edges_from([\n",
    "    (1,'A'),\n",
    "    (2, 'A')\n",
    "])"
   ]
  },
  {
   "cell_type": "code",
   "execution_count": null,
   "id": "0b076a1e",
   "metadata": {
    "slideshow": {
     "slide_type": "subslide"
    }
   },
   "outputs": [],
   "source": [
    "# Plotvorgang mit edges\n",
    "plot = BokehGraph(show, width=1920, height=1024, inline=False)\n",
    "plot.layout()\n",
    "plot.draw(\n",
    "    color_by=\"type\", palette=\"viridis\",\n",
    "    edge_alpha=0.5, max_colors=5, node_size=25\n",
    ")"
   ]
  },
  {
   "cell_type": "code",
   "execution_count": null,
   "id": "5b54b59f",
   "metadata": {},
   "outputs": [],
   "source": [
    "# \"show\" neu (leer) initialisieren\n",
    "show = nx.Graph()\n",
    "\n",
    "# nur Autoren nodes hinzufügen\n",
    "show.add_nodes_from([\n",
    "    (1, {'name':'Barabasi', 'type':'Author'}),\n",
    "    (2, {'name':'Albert', 'type':'Author'})\n",
    "])\n",
    "\n",
    "# direkten edge zwischen den Autoren hinzufügen\n",
    "show.add_edge(1,2)\n",
    "\n",
    "# Plotvorgang des vereinfachten Netzwerken\n",
    "plot = BokehGraph(show, width=1920, height=1024, inline=False)\n",
    "plot.layout()\n",
    "plot.draw(\n",
    "    color_by=\"type\", palette=\"viridis\",\n",
    "    edge_alpha=0.5, max_colors=5, node_size=25\n",
    ")"
   ]
  },
  {
   "cell_type": "markdown",
   "id": "86e37962",
   "metadata": {
    "slideshow": {
     "slide_type": "slide"
    }
   },
   "source": [
    "**Theorie - Netzwerke**\n",
    "\n",
    "---\n",
    "Es gibt verschiedene Arten von Edges:\n",
    "- ungerichtete (siehe oben)\n",
    "- gerichtete (z.B. bei Zitationen)\n",
    "- ungewichtete (siehe oben)\n",
    "- gewichtete (Häufigkeit von Kooperation)\n",
    "- *self-loops* (z.B. selbst-Zitation)"
   ]
  },
  {
   "cell_type": "markdown",
   "id": "4332a7a2",
   "metadata": {
    "slideshow": {
     "slide_type": "slide"
    }
   },
   "source": [
    "**Theorie - Netzwerke**\n",
    "\n",
    "---\n",
    "Etwas mehr komplexität:\n",
    "- Dyaden und Triaden"
   ]
  },
  {
   "cell_type": "code",
   "execution_count": null,
   "id": "275fe629",
   "metadata": {},
   "outputs": [],
   "source": [
    "# list Objekt mit Autoren\n",
    "node_list = [\n",
    "    (1, {'lastname':'Erhard', 'firstname':'Lukas'}),\n",
    "    (2, {'lastname':'Koss', 'firstname':'Chris'}),\n",
    "    (3, {'lastname':'Unger', 'firstname':'Said'}),\n",
    "    (4, {'lastname':'Heiberger', 'firstname':'Raphael'}),\n",
    "    (5, {'lastname':'Wieczorek', 'firstname':'Oliver'}),\n",
    "    (6, {'lastname':'Riebling', 'firstname':'Jan'}),\n",
    "    (7, {'lastname':'Munoz-Najar Galvez', 'firstname':'Sebastian'}),\n",
    "    (8, {'lastname':'McFarland', 'firstname':'Daniel'}),\n",
    "    (9, {'lastname':'Schwemmer', 'firstname':'Carsten'}),\n",
    "]"
   ]
  },
  {
   "cell_type": "code",
   "execution_count": null,
   "id": "d80c7fe9",
   "metadata": {
    "slideshow": {
     "slide_type": "slide"
    }
   },
   "outputs": [],
   "source": [
    "# list Objekt mit edges\n",
    "edge_list = [\n",
    "    # Mapping the Field\n",
    "    (1,2), (1,3), (1,4), (1,5), (1,6),\n",
    "    (2,3), (2,4), (2,5), (2,6),\n",
    "    (3,4), (3,5), (3,6),\n",
    "    (4,5), (4,6),\n",
    "    (5,6),\n",
    "    # Paradigm Wars\n",
    "    (4,7), (4,8),\n",
    "    (7,8),\n",
    "    # Methodological Divide\n",
    "    (5,9)\n",
    "]"
   ]
  },
  {
   "cell_type": "code",
   "execution_count": null,
   "id": "0062ac20",
   "metadata": {
    "slideshow": {
     "slide_type": "-"
    }
   },
   "outputs": [],
   "source": [
    "# Graph Objekt initialisieren\n",
    "comp = nx.Graph()\n",
    "\n",
    "# alle nodes der node_list per \"add_nodes_from\" Funktion hinzufügen\n",
    "comp.add_nodes_from(node_list)\n",
    "\n",
    "# alle edges der node_list per \"add_edges_from\" Funktion hinzufügen\n",
    "comp.add_edges_from(edge_list)"
   ]
  },
  {
   "cell_type": "code",
   "execution_count": null,
   "id": "b18b1cc7",
   "metadata": {
    "slideshow": {
     "slide_type": "slide"
    }
   },
   "outputs": [],
   "source": [
    "# Plotten\n",
    "plot = BokehGraph(comp, width=1920, height=1024, inline=False)\n",
    "plot.layout()\n",
    "plot.draw(\n",
    "    edge_alpha=0.5, max_colors=5, node_size=25\n",
    ")"
   ]
  },
  {
   "cell_type": "code",
   "execution_count": null,
   "id": "e42daea7",
   "metadata": {
    "slideshow": {
     "slide_type": "slide"
    }
   },
   "outputs": [],
   "source": [
    "# neuer Edge: McFarland - Unger\n",
    "comp.add_edge(3,8)\n",
    "\n",
    "# wieder anzeigen\n",
    "plot = BokehGraph(comp, width=1920, height=1024, inline=False)\n",
    "plot.layout()\n",
    "plot.draw(\n",
    "    edge_alpha=0.5, max_colors=5, node_size=25\n",
    ")"
   ]
  },
  {
   "cell_type": "markdown",
   "id": "faacbef2",
   "metadata": {
    "slideshow": {
     "slide_type": "slide"
    }
   },
   "source": [
    "**Theorie - Netzwerke**\n",
    "\n",
    "---\n",
    "## *Centrality*:\n",
    "- Welche Nodes im Netzwerk sind zentral?\n",
    "- Verschiedene Herangehensweisen:\n",
    "    - *Degree Centrality*\n",
    "        - Anzahl der Edges\n",
    "    - *Closeness Centrality*\n",
    "        - \"Erreichbarkeit\"\n",
    "    - *Betweenness Centrality*\n",
    "        - \"Vermittlung\"\n",
    "    - *Eigenvector Centrality*\n",
    "        - \"Beziehungen der Beziehungen\"\n",
    "\n",
    "&rarr; Soziales Kapital"
   ]
  },
  {
   "cell_type": "code",
   "execution_count": null,
   "id": "12b1d6d0",
   "metadata": {
    "slideshow": {
     "slide_type": "slide"
    }
   },
   "outputs": [],
   "source": [
    "# Diverse centrality Funktionen aus networkx:\n",
    "dc = nx.degree_centrality(comp)\n",
    "cc = nx.closeness_centrality(comp)\n",
    "bc = nx.betweenness_centrality(comp)\n",
    "ec = nx.eigenvector_centrality(comp)"
   ]
  },
  {
   "cell_type": "code",
   "execution_count": null,
   "id": "ac44b5bb",
   "metadata": {},
   "outputs": [
    {
     "name": "stdout",
     "output_type": "stream",
     "text": [
      "{1: 0.625, 2: 0.625, 3: 0.75, 4: 0.875, 5: 0.75, 6: 0.625, 7: 0.25, 8: 0.375, 9: 0.125}\n"
     ]
    }
   ],
   "source": [
    "# Was geben uns die Funktionen eigentlich aus?\n",
    "print(dc)"
   ]
  },
  {
   "cell_type": "code",
   "execution_count": null,
   "id": "5a84cac4",
   "metadata": {
    "slideshow": {
     "slide_type": "-"
    }
   },
   "outputs": [],
   "source": [
    "# Mit der Funktion \"set_node_attributes\" können dictionary Objekte*\n",
    "# als Attribut zum Netzwerk hinzugefügt werden\n",
    "nx.set_node_attributes(comp, name='degree', values=dc)\n",
    "nx.set_node_attributes(comp, name='closeness', values=cc)\n",
    "nx.set_node_attributes(comp, name='betweenness', values=bc)\n",
    "nx.set_node_attributes(comp, name='eigenvector', values=ec)\n",
    "\n",
    "# __________________________________________________________________________________________\n",
    "# *Auch einzelne Werte können hinzugefügt werden, jeder node erhält dann diesen Wert"
   ]
  },
  {
   "cell_type": "code",
   "execution_count": null,
   "id": "9cd7ed35",
   "metadata": {
    "slideshow": {
     "slide_type": "subslide"
    }
   },
   "outputs": [],
   "source": [
    "# Hier wird in der \"draw\" Funktion angegeben, dass die nodes nach\n",
    "# closeness centrality eingefärbt werden sollen\n",
    "plot = BokehGraph(comp, width=1024, height=768, inline=False)\n",
    "plot.layout()\n",
    "plot.draw(\n",
    "    color_by=\"closeness\", palette=\"magma\",\n",
    "    edge_alpha=0.5, max_colors=5, node_size=25\n",
    ")"
   ]
  },
  {
   "cell_type": "code",
   "execution_count": null,
   "id": "eae29dc0",
   "metadata": {
    "slideshow": {
     "slide_type": "subslide"
    }
   },
   "outputs": [],
   "source": [
    "# degree centrality statt closeness centrality plotten\n",
    "plot.draw(\n",
    "    color_by=\"degree\", palette=\"magma\",\n",
    "    edge_alpha=0.5, max_colors=5, node_size=25\n",
    ")"
   ]
  },
  {
   "cell_type": "code",
   "execution_count": null,
   "id": "00cbf407",
   "metadata": {
    "slideshow": {
     "slide_type": "subslide"
    }
   },
   "outputs": [],
   "source": [
    "# betweenness\n",
    "plot.draw(\n",
    "    color_by=\"betweenness\", palette=\"magma\",\n",
    "    edge_alpha=0.5, max_colors=5, node_size=25\n",
    ")"
   ]
  },
  {
   "cell_type": "code",
   "execution_count": null,
   "id": "e93ffbf9",
   "metadata": {
    "slideshow": {
     "slide_type": "subslide"
    }
   },
   "outputs": [],
   "source": [
    "# eigenvector\n",
    "plot.draw(\n",
    "    color_by=\"eigenvector\", palette=\"magma\",\n",
    "    edge_alpha=0.5, max_colors=5, node_size=25\n",
    ")"
   ]
  },
  {
   "cell_type": "markdown",
   "id": "d8ec3b25",
   "metadata": {
    "slideshow": {
     "slide_type": "slide"
    }
   },
   "source": [
    "**Theorie - Netzwerke**\n",
    "\n",
    "---\n",
    "## Kennzahlen auf Netzwerkebene\n",
    "- Größe\n",
    "- Dichte\n",
    "- Cluster"
   ]
  },
  {
   "cell_type": "code",
   "execution_count": null,
   "id": "344bbe64",
   "metadata": {
    "slideshow": {
     "slide_type": "-"
    }
   },
   "outputs": [
    {
     "name": "stdout",
     "output_type": "stream",
     "text": [
      "Network Size: 20 ;\n",
      " Network Density: 0.5555555555555556 ;\n",
      " Average Clustering Coefficient: 0.7375661375661376\n"
     ]
    }
   ],
   "source": [
    "# Funktionen für die erwähnten Kennzahlen\n",
    "size = comp.size()\n",
    "den = nx.density(comp)\n",
    "clust = nx.average_clustering(comp)\n",
    "\n",
    "# Kennzahlen anzeigen\n",
    "print(\n",
    "    'Network Size:', size, ';\\n',\n",
    "    'Network Density:', den, ';\\n',\n",
    "    'Average Clustering Coefficient:', clust\n",
    ")"
   ]
  },
  {
   "cell_type": "markdown",
   "id": "5259dd5c",
   "metadata": {
    "slideshow": {
     "slide_type": "slide"
    }
   },
   "source": [
    "**Theorie - Netzwerke**\n",
    "\n",
    "---\n",
    "## Besondere Netzwerke\n",
    "- *Scale Free Networks* / *Preferential Attachment*\n",
    "    - [Barabasi & Albert](https://science.sciencemag.org/content/286/5439/509)\n",
    "    - Matthäus Effekt\n",
    "- *Small World Networks*\n",
    "    - [Watts & Strogatz, 1998](https://www.nature.com/articles/30918)\n",
    "    - Erreichbarkeit"
   ]
  },
  {
   "cell_type": "markdown",
   "id": "4f93755b",
   "metadata": {
    "slideshow": {
     "slide_type": "subslide"
    }
   },
   "source": [
    "Barabasi-Albert Graph mit **10** Nodes und jeweils einem edge:"
   ]
  },
  {
   "cell_type": "code",
   "execution_count": null,
   "id": "97b5052d",
   "metadata": {
    "slideshow": {
     "slide_type": "-"
    }
   },
   "outputs": [],
   "source": [
    "# spezielle Algorithmen zur Generierung spezieller Netzwerke importieren\n",
    "from networkx.generators import barabasi_albert_graph, connected_watts_strogatz_graph\n",
    "\n",
    "# Barabasi-Albert-Graph mit 10 nodes und jeweils einem edge generieren\n",
    "bag = barabasi_albert_graph(10, 1)\n",
    "\n",
    "# plotten\n",
    "plot = BokehGraph(bag, width=1024, height=768, inline=False)\n",
    "plot.layout()\n",
    "plot.draw(\n",
    "    edge_alpha=0.5, max_colors=5, node_size=25\n",
    ")"
   ]
  },
  {
   "cell_type": "markdown",
   "id": "8ff2b841",
   "metadata": {
    "slideshow": {
     "slide_type": "subslide"
    }
   },
   "source": [
    "Barabasi-Albert Graph mit **100** Nodes und jeweils einem edge:"
   ]
  },
  {
   "cell_type": "code",
   "execution_count": null,
   "id": "091a3325",
   "metadata": {
    "slideshow": {
     "slide_type": "-"
    }
   },
   "outputs": [],
   "source": [
    "# Diesmal mit 100 nodes\n",
    "bag = barabasi_albert_graph(100, 1)\n",
    "\n",
    "plot = BokehGraph(bag, width=1024, height=768, inline=False)\n",
    "plot.layout()\n",
    "plot.draw(\n",
    "    edge_alpha=0.5, max_colors=5, node_size=25\n",
    ")"
   ]
  },
  {
   "cell_type": "code",
   "execution_count": null,
   "id": "65f8ba13",
   "metadata": {
    "slideshow": {
     "slide_type": "subslide"
    }
   },
   "outputs": [
    {
     "data": {
      "text/html": [
       "\n",
       "<div id=\"altair-viz-375721e06883490292b72e411b5cddbf\"></div>\n",
       "<script type=\"text/javascript\">\n",
       "  (function(spec, embedOpt){\n",
       "    let outputDiv = document.currentScript.previousElementSibling;\n",
       "    if (outputDiv.id !== \"altair-viz-375721e06883490292b72e411b5cddbf\") {\n",
       "      outputDiv = document.getElementById(\"altair-viz-375721e06883490292b72e411b5cddbf\");\n",
       "    }\n",
       "    const paths = {\n",
       "      \"vega\": \"https://cdn.jsdelivr.net/npm//vega@5?noext\",\n",
       "      \"vega-lib\": \"https://cdn.jsdelivr.net/npm//vega-lib?noext\",\n",
       "      \"vega-lite\": \"https://cdn.jsdelivr.net/npm//vega-lite@4.8.1?noext\",\n",
       "      \"vega-embed\": \"https://cdn.jsdelivr.net/npm//vega-embed@6?noext\",\n",
       "    };\n",
       "\n",
       "    function loadScript(lib) {\n",
       "      return new Promise(function(resolve, reject) {\n",
       "        var s = document.createElement('script');\n",
       "        s.src = paths[lib];\n",
       "        s.async = true;\n",
       "        s.onload = () => resolve(paths[lib]);\n",
       "        s.onerror = () => reject(`Error loading script: ${paths[lib]}`);\n",
       "        document.getElementsByTagName(\"head\")[0].appendChild(s);\n",
       "      });\n",
       "    }\n",
       "\n",
       "    function showError(err) {\n",
       "      outputDiv.innerHTML = `<div class=\"error\" style=\"color:red;\">${err}</div>`;\n",
       "      throw err;\n",
       "    }\n",
       "\n",
       "    function displayChart(vegaEmbed) {\n",
       "      vegaEmbed(outputDiv, spec, embedOpt)\n",
       "        .catch(err => showError(`Javascript Error: ${err.message}<br>This usually means there's a typo in your chart specification. See the javascript console for the full traceback.`));\n",
       "    }\n",
       "\n",
       "    if(typeof define === \"function\" && define.amd) {\n",
       "      requirejs.config({paths});\n",
       "      require([\"vega-embed\"], displayChart, err => showError(`Error loading script: ${err.message}`));\n",
       "    } else if (typeof vegaEmbed === \"function\") {\n",
       "      displayChart(vegaEmbed);\n",
       "    } else {\n",
       "      loadScript(\"vega\")\n",
       "        .then(() => loadScript(\"vega-lite\"))\n",
       "        .then(() => loadScript(\"vega-embed\"))\n",
       "        .catch(showError)\n",
       "        .then(() => displayChart(vegaEmbed));\n",
       "    }\n",
       "  })({\"config\": {\"view\": {\"continuousWidth\": 400, \"continuousHeight\": 300}}, \"data\": {\"name\": \"data-295d0fdb1555784869bd8582b2603e66\"}, \"mark\": \"bar\", \"encoding\": {\"x\": {\"type\": \"quantitative\", \"field\": \"degree\"}, \"y\": {\"type\": \"quantitative\", \"aggregate\": \"count\"}}, \"$schema\": \"https://vega.github.io/schema/vega-lite/v4.8.1.json\", \"datasets\": {\"data-295d0fdb1555784869bd8582b2603e66\": [{\"node\": 0, \"degree\": 2}, {\"node\": 1, \"degree\": 17}, {\"node\": 2, \"degree\": 8}, {\"node\": 3, \"degree\": 12}, {\"node\": 4, \"degree\": 1}, {\"node\": 5, \"degree\": 3}, {\"node\": 6, \"degree\": 2}, {\"node\": 7, \"degree\": 3}, {\"node\": 8, \"degree\": 1}, {\"node\": 9, \"degree\": 1}, {\"node\": 10, \"degree\": 1}, {\"node\": 11, \"degree\": 4}, {\"node\": 12, \"degree\": 3}, {\"node\": 13, \"degree\": 6}, {\"node\": 14, \"degree\": 2}, {\"node\": 15, \"degree\": 1}, {\"node\": 16, \"degree\": 2}, {\"node\": 17, \"degree\": 2}, {\"node\": 18, \"degree\": 5}, {\"node\": 19, \"degree\": 3}, {\"node\": 20, \"degree\": 2}, {\"node\": 21, \"degree\": 4}, {\"node\": 22, \"degree\": 2}, {\"node\": 23, \"degree\": 3}, {\"node\": 24, \"degree\": 3}, {\"node\": 25, \"degree\": 1}, {\"node\": 26, \"degree\": 1}, {\"node\": 27, \"degree\": 7}, {\"node\": 28, \"degree\": 2}, {\"node\": 29, \"degree\": 3}, {\"node\": 30, \"degree\": 3}, {\"node\": 31, \"degree\": 3}, {\"node\": 32, \"degree\": 2}, {\"node\": 33, \"degree\": 1}, {\"node\": 34, \"degree\": 2}, {\"node\": 35, \"degree\": 1}, {\"node\": 36, \"degree\": 1}, {\"node\": 37, \"degree\": 2}, {\"node\": 38, \"degree\": 1}, {\"node\": 39, \"degree\": 1}, {\"node\": 40, \"degree\": 3}, {\"node\": 41, \"degree\": 1}, {\"node\": 42, \"degree\": 2}, {\"node\": 43, \"degree\": 1}, {\"node\": 44, \"degree\": 1}, {\"node\": 45, \"degree\": 1}, {\"node\": 46, \"degree\": 1}, {\"node\": 47, \"degree\": 1}, {\"node\": 48, \"degree\": 2}, {\"node\": 49, \"degree\": 1}, {\"node\": 50, \"degree\": 1}, {\"node\": 51, \"degree\": 1}, {\"node\": 52, \"degree\": 2}, {\"node\": 53, \"degree\": 1}, {\"node\": 54, \"degree\": 1}, {\"node\": 55, \"degree\": 1}, {\"node\": 56, \"degree\": 2}, {\"node\": 57, \"degree\": 2}, {\"node\": 58, \"degree\": 1}, {\"node\": 59, \"degree\": 2}, {\"node\": 60, \"degree\": 3}, {\"node\": 61, \"degree\": 1}, {\"node\": 62, \"degree\": 1}, {\"node\": 63, \"degree\": 1}, {\"node\": 64, \"degree\": 3}, {\"node\": 65, \"degree\": 1}, {\"node\": 66, \"degree\": 1}, {\"node\": 67, \"degree\": 1}, {\"node\": 68, \"degree\": 1}, {\"node\": 69, \"degree\": 1}, {\"node\": 70, \"degree\": 1}, {\"node\": 71, \"degree\": 2}, {\"node\": 72, \"degree\": 1}, {\"node\": 73, \"degree\": 1}, {\"node\": 74, \"degree\": 1}, {\"node\": 75, \"degree\": 1}, {\"node\": 76, \"degree\": 1}, {\"node\": 77, \"degree\": 1}, {\"node\": 78, \"degree\": 1}, {\"node\": 79, \"degree\": 1}, {\"node\": 80, \"degree\": 1}, {\"node\": 81, \"degree\": 1}, {\"node\": 82, \"degree\": 1}, {\"node\": 83, \"degree\": 1}, {\"node\": 84, \"degree\": 1}, {\"node\": 85, \"degree\": 1}, {\"node\": 86, \"degree\": 1}, {\"node\": 87, \"degree\": 1}, {\"node\": 88, \"degree\": 2}, {\"node\": 89, \"degree\": 1}, {\"node\": 90, \"degree\": 1}, {\"node\": 91, \"degree\": 1}, {\"node\": 92, \"degree\": 1}, {\"node\": 93, \"degree\": 1}, {\"node\": 94, \"degree\": 1}, {\"node\": 95, \"degree\": 1}, {\"node\": 96, \"degree\": 1}, {\"node\": 97, \"degree\": 1}, {\"node\": 98, \"degree\": 1}, {\"node\": 99, \"degree\": 1}]}}, {\"mode\": \"vega-lite\"});\n",
       "</script>"
      ],
      "text/plain": [
       "alt.Chart(...)"
      ]
     },
     "execution_count": null,
     "metadata": {},
     "output_type": "execute_result"
    }
   ],
   "source": [
    "# Module pandas und altair importieren\n",
    "import pandas as pd\n",
    "import altair as alt\n",
    "\n",
    "# pandas dataframe aus dem degree dictionary erstellen\n",
    "deg_frame = pd.DataFrame(bag.degree(), columns=['node', 'degree'])\n",
    "\n",
    "# einfaches Histogramm plotten\n",
    "alt.Chart(deg_frame).mark_bar().encode(\n",
    "    alt.X(\"degree:Q\"),\n",
    "    y='count()',\n",
    ")"
   ]
  },
  {
   "cell_type": "markdown",
   "id": "611e4316",
   "metadata": {
    "slideshow": {
     "slide_type": "slide"
    }
   },
   "source": [
    "Watts-Strogatz Graph"
   ]
  },
  {
   "cell_type": "code",
   "execution_count": null,
   "id": "2dddc686",
   "metadata": {
    "slideshow": {
     "slide_type": "-"
    }
   },
   "outputs": [],
   "source": [
    "# mit der Funktion \"connected_watts_strogatz_graph\" ein Graph Objekt\n",
    "# mit 50 nodes, jeweils zwei Nachbarschaftsedges und einer \n",
    "# Neuverbindungswahrscheinlichkeit von 10% (p=0.1) initialisieren\n",
    "wsg = connected_watts_strogatz_graph(50, 2, 0.1)"
   ]
  },
  {
   "cell_type": "code",
   "execution_count": null,
   "id": "da26ca09",
   "metadata": {},
   "outputs": [],
   "source": [
    "# plotten\n",
    "plot = BokehGraph(wsg, width=1920, height=1080, inline=False)\n",
    "plot.layout(layout=nx.fruchterman_reingold_layout(wsg))\n",
    "plot.draw(\n",
    "    edge_alpha=0.5, max_colors=5, node_size=25\n",
    ")"
   ]
  },
  {
   "cell_type": "code",
   "execution_count": null,
   "id": "6895f5c4",
   "metadata": {
    "slideshow": {
     "slide_type": "-"
    }
   },
   "outputs": [],
   "source": [
    "# plotten\n",
    "plot = BokehGraph(wsg, width=1920, height=1080, inline=False)\n",
    "plot.layout(layout=nx.circular_layout(wsg))\n",
    "plot.draw(\n",
    "    edge_alpha=0.5, max_colors=5, node_size=25\n",
    ")"
   ]
  },
  {
   "cell_type": "code",
   "execution_count": null,
   "id": "3d532723",
   "metadata": {
    "slideshow": {
     "slide_type": "subslide"
    }
   },
   "outputs": [],
   "source": [
    "# p=0.5\n",
    "wsg = connected_watts_strogatz_graph(50, 2, 0.5)\n",
    "\n",
    "# plotten (circular layout)\n",
    "plot = BokehGraph(wsg, width=1920, height=1080, inline=False)\n",
    "plot.layout(layout=nx.circular_layout(wsg))\n",
    "plot.draw(\n",
    "    edge_alpha=0.5, max_colors=5, node_size=25\n",
    ")"
   ]
  },
  {
   "cell_type": "code",
   "execution_count": null,
   "id": "701b63d5",
   "metadata": {
    "slideshow": {
     "slide_type": "-"
    }
   },
   "outputs": [],
   "source": [
    "# plotten (F-R layout)\n",
    "plot = BokehGraph(wsg, width=1920, height=1080, inline=False)\n",
    "plot.layout(layout=nx.fruchterman_reingold_layout(wsg))\n",
    "plot.draw(\n",
    "    edge_alpha=0.5, max_colors=5, node_size=25\n",
    ")"
   ]
  },
  {
   "cell_type": "markdown",
   "id": "cba2c20e",
   "metadata": {
    "slideshow": {
     "slide_type": "slide"
    }
   },
   "source": [
    "**Theorie - Netzwerke**\n",
    "\n",
    "---\n",
    "## Mechanismen\n",
    "- *Strength of weak ties*\n",
    "    - [Granovetter, Mark S., 1973](https://www.jstor.org/stable/2776392)\n",
    "- *Structural holes*\n",
    "    - [Burt, Ronald S., 2004](https://www.jstor.org/stable/10.1086/421787?seq=1#metadata_info_tab_contents)\n",
    "- Transitivität / Triadische Schließung\n",
    "- Reziprozität\n",
    "- Homophilie\n",
    "    - [McPherson et al., 2001](https://www.annualreviews.org/doi/abs/10.1146/annurev.soc.27.1.415)"
   ]
  },
  {
   "cell_type": "markdown",
   "id": "1b07ec22",
   "metadata": {
    "slideshow": {
     "slide_type": "slide"
    }
   },
   "source": [
    "**Theorie - Netzwerke**\n",
    "\n",
    "---\n",
    "## Community Detection\n",
    "- verschiedene Algorithmen\n",
    "    - *Modularity*\n",
    "    - *k-Cliques*\n",
    "    - ...\n",
    "- Idee: Communities haben innerhalb mehr *edges* als außerhalb"
   ]
  },
  {
   "cell_type": "code",
   "execution_count": null,
   "id": "f9b875d8",
   "metadata": {},
   "outputs": [],
   "source": [
    "# community detection Algorithmen von networkx importieren\n",
    "from networkx.algorithms import community\n",
    "\n",
    "# wir benutzen einen modularity alorithmus\n",
    "communities = community.naive_greedy_modularity_communities(comp)"
   ]
  },
  {
   "cell_type": "code",
   "execution_count": null,
   "id": "8997c4a9",
   "metadata": {
    "slideshow": {
     "slide_type": "subslide"
    }
   },
   "outputs": [],
   "source": [
    "# Zuweisung der nodes zu den communities\n",
    "\n",
    "com_dict = {}\n",
    "com_number = 0\n",
    "for com in communities:\n",
    "    com_number += 1\n",
    "    for node in com:\n",
    "        com_dict[node] = com_number"
   ]
  },
  {
   "cell_type": "code",
   "execution_count": null,
   "id": "3dd66f0d",
   "metadata": {},
   "outputs": [
    {
     "name": "stdout",
     "output_type": "stream",
     "text": [
      "{1: 1, 2: 1, 3: 1, 5: 1, 6: 1, 9: 1, 8: 2, 4: 2, 7: 2}\n"
     ]
    }
   ],
   "source": [
    "print(com_dict)"
   ]
  },
  {
   "cell_type": "code",
   "execution_count": null,
   "id": "e01a2712",
   "metadata": {},
   "outputs": [],
   "source": [
    "# Zuweisung im Graph Objekt\n",
    "nx.set_node_attributes(comp, name='community', values=com_dict)"
   ]
  },
  {
   "cell_type": "code",
   "execution_count": null,
   "id": "19cb6907",
   "metadata": {
    "slideshow": {
     "slide_type": "subslide"
    }
   },
   "outputs": [],
   "source": [
    "# Plotten, mit unterschieldichen Farben für unterschiedliche communities\n",
    "plot = BokehGraph(comp, width=1024, height=768, inline=False)\n",
    "plot.layout()\n",
    "plot.draw(\n",
    "    color_by=\"community\", palette=\"magma\",\n",
    "    edge_alpha=0.5, max_colors=5, node_size=25\n",
    ")"
   ]
  }
 ],
 "metadata": {
  "celltoolbar": "Slideshow",
  "kernelspec": {
   "display_name": "Python [conda env:abd_workshop_2021] *",
   "language": "python",
   "name": "conda-env-abd_workshop_2021-py"
  },
  "language_info": {
   "codemirror_mode": {
    "name": "ipython",
    "version": 3
   },
   "file_extension": ".py",
   "mimetype": "text/x-python",
   "name": "python",
   "nbconvert_exporter": "python",
   "pygments_lexer": "ipython3",
   "version": "3.8.11"
  }
 },
 "nbformat": 4,
 "nbformat_minor": 5
}
