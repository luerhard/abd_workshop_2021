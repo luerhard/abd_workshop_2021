{
 "cells": [
  {
   "cell_type": "markdown",
   "id": "fb0e5f5f",
   "metadata": {
    "slideshow": {
     "slide_type": "slide"
    }
   },
   "source": [
    "# Herzlich Willkommen zum dritten Teil des Workshops!\n",
    "\n",
    "## - Netzwerktheorie\n",
    "\n",
    "## - Hands-On Netzwerkanalyse\n",
    " \n",
    "<br>\n",
    "<br>\n",
    "<br>\n",
    "<br>\n",
    "<br>\n",
    " \n",
    " \n",
    "---\n",
    "Saïd Unger, M.A.<br>\n",
    "Universität Stuttgart, Sozialwissenschaften, Computational Social Science<br>\n",
    "Kontakt: said.unger@sowi.uni-stuttgart.de; [@msh_unger](https://twitter.com/msh_unger)<br>"
   ]
  },
  {
   "cell_type": "markdown",
   "id": "8ec2adbf",
   "metadata": {
    "slideshow": {
     "slide_type": "subslide"
    },
    "tags": []
   },
   "source": [
    "# Gliederung:"
   ]
  },
  {
   "cell_type": "markdown",
   "id": "b6dcd80c",
   "metadata": {
    "slideshow": {
     "slide_type": "subslide"
    },
    "tags": []
   },
   "source": [
    "**Gliederung**\n",
    "\n",
    "---\n",
    "## Teil 1: Netzwerktheorie\n",
    "1. Was bedeutet Koautorschaft und Warum schauen wir uns das an?\n",
    "    - Matthäus-Effekte\n",
    "    - *Team Science*\n",
    "    - Erfolg\n",
    "2. Koautorschaft und Netzwerkforschung\n",
    "    - Was sind *Nodes* und *Edges*\n",
    "    - Rahmendaten von Netzwerken\n",
    "    - Netzwerkpositionen und Netzwerkgliederung"
   ]
  },
  {
   "cell_type": "markdown",
   "id": "41fe5bb6",
   "metadata": {
    "slideshow": {
     "slide_type": "subslide"
    },
    "tags": []
   },
   "source": [
    "**Gliederung**\n",
    "\n",
    "---\n",
    "## Teil 2: Hands-On Netzwerke\n",
    "3. Netzwerkkonstruktion\n",
    "    - networkx + SQLAlchemy\n",
    "4. Netzwerkinspektion\n",
    "    - Rahmendaten und Metriken\n",
    "    - Visualisierung\n",
    "    - Ausblick"
   ]
  },
  {
   "cell_type": "markdown",
   "id": "dbbe0047",
   "metadata": {
    "slideshow": {
     "slide_type": "slide"
    }
   },
   "source": [
    "**Netzwerktheorie - Koautorschaft**\n",
    "\n",
    "---\n",
    "Was ist Koautorschaft?\n",
    "\n",
    "- ganz simpel: Wer zusammen etwas publiziert tritt in eine Koautorschaft\n",
    "- Beispiel:"
   ]
  },
  {
   "cell_type": "markdown",
   "id": "12573e23",
   "metadata": {
    "slideshow": {
     "slide_type": "subslide"
    }
   },
   "source": [
    "**Netzwerktheorie - Koautorschaft**\n",
    "\n",
    "---\n",
    "![](../../images/barabasi_albert.png)"
   ]
  },
  {
   "cell_type": "markdown",
   "id": "305c4718",
   "metadata": {
    "slideshow": {
     "slide_type": "slide"
    }
   },
   "source": [
    "**Netzwerktheorie - Koautorschaft**\n",
    "\n",
    "---\n",
    "![Mertons 'The Matthew Effect in Science' (1968)](../../images/merton_matthew.png)\n",
    "\n",
    "- *Matthäus Effekt*: Wenige Wissenschaftler\\*innen werden oft zitiert, viele (die meisten) werden kaum oder nicht zitiert\n",
    "- Das gilt in ähnlichem Maße auch für Koautorschaft!\n",
    "- Was bedeutet die Anzahl der Koautorschaften\n",
    "    - a) für eine/n Autor\\*in\n",
    "    - b) für deren/dessen Koautor\\*in"
   ]
  },
  {
   "cell_type": "markdown",
   "id": "f59fe2cb",
   "metadata": {
    "slideshow": {
     "slide_type": "subslide"
    }
   },
   "source": [
    "**Netzwerktheorie - Koautorschaft**\n",
    "\n",
    "---\n",
    "![](../../images/abbot_etal.png)\n",
    "\n",
    "---\n",
    "\\*Full author list given at the end of the article"
   ]
  },
  {
   "cell_type": "markdown",
   "id": "9aea915a",
   "metadata": {
    "slideshow": {
     "slide_type": "subslide"
    }
   },
   "source": [
    "**Netzwerktheorie - Koautorschaft**\n",
    "\n",
    "---\n",
    "![](../../images/one_of_three.png)"
   ]
  },
  {
   "cell_type": "markdown",
   "id": "0b39996b",
   "metadata": {
    "slideshow": {
     "slide_type": "slide"
    }
   },
   "source": [
    "**Netzwerktheorie - Koautorschaft**\n",
    "\n",
    "---\n",
    "*Team Science:*\n",
    "- Klassisch: Eine/e Autor\\*in schreibt ein Buch oder einen Artikel\n",
    "- Kooperativ (siehe oben): Doktorand\\*in schreibt zusammen mit der/dem Professor\\*in\n",
    "- Projektzusammenhänge, Interdisziplinäre Fragestellungen, Arbeitsteilung, ..."
   ]
  },
  {
   "cell_type": "markdown",
   "id": "580f1ad1",
   "metadata": {
    "slideshow": {
     "slide_type": "subslide"
    }
   },
   "source": [
    "**Netzwerktheorie - Koautorschaft**\n",
    "\n",
    "---\n",
    "Welche Auswirkungen hat kooperatives Veröffentlichen?\n",
    "- *Peer Effects*\n",
    "- Synergien\n",
    "- Neu- und Wiederentdeckungen\n",
    "\n",
    "Idealerweise lässt sich das in \"Erfolg\" übersetzen:\n",
    "- Produktivität\n",
    "- Sichtbarkeit\n",
    "- Harte akademische Währung: Zitationen"
   ]
  }
 ],
 "metadata": {
  "celltoolbar": "Slideshow",
  "kernelspec": {
   "display_name": "Python 3",
   "language": "python",
   "name": "python3"
  },
  "language_info": {
   "codemirror_mode": {
    "name": "ipython",
    "version": 3
   },
   "file_extension": ".py",
   "mimetype": "text/x-python",
   "name": "python",
   "nbconvert_exporter": "python",
   "pygments_lexer": "ipython3",
   "version": "3.8.11"
  }
 },
 "nbformat": 4,
 "nbformat_minor": 5
}
