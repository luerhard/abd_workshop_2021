{
 "cells": [
  {
   "cell_type": "markdown",
   "id": "69dee22e-af65-41a4-abcf-d597cd599485",
   "metadata": {},
   "source": [
    "# imports"
   ]
  },
  {
   "cell_type": "code",
   "execution_count": null,
   "id": "ae3abf19-4807-478f-9e2f-9162552afd9c",
   "metadata": {},
   "outputs": [],
   "source": [
    "import networkx as nx\n",
    "import sqlalchemy as sa\n",
    "from tqdm.notebook import tqdm\n",
    "\n",
    "import src\n",
    "from src.bokeh_graph import BokehGraph\n",
    "from src.connect import create_sqlite_session\n",
    "from src.models import Author"
   ]
  },
  {
   "cell_type": "markdown",
   "id": "f824ec6b-3f7b-44a4-ad40-47b7ae206f67",
   "metadata": {},
   "source": [
    "# setup"
   ]
  },
  {
   "cell_type": "code",
   "execution_count": null,
   "id": "686f97af-d42c-4cf4-abc1-6f96d14f0495",
   "metadata": {},
   "outputs": [],
   "source": [
    "engine, s = create_sqlite_session(src.PATH / \"data/example.db\")"
   ]
  },
  {
   "cell_type": "markdown",
   "id": "6a8dda99-862e-4525-bc38-d97ee8ba0bcd",
   "metadata": {},
   "source": [
    "# Erstelle Netzwerk"
   ]
  },
  {
   "cell_type": "code",
   "execution_count": null,
   "id": "87cd6a7a-42b8-444d-8746-2213af8d1412",
   "metadata": {},
   "outputs": [],
   "source": [
    "# Query alle Autoren\n",
    "authors = s.query(Author).options(sa.orm.subqueryload(Author.items))"
   ]
  },
  {
   "cell_type": "code",
   "execution_count": null,
   "id": "da92872b-263a-4f6d-8ec2-b68bcac65de7",
   "metadata": {},
   "outputs": [],
   "source": [
    "def add_node(author, net):\n",
    "    node = author.pk_authors\n",
    "\n",
    "    if not graph.has_node(node):\n",
    "        graph.add_node(\n",
    "            node,\n",
    "            firstname=author.firstname,\n",
    "            lastname=author.lastname,\n",
    "            n_items=len(author.items),\n",
    "        )\n",
    "\n",
    "    return node"
   ]
  },
  {
   "cell_type": "code",
   "execution_count": null,
   "id": "42e3f4b6-5173-4c2a-96aa-2bc65b12a9cb",
   "metadata": {},
   "outputs": [
    {
     "data": {
      "application/vnd.jupyter.widget-view+json": {
       "model_id": "f0c809bd7fde4a00837bf2ce107be26c",
       "version_major": 2,
       "version_minor": 0
      },
      "text/plain": [
       "  0%|          | 0/16546 [00:00<?, ?it/s]"
      ]
     },
     "metadata": {},
     "output_type": "display_data"
    }
   ],
   "source": [
    "graph = nx.Graph()\n",
    "\n",
    "for author in tqdm(authors, total=authors.count()):\n",
    "    # add node if not exists\n",
    "    node = add_node(author, graph)\n",
    "\n",
    "    # add coauthors and edges that do not exist yet\n",
    "    for coauthor in author.coauthors:\n",
    "        co_node = add_node(coauthor, graph)\n",
    "\n",
    "        if not graph.has_edge(node, co_node):\n",
    "            graph.add_edge(node, co_node)"
   ]
  },
  {
   "cell_type": "markdown",
   "id": "5b8a104f-d0e4-429b-b7be-1d6f004200f1",
   "metadata": {
    "tags": []
   },
   "source": [
    "## Bereinige Netzwerk, wähle größte Komponente, berechne Netzwerkstatistiken"
   ]
  },
  {
   "cell_type": "code",
   "execution_count": null,
   "id": "df94e386-6692-4821-b1ba-f77d741f4a2f",
   "metadata": {},
   "outputs": [],
   "source": [
    "isolates = nx.isolates(graph)\n",
    "\n",
    "nodes = list(graph.nodes)\n",
    "for node in nodes:\n",
    "    if node in isolates:\n",
    "        graph.remove_node(node)"
   ]
  },
  {
   "cell_type": "code",
   "execution_count": null,
   "id": "69a49fb1-719a-43ff-905b-fc9aea64d9f4",
   "metadata": {},
   "outputs": [
    {
     "data": {
      "text/plain": [
       "16546"
      ]
     },
     "execution_count": null,
     "metadata": {},
     "output_type": "execute_result"
    }
   ],
   "source": [
    "len(graph.nodes)"
   ]
  },
  {
   "cell_type": "code",
   "execution_count": null,
   "id": "0ce54bec-4b43-4db0-8ff5-b10cb1a84272",
   "metadata": {},
   "outputs": [],
   "source": [
    "largest_components = sorted(nx.connected_components(graph), key=len, reverse=True)\n",
    "subgraph = graph.subgraph(largest_components[1])"
   ]
  },
  {
   "cell_type": "code",
   "execution_count": null,
   "id": "293f094c-7e86-45cb-b25c-4f84b7171d1e",
   "metadata": {},
   "outputs": [],
   "source": [
    "degree = nx.degree(subgraph)\n",
    "degree = dict(degree)\n",
    "nx.set_node_attributes(subgraph, degree, \"degree\")"
   ]
  },
  {
   "cell_type": "code",
   "execution_count": null,
   "id": "4875e75f-87fa-4d06-83df-fc57dfb86e22",
   "metadata": {},
   "outputs": [],
   "source": [
    "bet = nx.betweenness_centrality(subgraph)\n",
    "bet = dict(bet)\n",
    "nx.set_node_attributes(subgraph, bet, \"betweeness_centrality\")"
   ]
  },
  {
   "cell_type": "markdown",
   "id": "bde5c05a-5ca4-4e32-9145-64ab083ed317",
   "metadata": {
    "tags": []
   },
   "source": [
    "# Plotte Netzwerk"
   ]
  },
  {
   "cell_type": "code",
   "execution_count": null,
   "id": "b1930c50-8d57-45c0-b49c-dda7ec66417b",
   "metadata": {},
   "outputs": [],
   "source": [
    "# Falls der Plot in eine extra Datei geschrieben werden soll:\n",
    "from bokeh.io import output_file\n",
    "\n",
    "(src.PATH / \"tmp\").mkdir(exist_ok=True)\n",
    "output_file(src.PATH / \"tmp/myoutput.html\")"
   ]
  },
  {
   "cell_type": "code",
   "execution_count": null,
   "id": "917ae89c-8df4-400a-a4e3-f707d6ae7f15",
   "metadata": {},
   "outputs": [],
   "source": [
    "# inline sagt, ob Plot im Notebook angezeigt werden soll (Daten werden dann auch im NB gespeichert, wie bei altair)\n",
    "plot = BokehGraph(subgraph, width=1024, height=768, inline=False)"
   ]
  },
  {
   "cell_type": "code",
   "execution_count": null,
   "id": "25dfb9bf-d461-406a-93a3-5187e1654016",
   "metadata": {},
   "outputs": [],
   "source": [
    "plot.layout()"
   ]
  },
  {
   "cell_type": "code",
   "execution_count": null,
   "id": "2adc7d32-1f9d-4224-99e0-c78643bbc2bc",
   "metadata": {},
   "outputs": [],
   "source": [
    "plot.draw(\n",
    "    color_by=\"degree\", palette=\"viridis\", edge_alpha=0.01, max_colors=5, node_size=5\n",
    ")"
   ]
  },
  {
   "cell_type": "code",
   "execution_count": null,
   "id": "06aa2419-08ab-4a19-a62e-b865cd8cc565",
   "metadata": {},
   "outputs": [],
   "source": []
  }
 ],
 "metadata": {
  "kernelspec": {
   "display_name": "Python [conda env:abd_workshop_2021] *",
   "language": "python",
   "name": "conda-env-abd_workshop_2021-py"
  },
  "language_info": {
   "codemirror_mode": {
    "name": "ipython",
    "version": 3
   },
   "file_extension": ".py",
   "mimetype": "text/x-python",
   "name": "python",
   "nbconvert_exporter": "python",
   "pygments_lexer": "ipython3",
   "version": "3.8.11"
  }
 },
 "nbformat": 4,
 "nbformat_minor": 5
}
